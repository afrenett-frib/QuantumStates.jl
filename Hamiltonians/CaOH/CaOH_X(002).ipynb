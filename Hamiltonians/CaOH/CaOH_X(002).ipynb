{
 "cells": [
  {
   "cell_type": "code",
   "execution_count": 1,
   "id": "4ebeb064",
   "metadata": {
    "tags": []
   },
   "outputs": [
    {
     "name": "stderr",
     "output_type": "stream",
     "text": [
      "\u001b[36m\u001b[1m[ \u001b[22m\u001b[39m\u001b[36m\u001b[1mInfo: \u001b[22m\u001b[39mPrecompiling QuantumStates [17f0441f-15e0-42ae-a101-302633ff8f0f]\n",
      "WARNING: redefinition of constant T_kq. This may fail, cause incorrect answers, or produce other errors.\n",
      "WARNING: Method definition Σ(QuantumStates.State{T} where T<:QuantumStates.BasisState) in module QuantumStates at C:\\Google Drive\\github\\QuantumStates\\src\\HundsCaseB.jl:306 overwritten at C:\\Google Drive\\github\\QuantumStates\\src\\HundsCaseB_LinearMolecule.jl:274.\n",
      "  ** incremental compilation may be fatally broken for this module **\n",
      "\n",
      "WARNING: Method definition TDM_magnetic(QuantumStates.State{T} where T<:QuantumStates.BasisState, QuantumStates.State{T} where T<:QuantumStates.BasisState, Int64) in module QuantumStates at C:\\Google Drive\\github\\QuantumStates\\src\\HundsCaseB.jl:323 overwritten at C:\\Google Drive\\github\\QuantumStates\\src\\HundsCaseB_LinearMolecule.jl:291.\n",
      "  ** incremental compilation may be fatally broken for this module **\n",
      "\n",
      "WARNING: Method definition TDM(Any, Any) in module QuantumStates at C:\\Google Drive\\github\\QuantumStates\\src\\HundsCaseB_LinearMolecule.jl:319 overwritten at C:\\Google Drive\\github\\QuantumStates\\src\\HundsCaseB_LinearMolecule.jl:320.\n",
      "  ** incremental compilation may be fatally broken for this module **\n",
      "\n",
      "WARNING: Method definition 𝒫(Any, Any, Any) in module QuantumStates at C:\\Google Drive\\github\\QuantumStates\\src\\HundsCaseB.jl:343 overwritten at C:\\Google Drive\\github\\QuantumStates\\src\\HundsCaseB_LinearMolecule.jl:328.\n",
      "  ** incremental compilation may be fatally broken for this module **\n",
      "\n",
      "WARNING: Method definition basis_splitting(Any, Any) in module QuantumStates at C:\\Google Drive\\github\\QuantumStates\\src\\HundsCaseA_LinearMolecule.jl:272 overwritten at C:\\Google Drive\\github\\QuantumStates\\src\\HundsCaseB_LinearMolecule.jl:406.\n",
      "  ** incremental compilation may be fatally broken for this module **\n",
      "\n",
      "WARNING: Method definition excited(Any, Any) in module QuantumStates at C:\\Google Drive\\github\\QuantumStates\\src\\AngularMomentumState_Labelled_v1.jl:91 overwritten at C:\\Google Drive\\github\\QuantumStates\\src\\AngularMomentumState_Labelled.jl:91.\n",
      "  ** incremental compilation may be fatally broken for this module **\n",
      "\n",
      "WARNING: Method definition identity1(Any, Any) in module QuantumStates at C:\\Google Drive\\github\\QuantumStates\\src\\AngularMomentumState_Labelled_v1.jl:92 overwritten at C:\\Google Drive\\github\\QuantumStates\\src\\AngularMomentumState_Labelled.jl:92.\n",
      "  ** incremental compilation may be fatally broken for this module **\n",
      "\n",
      "WARNING: Method definition TDM(Any, Any) in module QuantumStates at C:\\Google Drive\\github\\QuantumStates\\src\\HundsCaseB_LinearMolecule.jl:320 overwritten at C:\\Google Drive\\github\\QuantumStates\\src\\AtomicState.jl:104.\n",
      "  ** incremental compilation may be fatally broken for this module **\n",
      "\n"
     ]
    }
   ],
   "source": [
    "using QuantumStates, UnitsToValue"
   ]
  },
  {
   "cell_type": "code",
   "execution_count": 2,
   "id": "83847b16",
   "metadata": {
    "tags": []
   },
   "outputs": [],
   "source": [
    "H_operator = :(\n",
    "    TX * Identity +\n",
    "    BX * Rotation + \n",
    "    DX * RotationDistortion + \n",
    "    γX * SpinRotation +\n",
    "    bFX * Hyperfine_IS +\n",
    "    cX * (Hyperfine_Dipolar/3) +\n",
    "    s * basis_splitting\n",
    ");"
   ]
  },
  {
   "cell_type": "code",
   "execution_count": 3,
   "id": "ab3934ea",
   "metadata": {
    "tags": []
   },
   "outputs": [],
   "source": [
    "parameters = @params begin\n",
    "    TX = 2 * 3847 * c * 1e2 # we'll just take the energy to be 2 × 3847 cm⁻¹\n",
    "    BX = 0.333458 * c * 1e2\n",
    "    DX = 0.3930e-6 * c * 1e2\n",
    "    γX = 0.001184 * c * 1e2\n",
    "    bFX = 2.602 * 1e6\n",
    "    cX = 2.053 * 1e6\n",
    "    s = 1e-9 * c * 1e2\n",
    "end;"
   ]
  },
  {
   "cell_type": "code",
   "execution_count": 4,
   "id": "2802412d",
   "metadata": {
    "tags": []
   },
   "outputs": [],
   "source": [
    "QN_bounds = (\n",
    "    v_1 = 0,\n",
    "    v_2 = 0,\n",
    "    v_3 = 3,\n",
    "    S = 1/2,\n",
    "    I = 1/2,\n",
    "    Λ = 0,\n",
    "    ℓ = 0,\n",
    "    K = 0,\n",
    "    N = 0:5\n",
    ")\n",
    "basis = enumerate_states(HundsCaseB_LinearMolecule, QN_bounds)\n",
    ";"
   ]
  },
  {
   "cell_type": "code",
   "execution_count": 5,
   "id": "241c562c",
   "metadata": {
    "tags": []
   },
   "outputs": [
    {
     "name": "stdout",
     "output_type": "stream",
     "text": [
      "  1.344273 seconds (3.12 M allocations: 176.385 MiB, 2.97% gc time, 94.93% compilation time)\n",
      "  0.384208 seconds (1.37 M allocations: 55.787 MiB, 7.03% gc time, 81.16% compilation time)\n",
      "  1.229348 seconds (2.90 M allocations: 174.244 MiB, 5.22% gc time, 99.26% compilation time)\n"
     ]
    }
   ],
   "source": [
    "CaOH_X002 = @time Hamiltonian(basis=basis, operator=H_operator, parameters=parameters)\n",
    "@time full_evaluate!(CaOH_X002)\n",
    "@time solve!(CaOH_X002)\n",
    ";"
   ]
  },
  {
   "cell_type": "code",
   "execution_count": 6,
   "id": "19b0a5a1",
   "metadata": {
    "tags": []
   },
   "outputs": [
    {
     "name": "stdout",
     "output_type": "stream",
     "text": [
      "  0.164037 seconds (461.39 k allocations: 30.477 MiB, 96.78% compilation time)\n"
     ]
    }
   ],
   "source": [
    "@time save_to_file(CaOH_X002, \"CaOH_X002\", \"\")"
   ]
  },
  {
   "cell_type": "code",
   "execution_count": null,
   "id": "6020efb6-4c06-468c-8137-ce184e0e4e05",
   "metadata": {},
   "outputs": [],
   "source": []
  }
 ],
 "metadata": {
  "kernelspec": {
   "display_name": "Julia (14 threads) 1.9.3",
   "language": "julia",
   "name": "julia-_14-threads_-1.9"
  },
  "language_info": {
   "file_extension": ".jl",
   "mimetype": "application/julia",
   "name": "julia",
   "version": "1.9.3"
  }
 },
 "nbformat": 4,
 "nbformat_minor": 5
}

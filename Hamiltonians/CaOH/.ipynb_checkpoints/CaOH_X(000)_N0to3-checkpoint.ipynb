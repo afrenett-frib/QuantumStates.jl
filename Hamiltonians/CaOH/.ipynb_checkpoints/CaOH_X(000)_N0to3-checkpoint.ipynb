{
 "cells": [
  {
   "cell_type": "code",
   "execution_count": 1,
   "id": "4ebeb064",
   "metadata": {},
   "outputs": [],
   "source": [
    "using QuantumStates"
   ]
  },
  {
   "cell_type": "code",
   "execution_count": 2,
   "id": "83847b16",
   "metadata": {
    "tags": []
   },
   "outputs": [],
   "source": [
    "H_operator = :(\n",
    "    BX * Rotation + \n",
    "    DX * RotationDistortion + \n",
    "    γX * SpinRotation + \n",
    "    bFX * Hyperfine_IS + \n",
    "    cX * (Hyperfine_Dipolar/3)\n",
    ");"
   ]
  },
  {
   "cell_type": "code",
   "execution_count": 3,
   "id": "ab3934ea",
   "metadata": {
    "tags": []
   },
   "outputs": [],
   "source": [
    "parameters = @params begin\n",
    "    BX = 0.33441 * 299792458 * 1e-4\n",
    "    DX = 0.3869e-6 * 299792458 * 1e-4\n",
    "    γX = 0.001134 * 299792458 * 1e-4\n",
    "    bFX = 2.602\n",
    "    cX = 2.053\n",
    "end;"
   ]
  },
  {
   "cell_type": "code",
   "execution_count": 4,
   "id": "2802412d",
   "metadata": {},
   "outputs": [],
   "source": [
    "QN_bounds = (S = 1/2, I = 1/2, Λ = 0, N = 0:5)\n",
    "basis = enumerate_states(HundsCaseB_Rot, QN_bounds)\n",
    ";"
   ]
  },
  {
   "cell_type": "code",
   "execution_count": 5,
   "id": "241c562c",
   "metadata": {},
   "outputs": [
    {
     "name": "stdout",
     "output_type": "stream",
     "text": [
      "  6.943345 seconds (17.81 M allocations: 1.008 GiB, 3.11% gc time, 99.70% compilation time)\n",
      "  0.101629 seconds (116.69 k allocations: 6.267 MiB, 99.78% compilation time)\n",
      "  1.434324 seconds (5.21 M allocations: 293.873 MiB, 4.66% gc time, 98.57% compilation time)\n"
     ]
    }
   ],
   "source": [
    "CaOH_000_N0to3_Hamiltonian = @time Hamiltonian(basis=basis, operator=H_operator, parameters=parameters)\n",
    "@time evaluate!(CaOH_000_N0to3_Hamiltonian)\n",
    "@time solve!(CaOH_000_N0to3_Hamiltonian)\n",
    ";"
   ]
  },
  {
   "cell_type": "code",
   "execution_count": 6,
   "id": "19b0a5a1",
   "metadata": {},
   "outputs": [
    {
     "name": "stdout",
     "output_type": "stream",
     "text": [
      "  0.174185 seconds (881.92 k allocations: 44.817 MiB, 92.78% compilation time)\n"
     ]
    }
   ],
   "source": [
    "@time save_to_file(CaOH_000_N0to3_Hamiltonian, \"CaOH_000_N0to3_Hamiltonian\", \"\")"
   ]
  },
  {
   "cell_type": "code",
   "execution_count": 7,
   "id": "a26200b2-ae5b-4440-b305-25a2f0ed1a42",
   "metadata": {},
   "outputs": [
    {
     "data": {
      "text/latex": [
       "$$1.0\\left|S=1/2, I=1/2, Λ=0, N=0, J=1/2, F=1, M=0\\right\\rangle$$\n"
      ],
      "text/plain": [
       "State{HundsCaseB_Rot}(0.6504961039187184, HundsCaseB_Rot[HundsCaseB_Rot(0.0, 1/2, 1/2, 0, 0, 1/2, 0, 0, (N = 0:∞, J = 0.5:1.0:0.5, F = 0.0:1.0:1.0, M = 0.0:1.0:0.0)), HundsCaseB_Rot(0.0, 1/2, 1/2, 0, 0, 1/2, 1, -1, (N = 0:∞, J = 0.5:1.0:0.5, F = 0.0:1.0:1.0, M = -1.0:1.0:1.0)), HundsCaseB_Rot(0.0, 1/2, 1/2, 0, 0, 1/2, 1, 0, (N = 0:∞, J = 0.5:1.0:0.5, F = 0.0:1.0:1.0, M = -1.0:1.0:1.0)), HundsCaseB_Rot(0.0, 1/2, 1/2, 0, 0, 1/2, 1, 1, (N = 0:∞, J = 0.5:1.0:0.5, F = 0.0:1.0:1.0, M = -1.0:1.0:1.0)), HundsCaseB_Rot(0.0, 1/2, 1/2, 0, 1, 1/2, 0, 0, (N = 0:∞, J = 0.5:1.0:1.5, F = 0.0:1.0:1.0, M = 0.0:1.0:0.0)), HundsCaseB_Rot(0.0, 1/2, 1/2, 0, 1, 1/2, 1, -1, (N = 0:∞, J = 0.5:1.0:1.5, F = 0.0:1.0:1.0, M = -1.0:1.0:1.0)), HundsCaseB_Rot(0.0, 1/2, 1/2, 0, 1, 1/2, 1, 0, (N = 0:∞, J = 0.5:1.0:1.5, F = 0.0:1.0:1.0, M = -1.0:1.0:1.0)), HundsCaseB_Rot(0.0, 1/2, 1/2, 0, 1, 1/2, 1, 1, (N = 0:∞, J = 0.5:1.0:1.5, F = 0.0:1.0:1.0, M = -1.0:1.0:1.0)), HundsCaseB_Rot(0.0, 1/2, 1/2, 0, 1, 3/2, 1, -1, (N = 0:∞, J = 0.5:1.0:1.5, F = 1.0:1.0:2.0, M = -1.0:1.0:1.0)), HundsCaseB_Rot(0.0, 1/2, 1/2, 0, 1, 3/2, 1, 0, (N = 0:∞, J = 0.5:1.0:1.5, F = 1.0:1.0:2.0, M = -1.0:1.0:1.0))  …  HundsCaseB_Rot(0.0, 1/2, 1/2, 0, 6, 13/2, 7, -2, (N = 0:∞, J = 5.5:1.0:6.5, F = 6.0:1.0:7.0, M = -7.0:1.0:7.0)), HundsCaseB_Rot(0.0, 1/2, 1/2, 0, 6, 13/2, 7, -1, (N = 0:∞, J = 5.5:1.0:6.5, F = 6.0:1.0:7.0, M = -7.0:1.0:7.0)), HundsCaseB_Rot(0.0, 1/2, 1/2, 0, 6, 13/2, 7, 0, (N = 0:∞, J = 5.5:1.0:6.5, F = 6.0:1.0:7.0, M = -7.0:1.0:7.0)), HundsCaseB_Rot(0.0, 1/2, 1/2, 0, 6, 13/2, 7, 1, (N = 0:∞, J = 5.5:1.0:6.5, F = 6.0:1.0:7.0, M = -7.0:1.0:7.0)), HundsCaseB_Rot(0.0, 1/2, 1/2, 0, 6, 13/2, 7, 2, (N = 0:∞, J = 5.5:1.0:6.5, F = 6.0:1.0:7.0, M = -7.0:1.0:7.0)), HundsCaseB_Rot(0.0, 1/2, 1/2, 0, 6, 13/2, 7, 3, (N = 0:∞, J = 5.5:1.0:6.5, F = 6.0:1.0:7.0, M = -7.0:1.0:7.0)), HundsCaseB_Rot(0.0, 1/2, 1/2, 0, 6, 13/2, 7, 4, (N = 0:∞, J = 5.5:1.0:6.5, F = 6.0:1.0:7.0, M = -7.0:1.0:7.0)), HundsCaseB_Rot(0.0, 1/2, 1/2, 0, 6, 13/2, 7, 5, (N = 0:∞, J = 5.5:1.0:6.5, F = 6.0:1.0:7.0, M = -7.0:1.0:7.0)), HundsCaseB_Rot(0.0, 1/2, 1/2, 0, 6, 13/2, 7, 6, (N = 0:∞, J = 5.5:1.0:6.5, F = 6.0:1.0:7.0, M = -7.0:1.0:7.0)), HundsCaseB_Rot(0.0, 1/2, 1/2, 0, 6, 13/2, 7, 7, (N = 0:∞, J = 5.5:1.0:6.5, F = 6.0:1.0:7.0, M = -7.0:1.0:7.0))], ComplexF64[-0.0 - 0.0im, -0.0 - 0.0im, 0.999999999967587 + 0.0im, -0.0 - 0.0im, -0.0 - 0.0im, -0.0 - 0.0im, -0.0 - 0.0im, -0.0 - 0.0im, -0.0 - 0.0im, -0.0 - 0.0im  …  -0.0 - 0.0im, -0.0 - 0.0im, -0.0 - 0.0im, -0.0 - 0.0im, -0.0 - 0.0im, -0.0 - 0.0im, -0.0 - 0.0im, -0.0 - 0.0im, -0.0 - 0.0im, -0.0 - 0.0im], 2)"
      ]
     },
     "execution_count": 7,
     "metadata": {},
     "output_type": "execute_result"
    }
   ],
   "source": [
    "CaOH_000_N0to3_Hamiltonian.states[2]"
   ]
  },
  {
   "cell_type": "code",
   "execution_count": null,
   "id": "868eada9-fc3e-4c05-8463-44e79f954be2",
   "metadata": {},
   "outputs": [],
   "source": []
  }
 ],
 "metadata": {
  "kernelspec": {
   "display_name": "Julia 1.8.0",
   "language": "julia",
   "name": "julia-1.8"
  },
  "language_info": {
   "file_extension": ".jl",
   "mimetype": "application/julia",
   "name": "julia",
   "version": "1.8.0"
  }
 },
 "nbformat": 4,
 "nbformat_minor": 5
}

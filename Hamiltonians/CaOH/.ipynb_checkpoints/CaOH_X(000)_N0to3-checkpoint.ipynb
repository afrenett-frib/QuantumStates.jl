{
 "cells": [
  {
   "cell_type": "code",
   "execution_count": 1,
   "id": "4ebeb064",
   "metadata": {},
   "outputs": [
    {
     "name": "stderr",
     "output_type": "stream",
     "text": [
      "┌ Info: Precompiling QuantumStates [17f0441f-15e0-42ae-a101-302633ff8f0f]\n",
      "└ @ Base loading.jl:1662\n"
     ]
    }
   ],
   "source": [
    "using QuantumStates"
   ]
  },
  {
   "cell_type": "code",
   "execution_count": 2,
   "id": "83847b16",
   "metadata": {
    "tags": []
   },
   "outputs": [],
   "source": [
    "H_operator = :(\n",
    "    BX * Rotation + \n",
    "    DX * RotationDistortion + \n",
    "    γX * SpinRotation + \n",
    "    bFX * Hyperfine_IS + \n",
    "    cX * (Hyperfine_Dipolar/3)\n",
    ");"
   ]
  },
  {
   "cell_type": "code",
   "execution_count": 4,
   "id": "ab3934ea",
   "metadata": {
    "tags": []
   },
   "outputs": [],
   "source": [
    "parameters = @params begin\n",
    "    BX = 0.33441 * 299792458 * 1e-4\n",
    "    DX = 0.3869e-6 * 299792458 * 1e-4\n",
    "    γX = 0.001134 * 299792458 * 1e-4\n",
    "    bFX = 2.602\n",
    "    cX = 2.053\n",
    "end;"
   ]
  },
  {
   "cell_type": "code",
   "execution_count": 5,
   "id": "2802412d",
   "metadata": {},
   "outputs": [],
   "source": [
    "QN_bounds = (S = 1/2, I = 1/2, Λ = 0, N = 0:3)\n",
    "basis = enumerate_states(HundsCaseB_Rot, QN_bounds)\n",
    ";"
   ]
  },
  {
   "cell_type": "code",
   "execution_count": 6,
   "id": "241c562c",
   "metadata": {},
   "outputs": [
    {
     "name": "stdout",
     "output_type": "stream",
     "text": [
      "  6.930653 seconds (17.77 M allocations: 1016.505 MiB, 3.21% gc time, 99.85% compilation time)\n",
      "  0.102082 seconds (116.70 k allocations: 6.267 MiB, 99.95% compilation time)\n",
      "  1.419927 seconds (5.21 M allocations: 291.968 MiB, 5.03% gc time, 99.79% compilation time)\n"
     ]
    }
   ],
   "source": [
    "CaOH_000_N0to3_Hamiltonian = @time Hamiltonian(basis=basis, operator=H_operator, parameters=parameters)\n",
    "@time evaluate!(CaOH_000_N0to3_Hamiltonian)\n",
    "@time solve!(CaOH_000_N0to3_Hamiltonian)\n",
    ";"
   ]
  },
  {
   "cell_type": "code",
   "execution_count": 10,
   "id": "19b0a5a1",
   "metadata": {},
   "outputs": [
    {
     "name": "stdout",
     "output_type": "stream",
     "text": [
      "  0.002149 seconds (4.69 k allocations: 102.023 KiB)\n"
     ]
    }
   ],
   "source": [
    "@time save_to_file(CaOH_000_N0to3_Hamiltonian, \"CaOH_000_N0to3_Hamiltonian\", \"\")"
   ]
  },
  {
   "cell_type": "code",
   "execution_count": 19,
   "id": "a26200b2-ae5b-4440-b305-25a2f0ed1a42",
   "metadata": {},
   "outputs": [
    {
     "data": {
      "text/latex": [
       "$$1.0\\left|S=1/2, I=1/2, Λ=0, N=0, J=1/2, F=1, M=0\\right\\rangle$$\n"
      ],
      "text/plain": [
       "State{HundsCaseB_Rot}(0.6504961039187184, HundsCaseB_Rot[HundsCaseB_Rot(0.0, 1/2, 1/2, 0, 0, 1/2, 0, 0, (N = 0:∞, J = 0.5:1.0:0.5, F = 0.0:1.0:1.0, M = 0.0:1.0:0.0)), HundsCaseB_Rot(0.0, 1/2, 1/2, 0, 0, 1/2, 1, -1, (N = 0:∞, J = 0.5:1.0:0.5, F = 0.0:1.0:1.0, M = -1.0:1.0:1.0)), HundsCaseB_Rot(0.0, 1/2, 1/2, 0, 0, 1/2, 1, 0, (N = 0:∞, J = 0.5:1.0:0.5, F = 0.0:1.0:1.0, M = -1.0:1.0:1.0)), HundsCaseB_Rot(0.0, 1/2, 1/2, 0, 0, 1/2, 1, 1, (N = 0:∞, J = 0.5:1.0:0.5, F = 0.0:1.0:1.0, M = -1.0:1.0:1.0)), HundsCaseB_Rot(0.0, 1/2, 1/2, 0, 1, 1/2, 0, 0, (N = 0:∞, J = 0.5:1.0:1.5, F = 0.0:1.0:1.0, M = 0.0:1.0:0.0)), HundsCaseB_Rot(0.0, 1/2, 1/2, 0, 1, 1/2, 1, -1, (N = 0:∞, J = 0.5:1.0:1.5, F = 0.0:1.0:1.0, M = -1.0:1.0:1.0)), HundsCaseB_Rot(0.0, 1/2, 1/2, 0, 1, 1/2, 1, 0, (N = 0:∞, J = 0.5:1.0:1.5, F = 0.0:1.0:1.0, M = -1.0:1.0:1.0)), HundsCaseB_Rot(0.0, 1/2, 1/2, 0, 1, 1/2, 1, 1, (N = 0:∞, J = 0.5:1.0:1.5, F = 0.0:1.0:1.0, M = -1.0:1.0:1.0)), HundsCaseB_Rot(0.0, 1/2, 1/2, 0, 1, 3/2, 1, -1, (N = 0:∞, J = 0.5:1.0:1.5, F = 1.0:1.0:2.0, M = -1.0:1.0:1.0)), HundsCaseB_Rot(0.0, 1/2, 1/2, 0, 1, 3/2, 1, 0, (N = 0:∞, J = 0.5:1.0:1.5, F = 1.0:1.0:2.0, M = -1.0:1.0:1.0))  …  HundsCaseB_Rot(0.0, 1/2, 1/2, 0, 3, 7/2, 3, 3, (N = 0:∞, J = 2.5:1.0:3.5, F = 3.0:1.0:4.0, M = -3.0:1.0:3.0)), HundsCaseB_Rot(0.0, 1/2, 1/2, 0, 3, 7/2, 4, -4, (N = 0:∞, J = 2.5:1.0:3.5, F = 3.0:1.0:4.0, M = -4.0:1.0:4.0)), HundsCaseB_Rot(0.0, 1/2, 1/2, 0, 3, 7/2, 4, -3, (N = 0:∞, J = 2.5:1.0:3.5, F = 3.0:1.0:4.0, M = -4.0:1.0:4.0)), HundsCaseB_Rot(0.0, 1/2, 1/2, 0, 3, 7/2, 4, -2, (N = 0:∞, J = 2.5:1.0:3.5, F = 3.0:1.0:4.0, M = -4.0:1.0:4.0)), HundsCaseB_Rot(0.0, 1/2, 1/2, 0, 3, 7/2, 4, -1, (N = 0:∞, J = 2.5:1.0:3.5, F = 3.0:1.0:4.0, M = -4.0:1.0:4.0)), HundsCaseB_Rot(0.0, 1/2, 1/2, 0, 3, 7/2, 4, 0, (N = 0:∞, J = 2.5:1.0:3.5, F = 3.0:1.0:4.0, M = -4.0:1.0:4.0)), HundsCaseB_Rot(0.0, 1/2, 1/2, 0, 3, 7/2, 4, 1, (N = 0:∞, J = 2.5:1.0:3.5, F = 3.0:1.0:4.0, M = -4.0:1.0:4.0)), HundsCaseB_Rot(0.0, 1/2, 1/2, 0, 3, 7/2, 4, 2, (N = 0:∞, J = 2.5:1.0:3.5, F = 3.0:1.0:4.0, M = -4.0:1.0:4.0)), HundsCaseB_Rot(0.0, 1/2, 1/2, 0, 3, 7/2, 4, 3, (N = 0:∞, J = 2.5:1.0:3.5, F = 3.0:1.0:4.0, M = -4.0:1.0:4.0)), HundsCaseB_Rot(0.0, 1/2, 1/2, 0, 3, 7/2, 4, 4, (N = 0:∞, J = 2.5:1.0:3.5, F = 3.0:1.0:4.0, M = -4.0:1.0:4.0))], ComplexF64[-0.0 - 0.0im, -0.0 - 0.0im, 0.999999999967587 + 0.0im, -0.0 - 0.0im, -0.0 - 0.0im, -0.0 - 0.0im, -0.0 - 0.0im, -0.0 - 0.0im, -0.0 - 0.0im, -0.0 - 0.0im  …  -0.0 - 0.0im, -0.0 - 0.0im, -0.0 - 0.0im, -0.0 - 0.0im, -0.0 - 0.0im, -0.0 - 0.0im, -0.0 - 0.0im, -0.0 - 0.0im, -0.0 - 0.0im, -0.0 - 0.0im], 2)"
      ]
     },
     "execution_count": 19,
     "metadata": {},
     "output_type": "execute_result"
    }
   ],
   "source": [
    "CaOH_000_N0to3_Hamiltonian.states[2]"
   ]
  }
 ],
 "metadata": {
  "kernelspec": {
   "display_name": "Julia 1.8.0",
   "language": "julia",
   "name": "julia-1.8"
  },
  "language_info": {
   "file_extension": ".jl",
   "mimetype": "application/julia",
   "name": "julia",
   "version": "1.8.0"
  }
 },
 "nbformat": 4,
 "nbformat_minor": 5
}

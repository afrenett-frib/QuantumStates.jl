{
 "cells": [
  {
   "cell_type": "code",
   "execution_count": 1,
   "id": "4ebeb064",
   "metadata": {},
   "outputs": [
    {
     "name": "stderr",
     "output_type": "stream",
     "text": [
      "┌ Info: Precompiling QuantumStates [17f0441f-15e0-42ae-a101-302633ff8f0f]\n",
      "└ @ Base loading.jl:1662\n"
     ]
    }
   ],
   "source": [
    "using QuantumStates"
   ]
  },
  {
   "cell_type": "code",
   "execution_count": 2,
   "id": "83847b16",
   "metadata": {
    "tags": []
   },
   "outputs": [],
   "source": [
    "H_operator = :(\n",
    "    BX * Rotation + \n",
    "    DX * RotationDistortion + \n",
    "    γX * SpinRotation + \n",
    "    bFX * Hyperfine_IS + \n",
    "    cX * (Hyperfine_Dipolar/3)\n",
    ");"
   ]
  },
  {
   "cell_type": "code",
   "execution_count": 3,
   "id": "ab3934ea",
   "metadata": {
    "tags": []
   },
   "outputs": [],
   "source": [
    "parameters = @params begin\n",
    "    BX = 0.33441 * c * 1e-4\n",
    "    DX = 0.3869e-6 * c * 1e-4\n",
    "    γX = 0.001134 * c * 1e-4\n",
    "    bFX = 2.602\n",
    "    cX = 2.053\n",
    "end;"
   ]
  },
  {
   "cell_type": "code",
   "execution_count": 4,
   "id": "2802412d",
   "metadata": {},
   "outputs": [],
   "source": [
    "QN_bounds = (S = 1/2, I = 1/2, Λ = 0, N = 0:3)\n",
    "basis = enumerate_states(HundsCaseB_Rot, QN_bounds)\n",
    ";"
   ]
  },
  {
   "cell_type": "code",
   "execution_count": 5,
   "id": "241c562c",
   "metadata": {},
   "outputs": [
    {
     "name": "stdout",
     "output_type": "stream",
     "text": [
      "  1.536703 seconds (4.25 M allocations: 224.449 MiB, 3.19% gc time, 98.04% compilation time)\n",
      "  0.190145 seconds (314.25 k allocations: 16.806 MiB, 99.84% compilation time)\n",
      "  1.076990 seconds (3.44 M allocations: 187.908 MiB, 3.59% gc time, 99.89% compilation time)\n"
     ]
    }
   ],
   "source": [
    "CaOH_000_N0to3_Hamiltonian = @time Hamiltonian(basis=basis, operator=H_operator, parameters=parameters)\n",
    "@time evaluate!(CaOH_000_N0to3_Hamiltonian)\n",
    "@time solve!(CaOH_000_N0to3_Hamiltonian)\n",
    ";"
   ]
  },
  {
   "cell_type": "code",
   "execution_count": 6,
   "id": "19b0a5a1",
   "metadata": {},
   "outputs": [
    {
     "name": "stdout",
     "output_type": "stream",
     "text": [
      "  0.236156 seconds (870.25 k allocations: 44.572 MiB, 7.03% gc time, 88.57% compilation time)\n"
     ]
    }
   ],
   "source": [
    "@time save_to_file(CaOH_000_N0to3_Hamiltonian, \"CaOH_000_N0to3_Hamiltonian\", \"X:\\\\My Drive\\\\github\\\\QuantumStates\\\\Hamiltonians\\\\\")"
   ]
  },
  {
   "cell_type": "code",
   "execution_count": null,
   "id": "a26200b2-ae5b-4440-b305-25a2f0ed1a42",
   "metadata": {},
   "outputs": [],
   "source": []
  }
 ],
 "metadata": {
  "kernelspec": {
   "display_name": "Julia 1.8.1",
   "language": "julia",
   "name": "julia-1.8"
  },
  "language_info": {
   "file_extension": ".jl",
   "mimetype": "application/julia",
   "name": "julia",
   "version": "1.8.1"
  }
 },
 "nbformat": 4,
 "nbformat_minor": 5
}

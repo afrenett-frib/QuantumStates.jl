{
 "cells": [
  {
   "cell_type": "code",
   "execution_count": 1,
   "id": "4ebeb064",
   "metadata": {
    "tags": []
   },
   "outputs": [],
   "source": [
    "using QuantumStates, UnitsToValue"
   ]
  },
  {
   "cell_type": "code",
   "execution_count": 2,
   "id": "83847b16",
   "metadata": {
    "tags": []
   },
   "outputs": [],
   "source": [
    "H_operator = :(\n",
    "    TX * Identity +\n",
    "    BX * Rotation + \n",
    "    DX * RotationDistortion + \n",
    "    γX * SpinRotation +\n",
    "    bFX * Hyperfine_IS +\n",
    "    cX * (Hyperfine_Dipolar/3) +\n",
    "    s * basis_splitting\n",
    ");"
   ]
  },
  {
   "cell_type": "code",
   "execution_count": 3,
   "id": "ab3934ea",
   "metadata": {
    "tags": []
   },
   "outputs": [],
   "source": [
    "parameters = @params begin\n",
    "    TX = 3 * 3847 * c * 1e2 # we'll just take the energy to be 3 × 3847 cm⁻¹\n",
    "    BX = 0.333458 * c * 1e2\n",
    "    DX = 0.3930e-6 * c * 1e2\n",
    "    γX = 0.001184 * c * 1e2\n",
    "    bFX = 2.602 * 1e6\n",
    "    cX = 2.053 * 1e6\n",
    "    s = 1e-9 * c * 1e2\n",
    "end;"
   ]
  },
  {
   "cell_type": "code",
   "execution_count": 4,
   "id": "2802412d",
   "metadata": {
    "tags": []
   },
   "outputs": [],
   "source": [
    "QN_bounds = (\n",
    "    v_1 = 0,\n",
    "    v_2 = 0,\n",
    "    v_3 = 3,\n",
    "    S = 1/2,\n",
    "    I = 1/2,\n",
    "    Λ = 0,\n",
    "    ℓ = 0,\n",
    "    K = 0,\n",
    "    N = 0:5\n",
    ")\n",
    "basis = enumerate_states(HundsCaseB_LinearMolecule, QN_bounds)\n",
    ";"
   ]
  },
  {
   "cell_type": "code",
   "execution_count": 5,
   "id": "241c562c",
   "metadata": {
    "tags": []
   },
   "outputs": [
    {
     "name": "stdout",
     "output_type": "stream",
     "text": [
      "  1.361746 seconds (3.12 M allocations: 176.145 MiB, 3.65% gc time, 94.08% compilation time)\n",
      "  0.387040 seconds (1.37 M allocations: 55.784 MiB, 6.45% gc time, 81.22% compilation time)\n",
      "  1.241090 seconds (2.90 M allocations: 174.495 MiB, 5.37% gc time, 97.84% compilation time)\n"
     ]
    }
   ],
   "source": [
    "CaOH_X003 = @time Hamiltonian(basis=basis, operator=H_operator, parameters=parameters)\n",
    "@time full_evaluate!(CaOH_X003)\n",
    "@time solve!(CaOH_X003)\n",
    ";"
   ]
  },
  {
   "cell_type": "code",
   "execution_count": 6,
   "id": "19b0a5a1",
   "metadata": {
    "tags": []
   },
   "outputs": [
    {
     "name": "stdout",
     "output_type": "stream",
     "text": [
      "  0.165624 seconds (461.39 k allocations: 30.477 MiB, 96.21% compilation time)\n"
     ]
    }
   ],
   "source": [
    "@time save_to_file(CaOH_X003, \"CaOH_X003\", \"\")"
   ]
  },
  {
   "cell_type": "code",
   "execution_count": null,
   "id": "6020efb6-4c06-468c-8137-ce184e0e4e05",
   "metadata": {},
   "outputs": [],
   "source": []
  }
 ],
 "metadata": {
  "kernelspec": {
   "display_name": "Julia (14 threads) 1.9.3",
   "language": "julia",
   "name": "julia-_14-threads_-1.9"
  },
  "language_info": {
   "file_extension": ".jl",
   "mimetype": "application/julia",
   "name": "julia",
   "version": "1.9.3"
  }
 },
 "nbformat": 4,
 "nbformat_minor": 5
}

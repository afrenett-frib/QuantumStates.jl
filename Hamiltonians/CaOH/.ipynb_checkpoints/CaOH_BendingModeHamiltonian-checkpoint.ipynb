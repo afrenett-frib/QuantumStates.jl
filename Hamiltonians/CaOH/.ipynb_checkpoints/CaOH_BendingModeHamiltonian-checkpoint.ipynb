{
 "cells": [
  {
   "cell_type": "code",
   "execution_count": 2,
   "id": "4ebeb064",
   "metadata": {
    "tags": []
   },
   "outputs": [
    {
     "name": "stderr",
     "output_type": "stream",
     "text": [
      "\u001b[36m\u001b[1m[ \u001b[22m\u001b[39m\u001b[36m\u001b[1mInfo: \u001b[22m\u001b[39mPrecompiling QuantumStates [17f0441f-15e0-42ae-a101-302633ff8f0f]\n"
     ]
    }
   ],
   "source": [
    "using QuantumStates, UnitsToValue"
   ]
  },
  {
   "cell_type": "code",
   "execution_count": 3,
   "id": "83847b16",
   "metadata": {
    "tags": []
   },
   "outputs": [],
   "source": [
    "H_operator = :(\n",
    "    BX * Rotation + \n",
    "    DX * RotationDistortion + \n",
    "    γX * SpinRotation + \n",
    "    bFX * Hyperfine_IS + \n",
    "    cX * (Hyperfine_Dipolar/3) +\n",
    "    qX * ℓDoubling\n",
    ");"
   ]
  },
  {
   "cell_type": "code",
   "execution_count": 4,
   "id": "ab3934ea",
   "metadata": {
    "tags": []
   },
   "outputs": [],
   "source": [
    "parameters = @params begin\n",
    "    BX = 0.333458 * 2.99792458e8 * 1e-4\n",
    "    DX = 0.3930e-6 * 2.99792458e8 * 1e-4\n",
    "    γX = 0.001184 * 2.99792458e8 * 1e-4\n",
    "    qX = 0.7181e-3 * 2.99792458e8 * 1e-4\n",
    "    bFX = 2.45 #2.602\n",
    "    cX = 2.6 #2.053\n",
    "end;"
   ]
  },
  {
   "cell_type": "code",
   "execution_count": 5,
   "id": "2802412d",
   "metadata": {
    "tags": []
   },
   "outputs": [],
   "source": [
    "QN_bounds = (S = 1/2, I = 1/2, Λ = [-1,1], N = 1:3)\n",
    "basis = enumerate_states(HundsCaseB_Rot, QN_bounds)\n",
    ";"
   ]
  },
  {
   "cell_type": "code",
   "execution_count": 6,
   "id": "241c562c",
   "metadata": {
    "tags": []
   },
   "outputs": [
    {
     "name": "stdout",
     "output_type": "stream",
     "text": [
      "  1.371159 seconds (2.01 M allocations: 136.345 MiB, 4.52% gc time, 97.87% compilation time)\n",
      "  0.271024 seconds (197.39 k allocations: 13.962 MiB, 96.95% compilation time)\n",
      "  1.329823 seconds (2.56 M allocations: 154.121 MiB, 4.15% gc time, 98.54% compilation time)\n"
     ]
    }
   ],
   "source": [
    "CaOH_BendingMode_Hamiltonian = @time Hamiltonian(basis=basis, operator=H_operator, parameters=parameters)\n",
    "@time full_evaluate!(CaOH_BendingMode_Hamiltonian)\n",
    "@time solve!(CaOH_BendingMode_Hamiltonian)\n",
    ";"
   ]
  },
  {
   "cell_type": "code",
   "execution_count": 7,
   "id": "19b0a5a1",
   "metadata": {
    "tags": []
   },
   "outputs": [
    {
     "name": "stdout",
     "output_type": "stream",
     "text": [
      "  0.153432 seconds (469.28 k allocations: 30.948 MiB, 97.29% compilation time)\n"
     ]
    }
   ],
   "source": [
    "@time save_to_file(CaOH_BendingMode_Hamiltonian, \"CaOH_BendingMode_Hamiltonian\", \"\")"
   ]
  },
  {
   "cell_type": "code",
   "execution_count": null,
   "id": "0acdc662-71ce-4b63-9a72-ae4685376fad",
   "metadata": {},
   "outputs": [],
   "source": []
  }
 ],
 "metadata": {
  "kernelspec": {
   "display_name": "Julia (8 threads) 1.9.0-rc3",
   "language": "julia",
   "name": "julia-_8-threads_-1.9"
  },
  "language_info": {
   "file_extension": ".jl",
   "mimetype": "application/julia",
   "name": "julia",
   "version": "1.9.0"
  }
 },
 "nbformat": 4,
 "nbformat_minor": 5
}

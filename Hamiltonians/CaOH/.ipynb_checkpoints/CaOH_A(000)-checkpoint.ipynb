{
 "cells": [
  {
   "cell_type": "code",
   "execution_count": null,
   "id": "4ebeb064",
   "metadata": {},
   "outputs": [],
   "source": [
    "using QuantumStates\n",
    "using UnitsToValue"
   ]
  },
  {
   "cell_type": "code",
   "execution_count": null,
   "id": "83847b16",
   "metadata": {
    "tags": []
   },
   "outputs": [],
   "source": [
    "H_operator = :(\n",
    "    T_A * DiagonalOperator +\n",
    "    Be_A * Rotation + \n",
    "    Aso_A * SpinOrbit +\n",
    "    q_A * ΛDoubling_q +\n",
    "    p_A * ΛDoubling_p2q + \n",
    "    q_A * (2ΛDoubling_p2q) +\n",
    "    # b00_A * (Hyperfine_IF - Hyperfine_IL) +\n",
    "    s * basis_splitting\n",
    ");"
   ]
  },
  {
   "cell_type": "code",
   "execution_count": null,
   "id": "57fdbe2a",
   "metadata": {},
   "outputs": [],
   "source": [
    "# Spectroscopic constants for CaOH, A state\n",
    "parameters = @params begin\n",
    "    T_A = 15998.122 * c * 1e2\n",
    "    Be_A = 0.3412200 * c * 1e2\n",
    "    Aso_A = 66.8181 * c * 1e2\n",
    "    p_A = -0.04287 * c * 1e2\n",
    "    q_A = -0.3257e-3 * c * 1e2\n",
    "    b00_A = 1e-9 * c * 1e2\n",
    "    s = 0.\n",
    "end;"
   ]
  },
  {
   "cell_type": "code",
   "execution_count": null,
   "id": "2802412d",
   "metadata": {
    "editable": true,
    "slideshow": {
     "slide_type": ""
    },
    "tags": []
   },
   "outputs": [],
   "source": [
    "QN_bounds = (\n",
    "    label = \"A\",\n",
    "    Λ = (-1,1),\n",
    "    I = 1/2,\n",
    "    S = 1/2,\n",
    "    J = 1/2:9/2\n",
    "    )\n",
    "basis = enumerate_states(HundsCaseA_LinearMolecule, QN_bounds)\n",
    ";"
   ]
  },
  {
   "cell_type": "code",
   "execution_count": null,
   "id": "241c562c",
   "metadata": {},
   "outputs": [],
   "source": [
    "CaOH_A000 = @time Hamiltonian(basis=basis, operator=H_operator, parameters=parameters)\n",
    "@time evaluate!(CaOH_A000)\n",
    "@time solve!(CaOH_A000)\n",
    ";"
   ]
  },
  {
   "cell_type": "code",
   "execution_count": null,
   "id": "19b0a5a1",
   "metadata": {
    "editable": true,
    "slideshow": {
     "slide_type": ""
    },
    "tags": []
   },
   "outputs": [],
   "source": [
    "@time save_to_file(CaOH_A000, \"CaOH_A000\", \"\")"
   ]
  },
  {
   "cell_type": "code",
   "execution_count": null,
   "id": "4acbd5c0-ff55-42b5-8fe1-c3f9ace553b5",
   "metadata": {},
   "outputs": [],
   "source": []
  }
 ],
 "metadata": {
  "kernelspec": {
   "display_name": "Julia (20 threads) 1.9.3",
   "language": "julia",
   "name": "julia-_20-threads_-1.9"
  },
  "language_info": {
   "file_extension": ".jl",
   "mimetype": "application/julia",
   "name": "julia",
   "version": "1.9.3"
  }
 },
 "nbformat": 4,
 "nbformat_minor": 5
}

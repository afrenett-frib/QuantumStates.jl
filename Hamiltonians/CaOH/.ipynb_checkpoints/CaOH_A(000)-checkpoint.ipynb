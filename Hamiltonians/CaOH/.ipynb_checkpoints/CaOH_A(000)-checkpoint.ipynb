{
 "cells": [
  {
   "cell_type": "code",
   "execution_count": 1,
   "id": "19e34293-4d27-4d1c-8276-e94f9fac0364",
   "metadata": {},
   "outputs": [],
   "source": [
    "using Revise"
   ]
  },
  {
   "cell_type": "code",
   "execution_count": null,
   "id": "4ebeb064",
   "metadata": {},
   "outputs": [],
   "source": [
    "using QuantumStates\n",
    "using UnitsToValue"
   ]
  },
  {
   "cell_type": "code",
   "execution_count": null,
   "id": "83847b16",
   "metadata": {
    "tags": []
   },
   "outputs": [],
   "source": [
    "H_operator = :(\n",
    "    T_A * DiagonalOperator +\n",
    "    Be_A * Rotation + \n",
    "    Aso_A * SpinOrbit +\n",
    "    q_A * ΛDoubling_q +\n",
    "    p_A * ΛDoubling_p2q + q_A * (2ΛDoubling_p2q) +\n",
    "    temp * Hyperfine_IL + \n",
    "    B_z * Zeeman_S\n",
    ");"
   ]
  },
  {
   "cell_type": "code",
   "execution_count": null,
   "id": "57fdbe2a",
   "metadata": {},
   "outputs": [],
   "source": [
    "# Spectroscopic constants for CaOH, A state\n",
    "parameters = @params begin\n",
    "    T_A = 15998.122 * 299792458 * 1e-4\n",
    "    Be_A = 0.3412200 * 299792458 * 1e-4\n",
    "    Aso_A = 66.8181 * 299792458 * 1e-4\n",
    "    p_A = -0.04287 * 299792458 * 1e-4\n",
    "    q_A = -0.3257e-3 * 299792458 * 1e-4\n",
    "    temp = 1e-3\n",
    "    B_z = 1e-3\n",
    "end;"
   ]
  },
  {
   "cell_type": "code",
   "execution_count": null,
   "id": "2802412d",
   "metadata": {},
   "outputs": [],
   "source": [
    "# QN_bounds = (\n",
    "#     v_1 = 0,\n",
    "#     v_2 = 0,\n",
    "#     ℓ = 0,\n",
    "#     v_3 = 0,\n",
    "#     Λ = (-1,1),\n",
    "#     I = 1/2,\n",
    "#     S = 1/2,\n",
    "#     J = 1/2:5/2\n",
    "#     )\n",
    "# basis = enumerate_states(HundsCaseA_LinearMolecule, QN_bounds)\n",
    "\n",
    "QN_bounds = (\n",
    "    Λ = (-1,1),\n",
    "    I = 1/2,\n",
    "    S = 1/2,\n",
    "    J = 1/2:5/2\n",
    "    )\n",
    "basis = enumerate_states(HundsCaseA_Rot, QN_bounds)\n",
    ";"
   ]
  },
  {
   "cell_type": "code",
   "execution_count": null,
   "id": "241c562c",
   "metadata": {},
   "outputs": [],
   "source": [
    "CaOH_A000 = @time Hamiltonian(basis=basis, operator=H_operator, parameters=parameters)\n",
    "@time evaluate!(CaOH_A000)\n",
    "@time solve!(CaOH_A000)\n",
    ";"
   ]
  },
  {
   "cell_type": "code",
   "execution_count": null,
   "id": "19b0a5a1",
   "metadata": {},
   "outputs": [],
   "source": [
    "@time save_to_file(CaOH_A000, \"CaOH_A000\", \"\")"
   ]
  },
  {
   "cell_type": "code",
   "execution_count": null,
   "id": "451c54fc-3fb3-48e2-9aac-a8574ce612f5",
   "metadata": {},
   "outputs": [],
   "source": []
  }
 ],
 "metadata": {
  "kernelspec": {
   "display_name": "Julia (10 threads) 1.9.1",
   "language": "julia",
   "name": "julia-_10-threads_-1.9"
  },
  "language_info": {
   "file_extension": ".jl",
   "mimetype": "application/julia",
   "name": "julia",
   "version": "1.9.1"
  }
 },
 "nbformat": 4,
 "nbformat_minor": 5
}

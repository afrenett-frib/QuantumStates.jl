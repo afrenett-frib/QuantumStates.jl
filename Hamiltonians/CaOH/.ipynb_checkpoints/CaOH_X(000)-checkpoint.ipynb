{
 "cells": [
  {
   "cell_type": "code",
   "execution_count": 1,
   "id": "4ebeb064",
   "metadata": {
    "tags": []
   },
   "outputs": [],
   "source": [
    "using QuantumStates"
   ]
  },
  {
   "cell_type": "code",
   "execution_count": 2,
   "id": "83847b16",
   "metadata": {
    "tags": []
   },
   "outputs": [],
   "source": [
    "H_operator = :(\n",
    "    BX * Rotation + \n",
    "    DX * RotationDistortion + \n",
    "    γX * SpinRotation + \n",
    "    bFX * Hyperfine_IS + \n",
    "    cX * (Hyperfine_Dipolar/3)\n",
    ");"
   ]
  },
  {
   "cell_type": "code",
   "execution_count": 3,
   "id": "ab3934ea",
   "metadata": {
    "tags": []
   },
   "outputs": [],
   "source": [
    "parameters = @params begin\n",
    "    BX = 0.33441 * 299792458 * 1e-4\n",
    "    DX = 0.3869e-6 * 299792458 * 1e-4\n",
    "    γX = 0.001134 * 299792458 * 1e-4\n",
    "    bFX = 2.602\n",
    "    cX = 2.053\n",
    "end;"
   ]
  },
  {
   "cell_type": "code",
   "execution_count": 4,
   "id": "2802412d",
   "metadata": {
    "tags": []
   },
   "outputs": [],
   "source": [
    "QN_bounds = (S = 1/2, I = 1/2, Λ = 0, N = 0:3)\n",
    "basis = enumerate_states(HundsCaseB_Rot, QN_bounds)\n",
    ";"
   ]
  },
  {
   "cell_type": "code",
   "execution_count": 5,
   "id": "241c562c",
   "metadata": {
    "tags": []
   },
   "outputs": [
    {
     "name": "stdout",
     "output_type": "stream",
     "text": [
      "  1.046960 seconds (1.87 M allocations: 122.462 MiB, 2.43% gc time, 99.21% compilation time)\n",
      "  0.115521 seconds (50.15 k allocations: 3.392 MiB, 99.93% compilation time)\n",
      "  1.175813 seconds (2.56 M allocations: 154.446 MiB, 5.32% gc time, 99.91% compilation time)\n"
     ]
    }
   ],
   "source": [
    "CaOH_X000 = @time Hamiltonian(basis=basis, operator=H_operator, parameters=parameters)\n",
    "@time evaluate!(CaOH_X000)\n",
    "@time solve!(CaOH_X000)\n",
    ";"
   ]
  },
  {
   "cell_type": "code",
   "execution_count": 6,
   "id": "19b0a5a1",
   "metadata": {
    "tags": []
   },
   "outputs": [
    {
     "name": "stdout",
     "output_type": "stream",
     "text": [
      "  0.184849 seconds (465.20 k allocations: 30.870 MiB, 8.71% gc time, 98.66% compilation time)\n"
     ]
    }
   ],
   "source": [
    "@time save_to_file(CaOH_X000, \"CaOH_X000\", \"\")"
   ]
  }
 ],
 "metadata": {
  "kernelspec": {
   "display_name": "Julia (8 threads) 1.9.0-rc3",
   "language": "julia",
   "name": "julia-_8-threads_-1.9"
  },
  "language_info": {
   "file_extension": ".jl",
   "mimetype": "application/julia",
   "name": "julia",
   "version": "1.9.0"
  }
 },
 "nbformat": 4,
 "nbformat_minor": 5
}

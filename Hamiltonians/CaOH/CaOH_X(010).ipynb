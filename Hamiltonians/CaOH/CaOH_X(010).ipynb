{
 "cells": [
  {
   "cell_type": "code",
   "execution_count": 1,
   "id": "4ebeb064",
   "metadata": {
    "tags": []
   },
   "outputs": [],
   "source": [
    "using QuantumStates, UnitsToValue"
   ]
  },
  {
   "cell_type": "code",
   "execution_count": 2,
   "id": "83847b16",
   "metadata": {
    "tags": []
   },
   "outputs": [],
   "source": [
    "H_operator = :(\n",
    "    BX * Rotation + \n",
    "    DX * RotationDistortion + \n",
    "    γX * SpinRotation + \n",
    "    bFX * Hyperfine_IS + \n",
    "    cX * (Hyperfine_Dipolar/3) +\n",
    "    qX * ℓDoubling\n",
    ");"
   ]
  },
  {
   "cell_type": "code",
   "execution_count": 3,
   "id": "ab3934ea",
   "metadata": {
    "tags": []
   },
   "outputs": [],
   "source": [
    "parameters = @params begin\n",
    "    BX = 0.333458 * 2.99792458e8 * 1e-4\n",
    "    DX = 0.3930e-6 * 2.99792458e8 * 1e-4\n",
    "    γX = 0.001184 * 2.99792458e8 * 1e-4\n",
    "    qX = 0.7181e-3 * 2.99792458e8 * 1e-4\n",
    "    bFX = 2.602 # 2.45\n",
    "    cX = 2.053 # 2.6\n",
    "end;"
   ]
  },
  {
   "cell_type": "code",
   "execution_count": 5,
   "id": "2802412d",
   "metadata": {
    "tags": []
   },
   "outputs": [],
   "source": [
    "QN_bounds = (S = 1/2, I = 1/2, Λ = [-1,1], N = 1:3)\n",
    "basis = enumerate_states(HundsCaseB_Rot, QN_bounds)\n",
    ";"
   ]
  },
  {
   "cell_type": "code",
   "execution_count": 6,
   "id": "241c562c",
   "metadata": {
    "tags": []
   },
   "outputs": [
    {
     "name": "stdout",
     "output_type": "stream",
     "text": [
      "  1.261391 seconds (2.02 M allocations: 136.908 MiB, 3.78% gc time, 97.94% compilation time)\n",
      "  0.226356 seconds (172.75 k allocations: 13.099 MiB, 97.70% compilation time)\n",
      "  1.315179 seconds (2.81 M allocations: 167.444 MiB, 5.21% gc time, 92.37% compilation time)\n"
     ]
    }
   ],
   "source": [
    "CaOH_X010 = @time Hamiltonian(basis=basis, operator=H_operator, parameters=parameters)\n",
    "@time full_evaluate!(CaOH_X010)\n",
    "@time solve!(CaOH_X010)\n",
    ";"
   ]
  },
  {
   "cell_type": "code",
   "execution_count": 7,
   "id": "19b0a5a1",
   "metadata": {
    "tags": []
   },
   "outputs": [
    {
     "name": "stdout",
     "output_type": "stream",
     "text": [
      "  0.173066 seconds (467.36 k allocations: 30.821 MiB, 9.60% gc time, 97.73% compilation time)\n"
     ]
    }
   ],
   "source": [
    "@time save_to_file(CaOH_X010, \"CaOH_X010\", \"\")"
   ]
  },
  {
   "cell_type": "code",
   "execution_count": null,
   "id": "0acdc662-71ce-4b63-9a72-ae4685376fad",
   "metadata": {},
   "outputs": [],
   "source": []
  }
 ],
 "metadata": {
  "kernelspec": {
   "display_name": "Julia (10 threads) 1.9.1",
   "language": "julia",
   "name": "julia-_10-threads_-1.9"
  },
  "language_info": {
   "file_extension": ".jl",
   "mimetype": "application/julia",
   "name": "julia",
   "version": "1.9.1"
  }
 },
 "nbformat": 4,
 "nbformat_minor": 5
}

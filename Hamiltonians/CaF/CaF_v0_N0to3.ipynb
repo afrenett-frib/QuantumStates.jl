{
 "cells": [
  {
   "cell_type": "code",
   "execution_count": 1,
   "id": "b7a11ea6",
   "metadata": {},
   "outputs": [
    {
     "name": "stderr",
     "output_type": "stream",
     "text": [
      "┌ Info: Precompiling QuantumStates [17f0441f-15e0-42ae-a101-302633ff8f0f]\n",
      "└ @ Base loading.jl:1662\n"
     ]
    }
   ],
   "source": [
    "using QuantumStates"
   ]
  },
  {
   "cell_type": "code",
   "execution_count": 9,
   "id": "9365913a",
   "metadata": {
    "tags": []
   },
   "outputs": [],
   "source": [
    "H_operator = :(\n",
    "    BX * Rotation + \n",
    "    DX * RotationDistortion + \n",
    "    γX * SpinRotation +\n",
    "    bFX * Hyperfine_IS + \n",
    "    cX * (Hyperfine_Dipolar/3)\n",
    ");"
   ]
  },
  {
   "cell_type": "code",
   "execution_count": 10,
   "id": "77c935ab",
   "metadata": {
    "tags": []
   },
   "outputs": [],
   "source": [
    "parameters = @params begin\n",
    "    BX = 10303.988\n",
    "    DX = 0.014060\n",
    "    γX = 39.65891\n",
    "    bX = 109.1839\n",
    "    cX = 40.1190\n",
    "    B_z = 1e-6\n",
    "end\n",
    "parameters.param_dict[:bFX] = parameters.bX + parameters.cX / 3;"
   ]
  },
  {
   "cell_type": "code",
   "execution_count": 11,
   "id": "dfe9c620",
   "metadata": {},
   "outputs": [],
   "source": [
    "QN_bounds = (S = 1/2, I = 1/2, Λ = 0, N = 0:3)\n",
    "basis = enumerate_states(HundsCaseB_Rot, QN_bounds)\n",
    ";"
   ]
  },
  {
   "cell_type": "code",
   "execution_count": 12,
   "id": "1b70bd02",
   "metadata": {},
   "outputs": [
    {
     "name": "stdout",
     "output_type": "stream",
     "text": [
      "  0.009209 seconds (5.59 k allocations: 1.878 MiB)\n",
      "  0.003409 seconds (9.45 k allocations: 823.234 KiB)\n",
      "  0.002987 seconds (272 allocations: 315.750 KiB)\n"
     ]
    }
   ],
   "source": [
    "CaF_v0_N0to3_Hamiltonian = @time Hamiltonian(basis=basis, operator=H_operator, parameters=parameters)\n",
    "@time full_evaluate!(CaF_v0_N0to3_Hamiltonian)\n",
    "@time solve!(CaF_v0_N0to3_Hamiltonian)\n",
    ";"
   ]
  },
  {
   "cell_type": "code",
   "execution_count": 13,
   "id": "a8629612",
   "metadata": {},
   "outputs": [
    {
     "name": "stdout",
     "output_type": "stream",
     "text": [
      "  0.009364 seconds (4.70 k allocations: 118.180 KiB)\n"
     ]
    }
   ],
   "source": [
    "@time save_to_file(CaF_v0_N0to3_Hamiltonian, \"CaF_v0_N0to3_Hamiltonian\", \"\")"
   ]
  },
  {
   "cell_type": "code",
   "execution_count": 14,
   "id": "42281ca8-1292-43f2-be76-42233f0d2b62",
   "metadata": {},
   "outputs": [
    {
     "data": {
      "text/latex": [
       "$$-0.749\\left|S=1/2, I=1/2, Λ=0, N=1, J=1/2, F=1, M=0\\right\\rangle$$\n",
       "$$ + 0.655\\left|S=1/2, I=1/2, Λ=0, N=1, J=3/2, F=1, M=0\\right\\rangle$$\n"
      ],
      "text/plain": [
       "State{HundsCaseB_Rot}(20509.2333109709, HundsCaseB_Rot[HundsCaseB_Rot(0.0, 1/2, 1/2, 0, 0, 1/2, 0, 0, (N = 0:∞, J = 0.5:1.0:0.5, F = 0.0:1.0:1.0, M = 0.0:1.0:0.0)), HundsCaseB_Rot(0.0, 1/2, 1/2, 0, 0, 1/2, 1, -1, (N = 0:∞, J = 0.5:1.0:0.5, F = 0.0:1.0:1.0, M = -1.0:1.0:1.0)), HundsCaseB_Rot(0.0, 1/2, 1/2, 0, 0, 1/2, 1, 0, (N = 0:∞, J = 0.5:1.0:0.5, F = 0.0:1.0:1.0, M = -1.0:1.0:1.0)), HundsCaseB_Rot(0.0, 1/2, 1/2, 0, 0, 1/2, 1, 1, (N = 0:∞, J = 0.5:1.0:0.5, F = 0.0:1.0:1.0, M = -1.0:1.0:1.0)), HundsCaseB_Rot(0.0, 1/2, 1/2, 0, 1, 1/2, 0, 0, (N = 0:∞, J = 0.5:1.0:1.5, F = 0.0:1.0:1.0, M = 0.0:1.0:0.0)), HundsCaseB_Rot(0.0, 1/2, 1/2, 0, 1, 1/2, 1, -1, (N = 0:∞, J = 0.5:1.0:1.5, F = 0.0:1.0:1.0, M = -1.0:1.0:1.0)), HundsCaseB_Rot(0.0, 1/2, 1/2, 0, 1, 1/2, 1, 0, (N = 0:∞, J = 0.5:1.0:1.5, F = 0.0:1.0:1.0, M = -1.0:1.0:1.0)), HundsCaseB_Rot(0.0, 1/2, 1/2, 0, 1, 1/2, 1, 1, (N = 0:∞, J = 0.5:1.0:1.5, F = 0.0:1.0:1.0, M = -1.0:1.0:1.0)), HundsCaseB_Rot(0.0, 1/2, 1/2, 0, 1, 3/2, 1, -1, (N = 0:∞, J = 0.5:1.0:1.5, F = 1.0:1.0:2.0, M = -1.0:1.0:1.0)), HundsCaseB_Rot(0.0, 1/2, 1/2, 0, 1, 3/2, 1, 0, (N = 0:∞, J = 0.5:1.0:1.5, F = 1.0:1.0:2.0, M = -1.0:1.0:1.0))  …  HundsCaseB_Rot(0.0, 1/2, 1/2, 0, 3, 7/2, 3, 3, (N = 0:∞, J = 2.5:1.0:3.5, F = 3.0:1.0:4.0, M = -3.0:1.0:3.0)), HundsCaseB_Rot(0.0, 1/2, 1/2, 0, 3, 7/2, 4, -4, (N = 0:∞, J = 2.5:1.0:3.5, F = 3.0:1.0:4.0, M = -4.0:1.0:4.0)), HundsCaseB_Rot(0.0, 1/2, 1/2, 0, 3, 7/2, 4, -3, (N = 0:∞, J = 2.5:1.0:3.5, F = 3.0:1.0:4.0, M = -4.0:1.0:4.0)), HundsCaseB_Rot(0.0, 1/2, 1/2, 0, 3, 7/2, 4, -2, (N = 0:∞, J = 2.5:1.0:3.5, F = 3.0:1.0:4.0, M = -4.0:1.0:4.0)), HundsCaseB_Rot(0.0, 1/2, 1/2, 0, 3, 7/2, 4, -1, (N = 0:∞, J = 2.5:1.0:3.5, F = 3.0:1.0:4.0, M = -4.0:1.0:4.0)), HundsCaseB_Rot(0.0, 1/2, 1/2, 0, 3, 7/2, 4, 0, (N = 0:∞, J = 2.5:1.0:3.5, F = 3.0:1.0:4.0, M = -4.0:1.0:4.0)), HundsCaseB_Rot(0.0, 1/2, 1/2, 0, 3, 7/2, 4, 1, (N = 0:∞, J = 2.5:1.0:3.5, F = 3.0:1.0:4.0, M = -4.0:1.0:4.0)), HundsCaseB_Rot(0.0, 1/2, 1/2, 0, 3, 7/2, 4, 2, (N = 0:∞, J = 2.5:1.0:3.5, F = 3.0:1.0:4.0, M = -4.0:1.0:4.0)), HundsCaseB_Rot(0.0, 1/2, 1/2, 0, 3, 7/2, 4, 3, (N = 0:∞, J = 2.5:1.0:3.5, F = 3.0:1.0:4.0, M = -4.0:1.0:4.0)), HundsCaseB_Rot(0.0, 1/2, 1/2, 0, 3, 7/2, 4, 4, (N = 0:∞, J = 2.5:1.0:3.5, F = 3.0:1.0:4.0, M = -4.0:1.0:4.0))], ComplexF64[0.0 + 0.0im, -1.089355539477535e-16 + 0.0im, -6.410473996648521e-19 + 0.0im, -2.671462972964972e-23 + 0.0im, 0.0 + 0.0im, -0.07200289248323367 + 0.0im, -0.7493583656401571 + 0.0im, 4.408569321233402e-15 + 0.0im, 0.06295756071146696 + 0.0im, 0.6552205497910015 + 0.0im  …  0.0 + 0.0im, 0.0 + 0.0im, 0.0 + 0.0im, 0.0 + 0.0im, 0.0 + 0.0im, 0.0 + 0.0im, 0.0 + 0.0im, 0.0 + 0.0im, 0.0 + 0.0im, 0.0 + 0.0im], 5)"
      ]
     },
     "execution_count": 14,
     "metadata": {},
     "output_type": "execute_result"
    }
   ],
   "source": [
    "CaF_v0_N0to3_Hamiltonian.states[5]"
   ]
  },
  {
   "cell_type": "code",
   "execution_count": null,
   "id": "6b5c06fd-a1e2-4c59-8e63-696c6e61efcf",
   "metadata": {},
   "outputs": [],
   "source": []
  }
 ],
 "metadata": {
  "kernelspec": {
   "display_name": "Julia 1.8.0",
   "language": "julia",
   "name": "julia-1.8"
  },
  "language_info": {
   "file_extension": ".jl",
   "mimetype": "application/julia",
   "name": "julia",
   "version": "1.8.0"
  }
 },
 "nbformat": 4,
 "nbformat_minor": 5
}

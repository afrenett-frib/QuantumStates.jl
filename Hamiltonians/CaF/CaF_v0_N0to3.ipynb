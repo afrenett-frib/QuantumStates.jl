{
 "cells": [
  {
   "cell_type": "code",
   "execution_count": 1,
   "id": "b7a11ea6",
   "metadata": {},
   "outputs": [],
   "source": [
    "using QuantumStates"
   ]
  },
  {
   "cell_type": "code",
   "execution_count": 13,
   "id": "9365913a",
   "metadata": {
    "tags": []
   },
   "outputs": [],
   "source": [
    "H_operator = :(\n",
    "    BX * Rotation + \n",
    "    DX * RotationDistortion + \n",
    "    γX * SpinRotation +\n",
    "    bFX * Hyperfine_IS + \n",
    "    cX * (Hyperfine_Dipolar/3)\n",
    ");"
   ]
  },
  {
   "cell_type": "code",
   "execution_count": 20,
   "id": "77c935ab",
   "metadata": {
    "tags": []
   },
   "outputs": [],
   "source": [
    "parameters = @params begin\n",
    "    BX = 10303.988\n",
    "    DX = 0.014060\n",
    "    γX = 39.65891\n",
    "    bX = 109.1839\n",
    "    cX = 40.1190\n",
    "    B_z = 1e-6\n",
    "end\n",
    "parameters.param_dict[:bFX] = parameters.bX + parameters.cX / 3;"
   ]
  },
  {
   "cell_type": "code",
   "execution_count": 46,
   "id": "dfe9c620",
   "metadata": {},
   "outputs": [],
   "source": [
    "QN_bounds = (S = 1/2, I = 1/2, Λ = 0, N = 0:5)\n",
    "basis = enumerate_states(HundsCaseB_Rot, QN_bounds)\n",
    ";"
   ]
  },
  {
   "cell_type": "code",
   "execution_count": 47,
   "id": "1b70bd02",
   "metadata": {},
   "outputs": [
    {
     "name": "stdout",
     "output_type": "stream",
     "text": [
      "  0.007759 seconds (24.06 k allocations: 9.331 MiB)\n",
      "  0.007650 seconds (44.41 k allocations: 3.923 MiB)\n",
      "  0.009783 seconds (592 allocations: 1.405 MiB)\n"
     ]
    }
   ],
   "source": [
    "CaF_v0_N0to3_Hamiltonian = @time Hamiltonian(basis=basis, operator=H_operator, parameters=parameters)\n",
    "@time full_evaluate!(CaF_v0_N0to3_Hamiltonian)\n",
    "@time solve!(CaF_v0_N0to3_Hamiltonian)\n",
    ";"
   ]
  },
  {
   "cell_type": "code",
   "execution_count": 48,
   "id": "a8629612",
   "metadata": {},
   "outputs": [
    {
     "name": "stdout",
     "output_type": "stream",
     "text": [
      "  0.004794 seconds (10.41 k allocations: 231.242 KiB)\n"
     ]
    }
   ],
   "source": [
    "@time save_to_file(CaF_v0_N0to3_Hamiltonian, \"CaF_v0_N0to3_Hamiltonian\", \"\")"
   ]
  },
  {
   "cell_type": "code",
   "execution_count": 49,
   "id": "42281ca8-1292-43f2-be76-42233f0d2b62",
   "metadata": {},
   "outputs": [
    {
     "data": {
      "text/latex": [
       "$$-1.0\\left|S=1/2, I=1/2, Λ=0, N=0, J=1/2, F=1, M=1\\right\\rangle$$\n"
      ],
      "text/plain": [
       "State{HundsCaseB_Rot}(30.637777096091938, HundsCaseB_Rot[HundsCaseB_Rot(0.0, 1/2, 1/2, 0, 0, 1/2, 0, 0, (N = 0:∞, J = 0.5:1.0:0.5, F = 0.0:1.0:1.0, M = 0.0:1.0:0.0)), HundsCaseB_Rot(0.0, 1/2, 1/2, 0, 0, 1/2, 1, -1, (N = 0:∞, J = 0.5:1.0:0.5, F = 0.0:1.0:1.0, M = -1.0:1.0:1.0)), HundsCaseB_Rot(0.0, 1/2, 1/2, 0, 0, 1/2, 1, 0, (N = 0:∞, J = 0.5:1.0:0.5, F = 0.0:1.0:1.0, M = -1.0:1.0:1.0)), HundsCaseB_Rot(0.0, 1/2, 1/2, 0, 0, 1/2, 1, 1, (N = 0:∞, J = 0.5:1.0:0.5, F = 0.0:1.0:1.0, M = -1.0:1.0:1.0)), HundsCaseB_Rot(0.0, 1/2, 1/2, 0, 1, 1/2, 0, 0, (N = 0:∞, J = 0.5:1.0:1.5, F = 0.0:1.0:1.0, M = 0.0:1.0:0.0)), HundsCaseB_Rot(0.0, 1/2, 1/2, 0, 1, 1/2, 1, -1, (N = 0:∞, J = 0.5:1.0:1.5, F = 0.0:1.0:1.0, M = -1.0:1.0:1.0)), HundsCaseB_Rot(0.0, 1/2, 1/2, 0, 1, 1/2, 1, 0, (N = 0:∞, J = 0.5:1.0:1.5, F = 0.0:1.0:1.0, M = -1.0:1.0:1.0)), HundsCaseB_Rot(0.0, 1/2, 1/2, 0, 1, 1/2, 1, 1, (N = 0:∞, J = 0.5:1.0:1.5, F = 0.0:1.0:1.0, M = -1.0:1.0:1.0)), HundsCaseB_Rot(0.0, 1/2, 1/2, 0, 1, 3/2, 1, -1, (N = 0:∞, J = 0.5:1.0:1.5, F = 1.0:1.0:2.0, M = -1.0:1.0:1.0)), HundsCaseB_Rot(0.0, 1/2, 1/2, 0, 1, 3/2, 1, 0, (N = 0:∞, J = 0.5:1.0:1.5, F = 1.0:1.0:2.0, M = -1.0:1.0:1.0))  …  HundsCaseB_Rot(0.0, 1/2, 1/2, 0, 5, 11/2, 6, -3, (N = 0:∞, J = 4.5:1.0:5.5, F = 5.0:1.0:6.0, M = -6.0:1.0:6.0)), HundsCaseB_Rot(0.0, 1/2, 1/2, 0, 5, 11/2, 6, -2, (N = 0:∞, J = 4.5:1.0:5.5, F = 5.0:1.0:6.0, M = -6.0:1.0:6.0)), HundsCaseB_Rot(0.0, 1/2, 1/2, 0, 5, 11/2, 6, -1, (N = 0:∞, J = 4.5:1.0:5.5, F = 5.0:1.0:6.0, M = -6.0:1.0:6.0)), HundsCaseB_Rot(0.0, 1/2, 1/2, 0, 5, 11/2, 6, 0, (N = 0:∞, J = 4.5:1.0:5.5, F = 5.0:1.0:6.0, M = -6.0:1.0:6.0)), HundsCaseB_Rot(0.0, 1/2, 1/2, 0, 5, 11/2, 6, 1, (N = 0:∞, J = 4.5:1.0:5.5, F = 5.0:1.0:6.0, M = -6.0:1.0:6.0)), HundsCaseB_Rot(0.0, 1/2, 1/2, 0, 5, 11/2, 6, 2, (N = 0:∞, J = 4.5:1.0:5.5, F = 5.0:1.0:6.0, M = -6.0:1.0:6.0)), HundsCaseB_Rot(0.0, 1/2, 1/2, 0, 5, 11/2, 6, 3, (N = 0:∞, J = 4.5:1.0:5.5, F = 5.0:1.0:6.0, M = -6.0:1.0:6.0)), HundsCaseB_Rot(0.0, 1/2, 1/2, 0, 5, 11/2, 6, 4, (N = 0:∞, J = 4.5:1.0:5.5, F = 5.0:1.0:6.0, M = -6.0:1.0:6.0)), HundsCaseB_Rot(0.0, 1/2, 1/2, 0, 5, 11/2, 6, 5, (N = 0:∞, J = 4.5:1.0:5.5, F = 5.0:1.0:6.0, M = -6.0:1.0:6.0)), HundsCaseB_Rot(0.0, 1/2, 1/2, 0, 5, 11/2, 6, 6, (N = 0:∞, J = 4.5:1.0:5.5, F = 5.0:1.0:6.0, M = -6.0:1.0:6.0))], ComplexF64[0.0 - 0.0im, -3.1577424556403815e-7 - 0.0im, -6.913222005449836e-6 - 0.0im, -0.9999999882535113 - 0.0im, 0.0 - 0.0im, -7.561708391420415e-29 - 0.0im, 6.310887241768094e-29 - 0.0im, -1.6155871338926322e-27 - 0.0im, 2.5849394142282115e-26 - 0.0im, 0.0 - 0.0im  …  0.0 + 0.0im, 0.0 + 0.0im, 0.0 + 0.0im, 0.0 + 0.0im, 0.0 + 0.0im, 0.0 + 0.0im, 0.0 + 0.0im, 0.0 + 0.0im, 0.0 + 0.0im, 0.0 + 0.0im], 4)"
      ]
     },
     "execution_count": 49,
     "metadata": {},
     "output_type": "execute_result"
    }
   ],
   "source": [
    "CaF_v0_N0to3_Hamiltonian.states[4]"
   ]
  },
  {
   "cell_type": "code",
   "execution_count": 45,
   "id": "6b5c06fd-a1e2-4c59-8e63-696c6e61efcf",
   "metadata": {},
   "outputs": [
    {
     "data": {
      "text/latex": [
       "$$-1.0\\left|S=1/2, I=1/2, Λ=0, N=1, J=1/2, F=0, M=0\\right\\rangle$$\n"
      ],
      "text/plain": [
       "State{HundsCaseB_Rot}(20585.527075000027, HundsCaseB_Rot[HundsCaseB_Rot(0.0, 1/2, 1/2, 0, 0, 1/2, 0, 0, (N = 0:∞, J = 0.5:1.0:0.5, F = 0.0:1.0:1.0, M = 0.0:1.0:0.0)), HundsCaseB_Rot(0.0, 1/2, 1/2, 0, 0, 1/2, 1, -1, (N = 0:∞, J = 0.5:1.0:0.5, F = 0.0:1.0:1.0, M = -1.0:1.0:1.0)), HundsCaseB_Rot(0.0, 1/2, 1/2, 0, 0, 1/2, 1, 0, (N = 0:∞, J = 0.5:1.0:0.5, F = 0.0:1.0:1.0, M = -1.0:1.0:1.0)), HundsCaseB_Rot(0.0, 1/2, 1/2, 0, 0, 1/2, 1, 1, (N = 0:∞, J = 0.5:1.0:0.5, F = 0.0:1.0:1.0, M = -1.0:1.0:1.0)), HundsCaseB_Rot(0.0, 1/2, 1/2, 0, 1, 1/2, 0, 0, (N = 0:∞, J = 0.5:1.0:1.5, F = 0.0:1.0:1.0, M = 0.0:1.0:0.0)), HundsCaseB_Rot(0.0, 1/2, 1/2, 0, 1, 1/2, 1, -1, (N = 0:∞, J = 0.5:1.0:1.5, F = 0.0:1.0:1.0, M = -1.0:1.0:1.0)), HundsCaseB_Rot(0.0, 1/2, 1/2, 0, 1, 1/2, 1, 0, (N = 0:∞, J = 0.5:1.0:1.5, F = 0.0:1.0:1.0, M = -1.0:1.0:1.0)), HundsCaseB_Rot(0.0, 1/2, 1/2, 0, 1, 1/2, 1, 1, (N = 0:∞, J = 0.5:1.0:1.5, F = 0.0:1.0:1.0, M = -1.0:1.0:1.0)), HundsCaseB_Rot(0.0, 1/2, 1/2, 0, 1, 3/2, 1, -1, (N = 0:∞, J = 0.5:1.0:1.5, F = 1.0:1.0:2.0, M = -1.0:1.0:1.0)), HundsCaseB_Rot(0.0, 1/2, 1/2, 0, 1, 3/2, 1, 0, (N = 0:∞, J = 0.5:1.0:1.5, F = 1.0:1.0:2.0, M = -1.0:1.0:1.0))  …  HundsCaseB_Rot(0.0, 1/2, 1/2, 0, 6, 13/2, 7, -2, (N = 0:∞, J = 5.5:1.0:6.5, F = 6.0:1.0:7.0, M = -7.0:1.0:7.0)), HundsCaseB_Rot(0.0, 1/2, 1/2, 0, 6, 13/2, 7, -1, (N = 0:∞, J = 5.5:1.0:6.5, F = 6.0:1.0:7.0, M = -7.0:1.0:7.0)), HundsCaseB_Rot(0.0, 1/2, 1/2, 0, 6, 13/2, 7, 0, (N = 0:∞, J = 5.5:1.0:6.5, F = 6.0:1.0:7.0, M = -7.0:1.0:7.0)), HundsCaseB_Rot(0.0, 1/2, 1/2, 0, 6, 13/2, 7, 1, (N = 0:∞, J = 5.5:1.0:6.5, F = 6.0:1.0:7.0, M = -7.0:1.0:7.0)), HundsCaseB_Rot(0.0, 1/2, 1/2, 0, 6, 13/2, 7, 2, (N = 0:∞, J = 5.5:1.0:6.5, F = 6.0:1.0:7.0, M = -7.0:1.0:7.0)), HundsCaseB_Rot(0.0, 1/2, 1/2, 0, 6, 13/2, 7, 3, (N = 0:∞, J = 5.5:1.0:6.5, F = 6.0:1.0:7.0, M = -7.0:1.0:7.0)), HundsCaseB_Rot(0.0, 1/2, 1/2, 0, 6, 13/2, 7, 4, (N = 0:∞, J = 5.5:1.0:6.5, F = 6.0:1.0:7.0, M = -7.0:1.0:7.0)), HundsCaseB_Rot(0.0, 1/2, 1/2, 0, 6, 13/2, 7, 5, (N = 0:∞, J = 5.5:1.0:6.5, F = 6.0:1.0:7.0, M = -7.0:1.0:7.0)), HundsCaseB_Rot(0.0, 1/2, 1/2, 0, 6, 13/2, 7, 6, (N = 0:∞, J = 5.5:1.0:6.5, F = 6.0:1.0:7.0, M = -7.0:1.0:7.0)), HundsCaseB_Rot(0.0, 1/2, 1/2, 0, 6, 13/2, 7, 7, (N = 0:∞, J = 5.5:1.0:6.5, F = 6.0:1.0:7.0, M = -7.0:1.0:7.0))], ComplexF64[0.0 + 0.0im, -5.517846946229993e-17 + 0.0im, 6.170337955904039e-17 + 0.0im, 3.8235101999930916e-29 + 0.0im, -1.0000000000000002 + 0.0im, -1.1697972076260016e-13 + 0.0im, 1.3245461602238182e-14 + 0.0im, -3.444127872793546e-16 + 0.0im, 1.306454944227653e-13 + 0.0im, 2.611244553918368e-13 + 0.0im  …  0.0 + 0.0im, 0.0 + 0.0im, 0.0 + 0.0im, 0.0 + 0.0im, 0.0 + 0.0im, 0.0 + 0.0im, 0.0 + 0.0im, 0.0 + 0.0im, 0.0 + 0.0im, 0.0 + 0.0im], 8)"
      ]
     },
     "execution_count": 45,
     "metadata": {},
     "output_type": "execute_result"
    }
   ],
   "source": [
    "CaF_v0_N0to3_Hamiltonian.states[8]"
   ]
  },
  {
   "cell_type": "code",
   "execution_count": null,
   "id": "1241f549-1b91-4699-87e5-b872dcdc9f0e",
   "metadata": {},
   "outputs": [],
   "source": []
  }
 ],
 "metadata": {
  "kernelspec": {
   "display_name": "Julia 1.8.0",
   "language": "julia",
   "name": "julia-1.8"
  },
  "language_info": {
   "file_extension": ".jl",
   "mimetype": "application/julia",
   "name": "julia",
   "version": "1.8.0"
  }
 },
 "nbformat": 4,
 "nbformat_minor": 5
}

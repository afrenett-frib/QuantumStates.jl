{
 "cells": [
  {
   "cell_type": "code",
   "execution_count": 19,
   "id": "b7a11ea6",
   "metadata": {
    "tags": []
   },
   "outputs": [],
   "source": [
    "using QuantumStates, UnitsToValue"
   ]
  },
  {
   "cell_type": "code",
   "execution_count": 20,
   "id": "9365913a",
   "metadata": {
    "tags": []
   },
   "outputs": [],
   "source": [
    "H_operator = :(\n",
    "    BX * Rotation + \n",
    "    DX * RotationDistortion + \n",
    "    γX * SpinRotation +\n",
    "    bFX * Hyperfine_IS + \n",
    "    cX * (Hyperfine_Dipolar/3) +\n",
    "    s * basis_splitting\n",
    ");"
   ]
  },
  {
   "cell_type": "code",
   "execution_count": 21,
   "id": "77c935ab",
   "metadata": {
    "tags": []
   },
   "outputs": [],
   "source": [
    "parameters = @params begin\n",
    "    BX = 10303.988 * 1e6\n",
    "    DX = 0.014060 * 1e6\n",
    "    γX = 39.65891 * 1e6\n",
    "    bX = 109.1839 * 1e6\n",
    "    cX = 40.1190 * 1e6\n",
    "    s = 1\n",
    "end\n",
    "parameters.param_dict[:bFX] = parameters.bX + parameters.cX / 3;"
   ]
  },
  {
   "cell_type": "code",
   "execution_count": 22,
   "id": "dfe9c620",
   "metadata": {
    "tags": []
   },
   "outputs": [],
   "source": [
    "QN_bounds = (label = \"X\", S = 1/2, I = 1/2, Λ = 0, N = 0:3)\n",
    "basis = enumerate_states(HundsCaseB_LinearMolecule, QN_bounds)\n",
    ";"
   ]
  },
  {
   "cell_type": "code",
   "execution_count": 23,
   "id": "1b70bd02",
   "metadata": {
    "tags": []
   },
   "outputs": [
    {
     "name": "stdout",
     "output_type": "stream",
     "text": [
      "  0.010142 seconds (240.51 k allocations: 9.928 MiB)\n",
      "  0.035184 seconds (240.27 k allocations: 8.729 MiB, 74.44% gc time)\n",
      "  0.000623 seconds (343 allocations: 336.312 KiB)\n"
     ]
    }
   ],
   "source": [
    "CaF_X_v0 = @time Hamiltonian(basis=basis, operator=H_operator, parameters=parameters)\n",
    "@time full_evaluate!(CaF_X_v0)\n",
    "@time solve!(CaF_X_v0)\n",
    ";"
   ]
  },
  {
   "cell_type": "code",
   "execution_count": 24,
   "id": "a8629612",
   "metadata": {
    "tags": []
   },
   "outputs": [
    {
     "name": "stdout",
     "output_type": "stream",
     "text": [
      "  0.001914 seconds (5.34 k allocations: 131.164 KiB)\n"
     ]
    }
   ],
   "source": [
    "@time save_to_file(CaF_X_v0, \"CaF_X_v0\", \"\")"
   ]
  },
  {
   "cell_type": "code",
   "execution_count": null,
   "id": "391f5530-a331-49fa-adc4-a92703ca74ab",
   "metadata": {},
   "outputs": [],
   "source": []
  }
 ],
 "metadata": {
  "kernelspec": {
   "display_name": "Julia 1.9.3",
   "language": "julia",
   "name": "julia-1.9"
  },
  "language_info": {
   "file_extension": ".jl",
   "mimetype": "application/julia",
   "name": "julia",
   "version": "1.9.3"
  }
 },
 "nbformat": 4,
 "nbformat_minor": 5
}

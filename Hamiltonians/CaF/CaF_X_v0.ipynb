{
 "cells": [
  {
   "cell_type": "code",
   "execution_count": 1,
   "id": "b7a11ea6",
   "metadata": {
    "tags": []
   },
   "outputs": [],
   "source": [
    "using QuantumStates"
   ]
  },
  {
   "cell_type": "code",
   "execution_count": 2,
   "id": "9365913a",
   "metadata": {
    "tags": []
   },
   "outputs": [],
   "source": [
    "H_operator = :(\n",
    "    BX * Rotation + \n",
    "    DX * RotationDistortion + \n",
    "    γX * SpinRotation +\n",
    "    bFX * Hyperfine_IS + \n",
    "    cX * (Hyperfine_Dipolar/3)\n",
    ");"
   ]
  },
  {
   "cell_type": "code",
   "execution_count": 3,
   "id": "77c935ab",
   "metadata": {
    "tags": []
   },
   "outputs": [],
   "source": [
    "parameters = @params begin\n",
    "    BX = 10303.988\n",
    "    DX = 0.014060\n",
    "    γX = 39.65891\n",
    "    bX = 109.1839\n",
    "    cX = 40.1190\n",
    "    B_z = 1e-6\n",
    "end\n",
    "parameters.param_dict[:bFX] = parameters.bX + parameters.cX / 3;"
   ]
  },
  {
   "cell_type": "code",
   "execution_count": 4,
   "id": "dfe9c620",
   "metadata": {
    "tags": []
   },
   "outputs": [],
   "source": [
    "QN_bounds = (S = 1/2, I = 1/2, Λ = 0, N = 0:3)\n",
    "basis = enumerate_states(HundsCaseB_Rot, QN_bounds)\n",
    ";"
   ]
  },
  {
   "cell_type": "code",
   "execution_count": 5,
   "id": "1b70bd02",
   "metadata": {
    "tags": []
   },
   "outputs": [
    {
     "name": "stdout",
     "output_type": "stream",
     "text": [
      "  1.121603 seconds (1.87 M allocations: 122.555 MiB, 2.57% gc time, 99.26% compilation time)\n",
      "  0.231926 seconds (157.32 k allocations: 10.456 MiB, 6.07% gc time, 99.25% compilation time)\n",
      "  1.252386 seconds (2.84 M allocations: 169.053 MiB, 5.90% gc time, 99.92% compilation time)\n"
     ]
    }
   ],
   "source": [
    "CaF_X_v0 = @time Hamiltonian(basis=basis, operator=H_operator, parameters=parameters)\n",
    "@time full_evaluate!(CaF_X_v0)\n",
    "@time solve!(CaF_X_v0)\n",
    ";"
   ]
  },
  {
   "cell_type": "code",
   "execution_count": 6,
   "id": "a8629612",
   "metadata": {
    "tags": []
   },
   "outputs": [
    {
     "name": "stdout",
     "output_type": "stream",
     "text": [
      "  0.165134 seconds (465.20 k allocations: 30.878 MiB, 98.01% compilation time)\n"
     ]
    }
   ],
   "source": [
    "@time save_to_file(CaF_X_v0, \"CaF_X_v0\", \"\")"
   ]
  },
  {
   "cell_type": "code",
   "execution_count": null,
   "id": "391f5530-a331-49fa-adc4-a92703ca74ab",
   "metadata": {},
   "outputs": [],
   "source": []
  }
 ],
 "metadata": {
  "kernelspec": {
   "display_name": "Julia (20 threads) 1.9.2",
   "language": "julia",
   "name": "julia-_20-threads_-1.9"
  },
  "language_info": {
   "file_extension": ".jl",
   "mimetype": "application/julia",
   "name": "julia",
   "version": "1.9.2"
  }
 },
 "nbformat": 4,
 "nbformat_minor": 5
}

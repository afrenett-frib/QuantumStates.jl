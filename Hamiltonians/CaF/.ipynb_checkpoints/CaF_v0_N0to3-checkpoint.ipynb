{
 "cells": [
  {
   "cell_type": "code",
   "execution_count": 1,
   "id": "b7a11ea6",
   "metadata": {},
   "outputs": [],
   "source": [
    "using QuantumStates"
   ]
  },
  {
   "cell_type": "code",
   "execution_count": 2,
   "id": "9365913a",
   "metadata": {
    "tags": []
   },
   "outputs": [],
   "source": [
    "H_operator = :(\n",
    "    BX * Rotation + \n",
    "    DX * RotationDistortion + \n",
    "    γX * SpinRotation +\n",
    "    bFX * Hyperfine_IS + \n",
    "    cX * (Hyperfine_Dipolar/3)\n",
    ");"
   ]
  },
  {
   "cell_type": "code",
   "execution_count": 3,
   "id": "77c935ab",
   "metadata": {
    "tags": []
   },
   "outputs": [],
   "source": [
    "parameters = @params begin\n",
    "    BX = 10303.988\n",
    "    DX = 0.014060\n",
    "    γX = 39.65891\n",
    "    bX = 109.1839\n",
    "    cX = 40.1190\n",
    "    B_z = 1e-6\n",
    "end\n",
    "parameters.param_dict[:bFX] = parameters.bX + parameters.cX / 3;"
   ]
  },
  {
   "cell_type": "code",
   "execution_count": 4,
   "id": "dfe9c620",
   "metadata": {},
   "outputs": [],
   "source": [
    "QN_bounds = (S = 1/2, I = 1/2, Λ = 0, N = 0:5)\n",
    "basis = enumerate_states(HundsCaseB_Rot, QN_bounds)\n",
    ";"
   ]
  },
  {
   "cell_type": "code",
   "execution_count": 5,
   "id": "1b70bd02",
   "metadata": {},
   "outputs": [
    {
     "name": "stdout",
     "output_type": "stream",
     "text": [
      "  1.172877 seconds (2.05 M allocations: 140.143 MiB, 4.08% gc time, 98.01% compilation time)\n",
      "  0.230132 seconds (267.29 k allocations: 17.920 MiB, 97.22% compilation time)\n",
      "  1.126764 seconds (2.53 M allocations: 152.980 MiB, 4.17% gc time, 99.05% compilation time)\n"
     ]
    }
   ],
   "source": [
    "CaF_v0_N0to3_Hamiltonian = @time Hamiltonian(basis=basis, operator=H_operator, parameters=parameters)\n",
    "@time full_evaluate!(CaF_v0_N0to3_Hamiltonian)\n",
    "@time solve!(CaF_v0_N0to3_Hamiltonian)\n",
    ";"
   ]
  },
  {
   "cell_type": "code",
   "execution_count": 6,
   "id": "a8629612",
   "metadata": {},
   "outputs": [
    {
     "name": "stdout",
     "output_type": "stream",
     "text": [
      "  0.199699 seconds (470.92 k allocations: 30.984 MiB, 8.94% gc time, 87.60% compilation time)\n"
     ]
    }
   ],
   "source": [
    "@time save_to_file(CaF_v0_N0to3_Hamiltonian, \"CaF_v0_N0to3_Hamiltonian\", \"\")"
   ]
  },
  {
   "cell_type": "code",
   "execution_count": 7,
   "id": "42281ca8-1292-43f2-be76-42233f0d2b62",
   "metadata": {},
   "outputs": [
    {
     "data": {
      "text/latex": [
       "$$1.0\\left|S=1/2, I=1/2, Λ=0, N=0, J=1/2, F=1, M=1, \\right\\rangle$$\n"
      ],
      "text/plain": [
       "State{HundsCaseB_Rot}(30.637777096040814, HundsCaseB_Rot[HundsCaseB_Rot(0.0, 1/2, 1/2, 0, 0, 1/2, 0, 0, (N = 0:∞, J = 0.5:1.0:0.5, F = 0.0:1.0:1.0, M = 0.0:1.0:0.0)), HundsCaseB_Rot(0.0, 1/2, 1/2, 0, 0, 1/2, 1, -1, (N = 0:∞, J = 0.5:1.0:0.5, F = 0.0:1.0:1.0, M = -1.0:1.0:1.0)), HundsCaseB_Rot(0.0, 1/2, 1/2, 0, 0, 1/2, 1, 0, (N = 0:∞, J = 0.5:1.0:0.5, F = 0.0:1.0:1.0, M = -1.0:1.0:1.0)), HundsCaseB_Rot(0.0, 1/2, 1/2, 0, 0, 1/2, 1, 1, (N = 0:∞, J = 0.5:1.0:0.5, F = 0.0:1.0:1.0, M = -1.0:1.0:1.0)), HundsCaseB_Rot(0.0, 1/2, 1/2, 0, 1, 1/2, 0, 0, (N = 0:∞, J = 0.5:1.0:1.5, F = 0.0:1.0:1.0, M = 0.0:1.0:0.0)), HundsCaseB_Rot(0.0, 1/2, 1/2, 0, 1, 1/2, 1, -1, (N = 0:∞, J = 0.5:1.0:1.5, F = 0.0:1.0:1.0, M = -1.0:1.0:1.0)), HundsCaseB_Rot(0.0, 1/2, 1/2, 0, 1, 1/2, 1, 0, (N = 0:∞, J = 0.5:1.0:1.5, F = 0.0:1.0:1.0, M = -1.0:1.0:1.0)), HundsCaseB_Rot(0.0, 1/2, 1/2, 0, 1, 1/2, 1, 1, (N = 0:∞, J = 0.5:1.0:1.5, F = 0.0:1.0:1.0, M = -1.0:1.0:1.0)), HundsCaseB_Rot(0.0, 1/2, 1/2, 0, 1, 3/2, 1, -1, (N = 0:∞, J = 0.5:1.0:1.5, F = 1.0:1.0:2.0, M = -1.0:1.0:1.0)), HundsCaseB_Rot(0.0, 1/2, 1/2, 0, 1, 3/2, 1, 0, (N = 0:∞, J = 0.5:1.0:1.5, F = 1.0:1.0:2.0, M = -1.0:1.0:1.0))  …  HundsCaseB_Rot(0.0, 1/2, 1/2, 0, 5, 11/2, 6, -3, (N = 0:∞, J = 4.5:1.0:5.5, F = 5.0:1.0:6.0, M = -6.0:1.0:6.0)), HundsCaseB_Rot(0.0, 1/2, 1/2, 0, 5, 11/2, 6, -2, (N = 0:∞, J = 4.5:1.0:5.5, F = 5.0:1.0:6.0, M = -6.0:1.0:6.0)), HundsCaseB_Rot(0.0, 1/2, 1/2, 0, 5, 11/2, 6, -1, (N = 0:∞, J = 4.5:1.0:5.5, F = 5.0:1.0:6.0, M = -6.0:1.0:6.0)), HundsCaseB_Rot(0.0, 1/2, 1/2, 0, 5, 11/2, 6, 0, (N = 0:∞, J = 4.5:1.0:5.5, F = 5.0:1.0:6.0, M = -6.0:1.0:6.0)), HundsCaseB_Rot(0.0, 1/2, 1/2, 0, 5, 11/2, 6, 1, (N = 0:∞, J = 4.5:1.0:5.5, F = 5.0:1.0:6.0, M = -6.0:1.0:6.0)), HundsCaseB_Rot(0.0, 1/2, 1/2, 0, 5, 11/2, 6, 2, (N = 0:∞, J = 4.5:1.0:5.5, F = 5.0:1.0:6.0, M = -6.0:1.0:6.0)), HundsCaseB_Rot(0.0, 1/2, 1/2, 0, 5, 11/2, 6, 3, (N = 0:∞, J = 4.5:1.0:5.5, F = 5.0:1.0:6.0, M = -6.0:1.0:6.0)), HundsCaseB_Rot(0.0, 1/2, 1/2, 0, 5, 11/2, 6, 4, (N = 0:∞, J = 4.5:1.0:5.5, F = 5.0:1.0:6.0, M = -6.0:1.0:6.0)), HundsCaseB_Rot(0.0, 1/2, 1/2, 0, 5, 11/2, 6, 5, (N = 0:∞, J = 4.5:1.0:5.5, F = 5.0:1.0:6.0, M = -6.0:1.0:6.0)), HundsCaseB_Rot(0.0, 1/2, 1/2, 0, 5, 11/2, 6, 6, (N = 0:∞, J = 4.5:1.0:5.5, F = 5.0:1.0:6.0, M = -6.0:1.0:6.0))], ComplexF64[-0.0 - 0.0im, -0.0 - 0.0im, -0.0 - 0.0im, 0.9999999882774574 + 0.0im, -0.0 - 0.0im, -0.0 - 0.0im, -0.0 - 0.0im, -0.0 - 0.0im, -0.0 - 0.0im, -0.0 - 0.0im  …  -0.0 - 0.0im, -0.0 - 0.0im, -0.0 - 0.0im, -0.0 - 0.0im, -0.0 - 0.0im, -0.0 - 0.0im, -0.0 - 0.0im, -0.0 - 0.0im, -0.0 - 0.0im, -0.0 - 0.0im], 4)"
      ]
     },
     "execution_count": 7,
     "metadata": {},
     "output_type": "execute_result"
    }
   ],
   "source": [
    "CaF_v0_N0to3_Hamiltonian.states[4]"
   ]
  },
  {
   "cell_type": "code",
   "execution_count": 8,
   "id": "6b5c06fd-a1e2-4c59-8e63-696c6e61efcf",
   "metadata": {},
   "outputs": [
    {
     "data": {
      "text/latex": [
       "$$1.0\\left|S=1/2, I=1/2, Λ=0, N=1, J=1/2, F=0, M=0, \\right\\rangle$$\n"
      ],
      "text/plain": [
       "State{HundsCaseB_Rot}(20585.527074999998, HundsCaseB_Rot[HundsCaseB_Rot(0.0, 1/2, 1/2, 0, 0, 1/2, 0, 0, (N = 0:∞, J = 0.5:1.0:0.5, F = 0.0:1.0:1.0, M = 0.0:1.0:0.0)), HundsCaseB_Rot(0.0, 1/2, 1/2, 0, 0, 1/2, 1, -1, (N = 0:∞, J = 0.5:1.0:0.5, F = 0.0:1.0:1.0, M = -1.0:1.0:1.0)), HundsCaseB_Rot(0.0, 1/2, 1/2, 0, 0, 1/2, 1, 0, (N = 0:∞, J = 0.5:1.0:0.5, F = 0.0:1.0:1.0, M = -1.0:1.0:1.0)), HundsCaseB_Rot(0.0, 1/2, 1/2, 0, 0, 1/2, 1, 1, (N = 0:∞, J = 0.5:1.0:0.5, F = 0.0:1.0:1.0, M = -1.0:1.0:1.0)), HundsCaseB_Rot(0.0, 1/2, 1/2, 0, 1, 1/2, 0, 0, (N = 0:∞, J = 0.5:1.0:1.5, F = 0.0:1.0:1.0, M = 0.0:1.0:0.0)), HundsCaseB_Rot(0.0, 1/2, 1/2, 0, 1, 1/2, 1, -1, (N = 0:∞, J = 0.5:1.0:1.5, F = 0.0:1.0:1.0, M = -1.0:1.0:1.0)), HundsCaseB_Rot(0.0, 1/2, 1/2, 0, 1, 1/2, 1, 0, (N = 0:∞, J = 0.5:1.0:1.5, F = 0.0:1.0:1.0, M = -1.0:1.0:1.0)), HundsCaseB_Rot(0.0, 1/2, 1/2, 0, 1, 1/2, 1, 1, (N = 0:∞, J = 0.5:1.0:1.5, F = 0.0:1.0:1.0, M = -1.0:1.0:1.0)), HundsCaseB_Rot(0.0, 1/2, 1/2, 0, 1, 3/2, 1, -1, (N = 0:∞, J = 0.5:1.0:1.5, F = 1.0:1.0:2.0, M = -1.0:1.0:1.0)), HundsCaseB_Rot(0.0, 1/2, 1/2, 0, 1, 3/2, 1, 0, (N = 0:∞, J = 0.5:1.0:1.5, F = 1.0:1.0:2.0, M = -1.0:1.0:1.0))  …  HundsCaseB_Rot(0.0, 1/2, 1/2, 0, 5, 11/2, 6, -3, (N = 0:∞, J = 4.5:1.0:5.5, F = 5.0:1.0:6.0, M = -6.0:1.0:6.0)), HundsCaseB_Rot(0.0, 1/2, 1/2, 0, 5, 11/2, 6, -2, (N = 0:∞, J = 4.5:1.0:5.5, F = 5.0:1.0:6.0, M = -6.0:1.0:6.0)), HundsCaseB_Rot(0.0, 1/2, 1/2, 0, 5, 11/2, 6, -1, (N = 0:∞, J = 4.5:1.0:5.5, F = 5.0:1.0:6.0, M = -6.0:1.0:6.0)), HundsCaseB_Rot(0.0, 1/2, 1/2, 0, 5, 11/2, 6, 0, (N = 0:∞, J = 4.5:1.0:5.5, F = 5.0:1.0:6.0, M = -6.0:1.0:6.0)), HundsCaseB_Rot(0.0, 1/2, 1/2, 0, 5, 11/2, 6, 1, (N = 0:∞, J = 4.5:1.0:5.5, F = 5.0:1.0:6.0, M = -6.0:1.0:6.0)), HundsCaseB_Rot(0.0, 1/2, 1/2, 0, 5, 11/2, 6, 2, (N = 0:∞, J = 4.5:1.0:5.5, F = 5.0:1.0:6.0, M = -6.0:1.0:6.0)), HundsCaseB_Rot(0.0, 1/2, 1/2, 0, 5, 11/2, 6, 3, (N = 0:∞, J = 4.5:1.0:5.5, F = 5.0:1.0:6.0, M = -6.0:1.0:6.0)), HundsCaseB_Rot(0.0, 1/2, 1/2, 0, 5, 11/2, 6, 4, (N = 0:∞, J = 4.5:1.0:5.5, F = 5.0:1.0:6.0, M = -6.0:1.0:6.0)), HundsCaseB_Rot(0.0, 1/2, 1/2, 0, 5, 11/2, 6, 5, (N = 0:∞, J = 4.5:1.0:5.5, F = 5.0:1.0:6.0, M = -6.0:1.0:6.0)), HundsCaseB_Rot(0.0, 1/2, 1/2, 0, 5, 11/2, 6, 6, (N = 0:∞, J = 4.5:1.0:5.5, F = 5.0:1.0:6.0, M = -6.0:1.0:6.0))], ComplexF64[0.0 + 0.0im, 0.0 + 0.0im, 0.0 + 0.0im, 0.0 + 0.0im, 1.0 + 0.0im, 0.0 + 0.0im, 0.0 + 0.0im, 0.0 + 0.0im, 0.0 + 0.0im, 0.0 + 0.0im  …  0.0 + 0.0im, 0.0 + 0.0im, 0.0 + 0.0im, 0.0 + 0.0im, 0.0 + 0.0im, 0.0 + 0.0im, 0.0 + 0.0im, 0.0 + 0.0im, 0.0 + 0.0im, 0.0 + 0.0im], 8)"
      ]
     },
     "execution_count": 8,
     "metadata": {},
     "output_type": "execute_result"
    }
   ],
   "source": [
    "CaF_v0_N0to3_Hamiltonian.states[8]"
   ]
  },
  {
   "cell_type": "code",
   "execution_count": null,
   "id": "1241f549-1b91-4699-87e5-b872dcdc9f0e",
   "metadata": {},
   "outputs": [],
   "source": []
  }
 ],
 "metadata": {
  "kernelspec": {
   "display_name": "Julia (20 threads) 1.9.0-rc3",
   "language": "julia",
   "name": "julia-_20-threads_-1.9"
  },
  "language_info": {
   "file_extension": ".jl",
   "mimetype": "application/julia",
   "name": "julia",
   "version": "1.9.0"
  }
 },
 "nbformat": 4,
 "nbformat_minor": 5
}

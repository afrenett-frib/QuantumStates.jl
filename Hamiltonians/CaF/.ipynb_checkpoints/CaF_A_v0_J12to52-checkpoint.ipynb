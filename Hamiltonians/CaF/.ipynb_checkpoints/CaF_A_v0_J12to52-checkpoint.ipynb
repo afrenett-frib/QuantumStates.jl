{
 "cells": [
  {
   "cell_type": "code",
   "execution_count": 1,
   "id": "93fd427b-c8c2-4653-b579-07503f71e019",
   "metadata": {},
   "outputs": [],
   "source": [
    "using Revise"
   ]
  },
  {
   "cell_type": "code",
   "execution_count": 2,
   "id": "4ebeb064",
   "metadata": {},
   "outputs": [],
   "source": [
    "using QuantumStates"
   ]
  },
  {
   "cell_type": "markdown",
   "id": "8825e69d-f7c5-47e2-a99e-2a0b2a7c8a7c",
   "metadata": {},
   "source": [
    "The Hamiltonian is assumed to take the following form:\n",
    "$$\n",
    "H(A^2\\Pi) = T + A \\Lambda \\Sigma + BN^2 - DN^4 + \\frac{1}{2} (p + 2q)(e^{2i\\phi} S_- J_- + e^{-2i\\phi} S_+ J_+) - \\frac{1}{2} q (e^{2i\\phi} J_-^2 + e^{-2i\\phi} J_+^2).\n",
    "$$\n",
    "These terms correspond to the origin, spin-orbit, rotation and centrifugal distortion correction, and $\\Lambda$-doubling terms."
   ]
  },
  {
   "cell_type": "code",
   "execution_count": 50,
   "id": "83847b16",
   "metadata": {
    "tags": []
   },
   "outputs": [],
   "source": [
    "H_operator = :(\n",
    "    T_A * DiagonalOperator +\n",
    "    Be_A * Rotation + \n",
    "    Aso_A * SpinOrbit + \n",
    "    q_A * ΛDoubling_q +\n",
    "    p_A * ΛDoubling_p2q + q_A * (2ΛDoubling_p2q) +\n",
    "    b00_A * (Hyperfine_IF - Hyperfine_IL) +\n",
    "    B_z * Zeeman_L\n",
    ");"
   ]
  },
  {
   "cell_type": "code",
   "execution_count": 51,
   "id": "57fdbe2a",
   "metadata": {},
   "outputs": [],
   "source": [
    "# Spectroscopic constants for the A²Π state in CaF (from Eunmi Chae's thesis, 2016)\n",
    "parameters = @params begin\n",
    "    T_A = 16526.750 * 299792458 * 1e-4\n",
    "    Be_A = 0.348781 * 299792458 * 1e-4\n",
    "    Aso_A = 71.429 * 299792458 * 1e-4\n",
    "    b00_A = -5\n",
    "    p_A = -0.044517 * 299792458 * 1e-4\n",
    "    q_A = -2.916e-4 * 299792458 * 1e-4\n",
    "    B_z = 1e-6\n",
    "end;"
   ]
  },
  {
   "cell_type": "code",
   "execution_count": 52,
   "id": "2802412d",
   "metadata": {},
   "outputs": [],
   "source": [
    "QN_bounds = (S = 1/2, I = 1/2, Λ = (-1,1), J = 1/2:5/2)\n",
    "basis = enumerate_states(HundsCaseA_Rot, QN_bounds)\n",
    ";"
   ]
  },
  {
   "cell_type": "code",
   "execution_count": 53,
   "id": "241c562c",
   "metadata": {},
   "outputs": [
    {
     "name": "stdout",
     "output_type": "stream",
     "text": [
      "  0.390329 seconds (2.26 M allocations: 91.377 MiB, 7.75% gc time, 68.17% compilation time)\n",
      "  0.341196 seconds (1.58 M allocations: 55.539 MiB, 9.08% gc time, 77.28% compilation time)\n",
      "  0.021841 seconds (26.79 k allocations: 2.303 MiB, 77.15% compilation time)\n"
     ]
    }
   ],
   "source": [
    "CaF_A_v0_J12to52_Hamiltonian = @time Hamiltonian(basis=basis, operator=H_operator, parameters=parameters)\n",
    "@time full_evaluate!(CaF_A_v0_J12to52_Hamiltonian)\n",
    "@time solve!(CaF_A_v0_J12to52_Hamiltonian)\n",
    ";"
   ]
  },
  {
   "cell_type": "code",
   "execution_count": 54,
   "id": "19b0a5a1",
   "metadata": {},
   "outputs": [
    {
     "name": "stdout",
     "output_type": "stream",
     "text": [
      "  0.028154 seconds (145.63 k allocations: 7.267 MiB, 85.10% compilation time)\n"
     ]
    }
   ],
   "source": [
    "@time save_to_file(CaF_A_v0_J12to52_Hamiltonian, \"CaF_A_v0_J12to52_Hamiltonian\", \"\")"
   ]
  },
  {
   "cell_type": "code",
   "execution_count": 72,
   "id": "d3d6df29-fe29-4b77-ba80-3a80bad30b84",
   "metadata": {},
   "outputs": [
    {
     "data": {
      "text/latex": [
       "$$0.707\\left|I=1/2, S=1/2, Σ=-1/2, Λ=1, J=1/2, Ω=1/2, F=0, M=0\\right\\rangle$$\n",
       "$$ + 0.707\\left|I=1/2, S=1/2, Σ=1/2, Λ=-1, J=1/2, Ω=-1/2, F=0, M=0\\right\\rangle$$\n"
      ],
      "text/plain": [
       "State{HundsCaseA_Rot}(4.943999352273459e8, HundsCaseA_Rot[HundsCaseA_Rot(0.0, 1/2, 1/2, -1/2, -1, 3/2, -3/2, 1, -1, (Σ = -0.5:1.0:0.5, Ω = -1.5:1.0:-1.5, F = 1.0:1.0:2.0, M = -1.0:1.0:1.0)), HundsCaseA_Rot(0.0, 1/2, 1/2, -1/2, -1, 3/2, -3/2, 1, 0, (Σ = -0.5:1.0:0.5, Ω = -1.5:1.0:-1.5, F = 1.0:1.0:2.0, M = -1.0:1.0:1.0)), HundsCaseA_Rot(0.0, 1/2, 1/2, -1/2, -1, 3/2, -3/2, 1, 1, (Σ = -0.5:1.0:0.5, Ω = -1.5:1.0:-1.5, F = 1.0:1.0:2.0, M = -1.0:1.0:1.0)), HundsCaseA_Rot(0.0, 1/2, 1/2, -1/2, -1, 3/2, -3/2, 2, -2, (Σ = -0.5:1.0:0.5, Ω = -1.5:1.0:-1.5, F = 1.0:1.0:2.0, M = -2.0:1.0:2.0)), HundsCaseA_Rot(0.0, 1/2, 1/2, -1/2, -1, 3/2, -3/2, 2, -1, (Σ = -0.5:1.0:0.5, Ω = -1.5:1.0:-1.5, F = 1.0:1.0:2.0, M = -2.0:1.0:2.0)), HundsCaseA_Rot(0.0, 1/2, 1/2, -1/2, -1, 3/2, -3/2, 2, 0, (Σ = -0.5:1.0:0.5, Ω = -1.5:1.0:-1.5, F = 1.0:1.0:2.0, M = -2.0:1.0:2.0)), HundsCaseA_Rot(0.0, 1/2, 1/2, -1/2, -1, 3/2, -3/2, 2, 1, (Σ = -0.5:1.0:0.5, Ω = -1.5:1.0:-1.5, F = 1.0:1.0:2.0, M = -2.0:1.0:2.0)), HundsCaseA_Rot(0.0, 1/2, 1/2, -1/2, -1, 3/2, -3/2, 2, 2, (Σ = -0.5:1.0:0.5, Ω = -1.5:1.0:-1.5, F = 1.0:1.0:2.0, M = -2.0:1.0:2.0)), HundsCaseA_Rot(0.0, 1/2, 1/2, -1/2, -1, 5/2, -3/2, 2, -2, (Σ = -0.5:1.0:0.5, Ω = -1.5:1.0:-1.5, F = 2.0:1.0:3.0, M = -2.0:1.0:2.0)), HundsCaseA_Rot(0.0, 1/2, 1/2, -1/2, -1, 5/2, -3/2, 2, -1, (Σ = -0.5:1.0:0.5, Ω = -1.5:1.0:-1.5, F = 2.0:1.0:3.0, M = -2.0:1.0:2.0))  …  HundsCaseA_Rot(0.0, 1/2, 1/2, 1/2, 1, 5/2, 3/2, 2, 0, (Σ = -0.5:1.0:0.5, Ω = 1.5:1.0:1.5, F = 2.0:1.0:3.0, M = -2.0:1.0:2.0)), HundsCaseA_Rot(0.0, 1/2, 1/2, 1/2, 1, 5/2, 3/2, 2, 1, (Σ = -0.5:1.0:0.5, Ω = 1.5:1.0:1.5, F = 2.0:1.0:3.0, M = -2.0:1.0:2.0)), HundsCaseA_Rot(0.0, 1/2, 1/2, 1/2, 1, 5/2, 3/2, 2, 2, (Σ = -0.5:1.0:0.5, Ω = 1.5:1.0:1.5, F = 2.0:1.0:3.0, M = -2.0:1.0:2.0)), HundsCaseA_Rot(0.0, 1/2, 1/2, 1/2, 1, 5/2, 3/2, 3, -3, (Σ = -0.5:1.0:0.5, Ω = 1.5:1.0:1.5, F = 2.0:1.0:3.0, M = -3.0:1.0:3.0)), HundsCaseA_Rot(0.0, 1/2, 1/2, 1/2, 1, 5/2, 3/2, 3, -2, (Σ = -0.5:1.0:0.5, Ω = 1.5:1.0:1.5, F = 2.0:1.0:3.0, M = -3.0:1.0:3.0)), HundsCaseA_Rot(0.0, 1/2, 1/2, 1/2, 1, 5/2, 3/2, 3, -1, (Σ = -0.5:1.0:0.5, Ω = 1.5:1.0:1.5, F = 2.0:1.0:3.0, M = -3.0:1.0:3.0)), HundsCaseA_Rot(0.0, 1/2, 1/2, 1/2, 1, 5/2, 3/2, 3, 0, (Σ = -0.5:1.0:0.5, Ω = 1.5:1.0:1.5, F = 2.0:1.0:3.0, M = -3.0:1.0:3.0)), HundsCaseA_Rot(0.0, 1/2, 1/2, 1/2, 1, 5/2, 3/2, 3, 1, (Σ = -0.5:1.0:0.5, Ω = 1.5:1.0:1.5, F = 2.0:1.0:3.0, M = -3.0:1.0:3.0)), HundsCaseA_Rot(0.0, 1/2, 1/2, 1/2, 1, 5/2, 3/2, 3, 2, (Σ = -0.5:1.0:0.5, Ω = 1.5:1.0:1.5, F = 2.0:1.0:3.0, M = -3.0:1.0:3.0)), HundsCaseA_Rot(0.0, 1/2, 1/2, 1/2, 1, 5/2, 3/2, 3, 3, (Σ = -0.5:1.0:0.5, Ω = 1.5:1.0:1.5, F = 2.0:1.0:3.0, M = -3.0:1.0:3.0))], ComplexF64[-4.2357167015722115e-17 + 0.0im, 4.3738698729961526e-14 + 0.0im, 3.733489937026977e-16 + 0.0im, -7.762157090115436e-20 + 0.0im, 3.6760945136077194e-21 + 0.0im, -4.997745101447752e-18 + 0.0im, -9.452763689377945e-19 + 0.0im, -9.422921502509672e-21 + 0.0im, 5.986057669211306e-19 + 0.0im, -3.3826631471793975e-20 + 0.0im  …  -6.0218834768565196e-15 + 0.0im, -3.165889876268211e-16 + 0.0im, -5.0890430343216395e-18 + 0.0im, 3.311923149970911e-15 + 0.0im, 8.507176990579198e-17 + 0.0im, -1.0919221407063656e-16 + 0.0im, 1.1530369983094508e-19 + 0.0im, -4.898659862243088e-15 + 0.0im, 2.6703615285496705e-15 + 0.0im, 0.0 + 0.0im], 5)"
      ]
     },
     "execution_count": 72,
     "metadata": {},
     "output_type": "execute_result"
    }
   ],
   "source": [
    "CaF_A_v0_J12to52_Hamiltonian.states[5]"
   ]
  }
 ],
 "metadata": {
  "kernelspec": {
   "display_name": "Julia 1.8.0",
   "language": "julia",
   "name": "julia-1.8"
  },
  "language_info": {
   "file_extension": ".jl",
   "mimetype": "application/julia",
   "name": "julia",
   "version": "1.8.0"
  }
 },
 "nbformat": 4,
 "nbformat_minor": 5
}

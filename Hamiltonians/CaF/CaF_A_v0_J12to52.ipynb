{
 "cells": [
  {
   "cell_type": "code",
   "execution_count": 1,
   "id": "93fd427b-c8c2-4653-b579-07503f71e019",
   "metadata": {},
   "outputs": [],
   "source": [
    "using Revise"
   ]
  },
  {
   "cell_type": "code",
   "execution_count": 2,
   "id": "4ebeb064",
   "metadata": {},
   "outputs": [
    {
     "name": "stderr",
     "output_type": "stream",
     "text": [
      "┌ Info: Precompiling QuantumStates [17f0441f-15e0-42ae-a101-302633ff8f0f]\n",
      "└ @ Base loading.jl:1662\n"
     ]
    }
   ],
   "source": [
    "using QuantumStates"
   ]
  },
  {
   "cell_type": "code",
   "execution_count": 125,
   "id": "83847b16",
   "metadata": {
    "tags": []
   },
   "outputs": [],
   "source": [
    "H_operator = :(\n",
    "    T_A * DiagonalOperator +\n",
    "    Be_A * Rotation + \n",
    "    Aso_A * SpinOrbit + \n",
    "    q_A * ΛDoubling_q +\n",
    "    p_A * ΛDoubling_p2q + q_A * (2ΛDoubling_p2q) #+\n",
    "    # b00_A * (Hyperfine_IF - Hyperfine_IL)\n",
    ");"
   ]
  },
  {
   "cell_type": "code",
   "execution_count": 126,
   "id": "57fdbe2a",
   "metadata": {},
   "outputs": [],
   "source": [
    "# Spectroscopic constants for the A²Π state in CaF (from Eunmi Chae's thesis, 2016)\n",
    "parameters = @params begin\n",
    "    T_A = 16526.750 * 299792458 * 1e-4\n",
    "    Be_A = 0.348781 * 299792458 * 1e-4\n",
    "    Aso_A = 71.429 * 299792458 * 1e-4\n",
    "    # b00_A = 0 * 299792458 * 1e-4\n",
    "    p_A = -0.044517 * 299792458 * 1e-4\n",
    "    q_A = -2.916e-4 * 299792458 * 1e-4\n",
    "end;"
   ]
  },
  {
   "cell_type": "code",
   "execution_count": 127,
   "id": "2802412d",
   "metadata": {},
   "outputs": [],
   "source": [
    "QN_bounds = (S = 1/2, I = 1/2, Λ = (-1,1), J = 1/2:5/2)\n",
    "basis = enumerate_states(HundsCaseA_Rot, QN_bounds)\n",
    ";"
   ]
  },
  {
   "cell_type": "code",
   "execution_count": 128,
   "id": "241c562c",
   "metadata": {},
   "outputs": [
    {
     "name": "stdout",
     "output_type": "stream",
     "text": [
      "  0.157330 seconds (1.39 M allocations: 59.288 MiB, 73.82% compilation time: 100% of which was recompilation)\n",
      "  0.109387 seconds (761.95 k allocations: 27.754 MiB, 21.49% gc time, 39.81% compilation time: 89% of which was recompilation)\n",
      "  0.006391 seconds (397 allocations: 568.891 KiB, 80.95% compilation time)\n"
     ]
    }
   ],
   "source": [
    "CaF_A_v0_J12to52_Hamiltonian = @time Hamiltonian(basis=basis, operator=H_operator, parameters=parameters)\n",
    "@time full_evaluate!(CaF_A_v0_J12to52_Hamiltonian)\n",
    "@time solve!(CaF_A_v0_J12to52_Hamiltonian)\n",
    ";"
   ]
  },
  {
   "cell_type": "code",
   "execution_count": 129,
   "id": "19b0a5a1",
   "metadata": {},
   "outputs": [
    {
     "name": "stdout",
     "output_type": "stream",
     "text": [
      "  0.002783 seconds (7.77 k allocations: 181.555 KiB)\n"
     ]
    }
   ],
   "source": [
    "@time save_to_file(CaF_A_v0_J12to52_Hamiltonian, \"CaF_A_v0_J12to52_Hamiltonian\", \"\")"
   ]
  }
 ],
 "metadata": {
  "kernelspec": {
   "display_name": "Julia 1.8.0",
   "language": "julia",
   "name": "julia-1.8"
  },
  "language_info": {
   "file_extension": ".jl",
   "mimetype": "application/julia",
   "name": "julia",
   "version": "1.8.0"
  }
 },
 "nbformat": 4,
 "nbformat_minor": 5
}

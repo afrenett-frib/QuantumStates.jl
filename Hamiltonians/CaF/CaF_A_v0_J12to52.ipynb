{
 "cells": [
  {
   "cell_type": "code",
   "execution_count": 1,
   "id": "4ebeb064",
   "metadata": {},
   "outputs": [],
   "source": [
    "using QuantumStates"
   ]
  },
  {
   "cell_type": "markdown",
   "id": "8825e69d-f7c5-47e2-a99e-2a0b2a7c8a7c",
   "metadata": {},
   "source": [
    "The Hamiltonian is assumed to take the following form:\n",
    "$$\n",
    "H(A^2\\Pi) = T + A \\Lambda \\Sigma + BN^2 - DN^4 + \\frac{1}{2} (p + 2q)(e^{2i\\phi} S_- J_- + e^{-2i\\phi} S_+ J_+) - \\frac{1}{2} q (e^{2i\\phi} J_-^2 + e^{-2i\\phi} J_+^2).\n",
    "$$\n",
    "These terms correspond to the origin, spin-orbit, rotation and centrifugal distortion correction, and $\\Lambda$-doubling terms."
   ]
  },
  {
   "cell_type": "code",
   "execution_count": 2,
   "id": "83847b16",
   "metadata": {
    "tags": []
   },
   "outputs": [],
   "source": [
    "H_operator = :(\n",
    "    T_A * DiagonalOperator +\n",
    "    Be_A * Rotation + \n",
    "    Aso_A * SpinOrbit + \n",
    "    q_A * ΛDoubling_q +\n",
    "    p_A * ΛDoubling_p2q + q_A * (2ΛDoubling_p2q) +\n",
    "    B_z * Zeeman_L +\n",
    "    b00_A * (Hyperfine_IF - Hyperfine_IL)\n",
    ");"
   ]
  },
  {
   "cell_type": "code",
   "execution_count": 3,
   "id": "57fdbe2a",
   "metadata": {},
   "outputs": [],
   "source": [
    "# Spectroscopic constants for the A²Π state in CaF (from Eunmi Chae's thesis, 2016)\n",
    "parameters = @params begin\n",
    "    T_A = 16526.750 * 299792458 * 1e-4\n",
    "    Be_A = 0.348781 * 299792458 * 1e-4\n",
    "    Aso_A = 71.429 * 299792458 * 1e-4\n",
    "    b00_A = 0.\n",
    "    p_A = -0.044517 * 299792458 * 1e-4\n",
    "    q_A = -2.916e-4 * 299792458 * 1e-4\n",
    "    B_z = 0.\n",
    "end;"
   ]
  },
  {
   "cell_type": "code",
   "execution_count": 4,
   "id": "2802412d",
   "metadata": {},
   "outputs": [],
   "source": [
    "QN_bounds = (S = 1/2, I = 1/2, Λ = (-1,1), J = 1/2:5/2)\n",
    "basis = enumerate_states(HundsCaseA_Rot, QN_bounds)\n",
    ";"
   ]
  },
  {
   "cell_type": "code",
   "execution_count": 5,
   "id": "241c562c",
   "metadata": {},
   "outputs": [
    {
     "name": "stdout",
     "output_type": "stream",
     "text": [
      "  1.287101 seconds (3.05 M allocations: 155.459 MiB, 3.61% gc time, 92.01% compilation time)\n",
      "  0.398033 seconds (1.50 M allocations: 53.925 MiB, 8.68% gc time, 76.32% compilation time)\n",
      "  1.154930 seconds (2.74 M allocations: 162.617 MiB, 4.71% gc time, 99.86% compilation time)\n"
     ]
    }
   ],
   "source": [
    "CaF_A_v0 = @time Hamiltonian(basis=basis, operator=H_operator, parameters=parameters)\n",
    "@time full_evaluate!(CaF_A_v0)\n",
    "@time solve!(CaF_A_v0)\n",
    ";"
   ]
  },
  {
   "cell_type": "code",
   "execution_count": 6,
   "id": "19b0a5a1",
   "metadata": {},
   "outputs": [
    {
     "name": "stdout",
     "output_type": "stream",
     "text": [
      "  0.200474 seconds (467.48 k allocations: 30.879 MiB, 8.98% gc time, 98.29% compilation time)\n"
     ]
    }
   ],
   "source": [
    "@time save_to_file(CaF_A_v0, \"CaF_A_v0\", \"\")"
   ]
  },
  {
   "cell_type": "code",
   "execution_count": null,
   "id": "7cf3071f-ccd1-4eee-a52b-094ee7b457ed",
   "metadata": {},
   "outputs": [],
   "source": []
  }
 ],
 "metadata": {
  "kernelspec": {
   "display_name": "Julia (20 threads) 1.9.0-rc3",
   "language": "julia",
   "name": "julia-_20-threads_-1.9"
  },
  "language_info": {
   "file_extension": ".jl",
   "mimetype": "application/julia",
   "name": "julia",
   "version": "1.9.0"
  }
 },
 "nbformat": 4,
 "nbformat_minor": 5
}

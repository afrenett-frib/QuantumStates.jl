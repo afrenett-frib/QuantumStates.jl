{
 "cells": [
  {
   "cell_type": "code",
   "execution_count": 1,
   "id": "7fa644c1-49f6-43d1-8eb9-da5d7cb8d134",
   "metadata": {},
   "outputs": [],
   "source": [
    "using Revise"
   ]
  },
  {
   "cell_type": "code",
   "execution_count": 7,
   "id": "4ebeb064",
   "metadata": {
    "tags": []
   },
   "outputs": [],
   "source": [
    "using QuantumStates"
   ]
  },
  {
   "cell_type": "code",
   "execution_count": 3,
   "id": "83847b16",
   "metadata": {
    "tags": []
   },
   "outputs": [],
   "source": [
    "H_operator = :(\n",
    "    AX * Rotation + \n",
    "    BX * Rotation + \n",
    "    CX * Rotation\n",
    ");"
   ]
  },
  {
   "cell_type": "code",
   "execution_count": 4,
   "id": "ab3934ea",
   "metadata": {
    "tags": []
   },
   "outputs": [],
   "source": [
    "parameters = @params begin\n",
    "    AX = 9.693322\n",
    "    BX = 0.142141\n",
    "    CX = 0.139304\n",
    "end;"
   ]
  },
  {
   "cell_type": "code",
   "execution_count": 5,
   "id": "2802412d",
   "metadata": {
    "tags": []
   },
   "outputs": [],
   "source": [
    "QN_bounds = (S = 1/2, I = 1/2, N = 0:3)\n",
    "basis = enumerate_states(AsymmetricTopMolecule, QN_bounds)\n",
    ";"
   ]
  },
  {
   "cell_type": "code",
   "execution_count": 6,
   "id": "241c562c",
   "metadata": {
    "tags": []
   },
   "outputs": [
    {
     "ename": "LoadError",
     "evalue": "type AsymmetricTopMolecule has no field Λ",
     "output_type": "error",
     "traceback": [
      "type AsymmetricTopMolecule has no field Λ",
      "",
      "Stacktrace:",
      " [1] getproperty",
      "   @ .\\Base.jl:37 [inlined]",
      " [2] unpack(state::AsymmetricTopMolecule)",
      "   @ QuantumStates C:\\Google Drive\\github\\QuantumStates\\src\\AsymmetricTopMolecule.jl:30",
      " [3] Rotation(state::AsymmetricTopMolecule, state′::AsymmetricTopMolecule)",
      "   @ QuantumStates C:\\Google Drive\\github\\QuantumStates\\src\\AsymmetricTopMolecule.jl:35",
      " [4] matrix_from_operator(basis::Vector{AsymmetricTopMolecule}, operator::typeof(Rotation))",
      "   @ QuantumStates C:\\Google Drive\\github\\QuantumStates\\src\\States.jl:655",
      " [5] unpack_operator(operator::Expr, basis::Vector{AsymmetricTopMolecule})",
      "   @ QuantumStates C:\\Google Drive\\github\\QuantumStates\\src\\States.jl:641",
      " [6] top-level scope",
      "   @ .\\timing.jl:273 [inlined]",
      " [7] top-level scope",
      "   @ .\\In[6]:0"
     ]
    }
   ],
   "source": [
    "CaOH_X000 = @time Hamiltonian(basis=basis, operator=H_operator, parameters=parameters)\n",
    "@time evaluate!(CaOH_X000)\n",
    "@time solve!(CaOH_X000)\n",
    ";"
   ]
  },
  {
   "cell_type": "code",
   "execution_count": 6,
   "id": "19b0a5a1",
   "metadata": {
    "tags": []
   },
   "outputs": [
    {
     "name": "stdout",
     "output_type": "stream",
     "text": [
      "  0.177877 seconds (465.20 k allocations: 30.854 MiB, 10.28% gc time, 98.62% compilation time)\n"
     ]
    }
   ],
   "source": [
    "@time save_to_file(CaOH_X000, \"CaOH_X000\", \"\")"
   ]
  },
  {
   "cell_type": "code",
   "execution_count": null,
   "id": "e937a035-03ca-42a4-94df-5d4183047abb",
   "metadata": {},
   "outputs": [],
   "source": []
  }
 ],
 "metadata": {
  "kernelspec": {
   "display_name": "Julia (20 threads) 1.9.0-rc3",
   "language": "julia",
   "name": "julia-_20-threads_-1.9"
  },
  "language_info": {
   "file_extension": ".jl",
   "mimetype": "application/julia",
   "name": "julia",
   "version": "1.9.0"
  }
 },
 "nbformat": 4,
 "nbformat_minor": 5
}

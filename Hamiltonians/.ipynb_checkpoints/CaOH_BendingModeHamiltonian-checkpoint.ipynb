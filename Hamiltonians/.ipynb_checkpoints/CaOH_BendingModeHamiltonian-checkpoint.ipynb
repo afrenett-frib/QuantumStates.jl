{
 "cells": [
  {
   "cell_type": "code",
   "execution_count": 1,
   "id": "4ebeb064",
   "metadata": {},
   "outputs": [
    {
     "name": "stderr",
     "output_type": "stream",
     "text": [
      "┌ Info: Precompiling QuantumStates [17f0441f-15e0-42ae-a101-302633ff8f0f]\n",
      "└ @ Base loading.jl:1423\n"
     ]
    }
   ],
   "source": [
    "using QuantumStates"
   ]
  },
  {
   "cell_type": "code",
   "execution_count": 2,
   "id": "83847b16",
   "metadata": {
    "tags": []
   },
   "outputs": [],
   "source": [
    "H_operator = :(\n",
    "    BX * Rotation + \n",
    "    DX * RotationDistortion + \n",
    "    γX * SpinRotation + \n",
    "    bFX * Hyperfine_IS + \n",
    "    cX * (Hyperfine_Dipolar/3) +\n",
    "    qX * ℓDoubling\n",
    ");"
   ]
  },
  {
   "cell_type": "code",
   "execution_count": 3,
   "id": "ab3934ea",
   "metadata": {
    "tags": []
   },
   "outputs": [],
   "source": [
    "parameters = @params begin\n",
    "    BX = 0.333458 * c * 1e-4\n",
    "    DX = 0.3930e-6 * c * 1e-4\n",
    "    γX = 0.001184 * c * 1e-4\n",
    "    qX = 0.7181e-3 * c * 1e-4\n",
    "    bFX = 2.602\n",
    "    cX = 2.053\n",
    "end;"
   ]
  },
  {
   "cell_type": "code",
   "execution_count": 4,
   "id": "2802412d",
   "metadata": {},
   "outputs": [],
   "source": [
    "QN_bounds = (S = 1/2, I = 1/2, Λ = [-1,1], N = 1:3)\n",
    "basis = enumerate_states(HundsCaseB_Rot, QN_bounds)\n",
    ";"
   ]
  },
  {
   "cell_type": "code",
   "execution_count": 5,
   "id": "241c562c",
   "metadata": {},
   "outputs": [
    {
     "name": "stdout",
     "output_type": "stream",
     "text": [
      "  2.334154 seconds (4.45 M allocations: 244.189 MiB, 2.92% gc time, 98.15% compilation time)\n",
      "  0.400684 seconds (262.78 k allocations: 16.078 MiB, 4.97% gc time, 99.81% compilation time)\n",
      "  1.483212 seconds (3.22 M allocations: 188.873 MiB, 4.46% gc time, 97.62% compilation time)\n"
     ]
    }
   ],
   "source": [
    "CaOH_BendingMode_Hamiltonian = @time Hamiltonian(basis=basis, operator=H_operator, parameters=parameters)\n",
    "@time evaluate!(CaOH_BendingMode_Hamiltonian)\n",
    "@time solve!(CaOH_BendingMode_Hamiltonian)\n",
    ";"
   ]
  },
  {
   "cell_type": "code",
   "execution_count": 6,
   "id": "19b0a5a1",
   "metadata": {},
   "outputs": [
    {
     "name": "stdout",
     "output_type": "stream",
     "text": [
      "  0.364330 seconds (1.12 M allocations: 61.069 MiB, 5.44% gc time, 91.96% compilation time)\n"
     ]
    }
   ],
   "source": [
    "@time save_to_file(CaOH_BendingMode_Hamiltonian, \"CaOH_BendingMode_Hamiltonian\", \"X:\\\\My Drive\\\\github\\\\QuantumStates\\\\Hamiltonians\\\\\")"
   ]
  }
 ],
 "metadata": {
  "kernelspec": {
   "display_name": "Julia 1.7.2",
   "language": "julia",
   "name": "julia-1.7"
  },
  "language_info": {
   "file_extension": ".jl",
   "mimetype": "application/julia",
   "name": "julia",
   "version": "1.7.2"
  }
 },
 "nbformat": 4,
 "nbformat_minor": 5
}

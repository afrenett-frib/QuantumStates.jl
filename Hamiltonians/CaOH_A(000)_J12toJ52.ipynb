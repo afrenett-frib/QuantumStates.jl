{
 "cells": [
  {
   "cell_type": "code",
   "execution_count": 4,
   "id": "4ebeb064",
   "metadata": {},
   "outputs": [],
   "source": [
    "using QuantumStates"
   ]
  },
  {
   "cell_type": "code",
   "execution_count": 5,
   "id": "83847b16",
   "metadata": {
    "tags": []
   },
   "outputs": [],
   "source": [
    "H_operator = :(\n",
    "    T_A * DiagonalOperator +\n",
    "    Be_A * Rotation + \n",
    "    Aso_A * SpinOrbit + \n",
    "    q_A * ΛDoubling_q +\n",
    "    (p_A + 2q_A) * ΛDoubling_p2q +\n",
    "    b00_A * (Hyperfine_IF - Hyperfine_IL)\n",
    ");"
   ]
  },
  {
   "cell_type": "code",
   "execution_count": 6,
   "id": "57fdbe2a",
   "metadata": {},
   "outputs": [],
   "source": [
    "# Spectroscopic constants for CaOH, A state\n",
    "parameters = @params begin\n",
    "    T_A = 15998.122 * c * 1e-4\n",
    "    Be_A = 0.3412200 * c * 1e-4\n",
    "    Aso_A = 66.8181 * c * 1e-4\n",
    "    b00_A = 0.0\n",
    "    p_A = -0.04287 * c * 1e-4\n",
    "    q_A = -0.3257e-3 * c * 1e-4\n",
    "end;"
   ]
  },
  {
   "cell_type": "code",
   "execution_count": 7,
   "id": "2802412d",
   "metadata": {},
   "outputs": [],
   "source": [
    "QN_bounds = (S = 1/2, I = 1/2, Λ = 1, J = 1/2:5/2)\n",
    "basis = enumerate_states(HundsCaseA_Rot, QN_bounds)\n",
    ";"
   ]
  },
  {
   "cell_type": "code",
   "execution_count": 8,
   "id": "241c562c",
   "metadata": {},
   "outputs": [
    {
     "name": "stdout",
     "output_type": "stream",
     "text": [
      "  2.505829 seconds (3.33 M allocations: 167.154 MiB, 1.42% gc time, 97.90% compilation time)\n",
      "  0.195088 seconds (314.25 k allocations: 16.510 MiB, 99.92% compilation time)\n",
      "  1.122917 seconds (3.38 M allocations: 184.849 MiB, 3.58% gc time, 99.98% compilation time)\n"
     ]
    }
   ],
   "source": [
    "CaOH_A000_J12to52_Hamiltonian = @time Hamiltonian(basis=basis, operator=H_operator, parameters=parameters)\n",
    "@time evaluate!(CaOH_A000_J12to52_Hamiltonian)\n",
    "@time solve!(CaOH_A000_J12to52_Hamiltonian)\n",
    ";"
   ]
  },
  {
   "cell_type": "code",
   "execution_count": 9,
   "id": "19b0a5a1",
   "metadata": {},
   "outputs": [
    {
     "name": "stdout",
     "output_type": "stream",
     "text": [
      "  0.227054 seconds (867.48 k allocations: 44.427 MiB, 91.12% compilation time)\n"
     ]
    }
   ],
   "source": [
    "@time save_to_file(CaOH_A000_J12to52_Hamiltonian, \"CaOH_A000_J12to52_Hamiltonian\", \"X:\\\\My Drive\\\\github\\\\QuantumStates\\\\Hamiltonians\\\\\")"
   ]
  },
  {
   "cell_type": "code",
   "execution_count": null,
   "id": "00e15107-4026-46da-893b-379d9f493d7e",
   "metadata": {},
   "outputs": [],
   "source": []
  }
 ],
 "metadata": {
  "kernelspec": {
   "display_name": "Julia 1.8.0",
   "language": "julia",
   "name": "julia-1.8"
  },
  "language_info": {
   "file_extension": ".jl",
   "mimetype": "application/julia",
   "name": "julia",
   "version": "1.8.0"
  }
 },
 "nbformat": 4,
 "nbformat_minor": 5
}

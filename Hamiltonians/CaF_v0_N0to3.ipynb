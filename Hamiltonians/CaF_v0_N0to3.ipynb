{
 "cells": [
  {
   "cell_type": "code",
   "execution_count": 1,
   "id": "b7a11ea6",
   "metadata": {},
   "outputs": [
    {
     "name": "stderr",
     "output_type": "stream",
     "text": [
      "┌ Info: Precompiling QuantumStates [17f0441f-15e0-42ae-a101-302633ff8f0f]\n",
      "└ @ Base loading.jl:1662\n"
     ]
    }
   ],
   "source": [
    "using QuantumStates"
   ]
  },
  {
   "cell_type": "code",
   "execution_count": 2,
   "id": "9365913a",
   "metadata": {
    "tags": []
   },
   "outputs": [],
   "source": [
    "H_operator = :(\n",
    "    BX * Rotation + \n",
    "    DX * RotationDistortion + \n",
    "    γX * SpinRotation + \n",
    "    bFX * Hyperfine_IS + \n",
    "    cX * (Hyperfine_Dipolar/3)\n",
    ");"
   ]
  },
  {
   "cell_type": "code",
   "execution_count": 3,
   "id": "77c935ab",
   "metadata": {
    "tags": []
   },
   "outputs": [],
   "source": [
    "parameters = @params begin\n",
    "    BX = 10303.988\n",
    "    DX = 0.014060\n",
    "    γX = 39.65891\n",
    "    bX = 109.1839\n",
    "    cX = 40.1190\n",
    "end\n",
    "parameters.param_dict[:bFX] = parameters.bX + parameters.cX / 3;"
   ]
  },
  {
   "cell_type": "code",
   "execution_count": 4,
   "id": "dfe9c620",
   "metadata": {},
   "outputs": [],
   "source": [
    "QN_bounds = (S = 1/2, I = 1/2, Λ = 0, N = 0:3)\n",
    "basis = enumerate_states(HundsCaseB_Rot, QN_bounds)\n",
    ";"
   ]
  },
  {
   "cell_type": "code",
   "execution_count": 5,
   "id": "1b70bd02",
   "metadata": {},
   "outputs": [
    {
     "name": "stdout",
     "output_type": "stream",
     "text": [
      "  1.512625 seconds (4.23 M allocations: 222.713 MiB, 3.37% gc time, 99.15% compilation time)\n",
      "  0.283748 seconds (377.56 k allocations: 19.891 MiB, 99.31% compilation time)\n",
      "  1.087769 seconds (3.44 M allocations: 187.906 MiB, 4.80% gc time, 99.89% compilation time)\n"
     ]
    }
   ],
   "source": [
    "CaOH_BendingMode_Hamiltonian = @time Hamiltonian(basis=basis, operator=H_operator, parameters=parameters)\n",
    "@time full_evaluate!(CaOH_BendingMode_Hamiltonian)\n",
    "@time solve!(CaOH_BendingMode_Hamiltonian)\n",
    ";"
   ]
  },
  {
   "cell_type": "code",
   "execution_count": 6,
   "id": "a8629612",
   "metadata": {},
   "outputs": [
    {
     "name": "stdout",
     "output_type": "stream",
     "text": [
      "  0.219709 seconds (870.24 k allocations: 44.566 MiB, 89.88% compilation time)\n"
     ]
    }
   ],
   "source": [
    "@time save_to_file(CaOH_BendingMode_Hamiltonian, \"CaF_v0_N0to3\", \"X:\\\\My Drive\\\\github\\\\QuantumStates\\\\Hamiltonians\\\\\")"
   ]
  },
  {
   "cell_type": "code",
   "execution_count": null,
   "id": "42281ca8-1292-43f2-be76-42233f0d2b62",
   "metadata": {},
   "outputs": [],
   "source": []
  }
 ],
 "metadata": {
  "kernelspec": {
   "display_name": "Julia 1.8.1",
   "language": "julia",
   "name": "julia-1.8"
  },
  "language_info": {
   "file_extension": ".jl",
   "mimetype": "application/julia",
   "name": "julia",
   "version": "1.8.1"
  }
 },
 "nbformat": 4,
 "nbformat_minor": 5
}

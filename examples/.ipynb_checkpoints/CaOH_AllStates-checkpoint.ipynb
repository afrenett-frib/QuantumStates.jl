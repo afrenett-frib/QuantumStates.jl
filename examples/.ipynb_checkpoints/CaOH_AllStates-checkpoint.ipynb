{
 "cells": [
  {
   "cell_type": "code",
   "execution_count": 1,
   "metadata": {},
   "outputs": [],
   "source": [
    "using Revise"
   ]
  },
  {
   "cell_type": "code",
   "execution_count": 2,
   "metadata": {},
   "outputs": [],
   "source": [
    "# using OpticalBlochEquations\n",
    "using QuantumStates\n",
    "using LinearAlgebra\n",
    "using Parameters\n",
    "using CompositeStructs\n",
    "using BenchmarkTools"
   ]
  },
  {
   "cell_type": "code",
   "execution_count": 71,
   "metadata": {},
   "outputs": [],
   "source": [
    "function squared_error(data_xs, data_ys, preds)\n",
    "    \"\"\"\n",
    "    data = NamedTuple(xs, ys)\n",
    "    pred = f.(data.xs)\n",
    "    \"\"\"\n",
    "    errors = (data_ys .- preds).^2\n",
    "    return sum(errors)\n",
    "end\n",
    ";"
   ]
  },
  {
   "cell_type": "code",
   "execution_count": 4,
   "metadata": {},
   "outputs": [],
   "source": [
    "@consts begin\n",
    "    ħ = 1.054e-34\n",
    "    c = 3.0e8\n",
    "    ϵ₀ = 8.854e-12\n",
    "    kB = 1.381e-23\n",
    "    T = 295\n",
    "end\n",
    ";"
   ]
  },
  {
   "cell_type": "code",
   "execution_count": 5,
   "metadata": {},
   "outputs": [],
   "source": [
    "@composite @kwdef mutable struct HundsCaseB_VibRot <: HundsCaseB\n",
    "    p::Int64\n",
    "    v1::Float64\n",
    "    v2::Float64\n",
    "    v3::Float64\n",
    "    HundsCaseB_Rot...\n",
    "end\n",
    ";"
   ]
  },
  {
   "cell_type": "code",
   "execution_count": 6,
   "metadata": {},
   "outputs": [],
   "source": [
    "function Γ(state::HundsCaseB_VibRot, state′::HundsCaseB_VibRot)\n",
    "    E = state.E\n",
    "    E′ = state′.E\n",
    "    ΔE = E′ - E\n",
    "    if ΔE > 0.0\n",
    "        return (8π^2 / (3ϵ₀*ħ*c^3)) * abs(ΔE)^3 * TDM(state, state′)^2\n",
    "    end\n",
    "    return 0.0\n",
    "end\n",
    ";"
   ]
  },
  {
   "cell_type": "code",
   "execution_count": 472,
   "metadata": {},
   "outputs": [],
   "source": [
    "function blackbody_rate(state::HundsCaseB, state′::HundsCaseB)\n",
    "    E = state.E\n",
    "    E′ = state′.E\n",
    "    ΔE_abs = abs(E′ - E)  \n",
    "    if ΔE_abs > 0.0\n",
    "#         return TDM(state, state′)^2\n",
    "        return (8π^2 / (3ϵ₀*ħ*c^3)) * (1 / (exp(ħ * (2π * ΔE_abs) / (kB * T)) - 1)) * \n",
    "            ΔE_abs^3 * TDM(state, state′)^2\n",
    "    end\n",
    "    return 0.0\n",
    "end\n",
    ";"
   ]
  },
  {
   "cell_type": "code",
   "execution_count": 473,
   "metadata": {},
   "outputs": [],
   "source": [
    "function parity_rule(state::HundsCaseB_VibRot, state′::HundsCaseB_VibRot)\n",
    "    p = state.p\n",
    "    p′ = state′.p\n",
    "    return δ(-p,p′)\n",
    "end\n",
    "; "
   ]
  },
  {
   "cell_type": "code",
   "execution_count": 474,
   "metadata": {},
   "outputs": [],
   "source": [
    "# Spectroscopic constants for X(000)\n",
    "# (Scurlock et al.)\n",
    "@consts begin\n",
    "    B_X000 = 10023.0841\n",
    "    D_X000 = 1.154e-2\n",
    "    γ_X000 = 34.7593\n",
    "end\n",
    ";"
   ]
  },
  {
   "cell_type": "code",
   "execution_count": 475,
   "metadata": {},
   "outputs": [],
   "source": [
    "function set_parity!(basis, sgn=1)\n",
    "    for i in eachindex(basis)\n",
    "        N = basis[i].N\n",
    "        basis[i].p = sgn * (1 * iseven(N) - 1 * isodd(N))\n",
    "    end\n",
    "    return nothing\n",
    "end\n",
    ";"
   ]
  },
  {
   "cell_type": "markdown",
   "metadata": {},
   "source": [
    "### Enumerate states in $X^2 \\Sigma^+$ of CaOH"
   ]
  },
  {
   "cell_type": "code",
   "execution_count": 476,
   "metadata": {},
   "outputs": [],
   "source": [
    "N_max = 5;"
   ]
  },
  {
   "cell_type": "markdown",
   "metadata": {},
   "source": [
    "### $(v_1 v_2^\\ell v_3) = (000)$"
   ]
  },
  {
   "cell_type": "code",
   "execution_count": 477,
   "metadata": {},
   "outputs": [],
   "source": [
    "E_X000 = 0.0\n",
    "\n",
    "QN_bounds = (E = E_X000, v1 = 0, v2 = 0, v3 = 0, S = 1/2, I = 1/2, Λ = 0, N = 0:N_max)\n",
    "X000_basis = enumerate_states(HundsCaseB_VibRot, QN_bounds)\n",
    "set_parity!(X000_basis)\n",
    ";"
   ]
  },
  {
   "cell_type": "markdown",
   "metadata": {},
   "source": [
    "### $(v_1 v_2^\\ell v_3) = (100)$"
   ]
  },
  {
   "cell_type": "code",
   "execution_count": 478,
   "metadata": {},
   "outputs": [],
   "source": [
    "E_X100 = 1e2 * 600 * c\n",
    "\n",
    "QN_bounds = (E = E_X100, v1 = 1, v2 = 0, v3 = 0, S = 1/2, I = 1/2, Λ = 0, N = 0:N_max)\n",
    "X100_basis = enumerate_states(HundsCaseB_VibRot, QN_bounds)\n",
    "set_parity!(X100_basis)\n",
    ";"
   ]
  },
  {
   "cell_type": "markdown",
   "metadata": {},
   "source": [
    "### $(v_1 v_2^\\ell v_3) = (200)$"
   ]
  },
  {
   "cell_type": "code",
   "execution_count": 479,
   "metadata": {},
   "outputs": [],
   "source": [
    "E_X200 = 2E_X100\n",
    "\n",
    "QN_bounds = (E = E_X200, v1 = 2, v2 = 0, v3 = 0, S = 1/2, I = 1/2, Λ = 0, N = 0:N_max)\n",
    "X200_basis = enumerate_states(HundsCaseB_VibRot, QN_bounds)\n",
    "set_parity!(X200_basis)\n",
    ";"
   ]
  },
  {
   "cell_type": "markdown",
   "metadata": {},
   "source": [
    "### $(v_1 v_2^\\ell v_3) = (300)$"
   ]
  },
  {
   "cell_type": "code",
   "execution_count": 480,
   "metadata": {},
   "outputs": [],
   "source": [
    "E_X300 = 3E_X100\n",
    "\n",
    "QN_bounds = (E = E_X300, v1 = 3, v2 = 0, v3 = 0, S = 1/2, I = 1/2, Λ = 0, N = 0:N_max)\n",
    "X300_basis = enumerate_states(HundsCaseB_VibRot, QN_bounds)\n",
    "set_parity!(X300_basis)\n",
    ";"
   ]
  },
  {
   "cell_type": "markdown",
   "metadata": {},
   "source": [
    "### $(v_1 v_2^\\ell v_3) = (01^10)$"
   ]
  },
  {
   "cell_type": "code",
   "execution_count": 481,
   "metadata": {},
   "outputs": [],
   "source": [
    "E_X0110 = 1e2 * 352 * c\n",
    "\n",
    "QN_bounds = (E = E_X0110, v1 = 0, v2 = 1, v3 = 0, S = 1/2, I = 1/2, Λ = 1, N = 1:N_max)\n",
    "X0110_basis_p_parity = enumerate_states(HundsCaseB_VibRot, QN_bounds)\n",
    "set_parity!(X0110_basis_p_parity)\n",
    "\n",
    "X0110_basis_m_parity = enumerate_states(HundsCaseB_VibRot, QN_bounds)\n",
    "set_parity!(X0110_basis_m_parity, -1)\n",
    "\n",
    "X0110_basis = [X0110_basis_p_parity; X0110_basis_m_parity]\n",
    ";"
   ]
  },
  {
   "cell_type": "markdown",
   "metadata": {},
   "source": [
    "### $(v_1 v_2^\\ell v_3) = (02^00)$"
   ]
  },
  {
   "cell_type": "code",
   "execution_count": 1276,
   "metadata": {},
   "outputs": [],
   "source": [
    "E_X0200 = 2E_X0110\n",
    "\n",
    "QN_bounds = (E = E_X0200, v1 = 0, v2 = 2, v3 = 0, S = 1/2, I = 1/2, Λ = 0, N = 0:N_max)\n",
    "X0200_basis = enumerate_states(HundsCaseB_VibRot, QN_bounds)\n",
    "set_parity!(X0200_basis)\n",
    ";"
   ]
  },
  {
   "cell_type": "markdown",
   "metadata": {},
   "source": [
    "### $(v_1 v_2^\\ell v_3) = (02^20)$"
   ]
  },
  {
   "cell_type": "code",
   "execution_count": 1277,
   "metadata": {},
   "outputs": [],
   "source": [
    "E_X0220 = E_X0200\n",
    "\n",
    "QN_bounds = (E = E_X0220, v1 = 0, v2 = 2, v3 = 0, S = 1/2, I = 1/2, Λ = 2, N = 2:N_max)\n",
    "X0220_basis_p_parity = enumerate_states(HundsCaseB_VibRot, QN_bounds)\n",
    "set_parity!(X0220_basis_p_parity)\n",
    "\n",
    "X0220_basis_m_parity = enumerate_states(HundsCaseB_VibRot, QN_bounds)\n",
    "set_parity!(X0220_basis_m_parity, -1)\n",
    "\n",
    "X0220_basis = [X0220_basis_p_parity; X0220_basis_m_parity]\n",
    ";"
   ]
  },
  {
   "cell_type": "markdown",
   "metadata": {},
   "source": [
    "### $(v_1 v_2^\\ell v_3) = (11^10)$"
   ]
  },
  {
   "cell_type": "code",
   "execution_count": 1278,
   "metadata": {},
   "outputs": [],
   "source": [
    "E_X1110 = E_X100 + E_X0110\n",
    "\n",
    "QN_bounds = (E = E_X1110, v1 = 1, v2 = 1, v3 = 0, S = 1/2, I = 1/2, Λ = 1, N = 1:N_max)\n",
    "X1110_basis_p_parity = enumerate_states(HundsCaseB_VibRot, QN_bounds)\n",
    "set_parity!(X1110_basis_p_parity)\n",
    "\n",
    "X1110_basis_m_parity = enumerate_states(HundsCaseB_VibRot, QN_bounds)\n",
    "set_parity!(X1110_basis_m_parity, -1)\n",
    "\n",
    "X1110_basis = [X1110_basis_p_parity; X1110_basis_m_parity]\n",
    ";"
   ]
  },
  {
   "cell_type": "markdown",
   "metadata": {},
   "source": [
    "### Add blackbody-induced transitions and spontaneous emission"
   ]
  },
  {
   "cell_type": "code",
   "execution_count": 1279,
   "metadata": {},
   "outputs": [],
   "source": [
    "basis = [\n",
    "    X000_basis\n",
    "    X100_basis\n",
    "    X200_basis\n",
    "    X300_basis\n",
    "    X0110_basis\n",
    "    X0200_basis\n",
    "    X0220_basis\n",
    "    X1110_basis\n",
    "    ]\n",
    ";"
   ]
  },
  {
   "cell_type": "code",
   "execution_count": 1280,
   "metadata": {},
   "outputs": [],
   "source": [
    "X000_idxs, _ = subspace(basis, (v1 = (0,0), v2 = (0,0)))\n",
    "X100_idxs, _ = subspace(basis, (v1 = (1,1), v2 = (0,0)))\n",
    "X200_idxs, _ = subspace(basis, (v1 = (2,2), v2 = (0,0)))\n",
    "X300_idxs, _ = subspace(basis, (v1 = (3,3), v2 = (0,0)))\n",
    "X0110_idxs, _ = subspace(basis, (v1 = (0,0), v2 = (1,1)))\n",
    "X0200_idxs, _ = subspace(basis, (v2 = (2,2), Λ = (0,0)))\n",
    "X0220_idxs, _ = subspace(basis, (v2 = (2,2), Λ = (2,2)))\n",
    "X1110_idxs, _ = subspace(basis, (v1 = (1,1), v2 = (1,1)))\n",
    ";"
   ]
  },
  {
   "cell_type": "code",
   "execution_count": 1281,
   "metadata": {},
   "outputs": [],
   "source": [
    "# Get indices of detectable states\n",
    "X000_idxs_d, _ = subspace(basis, (v1 = (0,0), v2 = (0,0), N = (1,1), J = (1/2, 3/2)))\n",
    "X100_idxs_d, _ = subspace(basis, (v1 = (1,1), v2 = (0,0), N = (1,1), J = (1/2, 3/2)))\n",
    "X200_idxs_d, _ = subspace(basis, (v1 = (2,2), v2 = (0,0), N = (1,1), J = (1/2, 3/2)))\n",
    "X300_idxs_d, _ = subspace(basis, (v1 = (3,3), v2 = (0,0), N = (1,1), J = (1/2, 3/2)))\n",
    "X0110_idxs_d, _ = subspace(basis, (v1 = (0,0), v2 = (1,1), N = (1,2), p = (-1,-1)))\n",
    "X0200_idxs_d, _ = subspace(basis, (v2 = (2,2), Λ = (0,0), N = (1,1), J = (1/2, 3/2)))\n",
    "X0220_idxs_d, _ = subspace(basis, (v2 = (2,2), Λ = (2,2), N = (2,2), J = (1/2, 3/2), p = (-1,-1)))\n",
    "X1110_idxs_d, _ = subspace(basis, (v1 = (1,1), v2 = (1,1), N = (1,2), J = (1/2, 3/2), p = (-1,-1)))\n",
    "idxs_d = [\n",
    "    X000_idxs_d\n",
    "    X100_idxs_d\n",
    "    X200_idxs_d\n",
    "    X300_idxs_d\n",
    "    X0110_idxs_d\n",
    "    X0200_idxs_d\n",
    "    X0220_idxs_d\n",
    "    X1110_idxs_d\n",
    "]\n",
    ";"
   ]
  },
  {
   "cell_type": "code",
   "execution_count": 1282,
   "metadata": {},
   "outputs": [],
   "source": [
    "μ_M = zeros(Float64, length(basis), length(basis))\n",
    ";"
   ]
  },
  {
   "cell_type": "code",
   "execution_count": 1283,
   "metadata": {},
   "outputs": [],
   "source": [
    "function update_μ_M!(μ_M, idxs, μ_v1, μ_v2)\n",
    "    \n",
    "    μ_M .= 0.0\n",
    "    \n",
    "    # Stretching modes\n",
    "    μ_M[idxs.X000_idxs, idxs.X100_idxs] .= μ_v1^2\n",
    "    μ_M[idxs.X100_idxs, idxs.X200_idxs] .= 2μ_v1^2\n",
    "    μ_M[idxs.X200_idxs, idxs.X300_idxs] .= 3μ_v1^2\n",
    "    \n",
    "    # Bending modes\n",
    "    μ_M[idxs.X000_idxs, idxs.X0110_idxs] .= μ_v2^2\n",
    "    μ_M[idxs.X0110_idxs, idxs.X0200_idxs] .= μ_v2^2\n",
    "    μ_M[idxs.X0110_idxs, idxs.X0220_idxs] .= μ_v2^2\n",
    "    \n",
    "    # Hybrid modes\n",
    "    μ_M[idxs.X100_idxs, idxs.X1110_idxs] .= μ_v2^2\n",
    "    μ_M[idxs.X0110_idxs, idxs.X1110_idxs] .= μ_v1^2\n",
    "    \n",
    "    μ_M .+= transpose(μ_M)\n",
    "    \n",
    "    return nothing\n",
    "end\n",
    ";"
   ]
  },
  {
   "cell_type": "code",
   "execution_count": 1626,
   "metadata": {},
   "outputs": [],
   "source": [
    "idxs = (\n",
    "    X000_idxs = X000_idxs, \n",
    "    X100_idxs = X100_idxs, \n",
    "    X200_idxs = X200_idxs, \n",
    "    X300_idxs = X300_idxs, \n",
    "    X0110_idxs = X0110_idxs, \n",
    "    X0200_idxs = X0200_idxs, \n",
    "    X0220_idxs = X0220_idxs, \n",
    "    X1110_idxs = X1110_idxs\n",
    ");"
   ]
  },
  {
   "cell_type": "code",
   "execution_count": 1285,
   "metadata": {},
   "outputs": [],
   "source": [
    "# idxs = @params (X000_idxs, X100_idxs, X200_idxs, X300_idxs, X0110_idxs, X0200_idxs, X0220_idxs, X1110_idxs);"
   ]
  },
  {
   "cell_type": "code",
   "execution_count": 1286,
   "metadata": {},
   "outputs": [],
   "source": [
    "# @btime update_μ_M!(μ_M, idxs, μ_v1, μ_v2)"
   ]
  },
  {
   "cell_type": "code",
   "execution_count": 1341,
   "metadata": {},
   "outputs": [
    {
     "name": "stdout",
     "output_type": "stream",
     "text": [
      "152.983562 seconds (1.84 G allocations: 56.618 GiB, 22.31% gc time)\n"
     ]
    }
   ],
   "source": [
    "blackbody_M = zeros(Float64, length(basis), length(basis))\n",
    "Γ_M = zeros(Float64, length(basis), length(basis))\n",
    "@time for (i, state) in enumerate(basis)\n",
    "    for (j, state′) in enumerate(basis)\n",
    "        blackbody_M[i,j] += parity_rule(state, state′) * blackbody_rate(state, state′)\n",
    "        Γ_M[i,j] += parity_rule(state, state′) * Γ(state, state′)\n",
    "    end\n",
    "end\n",
    ";"
   ]
  },
  {
   "cell_type": "code",
   "execution_count": 1716,
   "metadata": {},
   "outputs": [],
   "source": [
    "function construct_rate_eqns!(R, p)\n",
    "    \n",
    "    update_μ_M!(p.μ_M, p.idxs, p.μ_v1, p.μ_v2)\n",
    "    \n",
    "    R .= 0.0\n",
    "    for i in eachindex(p.basis)\n",
    "        for j in eachindex(p.basis)\n",
    "            R[i,j] += p.μ_M[i,j] * p.blackbody_M[i,j]\n",
    "            R[i,j] += p.μ_M[i,j] * p.Γ_M[i,j]          \n",
    "            \n",
    "            R[j,j] -= p.μ_M[i,j] * p.blackbody_M[i,j]\n",
    "            R[j,j] -= p.μ_M[i,j] * p.Γ_M[i,j]\n",
    "        end\n",
    "    end\n",
    "    \n",
    "    # Vacuum loss terms\n",
    "    for i in eachindex(p.basis)\n",
    "        R[i,i] -= (1 / p.τ_vacuum)\n",
    "    end\n",
    "    \n",
    "    return nothing\n",
    "end\n",
    ";"
   ]
  },
  {
   "cell_type": "code",
   "execution_count": 2013,
   "metadata": {},
   "outputs": [],
   "source": [
    "μ_M = zeros(Float64, length(basis), length(basis))\n",
    "μ_v1 = 0.36 * 3.336e-30\n",
    "μ_v2 = 0.31 * 3.336e-30\n",
    "τ_vacuum = 2.0\n",
    ";"
   ]
  },
  {
   "cell_type": "code",
   "execution_count": 2014,
   "metadata": {},
   "outputs": [
    {
     "name": "stdout",
     "output_type": "stream",
     "text": [
      "  0.000012 seconds (2 allocations: 320 bytes)\n",
      "  0.132671 seconds (2 allocations: 18.000 MiB)\n"
     ]
    }
   ],
   "source": [
    "t_span = (0.0, 3.0)\n",
    "R = zeros(Float64, length(basis), length(basis))\n",
    "@time p0 = (\n",
    "    μ_M = μ_M, \n",
    "    Γ_M = Γ_M, \n",
    "    blackbody_M = blackbody_M, \n",
    "    basis = basis, \n",
    "    idxs = idxs, \n",
    "    idxs_d = idxs_d,\n",
    "    μ_v1 = μ_v1, \n",
    "    μ_v2 = μ_v2, \n",
    "    τ_vacuum = τ_vacuum,\n",
    "    t_span = t_span\n",
    ")\n",
    "@time construct_rate_eqns!(R, p0)\n",
    ";"
   ]
  },
  {
   "cell_type": "code",
   "execution_count": 2015,
   "metadata": {},
   "outputs": [],
   "source": [
    "# @btime construct_rate_eqns!($R, $p)"
   ]
  },
  {
   "cell_type": "code",
   "execution_count": 2038,
   "metadata": {},
   "outputs": [],
   "source": [
    "n0 = zeros(length(basis))\n",
    "n0[X000_idxs_d[1]] = 0.25\n",
    "n0[X100_idxs_d[1]] = 0.65 # 0.0\n",
    ";"
   ]
  },
  {
   "cell_type": "code",
   "execution_count": 2039,
   "metadata": {},
   "outputs": [],
   "source": [
    "using DifferentialEquations\n",
    "using Plots\n",
    "using BenchmarkTools"
   ]
  },
  {
   "cell_type": "code",
   "execution_count": 2040,
   "metadata": {},
   "outputs": [],
   "source": [
    "function rate_eqns!(dn, n, R, t)\n",
    "    mul!(dn, R, n)\n",
    "    return nothing\n",
    "end\n",
    ";"
   ]
  },
  {
   "cell_type": "code",
   "execution_count": 2041,
   "metadata": {},
   "outputs": [],
   "source": [
    "# @btime rate_eqns!($dn0, $n0, $R, 1.0)"
   ]
  },
  {
   "cell_type": "code",
   "execution_count": 2042,
   "metadata": {},
   "outputs": [],
   "source": [
    "include(\"data.jl\");"
   ]
  },
  {
   "cell_type": "code",
   "execution_count": 2043,
   "metadata": {},
   "outputs": [
    {
     "name": "stdout",
     "output_type": "stream",
     "text": [
      "  1.428162 seconds (1.56 M allocations: 80.937 MiB, 90.05% compilation time)\n"
     ]
    }
   ],
   "source": [
    "prob = ODEProblem(rate_eqns!, n0, p0.t_span, R)\n",
    "@time sol = DifferentialEquations.solve(prob, alg=DP5())\n",
    ";"
   ]
  },
  {
   "cell_type": "code",
   "execution_count": 2044,
   "metadata": {},
   "outputs": [
    {
     "data": {
      "image/svg+xml": [
       "<?xml version=\"1.0\" encoding=\"utf-8\"?>\n",
       "<svg xmlns=\"http://www.w3.org/2000/svg\" xmlns:xlink=\"http://www.w3.org/1999/xlink\" width=\"600\" height=\"400\" viewBox=\"0 0 2400 1600\">\n",
       "<defs>\n",
       "  <clipPath id=\"clip300\">\n",
       "    <rect x=\"0\" y=\"0\" width=\"2400\" height=\"1600\"/>\n",
       "  </clipPath>\n",
       "</defs>\n",
       "<path clip-path=\"url(#clip300)\" d=\"\n",
       "M0 1600 L2400 1600 L2400 0 L0 0  Z\n",
       "  \" fill=\"#ffffff\" fill-rule=\"evenodd\" fill-opacity=\"1\"/>\n",
       "<defs>\n",
       "  <clipPath id=\"clip301\">\n",
       "    <rect x=\"480\" y=\"0\" width=\"1681\" height=\"1600\"/>\n",
       "  </clipPath>\n",
       "</defs>\n",
       "<path clip-path=\"url(#clip300)\" d=\"\n",
       "M156.598 1486.45 L2352.76 1486.45 L2352.76 47.2441 L156.598 47.2441  Z\n",
       "  \" fill=\"#ffffff\" fill-rule=\"evenodd\" fill-opacity=\"1\"/>\n",
       "<defs>\n",
       "  <clipPath id=\"clip302\">\n",
       "    <rect x=\"156\" y=\"47\" width=\"2197\" height=\"1440\"/>\n",
       "  </clipPath>\n",
       "</defs>\n",
       "<polyline clip-path=\"url(#clip302)\" style=\"stroke:#000000; stroke-linecap:butt; stroke-linejoin:round; stroke-width:2; stroke-opacity:0.1; fill:none\" points=\"\n",
       "  218.754,1486.45 218.754,47.2441 \n",
       "  \"/>\n",
       "<polyline clip-path=\"url(#clip302)\" style=\"stroke:#000000; stroke-linecap:butt; stroke-linejoin:round; stroke-width:2; stroke-opacity:0.1; fill:none\" points=\"\n",
       "  564.061,1486.45 564.061,47.2441 \n",
       "  \"/>\n",
       "<polyline clip-path=\"url(#clip302)\" style=\"stroke:#000000; stroke-linecap:butt; stroke-linejoin:round; stroke-width:2; stroke-opacity:0.1; fill:none\" points=\"\n",
       "  909.369,1486.45 909.369,47.2441 \n",
       "  \"/>\n",
       "<polyline clip-path=\"url(#clip302)\" style=\"stroke:#000000; stroke-linecap:butt; stroke-linejoin:round; stroke-width:2; stroke-opacity:0.1; fill:none\" points=\"\n",
       "  1254.68,1486.45 1254.68,47.2441 \n",
       "  \"/>\n",
       "<polyline clip-path=\"url(#clip302)\" style=\"stroke:#000000; stroke-linecap:butt; stroke-linejoin:round; stroke-width:2; stroke-opacity:0.1; fill:none\" points=\"\n",
       "  1599.98,1486.45 1599.98,47.2441 \n",
       "  \"/>\n",
       "<polyline clip-path=\"url(#clip302)\" style=\"stroke:#000000; stroke-linecap:butt; stroke-linejoin:round; stroke-width:2; stroke-opacity:0.1; fill:none\" points=\"\n",
       "  1945.29,1486.45 1945.29,47.2441 \n",
       "  \"/>\n",
       "<polyline clip-path=\"url(#clip302)\" style=\"stroke:#000000; stroke-linecap:butt; stroke-linejoin:round; stroke-width:2; stroke-opacity:0.1; fill:none\" points=\"\n",
       "  2290.6,1486.45 2290.6,47.2441 \n",
       "  \"/>\n",
       "<polyline clip-path=\"url(#clip300)\" style=\"stroke:#000000; stroke-linecap:butt; stroke-linejoin:round; stroke-width:4; stroke-opacity:1; fill:none\" points=\"\n",
       "  156.598,1486.45 2352.76,1486.45 \n",
       "  \"/>\n",
       "<polyline clip-path=\"url(#clip300)\" style=\"stroke:#000000; stroke-linecap:butt; stroke-linejoin:round; stroke-width:4; stroke-opacity:1; fill:none\" points=\"\n",
       "  218.754,1486.45 218.754,1467.55 \n",
       "  \"/>\n",
       "<polyline clip-path=\"url(#clip300)\" style=\"stroke:#000000; stroke-linecap:butt; stroke-linejoin:round; stroke-width:4; stroke-opacity:1; fill:none\" points=\"\n",
       "  564.061,1486.45 564.061,1467.55 \n",
       "  \"/>\n",
       "<polyline clip-path=\"url(#clip300)\" style=\"stroke:#000000; stroke-linecap:butt; stroke-linejoin:round; stroke-width:4; stroke-opacity:1; fill:none\" points=\"\n",
       "  909.369,1486.45 909.369,1467.55 \n",
       "  \"/>\n",
       "<polyline clip-path=\"url(#clip300)\" style=\"stroke:#000000; stroke-linecap:butt; stroke-linejoin:round; stroke-width:4; stroke-opacity:1; fill:none\" points=\"\n",
       "  1254.68,1486.45 1254.68,1467.55 \n",
       "  \"/>\n",
       "<polyline clip-path=\"url(#clip300)\" style=\"stroke:#000000; stroke-linecap:butt; stroke-linejoin:round; stroke-width:4; stroke-opacity:1; fill:none\" points=\"\n",
       "  1599.98,1486.45 1599.98,1467.55 \n",
       "  \"/>\n",
       "<polyline clip-path=\"url(#clip300)\" style=\"stroke:#000000; stroke-linecap:butt; stroke-linejoin:round; stroke-width:4; stroke-opacity:1; fill:none\" points=\"\n",
       "  1945.29,1486.45 1945.29,1467.55 \n",
       "  \"/>\n",
       "<polyline clip-path=\"url(#clip300)\" style=\"stroke:#000000; stroke-linecap:butt; stroke-linejoin:round; stroke-width:4; stroke-opacity:1; fill:none\" points=\"\n",
       "  2290.6,1486.45 2290.6,1467.55 \n",
       "  \"/>\n",
       "<path clip-path=\"url(#clip300)\" d=\"M196.138 1517.37 Q192.527 1517.37 190.698 1520.93 Q188.893 1524.47 188.893 1531.6 Q188.893 1538.71 190.698 1542.27 Q192.527 1545.82 196.138 1545.82 Q199.772 1545.82 201.578 1542.27 Q203.407 1538.71 203.407 1531.6 Q203.407 1524.47 201.578 1520.93 Q199.772 1517.37 196.138 1517.37 M196.138 1513.66 Q201.948 1513.66 205.004 1518.27 Q208.082 1522.85 208.082 1531.6 Q208.082 1540.33 205.004 1544.94 Q201.948 1549.52 196.138 1549.52 Q190.328 1549.52 187.249 1544.94 Q184.194 1540.33 184.194 1531.6 Q184.194 1522.85 187.249 1518.27 Q190.328 1513.66 196.138 1513.66 Z\" fill=\"#000000\" fill-rule=\"evenodd\" fill-opacity=\"1\" /><path clip-path=\"url(#clip300)\" d=\"M216.3 1542.97 L221.184 1542.97 L221.184 1548.85 L216.3 1548.85 L216.3 1542.97 Z\" fill=\"#000000\" fill-rule=\"evenodd\" fill-opacity=\"1\" /><path clip-path=\"url(#clip300)\" d=\"M241.369 1517.37 Q237.758 1517.37 235.929 1520.93 Q234.124 1524.47 234.124 1531.6 Q234.124 1538.71 235.929 1542.27 Q237.758 1545.82 241.369 1545.82 Q245.003 1545.82 246.809 1542.27 Q248.638 1538.71 248.638 1531.6 Q248.638 1524.47 246.809 1520.93 Q245.003 1517.37 241.369 1517.37 M241.369 1513.66 Q247.179 1513.66 250.235 1518.27 Q253.314 1522.85 253.314 1531.6 Q253.314 1540.33 250.235 1544.94 Q247.179 1549.52 241.369 1549.52 Q235.559 1549.52 232.48 1544.94 Q229.425 1540.33 229.425 1531.6 Q229.425 1522.85 232.48 1518.27 Q235.559 1513.66 241.369 1513.66 Z\" fill=\"#000000\" fill-rule=\"evenodd\" fill-opacity=\"1\" /><path clip-path=\"url(#clip300)\" d=\"M541.944 1517.37 Q538.332 1517.37 536.504 1520.93 Q534.698 1524.47 534.698 1531.6 Q534.698 1538.71 536.504 1542.27 Q538.332 1545.82 541.944 1545.82 Q545.578 1545.82 547.383 1542.27 Q549.212 1538.71 549.212 1531.6 Q549.212 1524.47 547.383 1520.93 Q545.578 1517.37 541.944 1517.37 M541.944 1513.66 Q547.754 1513.66 550.809 1518.27 Q553.888 1522.85 553.888 1531.6 Q553.888 1540.33 550.809 1544.94 Q547.754 1549.52 541.944 1549.52 Q536.133 1549.52 533.055 1544.94 Q529.999 1540.33 529.999 1531.6 Q529.999 1522.85 533.055 1518.27 Q536.133 1513.66 541.944 1513.66 Z\" fill=\"#000000\" fill-rule=\"evenodd\" fill-opacity=\"1\" /><path clip-path=\"url(#clip300)\" d=\"M562.105 1542.97 L566.99 1542.97 L566.99 1548.85 L562.105 1548.85 L562.105 1542.97 Z\" fill=\"#000000\" fill-rule=\"evenodd\" fill-opacity=\"1\" /><path clip-path=\"url(#clip300)\" d=\"M577.221 1514.29 L595.577 1514.29 L595.577 1518.22 L581.503 1518.22 L581.503 1526.7 Q582.522 1526.35 583.541 1526.19 Q584.559 1526 585.578 1526 Q591.365 1526 594.744 1529.17 Q598.124 1532.34 598.124 1537.76 Q598.124 1543.34 594.652 1546.44 Q591.179 1549.52 584.86 1549.52 Q582.684 1549.52 580.416 1549.15 Q578.17 1548.78 575.763 1548.04 L575.763 1543.34 Q577.846 1544.47 580.068 1545.03 Q582.291 1545.58 584.767 1545.58 Q588.772 1545.58 591.11 1543.48 Q593.448 1541.37 593.448 1537.76 Q593.448 1534.15 591.11 1532.04 Q588.772 1529.94 584.767 1529.94 Q582.892 1529.94 581.017 1530.35 Q579.166 1530.77 577.221 1531.65 L577.221 1514.29 Z\" fill=\"#000000\" fill-rule=\"evenodd\" fill-opacity=\"1\" /><path clip-path=\"url(#clip300)\" d=\"M876.522 1544.91 L884.161 1544.91 L884.161 1518.55 L875.851 1520.21 L875.851 1515.95 L884.115 1514.29 L888.791 1514.29 L888.791 1544.91 L896.43 1544.91 L896.43 1548.85 L876.522 1548.85 L876.522 1544.91 Z\" fill=\"#000000\" fill-rule=\"evenodd\" fill-opacity=\"1\" /><path clip-path=\"url(#clip300)\" d=\"M905.874 1542.97 L910.758 1542.97 L910.758 1548.85 L905.874 1548.85 L905.874 1542.97 Z\" fill=\"#000000\" fill-rule=\"evenodd\" fill-opacity=\"1\" /><path clip-path=\"url(#clip300)\" d=\"M930.943 1517.37 Q927.332 1517.37 925.503 1520.93 Q923.698 1524.47 923.698 1531.6 Q923.698 1538.71 925.503 1542.27 Q927.332 1545.82 930.943 1545.82 Q934.577 1545.82 936.383 1542.27 Q938.212 1538.71 938.212 1531.6 Q938.212 1524.47 936.383 1520.93 Q934.577 1517.37 930.943 1517.37 M930.943 1513.66 Q936.753 1513.66 939.809 1518.27 Q942.888 1522.85 942.888 1531.6 Q942.888 1540.33 939.809 1544.94 Q936.753 1549.52 930.943 1549.52 Q925.133 1549.52 922.054 1544.94 Q918.999 1540.33 918.999 1531.6 Q918.999 1522.85 922.054 1518.27 Q925.133 1513.66 930.943 1513.66 Z\" fill=\"#000000\" fill-rule=\"evenodd\" fill-opacity=\"1\" /><path clip-path=\"url(#clip300)\" d=\"M1222.33 1544.91 L1229.97 1544.91 L1229.97 1518.55 L1221.66 1520.21 L1221.66 1515.95 L1229.92 1514.29 L1234.6 1514.29 L1234.6 1544.91 L1242.24 1544.91 L1242.24 1548.85 L1222.33 1548.85 L1222.33 1544.91 Z\" fill=\"#000000\" fill-rule=\"evenodd\" fill-opacity=\"1\" /><path clip-path=\"url(#clip300)\" d=\"M1251.68 1542.97 L1256.56 1542.97 L1256.56 1548.85 L1251.68 1548.85 L1251.68 1542.97 Z\" fill=\"#000000\" fill-rule=\"evenodd\" fill-opacity=\"1\" /><path clip-path=\"url(#clip300)\" d=\"M1266.8 1514.29 L1285.15 1514.29 L1285.15 1518.22 L1271.08 1518.22 L1271.08 1526.7 Q1272.1 1526.35 1273.11 1526.19 Q1274.13 1526 1275.15 1526 Q1280.94 1526 1284.32 1529.17 Q1287.7 1532.34 1287.7 1537.76 Q1287.7 1543.34 1284.23 1546.44 Q1280.75 1549.52 1274.43 1549.52 Q1272.26 1549.52 1269.99 1549.15 Q1267.74 1548.78 1265.34 1548.04 L1265.34 1543.34 Q1267.42 1544.47 1269.64 1545.03 Q1271.86 1545.58 1274.34 1545.58 Q1278.35 1545.58 1280.68 1543.48 Q1283.02 1541.37 1283.02 1537.76 Q1283.02 1534.15 1280.68 1532.04 Q1278.35 1529.94 1274.34 1529.94 Q1272.47 1529.94 1270.59 1530.35 Q1268.74 1530.77 1266.8 1531.65 L1266.8 1514.29 Z\" fill=\"#000000\" fill-rule=\"evenodd\" fill-opacity=\"1\" /><path clip-path=\"url(#clip300)\" d=\"M1571.22 1544.91 L1587.54 1544.91 L1587.54 1548.85 L1565.6 1548.85 L1565.6 1544.91 Q1568.26 1542.16 1572.84 1537.53 Q1577.45 1532.88 1578.63 1531.53 Q1580.88 1529.01 1581.76 1527.27 Q1582.66 1525.51 1582.66 1523.82 Q1582.66 1521.07 1580.71 1519.33 Q1578.79 1517.6 1575.69 1517.6 Q1573.49 1517.6 1571.04 1518.36 Q1568.61 1519.13 1565.83 1520.68 L1565.83 1515.95 Q1568.65 1514.82 1571.11 1514.24 Q1573.56 1513.66 1575.6 1513.66 Q1580.97 1513.66 1584.16 1516.35 Q1587.36 1519.03 1587.36 1523.52 Q1587.36 1525.65 1586.55 1527.57 Q1585.76 1529.47 1583.65 1532.07 Q1583.08 1532.74 1579.97 1535.95 Q1576.87 1539.15 1571.22 1544.91 Z\" fill=\"#000000\" fill-rule=\"evenodd\" fill-opacity=\"1\" /><path clip-path=\"url(#clip300)\" d=\"M1597.36 1542.97 L1602.24 1542.97 L1602.24 1548.85 L1597.36 1548.85 L1597.36 1542.97 Z\" fill=\"#000000\" fill-rule=\"evenodd\" fill-opacity=\"1\" /><path clip-path=\"url(#clip300)\" d=\"M1622.43 1517.37 Q1618.82 1517.37 1616.99 1520.93 Q1615.18 1524.47 1615.18 1531.6 Q1615.18 1538.71 1616.99 1542.27 Q1618.82 1545.82 1622.43 1545.82 Q1626.06 1545.82 1627.87 1542.27 Q1629.7 1538.71 1629.7 1531.6 Q1629.7 1524.47 1627.87 1520.93 Q1626.06 1517.37 1622.43 1517.37 M1622.43 1513.66 Q1628.24 1513.66 1631.29 1518.27 Q1634.37 1522.85 1634.37 1531.6 Q1634.37 1540.33 1631.29 1544.94 Q1628.24 1549.52 1622.43 1549.52 Q1616.62 1549.52 1613.54 1544.94 Q1610.48 1540.33 1610.48 1531.6 Q1610.48 1522.85 1613.54 1518.27 Q1616.62 1513.66 1622.43 1513.66 Z\" fill=\"#000000\" fill-rule=\"evenodd\" fill-opacity=\"1\" /><path clip-path=\"url(#clip300)\" d=\"M1917.03 1544.91 L1933.35 1544.91 L1933.35 1548.85 L1911.4 1548.85 L1911.4 1544.91 Q1914.07 1542.16 1918.65 1537.53 Q1923.26 1532.88 1924.44 1531.53 Q1926.68 1529.01 1927.56 1527.27 Q1928.46 1525.51 1928.46 1523.82 Q1928.46 1521.07 1926.52 1519.33 Q1924.6 1517.6 1921.5 1517.6 Q1919.3 1517.6 1916.84 1518.36 Q1914.41 1519.13 1911.64 1520.68 L1911.64 1515.95 Q1914.46 1514.82 1916.91 1514.24 Q1919.37 1513.66 1921.4 1513.66 Q1926.77 1513.66 1929.97 1516.35 Q1933.16 1519.03 1933.16 1523.52 Q1933.16 1525.65 1932.35 1527.57 Q1931.57 1529.47 1929.46 1532.07 Q1928.88 1532.74 1925.78 1535.95 Q1922.68 1539.15 1917.03 1544.91 Z\" fill=\"#000000\" fill-rule=\"evenodd\" fill-opacity=\"1\" /><path clip-path=\"url(#clip300)\" d=\"M1943.16 1542.97 L1948.05 1542.97 L1948.05 1548.85 L1943.16 1548.85 L1943.16 1542.97 Z\" fill=\"#000000\" fill-rule=\"evenodd\" fill-opacity=\"1\" /><path clip-path=\"url(#clip300)\" d=\"M1958.28 1514.29 L1976.64 1514.29 L1976.64 1518.22 L1962.56 1518.22 L1962.56 1526.7 Q1963.58 1526.35 1964.6 1526.19 Q1965.62 1526 1966.64 1526 Q1972.42 1526 1975.8 1529.17 Q1979.18 1532.34 1979.18 1537.76 Q1979.18 1543.34 1975.71 1546.44 Q1972.24 1549.52 1965.92 1549.52 Q1963.74 1549.52 1961.47 1549.15 Q1959.23 1548.78 1956.82 1548.04 L1956.82 1543.34 Q1958.9 1544.47 1961.13 1545.03 Q1963.35 1545.58 1965.82 1545.58 Q1969.83 1545.58 1972.17 1543.48 Q1974.51 1541.37 1974.51 1537.76 Q1974.51 1534.15 1972.17 1532.04 Q1969.83 1529.94 1965.82 1529.94 Q1963.95 1529.94 1962.08 1530.35 Q1960.22 1530.77 1958.28 1531.65 L1958.28 1514.29 Z\" fill=\"#000000\" fill-rule=\"evenodd\" fill-opacity=\"1\" /><path clip-path=\"url(#clip300)\" d=\"M2271.91 1530.21 Q2275.26 1530.93 2277.14 1533.2 Q2279.04 1535.47 2279.04 1538.8 Q2279.04 1543.92 2275.52 1546.72 Q2272 1549.52 2265.52 1549.52 Q2263.34 1549.52 2261.03 1549.08 Q2258.74 1548.66 2256.28 1547.81 L2256.28 1543.29 Q2258.23 1544.43 2260.54 1545.01 Q2262.86 1545.58 2265.38 1545.58 Q2269.78 1545.58 2272.07 1543.85 Q2274.39 1542.11 2274.39 1538.8 Q2274.39 1535.75 2272.23 1534.03 Q2270.1 1532.3 2266.28 1532.3 L2262.26 1532.3 L2262.26 1528.45 L2266.47 1528.45 Q2269.92 1528.45 2271.75 1527.09 Q2273.58 1525.7 2273.58 1523.11 Q2273.58 1520.45 2271.68 1519.03 Q2269.8 1517.6 2266.28 1517.6 Q2264.36 1517.6 2262.16 1518.01 Q2259.96 1518.43 2257.33 1519.31 L2257.33 1515.14 Q2259.99 1514.4 2262.3 1514.03 Q2264.64 1513.66 2266.7 1513.66 Q2272.02 1513.66 2275.13 1516.09 Q2278.23 1518.5 2278.23 1522.62 Q2278.23 1525.49 2276.58 1527.48 Q2274.94 1529.45 2271.91 1530.21 Z\" fill=\"#000000\" fill-rule=\"evenodd\" fill-opacity=\"1\" /><path clip-path=\"url(#clip300)\" d=\"M2287.9 1542.97 L2292.79 1542.97 L2292.79 1548.85 L2287.9 1548.85 L2287.9 1542.97 Z\" fill=\"#000000\" fill-rule=\"evenodd\" fill-opacity=\"1\" /><path clip-path=\"url(#clip300)\" d=\"M2312.97 1517.37 Q2309.36 1517.37 2307.53 1520.93 Q2305.73 1524.47 2305.73 1531.6 Q2305.73 1538.71 2307.53 1542.27 Q2309.36 1545.82 2312.97 1545.82 Q2316.61 1545.82 2318.41 1542.27 Q2320.24 1538.71 2320.24 1531.6 Q2320.24 1524.47 2318.41 1520.93 Q2316.61 1517.37 2312.97 1517.37 M2312.97 1513.66 Q2318.78 1513.66 2321.84 1518.27 Q2324.92 1522.85 2324.92 1531.6 Q2324.92 1540.33 2321.84 1544.94 Q2318.78 1549.52 2312.97 1549.52 Q2307.16 1549.52 2304.08 1544.94 Q2301.03 1540.33 2301.03 1531.6 Q2301.03 1522.85 2304.08 1518.27 Q2307.16 1513.66 2312.97 1513.66 Z\" fill=\"#000000\" fill-rule=\"evenodd\" fill-opacity=\"1\" /><polyline clip-path=\"url(#clip302)\" style=\"stroke:#000000; stroke-linecap:butt; stroke-linejoin:round; stroke-width:2; stroke-opacity:0.1; fill:none\" points=\"\n",
       "  156.598,1486.45 2352.76,1486.45 \n",
       "  \"/>\n",
       "<polyline clip-path=\"url(#clip302)\" style=\"stroke:#000000; stroke-linecap:butt; stroke-linejoin:round; stroke-width:2; stroke-opacity:0.1; fill:none\" points=\"\n",
       "  156.598,1198.61 2352.76,1198.61 \n",
       "  \"/>\n",
       "<polyline clip-path=\"url(#clip302)\" style=\"stroke:#000000; stroke-linecap:butt; stroke-linejoin:round; stroke-width:2; stroke-opacity:0.1; fill:none\" points=\"\n",
       "  156.598,910.766 2352.76,910.766 \n",
       "  \"/>\n",
       "<polyline clip-path=\"url(#clip302)\" style=\"stroke:#000000; stroke-linecap:butt; stroke-linejoin:round; stroke-width:2; stroke-opacity:0.1; fill:none\" points=\"\n",
       "  156.598,622.926 2352.76,622.926 \n",
       "  \"/>\n",
       "<polyline clip-path=\"url(#clip302)\" style=\"stroke:#000000; stroke-linecap:butt; stroke-linejoin:round; stroke-width:2; stroke-opacity:0.1; fill:none\" points=\"\n",
       "  156.598,335.085 2352.76,335.085 \n",
       "  \"/>\n",
       "<polyline clip-path=\"url(#clip302)\" style=\"stroke:#000000; stroke-linecap:butt; stroke-linejoin:round; stroke-width:2; stroke-opacity:0.1; fill:none\" points=\"\n",
       "  156.598,47.2441 2352.76,47.2441 \n",
       "  \"/>\n",
       "<polyline clip-path=\"url(#clip300)\" style=\"stroke:#000000; stroke-linecap:butt; stroke-linejoin:round; stroke-width:4; stroke-opacity:1; fill:none\" points=\"\n",
       "  156.598,1486.45 156.598,47.2441 \n",
       "  \"/>\n",
       "<polyline clip-path=\"url(#clip300)\" style=\"stroke:#000000; stroke-linecap:butt; stroke-linejoin:round; stroke-width:4; stroke-opacity:1; fill:none\" points=\"\n",
       "  156.598,1486.45 175.496,1486.45 \n",
       "  \"/>\n",
       "<polyline clip-path=\"url(#clip300)\" style=\"stroke:#000000; stroke-linecap:butt; stroke-linejoin:round; stroke-width:4; stroke-opacity:1; fill:none\" points=\"\n",
       "  156.598,1198.61 175.496,1198.61 \n",
       "  \"/>\n",
       "<polyline clip-path=\"url(#clip300)\" style=\"stroke:#000000; stroke-linecap:butt; stroke-linejoin:round; stroke-width:4; stroke-opacity:1; fill:none\" points=\"\n",
       "  156.598,910.766 175.496,910.766 \n",
       "  \"/>\n",
       "<polyline clip-path=\"url(#clip300)\" style=\"stroke:#000000; stroke-linecap:butt; stroke-linejoin:round; stroke-width:4; stroke-opacity:1; fill:none\" points=\"\n",
       "  156.598,622.926 175.496,622.926 \n",
       "  \"/>\n",
       "<polyline clip-path=\"url(#clip300)\" style=\"stroke:#000000; stroke-linecap:butt; stroke-linejoin:round; stroke-width:4; stroke-opacity:1; fill:none\" points=\"\n",
       "  156.598,335.085 175.496,335.085 \n",
       "  \"/>\n",
       "<polyline clip-path=\"url(#clip300)\" style=\"stroke:#000000; stroke-linecap:butt; stroke-linejoin:round; stroke-width:4; stroke-opacity:1; fill:none\" points=\"\n",
       "  156.598,47.2441 175.496,47.2441 \n",
       "  \"/>\n",
       "<path clip-path=\"url(#clip300)\" d=\"M63.4226 1472.25 Q59.8115 1472.25 57.9828 1475.81 Q56.1773 1479.35 56.1773 1486.48 Q56.1773 1493.59 57.9828 1497.15 Q59.8115 1500.7 63.4226 1500.7 Q67.0569 1500.7 68.8624 1497.15 Q70.6911 1493.59 70.6911 1486.48 Q70.6911 1479.35 68.8624 1475.81 Q67.0569 1472.25 63.4226 1472.25 M63.4226 1468.54 Q69.2328 1468.54 72.2883 1473.15 Q75.367 1477.73 75.367 1486.48 Q75.367 1495.21 72.2883 1499.82 Q69.2328 1504.4 63.4226 1504.4 Q57.6125 1504.4 54.5338 1499.82 Q51.4782 1495.21 51.4782 1486.48 Q51.4782 1477.73 54.5338 1473.15 Q57.6125 1468.54 63.4226 1468.54 Z\" fill=\"#000000\" fill-rule=\"evenodd\" fill-opacity=\"1\" /><path clip-path=\"url(#clip300)\" d=\"M83.5845 1497.85 L88.4688 1497.85 L88.4688 1503.73 L83.5845 1503.73 L83.5845 1497.85 Z\" fill=\"#000000\" fill-rule=\"evenodd\" fill-opacity=\"1\" /><path clip-path=\"url(#clip300)\" d=\"M108.654 1472.25 Q105.043 1472.25 103.214 1475.81 Q101.409 1479.35 101.409 1486.48 Q101.409 1493.59 103.214 1497.15 Q105.043 1500.7 108.654 1500.7 Q112.288 1500.7 114.094 1497.15 Q115.922 1493.59 115.922 1486.48 Q115.922 1479.35 114.094 1475.81 Q112.288 1472.25 108.654 1472.25 M108.654 1468.54 Q114.464 1468.54 117.52 1473.15 Q120.598 1477.73 120.598 1486.48 Q120.598 1495.21 117.52 1499.82 Q114.464 1504.4 108.654 1504.4 Q102.844 1504.4 99.765 1499.82 Q96.7095 1495.21 96.7095 1486.48 Q96.7095 1477.73 99.765 1473.15 Q102.844 1468.54 108.654 1468.54 Z\" fill=\"#000000\" fill-rule=\"evenodd\" fill-opacity=\"1\" /><path clip-path=\"url(#clip300)\" d=\"M65.0198 1184.41 Q61.4087 1184.41 59.58 1187.97 Q57.7745 1191.51 57.7745 1198.64 Q57.7745 1205.75 59.58 1209.31 Q61.4087 1212.85 65.0198 1212.85 Q68.6541 1212.85 70.4596 1209.31 Q72.2883 1205.75 72.2883 1198.64 Q72.2883 1191.51 70.4596 1187.97 Q68.6541 1184.41 65.0198 1184.41 M65.0198 1180.7 Q70.83 1180.7 73.8855 1185.31 Q76.9642 1189.89 76.9642 1198.64 Q76.9642 1207.37 73.8855 1211.98 Q70.83 1216.56 65.0198 1216.56 Q59.2097 1216.56 56.131 1211.98 Q53.0754 1207.37 53.0754 1198.64 Q53.0754 1189.89 56.131 1185.31 Q59.2097 1180.7 65.0198 1180.7 Z\" fill=\"#000000\" fill-rule=\"evenodd\" fill-opacity=\"1\" /><path clip-path=\"url(#clip300)\" d=\"M85.1818 1210.01 L90.066 1210.01 L90.066 1215.89 L85.1818 1215.89 L85.1818 1210.01 Z\" fill=\"#000000\" fill-rule=\"evenodd\" fill-opacity=\"1\" /><path clip-path=\"url(#clip300)\" d=\"M104.279 1211.95 L120.598 1211.95 L120.598 1215.89 L98.6539 1215.89 L98.6539 1211.95 Q101.316 1209.2 105.899 1204.57 Q110.506 1199.91 111.686 1198.57 Q113.932 1196.05 114.811 1194.31 Q115.714 1192.55 115.714 1190.86 Q115.714 1188.11 113.77 1186.37 Q111.848 1184.64 108.746 1184.64 Q106.547 1184.64 104.094 1185.4 Q101.663 1186.17 98.8854 1187.72 L98.8854 1182.99 Q101.709 1181.86 104.163 1181.28 Q106.617 1180.7 108.654 1180.7 Q114.024 1180.7 117.219 1183.39 Q120.413 1186.07 120.413 1190.56 Q120.413 1192.69 119.603 1194.61 Q118.816 1196.51 116.709 1199.1 Q116.131 1199.78 113.029 1202.99 Q109.927 1206.19 104.279 1211.95 Z\" fill=\"#000000\" fill-rule=\"evenodd\" fill-opacity=\"1\" /><path clip-path=\"url(#clip300)\" d=\"M62.9365 896.565 Q59.3254 896.565 57.4967 900.13 Q55.6912 903.671 55.6912 910.801 Q55.6912 917.908 57.4967 921.472 Q59.3254 925.014 62.9365 925.014 Q66.5707 925.014 68.3763 921.472 Q70.205 917.908 70.205 910.801 Q70.205 903.671 68.3763 900.13 Q66.5707 896.565 62.9365 896.565 M62.9365 892.861 Q68.7467 892.861 71.8022 897.468 Q74.8809 902.051 74.8809 910.801 Q74.8809 919.528 71.8022 924.134 Q68.7467 928.718 62.9365 928.718 Q57.1264 928.718 54.0477 924.134 Q50.9921 919.528 50.9921 910.801 Q50.9921 902.051 54.0477 897.468 Q57.1264 892.861 62.9365 892.861 Z\" fill=\"#000000\" fill-rule=\"evenodd\" fill-opacity=\"1\" /><path clip-path=\"url(#clip300)\" d=\"M83.0984 922.167 L87.9827 922.167 L87.9827 928.046 L83.0984 928.046 L83.0984 922.167 Z\" fill=\"#000000\" fill-rule=\"evenodd\" fill-opacity=\"1\" /><path clip-path=\"url(#clip300)\" d=\"M111.015 897.56 L99.2095 916.009 L111.015 916.009 L111.015 897.56 M109.788 893.486 L115.668 893.486 L115.668 916.009 L120.598 916.009 L120.598 919.898 L115.668 919.898 L115.668 928.046 L111.015 928.046 L111.015 919.898 L95.4132 919.898 L95.4132 915.384 L109.788 893.486 Z\" fill=\"#000000\" fill-rule=\"evenodd\" fill-opacity=\"1\" /><path clip-path=\"url(#clip300)\" d=\"M63.2606 608.724 Q59.6495 608.724 57.8208 612.289 Q56.0152 615.831 56.0152 622.96 Q56.0152 630.067 57.8208 633.632 Q59.6495 637.173 63.2606 637.173 Q66.8948 637.173 68.7004 633.632 Q70.5291 630.067 70.5291 622.96 Q70.5291 615.831 68.7004 612.289 Q66.8948 608.724 63.2606 608.724 M63.2606 605.021 Q69.0707 605.021 72.1263 609.627 Q75.205 614.21 75.205 622.96 Q75.205 631.687 72.1263 636.294 Q69.0707 640.877 63.2606 640.877 Q57.4504 640.877 54.3717 636.294 Q51.3162 631.687 51.3162 622.96 Q51.3162 614.21 54.3717 609.627 Q57.4504 605.021 63.2606 605.021 Z\" fill=\"#000000\" fill-rule=\"evenodd\" fill-opacity=\"1\" /><path clip-path=\"url(#clip300)\" d=\"M83.4225 634.326 L88.3067 634.326 L88.3067 640.206 L83.4225 640.206 L83.4225 634.326 Z\" fill=\"#000000\" fill-rule=\"evenodd\" fill-opacity=\"1\" /><path clip-path=\"url(#clip300)\" d=\"M109.071 621.062 Q105.922 621.062 104.071 623.215 Q102.242 625.368 102.242 629.118 Q102.242 632.845 104.071 635.02 Q105.922 637.173 109.071 637.173 Q112.219 637.173 114.047 635.02 Q115.899 632.845 115.899 629.118 Q115.899 625.368 114.047 623.215 Q112.219 621.062 109.071 621.062 M118.353 606.409 L118.353 610.669 Q116.594 609.835 114.788 609.396 Q113.006 608.956 111.246 608.956 Q106.617 608.956 104.163 612.081 Q101.733 615.206 101.385 621.525 Q102.751 619.511 104.811 618.446 Q106.871 617.359 109.348 617.359 Q114.557 617.359 117.566 620.53 Q120.598 623.678 120.598 629.118 Q120.598 634.442 117.45 637.659 Q114.302 640.877 109.071 640.877 Q103.075 640.877 99.9039 636.294 Q96.7326 631.687 96.7326 622.96 Q96.7326 614.766 100.621 609.905 Q104.51 605.021 111.061 605.021 Q112.82 605.021 114.603 605.368 Q116.408 605.715 118.353 606.409 Z\" fill=\"#000000\" fill-rule=\"evenodd\" fill-opacity=\"1\" /><path clip-path=\"url(#clip300)\" d=\"M63.5152 320.884 Q59.9041 320.884 58.0754 324.448 Q56.2699 327.99 56.2699 335.12 Q56.2699 342.226 58.0754 345.791 Q59.9041 349.332 63.5152 349.332 Q67.1494 349.332 68.955 345.791 Q70.7837 342.226 70.7837 335.12 Q70.7837 327.99 68.955 324.448 Q67.1494 320.884 63.5152 320.884 M63.5152 317.18 Q69.3254 317.18 72.3809 321.786 Q75.4596 326.37 75.4596 335.12 Q75.4596 343.846 72.3809 348.453 Q69.3254 353.036 63.5152 353.036 Q57.7051 353.036 54.6264 348.453 Q51.5708 343.846 51.5708 335.12 Q51.5708 326.37 54.6264 321.786 Q57.7051 317.18 63.5152 317.18 Z\" fill=\"#000000\" fill-rule=\"evenodd\" fill-opacity=\"1\" /><path clip-path=\"url(#clip300)\" d=\"M83.6771 346.485 L88.5614 346.485 L88.5614 352.365 L83.6771 352.365 L83.6771 346.485 Z\" fill=\"#000000\" fill-rule=\"evenodd\" fill-opacity=\"1\" /><path clip-path=\"url(#clip300)\" d=\"M108.746 335.953 Q105.413 335.953 103.492 337.735 Q101.594 339.518 101.594 342.643 Q101.594 345.768 103.492 347.55 Q105.413 349.332 108.746 349.332 Q112.08 349.332 114.001 347.55 Q115.922 345.745 115.922 342.643 Q115.922 339.518 114.001 337.735 Q112.103 335.953 108.746 335.953 M104.071 333.962 Q101.061 333.221 99.3715 331.161 Q97.7048 329.101 97.7048 326.138 Q97.7048 321.995 100.645 319.587 Q103.608 317.18 108.746 317.18 Q113.908 317.18 116.848 319.587 Q119.788 321.995 119.788 326.138 Q119.788 329.101 118.098 331.161 Q116.432 333.221 113.445 333.962 Q116.825 334.749 118.7 337.041 Q120.598 339.333 120.598 342.643 Q120.598 347.666 117.52 350.351 Q114.464 353.036 108.746 353.036 Q103.029 353.036 99.9502 350.351 Q96.8947 347.666 96.8947 342.643 Q96.8947 339.333 98.7928 337.041 Q100.691 334.749 104.071 333.962 M102.358 326.578 Q102.358 329.263 104.024 330.768 Q105.714 332.272 108.746 332.272 Q111.756 332.272 113.445 330.768 Q115.158 329.263 115.158 326.578 Q115.158 323.893 113.445 322.388 Q111.756 320.884 108.746 320.884 Q105.714 320.884 104.024 322.388 Q102.358 323.893 102.358 326.578 Z\" fill=\"#000000\" fill-rule=\"evenodd\" fill-opacity=\"1\" /><path clip-path=\"url(#clip300)\" d=\"M54.2328 60.5889 L61.8717 60.5889 L61.8717 34.2233 L53.5616 35.89 L53.5616 31.6308 L61.8254 29.9641 L66.5013 29.9641 L66.5013 60.5889 L74.1402 60.5889 L74.1402 64.5241 L54.2328 64.5241 L54.2328 60.5889 Z\" fill=\"#000000\" fill-rule=\"evenodd\" fill-opacity=\"1\" /><path clip-path=\"url(#clip300)\" d=\"M83.5845 58.6445 L88.4688 58.6445 L88.4688 64.5241 L83.5845 64.5241 L83.5845 58.6445 Z\" fill=\"#000000\" fill-rule=\"evenodd\" fill-opacity=\"1\" /><path clip-path=\"url(#clip300)\" d=\"M108.654 33.0428 Q105.043 33.0428 103.214 36.6076 Q101.409 40.1492 101.409 47.2788 Q101.409 54.3853 103.214 57.9501 Q105.043 61.4917 108.654 61.4917 Q112.288 61.4917 114.094 57.9501 Q115.922 54.3853 115.922 47.2788 Q115.922 40.1492 114.094 36.6076 Q112.288 33.0428 108.654 33.0428 M108.654 29.3391 Q114.464 29.3391 117.52 33.9456 Q120.598 38.5289 120.598 47.2788 Q120.598 56.0056 117.52 60.6121 Q114.464 65.1954 108.654 65.1954 Q102.844 65.1954 99.765 60.6121 Q96.7095 56.0056 96.7095 47.2788 Q96.7095 38.5289 99.765 33.9456 Q102.844 29.3391 108.654 29.3391 Z\" fill=\"#000000\" fill-rule=\"evenodd\" fill-opacity=\"1\" /><polyline clip-path=\"url(#clip302)\" style=\"stroke:#009af9; stroke-linecap:butt; stroke-linejoin:round; stroke-width:4; stroke-opacity:1; fill:none\" points=\"\n",
       "  218.754,191.164 225.66,292.928 232.566,383.026 239.472,462.963 246.378,534.032 253.284,597.321 260.191,653.785 267.097,704.259 274.003,749.427 280.909,789.898 \n",
       "  287.815,826.228 294.721,858.912 301.628,888.343 308.534,914.861 315.44,938.785 322.346,960.411 329.252,980.011 336.158,997.805 343.064,1013.96 349.971,1028.64 \n",
       "  356.877,1041.99 363.783,1054.16 370.689,1065.29 377.595,1075.51 384.501,1084.9 391.408,1093.53 398.314,1101.47 405.22,1108.78 412.126,1115.53 419.032,1121.78 \n",
       "  425.938,1127.58 432.844,1133 439.751,1138.08 446.657,1142.85 453.563,1147.33 460.469,1151.53 467.375,1155.48 474.281,1159.2 481.188,1162.71 488.094,1166.04 \n",
       "  495,1169.21 501.906,1172.24 508.812,1175.16 515.718,1177.98 522.625,1180.7 529.531,1183.33 536.437,1185.86 543.343,1188.31 550.249,1190.67 557.155,1192.95 \n",
       "  564.061,1195.15 570.968,1197.3 577.874,1199.39 584.78,1201.43 591.686,1203.44 598.592,1205.43 605.498,1207.4 612.405,1209.36 619.311,1211.28 626.217,1213.17 \n",
       "  633.123,1215.03 640.029,1216.84 646.935,1218.61 653.841,1220.35 660.748,1222.06 667.654,1223.74 674.56,1225.4 681.466,1227.06 688.372,1228.73 695.278,1230.42 \n",
       "  702.185,1232.11 709.091,1233.78 715.997,1235.43 722.903,1237.04 729.809,1238.62 736.715,1240.17 743.622,1241.69 750.528,1243.2 757.434,1244.73 764.34,1246.28 \n",
       "  771.246,1247.84 778.152,1249.39 785.058,1250.92 791.965,1252.43 798.871,1253.9 805.777,1255.36 812.683,1256.79 819.589,1258.21 826.495,1259.64 833.402,1261.09 \n",
       "  840.308,1262.54 847.214,1264 854.12,1265.44 861.026,1266.85 867.932,1268.24 874.838,1269.61 881.745,1270.97 888.651,1272.31 895.557,1273.65 902.463,1275 \n",
       "  909.369,1276.38 916.275,1277.75 923.182,1279.1 930.088,1280.44 936.994,1281.76 943.9,1283.05 950.806,1284.33 957.712,1285.59 964.619,1286.84 971.525,1288.11 \n",
       "  978.431,1289.4 985.337,1290.69 992.243,1291.97 999.149,1293.25 1006.06,1294.49 1012.96,1295.72 1019.87,1296.92 1026.77,1298.11 1033.68,1299.28 1040.59,1300.46 \n",
       "  1047.49,1301.65 1054.4,1302.86 1061.3,1304.08 1068.21,1305.29 1075.12,1306.48 1082.02,1307.65 1088.93,1308.78 1095.84,1309.9 1102.74,1311 1109.65,1312.09 \n",
       "  1116.55,1313.2 1123.46,1314.32 1130.37,1315.47 1137.27,1316.61 1144.18,1317.74 1151.08,1318.85 1157.99,1319.93 1164.9,1320.99 1171.8,1322.02 1178.71,1323.05 \n",
       "  1185.62,1324.07 1192.52,1325.11 1199.43,1326.19 1206.33,1327.26 1213.24,1328.33 1220.15,1329.37 1227.05,1330.4 1233.96,1331.4 1240.86,1332.37 1247.77,1333.34 \n",
       "  1254.68,1334.3 1261.58,1335.27 1268.49,1336.27 1275.4,1337.27 1282.3,1338.27 1289.21,1339.26 1296.11,1340.23 1303.02,1341.17 1309.93,1342.09 1316.83,1343 \n",
       "  1323.74,1343.9 1330.64,1344.8 1337.55,1345.73 1344.46,1346.67 1351.36,1347.61 1358.27,1348.54 1365.18,1349.45 1372.08,1350.34 1378.99,1351.21 1385.89,1352.06 \n",
       "  1392.8,1352.9 1399.71,1353.74 1406.61,1354.6 1413.52,1355.48 1420.42,1356.37 1427.33,1357.24 1434.24,1358.1 1441.14,1358.94 1448.05,1359.76 1454.96,1360.56 \n",
       "  1461.86,1361.35 1468.77,1362.13 1475.67,1362.92 1482.58,1363.74 1489.49,1364.57 1496.39,1365.4 1503.3,1366.21 1510.2,1367.01 1517.11,1367.78 1524.02,1368.54 \n",
       "  1530.92,1369.27 1537.83,1370 1544.74,1370.73 1551.64,1371.47 1558.55,1372.25 1565.45,1373.03 1572.36,1373.8 1579.27,1374.55 1586.17,1375.29 1593.08,1376 \n",
       "  1599.98,1376.69 1606.89,1377.37 1613.8,1378.05 1620.7,1378.73 1627.61,1379.45 1634.52,1380.17 1641.42,1380.9 1648.33,1381.62 1655.23,1382.31 1662.14,1382.99 \n",
       "  1669.05,1383.64 1675.95,1384.28 1682.86,1384.91 1689.76,1385.54 1696.67,1386.2 1703.58,1386.88 1710.48,1387.56 1717.39,1388.23 1724.3,1388.89 1731.2,1389.53 \n",
       "  1738.11,1390.15 1745.01,1390.75 1751.92,1391.33 1758.83,1391.92 1765.73,1392.52 1772.64,1393.15 1779.54,1393.79 1786.45,1394.43 1793.36,1395.05 1800.26,1395.65 \n",
       "  1807.17,1396.23 1814.08,1396.8 1820.98,1397.35 1827.89,1397.9 1834.79,1398.45 1841.7,1399.03 1848.61,1399.63 1855.51,1400.22 1862.42,1400.81 1869.32,1401.38 \n",
       "  1876.23,1401.93 1883.14,1402.47 1890.04,1402.98 1896.95,1403.49 1903.86,1404 1910.76,1404.53 1917.67,1405.08 1924.57,1405.64 1931.48,1406.2 1938.39,1406.74 \n",
       "  1945.29,1407.27 1952.2,1407.77 1959.11,1408.26 1966.01,1408.73 1972.92,1409.2 1979.82,1409.68 1986.73,1410.19 1993.64,1410.71 2000.54,1411.24 2007.45,1411.75 \n",
       "  2014.35,1412.25 2021.26,1412.73 2028.17,1413.19 2035.07,1413.64 2041.98,1414.07 2048.89,1414.51 2055.79,1414.97 2062.7,1415.46 2069.6,1415.95 2076.51,1416.44 \n",
       "  2083.42,1416.91 2090.32,1417.37 2097.23,1417.81 2104.13,1418.22 2111.04,1418.63 2117.95,1419.04 2124.85,1419.46 2131.76,1419.9 2138.67,1420.36 2145.57,1420.82 \n",
       "  2152.48,1421.27 2159.38,1421.71 2166.29,1422.12 2173.2,1422.52 2180.1,1422.9 2187.01,1423.28 2193.91,1423.66 2200.82,1424.06 2207.73,1424.49 2214.63,1424.92 \n",
       "  2221.54,1425.35 2228.45,1425.76 2235.35,1426.16 2242.26,1426.53 2249.16,1426.89 2256.07,1427.24 2262.98,1427.6 2269.88,1427.96 2276.79,1428.35 2283.69,1428.74 \n",
       "  2290.6,1429.12 \n",
       "  \"/>\n",
       "<circle clip-path=\"url(#clip302)\" cx=\"280.909\" cy=\"561.184\" r=\"14\" fill=\"#e26f46\" fill-rule=\"evenodd\" fill-opacity=\"1\" stroke=\"#000000\" stroke-opacity=\"1\" stroke-width=\"3.2\"/>\n",
       "<circle clip-path=\"url(#clip302)\" cx=\"284.362\" cy=\"706.975\" r=\"14\" fill=\"#e26f46\" fill-rule=\"evenodd\" fill-opacity=\"1\" stroke=\"#000000\" stroke-opacity=\"1\" stroke-width=\"3.2\"/>\n",
       "<circle clip-path=\"url(#clip302)\" cx=\"298.174\" cy=\"859.387\" r=\"14\" fill=\"#e26f46\" fill-rule=\"evenodd\" fill-opacity=\"1\" stroke=\"#000000\" stroke-opacity=\"1\" stroke-width=\"3.2\"/>\n",
       "<circle clip-path=\"url(#clip302)\" cx=\"305.081\" cy=\"738.206\" r=\"14\" fill=\"#e26f46\" fill-rule=\"evenodd\" fill-opacity=\"1\" stroke=\"#000000\" stroke-opacity=\"1\" stroke-width=\"3.2\"/>\n",
       "<circle clip-path=\"url(#clip302)\" cx=\"332.705\" cy=\"913.645\" r=\"14\" fill=\"#e26f46\" fill-rule=\"evenodd\" fill-opacity=\"1\" stroke=\"#000000\" stroke-opacity=\"1\" stroke-width=\"3.2\"/>\n",
       "<circle clip-path=\"url(#clip302)\" cx=\"367.236\" cy=\"1018.27\" r=\"14\" fill=\"#e26f46\" fill-rule=\"evenodd\" fill-opacity=\"1\" stroke=\"#000000\" stroke-opacity=\"1\" stroke-width=\"3.2\"/>\n",
       "<circle clip-path=\"url(#clip302)\" cx=\"401.767\" cy=\"1116.43\" r=\"14\" fill=\"#e26f46\" fill-rule=\"evenodd\" fill-opacity=\"1\" stroke=\"#000000\" stroke-opacity=\"1\" stroke-width=\"3.2\"/>\n",
       "<circle clip-path=\"url(#clip302)\" cx=\"470.828\" cy=\"1148.09\" r=\"14\" fill=\"#e26f46\" fill-rule=\"evenodd\" fill-opacity=\"1\" stroke=\"#000000\" stroke-opacity=\"1\" stroke-width=\"3.2\"/>\n",
       "<circle clip-path=\"url(#clip302)\" cx=\"608.951\" cy=\"1252\" r=\"14\" fill=\"#e26f46\" fill-rule=\"evenodd\" fill-opacity=\"1\" stroke=\"#000000\" stroke-opacity=\"1\" stroke-width=\"3.2\"/>\n",
       "<circle clip-path=\"url(#clip302)\" cx=\"747.075\" cy=\"1269.13\" r=\"14\" fill=\"#e26f46\" fill-rule=\"evenodd\" fill-opacity=\"1\" stroke=\"#000000\" stroke-opacity=\"1\" stroke-width=\"3.2\"/>\n",
       "<circle clip-path=\"url(#clip302)\" cx=\"885.198\" cy=\"1257.9\" r=\"14\" fill=\"#e26f46\" fill-rule=\"evenodd\" fill-opacity=\"1\" stroke=\"#000000\" stroke-opacity=\"1\" stroke-width=\"3.2\"/>\n",
       "<circle clip-path=\"url(#clip302)\" cx=\"1023.32\" cy=\"1280.07\" r=\"14\" fill=\"#e26f46\" fill-rule=\"evenodd\" fill-opacity=\"1\" stroke=\"#000000\" stroke-opacity=\"1\" stroke-width=\"3.2\"/>\n",
       "<circle clip-path=\"url(#clip302)\" cx=\"1230.51\" cy=\"1331.45\" r=\"14\" fill=\"#e26f46\" fill-rule=\"evenodd\" fill-opacity=\"1\" stroke=\"#000000\" stroke-opacity=\"1\" stroke-width=\"3.2\"/>\n",
       "<circle clip-path=\"url(#clip302)\" cx=\"1437.69\" cy=\"1345.69\" r=\"14\" fill=\"#e26f46\" fill-rule=\"evenodd\" fill-opacity=\"1\" stroke=\"#000000\" stroke-opacity=\"1\" stroke-width=\"3.2\"/>\n",
       "<circle clip-path=\"url(#clip302)\" cx=\"1575.81\" cy=\"1303.81\" r=\"14\" fill=\"#e26f46\" fill-rule=\"evenodd\" fill-opacity=\"1\" stroke=\"#000000\" stroke-opacity=\"1\" stroke-width=\"3.2\"/>\n",
       "<circle clip-path=\"url(#clip302)\" cx=\"1990.18\" cy=\"1399.38\" r=\"14\" fill=\"#e26f46\" fill-rule=\"evenodd\" fill-opacity=\"1\" stroke=\"#000000\" stroke-opacity=\"1\" stroke-width=\"3.2\"/>\n",
       "</svg>\n"
      ]
     },
     "execution_count": 2044,
     "metadata": {},
     "output_type": "execute_result"
    }
   ],
   "source": [
    "times = 0:10e-3:t_span[2]\n",
    "sol_values = sol(times)\n",
    "\n",
    "detectable = [sum(u[idxs_d]) for u in sol_values]\n",
    "\n",
    "plot(times, detectable, legend=nothing)\n",
    "plot!(\n",
    "    xticks=0.0:0.5:3.0,\n",
    "    yticks=0.0:0.2:1.0,\n",
    "    ylim=(0,1)\n",
    ")\n",
    "scatter!(data.X100_xs, data.X100_ys)"
   ]
  },
  {
   "cell_type": "code",
   "execution_count": 1998,
   "metadata": {},
   "outputs": [
    {
     "data": {
      "text/plain": [
       "pred (generic function with 1 method)"
      ]
     },
     "execution_count": 1998,
     "metadata": {},
     "output_type": "execute_result"
    }
   ],
   "source": [
    "pred(sol, ts, idxs) = [sum(sol(t)[idxs]) for t in ts]"
   ]
  },
  {
   "cell_type": "code",
   "execution_count": 1000,
   "metadata": {},
   "outputs": [
    {
     "data": {
      "text/plain": [
       "4.35855678"
      ]
     },
     "execution_count": 1000,
     "metadata": {},
     "output_type": "execute_result"
    }
   ],
   "source": [
    "preds = pred(sol, data.X000_xs, p0.idxs_d)\n",
    "squared_error(data.X000_xs, data.X000_ys, preds)"
   ]
  },
  {
   "cell_type": "code",
   "execution_count": 696,
   "metadata": {},
   "outputs": [],
   "source": [
    "using ProgressMeter"
   ]
  },
  {
   "cell_type": "code",
   "execution_count": 697,
   "metadata": {},
   "outputs": [],
   "source": [
    "μ_v1 = (0.20:0.02:0.40) .* 3.336e-30\n",
    "μ_v2 = (0.20:0.02:0.40) .* 3.336e-30\n",
    "τ_vacuum = 1.5:0.1:2.5\n",
    "n0_X000 = 0.7:0.02:0.8\n",
    "n0_X100 = 0.7:0.02:0.8\n",
    "imperfect_X100_prep = 0.0:0.05:0.20\n",
    "\n",
    "grid = (\n",
    "    μ_v1 = μ_v1,\n",
    "    μ_v2 = μ_v2,\n",
    "    τ_vacuum = τ_vacuum,\n",
    "    n0_X000 = n0_X000,\n",
    "    n0_X100 = n0_X100,\n",
    "    imperfect_X100_prep = imperfect_X100_prep\n",
    ")\n",
    ";"
   ]
  },
  {
   "cell_type": "code",
   "execution_count": 698,
   "metadata": {},
   "outputs": [],
   "source": [
    "function grid_scan(grid, prob, p0, data)\n",
    "    \n",
    "    grid_iterable = collect(Iterators.product(grid...))\n",
    "    \n",
    "    errors = []\n",
    "    \n",
    "    n0 = zeros(Float64, length(p0.basis))\n",
    "    R = zeros(Float64, length(p0.basis), length(p0.basis))\n",
    "    prob = ODEProblem(rate_eqns!, n0, p0.t_span, R)\n",
    "    \n",
    "    @showprogress for i in eachindex(grid_iterable)\n",
    "        params = grid_iterable[i]\n",
    "        \n",
    "        p′ = NamedTuple{fieldnames(grid)}(params)\n",
    "        p = (; p0..., p′...)\n",
    "        \n",
    "        construct_rate_eqns!(R, p)\n",
    "        \n",
    "        # Initialize in X(000)\n",
    "        n0 .= 0.0\n",
    "        n0[p0.idxs.X000_idxs[5]] = p.n0_X000\n",
    "        new_prob = remake(prob, u0=n0, p=R)\n",
    "        sol_X000 = DifferentialEquations.solve(new_prob, alg=DP5())\n",
    "        \n",
    "        X000_preds = pred(sol, data.X000_xs, p.idxs_d)\n",
    "        error_X000 = squared_error(data.X000_xs, data.X000_ys, X000_preds)\n",
    "        \n",
    "        # Initialize in X(100)\n",
    "        n0 .= 0.0\n",
    "        n0[p.idxs.X100_idxs[5]] = (1 - p.imperfect_X100_prep) * p.n0_X100\n",
    "        n0[p.idxs.X000_idxs[5]] = p.imperfect_X100_prep * p.n0_X100\n",
    "        new_prob = remake(prob, u0=n0, p=R)\n",
    "        sol_X100 = DifferentialEquations.solve(new_prob, alg=DP5())\n",
    "        \n",
    "        X100_preds = pred(sol, data.X100_xs, p.idxs_d)\n",
    "        error_X100 = squared_error(data.X100_xs, data.X100_ys, X100_preds)\n",
    "        \n",
    "        push!(errors, error_X000 + error_X100)\n",
    "\n",
    "#         print(round(i / length(grid_iterable), digits=2), \" (\", params, \")\", \": \", round(error, digits=5), \"\\r\")\n",
    "#         flush(stdout)\n",
    "        \n",
    "    end\n",
    "    return errors\n",
    "end\n",
    ";"
   ]
  },
  {
   "cell_type": "code",
   "execution_count": 254,
   "metadata": {},
   "outputs": [],
   "source": [
    "using ProgressMeter\n",
    "@time errors = grid_scan(grid, prob, p0, data)\n",
    ";"
   ]
  },
  {
   "cell_type": "markdown",
   "metadata": {},
   "source": [
    "### Reduce to $(N, \\text{parity})$ subspace"
   ]
  },
  {
   "cell_type": "code",
   "execution_count": 1976,
   "metadata": {},
   "outputs": [],
   "source": [
    "function get_subsets(basis, N_max, initial_idx1, initial_idx2)\n",
    "    Np_idxs = []\n",
    "    \n",
    "    idx = 1\n",
    "    for N_iter ∈ 0:N_max\n",
    "        for p_iter ∈ [-1,1]\n",
    "            idxs, _ = subspace(basis, (N = (N_iter, N_iter), p = (p_iter, p_iter)))\n",
    "            if !isempty(idxs)\n",
    "                Np_idxs = [Np_idxs; (initial_idx2 + idx, N_iter, p_iter, initial_idx1 .+ idxs .- 1, length(idxs))]\n",
    "                idx += 1\n",
    "            end\n",
    "        end\n",
    "    end\n",
    "    return (Np_idxs, initial_idx2 + idx - 1)\n",
    "end\n",
    ";"
   ]
  },
  {
   "cell_type": "code",
   "execution_count": 1977,
   "metadata": {},
   "outputs": [],
   "source": [
    "X000_Np_idxs, next_idx = get_subsets(X000_basis, N_max, X000_idxs[1], 0)\n",
    "X100_Np_idxs, next_idx = get_subsets(X100_basis, N_max, X100_idxs[1], next_idx)\n",
    "X200_Np_idxs, next_idx = get_subsets(X200_basis, N_max, X200_idxs[1], next_idx)\n",
    "X300_Np_idxs, next_idx = get_subsets(X300_basis, N_max, X300_idxs[1], next_idx)\n",
    "X0110_Np_idxs, next_idx = get_subsets(X0110_basis, N_max, X0110_idxs[1], next_idx)\n",
    "X0200_Np_idxs, next_idx = get_subsets(X0200_basis, N_max, X0200_idxs[1], next_idx)\n",
    "X0220_Np_idxs, next_idx = get_subsets(X0220_basis, N_max, X0220_idxs[1], next_idx)\n",
    "X1110_Np_idxs, next_idx = get_subsets(X1110_basis, N_max, X1110_idxs[1], next_idx)\n",
    "\n",
    "idxs_Np_all = [\n",
    "    X000_Np_idxs\n",
    "    X100_Np_idxs\n",
    "    X200_Np_idxs\n",
    "    X300_Np_idxs\n",
    "    X0110_Np_idxs\n",
    "    X0200_Np_idxs\n",
    "    X0220_Np_idxs\n",
    "    X1110_Np_idxs\n",
    "]\n",
    "\n",
    "idxs_Np = (\n",
    "    X000_idxs = [x[1] for x in X000_Np_idxs],\n",
    "    X100_idxs = [x[1] for x in X100_Np_idxs],\n",
    "    X200_idxs = [x[1] for x in X200_Np_idxs],\n",
    "    X300_idxs = [x[1] for x in X300_Np_idxs],\n",
    "    X0110_idxs = [x[1] for x in X0110_Np_idxs],\n",
    "    X0200_idxs = [x[1] for x in X0200_Np_idxs],\n",
    "    X0220_idxs = [x[1] for x in X0220_Np_idxs],\n",
    "    X1110_idxs = [x[1] for x in X1110_Np_idxs]\n",
    ")\n",
    "\n",
    "X000_Np_idxs_d = [2]\n",
    "X100_Np_idxs_d = [8]\n",
    "X200_Np_idxs_d = [14]\n",
    "X300_Np_idxs_d = [20]\n",
    "X0110_Np_idxs_d = [25, 27]\n",
    "X0200_Np_idxs_d = [36]\n",
    "X0220_Np_idxs_d = [41]\n",
    "X1110_Np_idxs_d = [49, 51]\n",
    "idxs_Np_d = [\n",
    "    X000_Np_idxs_d\n",
    "    X100_Np_idxs_d\n",
    "    X200_Np_idxs_d\n",
    "    X300_Np_idxs_d\n",
    "    X0110_Np_idxs_d\n",
    "    X0200_Np_idxs_d\n",
    "    X0220_Np_idxs_d\n",
    "    X1110_Np_idxs_d\n",
    "]\n",
    "\n",
    "multiplicities = [x[5] for x in idxs_Np_all]\n",
    ";"
   ]
  },
  {
   "cell_type": "code",
   "execution_count": 1978,
   "metadata": {},
   "outputs": [],
   "source": [
    "n_Np_states = length(idxs_Np_all)\n",
    "μ_M_Np = zeros(Float64, n_Np_states, n_Np_states)\n",
    ";"
   ]
  },
  {
   "cell_type": "code",
   "execution_count": 1979,
   "metadata": {},
   "outputs": [],
   "source": [
    "blackbody_M_Np = zeros(Float64, n_Np_states, n_Np_states)\n",
    "Γ_M_Np = zeros(Float64, n_Np_states, n_Np_states)\n",
    "\n",
    "for (i, idxs1) in enumerate(x[4] for x in idxs_Np_all)\n",
    "    for (j, idxs2) in enumerate(x[4] for x in idxs_Np_all)\n",
    "        blackbody_M_Np[i,j] += sum(blackbody_M[idxs1, idxs2])\n",
    "        Γ_M_Np[i,j] += sum(Γ_M[idxs1, idxs2])\n",
    "    end\n",
    "end\n",
    ";"
   ]
  },
  {
   "cell_type": "code",
   "execution_count": 1980,
   "metadata": {},
   "outputs": [],
   "source": [
    "p0_Np = (\n",
    "    μ_M_Np = μ_M_Np, \n",
    "    Γ_M_Np = Γ_M_Np, \n",
    "    blackbody_M_Np = blackbody_M_Np, \n",
    "    idxs_Np = idxs_Np, \n",
    "    idxs_Np_all = idxs_Np_all,\n",
    "    multiplicities = multiplicities,\n",
    "    idxs_Np_d = idxs_Np_d,\n",
    "    μ_v1 = μ_v1, \n",
    "    μ_v2 = μ_v2, \n",
    "    τ_vacuum = τ_vacuum,\n",
    "    t_span = t_span\n",
    ")\n",
    ";"
   ]
  },
  {
   "cell_type": "code",
   "execution_count": 1739,
   "metadata": {},
   "outputs": [],
   "source": [
    "function construct_rate_eqns_Np!(R_Np, p)\n",
    "    \n",
    "    update_μ_M!(p.μ_M_Np, p.idxs_Np, p.μ_v1, p.μ_v2)\n",
    "    \n",
    "    R_Np .= 0.0\n",
    "    for i in eachindex(p.idxs_Np_all)\n",
    "        for j in eachindex(p.idxs_Np_all)\n",
    "            mult_j = p.multiplicities[j]\n",
    "            \n",
    "            R_Np[i,j] += p.μ_M_Np[i,j] * p.blackbody_M_Np[i,j] / mult_j\n",
    "            R_Np[i,j] += p.μ_M_Np[i,j] * p.Γ_M_Np[i,j] / mult_j\n",
    "            \n",
    "            R_Np[j,j] -= p.μ_M_Np[i,j] * p.blackbody_M_Np[i,j] / mult_j\n",
    "            R_Np[j,j] -= p.μ_M_Np[i,j] * p.Γ_M_Np[i,j] / mult_j\n",
    "        end\n",
    "        \n",
    "        R_Np[i,i] -= (1 / p.τ_vacuum)\n",
    "    end\n",
    "    \n",
    "    return nothing\n",
    "end\n",
    ";"
   ]
  },
  {
   "cell_type": "code",
   "execution_count": 1748,
   "metadata": {},
   "outputs": [],
   "source": [
    "R_Np = zeros(Float64, n_Np_states, n_Np_states)\n",
    "construct_rate_eqns_Np!(R_Np, p0_Np)"
   ]
  },
  {
   "cell_type": "code",
   "execution_count": 1768,
   "metadata": {},
   "outputs": [],
   "source": [
    "n0_Np = zeros(Float64, n_Np_states)\n",
    "# n0_Np[X000_Np_idxs_d] = 0.74\n",
    "n0_Np[X100_Np_idxs_d] .= 1.0\n",
    ";"
   ]
  },
  {
   "cell_type": "code",
   "execution_count": 1824,
   "metadata": {},
   "outputs": [
    {
     "name": "stdout",
     "output_type": "stream",
     "text": [
      "  0.000181 seconds (58 allocations: 21.297 KiB)\n"
     ]
    },
    {
     "data": {
      "image/svg+xml": [
       "<?xml version=\"1.0\" encoding=\"utf-8\"?>\n",
       "<svg xmlns=\"http://www.w3.org/2000/svg\" xmlns:xlink=\"http://www.w3.org/1999/xlink\" width=\"600\" height=\"400\" viewBox=\"0 0 2400 1600\">\n",
       "<defs>\n",
       "  <clipPath id=\"clip780\">\n",
       "    <rect x=\"0\" y=\"0\" width=\"2400\" height=\"1600\"/>\n",
       "  </clipPath>\n",
       "</defs>\n",
       "<path clip-path=\"url(#clip780)\" d=\"\n",
       "M0 1600 L2400 1600 L2400 0 L0 0  Z\n",
       "  \" fill=\"#ffffff\" fill-rule=\"evenodd\" fill-opacity=\"1\"/>\n",
       "<defs>\n",
       "  <clipPath id=\"clip781\">\n",
       "    <rect x=\"480\" y=\"0\" width=\"1681\" height=\"1600\"/>\n",
       "  </clipPath>\n",
       "</defs>\n",
       "<path clip-path=\"url(#clip780)\" d=\"\n",
       "M156.598 1486.45 L2352.76 1486.45 L2352.76 47.2441 L156.598 47.2441  Z\n",
       "  \" fill=\"#ffffff\" fill-rule=\"evenodd\" fill-opacity=\"1\"/>\n",
       "<defs>\n",
       "  <clipPath id=\"clip782\">\n",
       "    <rect x=\"156\" y=\"47\" width=\"2197\" height=\"1440\"/>\n",
       "  </clipPath>\n",
       "</defs>\n",
       "<polyline clip-path=\"url(#clip782)\" style=\"stroke:#000000; stroke-linecap:butt; stroke-linejoin:round; stroke-width:2; stroke-opacity:0.1; fill:none\" points=\"\n",
       "  218.754,1486.45 218.754,47.2441 \n",
       "  \"/>\n",
       "<polyline clip-path=\"url(#clip782)\" style=\"stroke:#000000; stroke-linecap:butt; stroke-linejoin:round; stroke-width:2; stroke-opacity:0.1; fill:none\" points=\"\n",
       "  564.061,1486.45 564.061,47.2441 \n",
       "  \"/>\n",
       "<polyline clip-path=\"url(#clip782)\" style=\"stroke:#000000; stroke-linecap:butt; stroke-linejoin:round; stroke-width:2; stroke-opacity:0.1; fill:none\" points=\"\n",
       "  909.369,1486.45 909.369,47.2441 \n",
       "  \"/>\n",
       "<polyline clip-path=\"url(#clip782)\" style=\"stroke:#000000; stroke-linecap:butt; stroke-linejoin:round; stroke-width:2; stroke-opacity:0.1; fill:none\" points=\"\n",
       "  1254.68,1486.45 1254.68,47.2441 \n",
       "  \"/>\n",
       "<polyline clip-path=\"url(#clip782)\" style=\"stroke:#000000; stroke-linecap:butt; stroke-linejoin:round; stroke-width:2; stroke-opacity:0.1; fill:none\" points=\"\n",
       "  1599.98,1486.45 1599.98,47.2441 \n",
       "  \"/>\n",
       "<polyline clip-path=\"url(#clip782)\" style=\"stroke:#000000; stroke-linecap:butt; stroke-linejoin:round; stroke-width:2; stroke-opacity:0.1; fill:none\" points=\"\n",
       "  1945.29,1486.45 1945.29,47.2441 \n",
       "  \"/>\n",
       "<polyline clip-path=\"url(#clip782)\" style=\"stroke:#000000; stroke-linecap:butt; stroke-linejoin:round; stroke-width:2; stroke-opacity:0.1; fill:none\" points=\"\n",
       "  2290.6,1486.45 2290.6,47.2441 \n",
       "  \"/>\n",
       "<polyline clip-path=\"url(#clip780)\" style=\"stroke:#000000; stroke-linecap:butt; stroke-linejoin:round; stroke-width:4; stroke-opacity:1; fill:none\" points=\"\n",
       "  156.598,1486.45 2352.76,1486.45 \n",
       "  \"/>\n",
       "<polyline clip-path=\"url(#clip780)\" style=\"stroke:#000000; stroke-linecap:butt; stroke-linejoin:round; stroke-width:4; stroke-opacity:1; fill:none\" points=\"\n",
       "  218.754,1486.45 218.754,1467.55 \n",
       "  \"/>\n",
       "<polyline clip-path=\"url(#clip780)\" style=\"stroke:#000000; stroke-linecap:butt; stroke-linejoin:round; stroke-width:4; stroke-opacity:1; fill:none\" points=\"\n",
       "  564.061,1486.45 564.061,1467.55 \n",
       "  \"/>\n",
       "<polyline clip-path=\"url(#clip780)\" style=\"stroke:#000000; stroke-linecap:butt; stroke-linejoin:round; stroke-width:4; stroke-opacity:1; fill:none\" points=\"\n",
       "  909.369,1486.45 909.369,1467.55 \n",
       "  \"/>\n",
       "<polyline clip-path=\"url(#clip780)\" style=\"stroke:#000000; stroke-linecap:butt; stroke-linejoin:round; stroke-width:4; stroke-opacity:1; fill:none\" points=\"\n",
       "  1254.68,1486.45 1254.68,1467.55 \n",
       "  \"/>\n",
       "<polyline clip-path=\"url(#clip780)\" style=\"stroke:#000000; stroke-linecap:butt; stroke-linejoin:round; stroke-width:4; stroke-opacity:1; fill:none\" points=\"\n",
       "  1599.98,1486.45 1599.98,1467.55 \n",
       "  \"/>\n",
       "<polyline clip-path=\"url(#clip780)\" style=\"stroke:#000000; stroke-linecap:butt; stroke-linejoin:round; stroke-width:4; stroke-opacity:1; fill:none\" points=\"\n",
       "  1945.29,1486.45 1945.29,1467.55 \n",
       "  \"/>\n",
       "<polyline clip-path=\"url(#clip780)\" style=\"stroke:#000000; stroke-linecap:butt; stroke-linejoin:round; stroke-width:4; stroke-opacity:1; fill:none\" points=\"\n",
       "  2290.6,1486.45 2290.6,1467.55 \n",
       "  \"/>\n",
       "<path clip-path=\"url(#clip780)\" d=\"M196.138 1517.37 Q192.527 1517.37 190.698 1520.93 Q188.893 1524.47 188.893 1531.6 Q188.893 1538.71 190.698 1542.27 Q192.527 1545.82 196.138 1545.82 Q199.772 1545.82 201.578 1542.27 Q203.407 1538.71 203.407 1531.6 Q203.407 1524.47 201.578 1520.93 Q199.772 1517.37 196.138 1517.37 M196.138 1513.66 Q201.948 1513.66 205.004 1518.27 Q208.082 1522.85 208.082 1531.6 Q208.082 1540.33 205.004 1544.94 Q201.948 1549.52 196.138 1549.52 Q190.328 1549.52 187.249 1544.94 Q184.194 1540.33 184.194 1531.6 Q184.194 1522.85 187.249 1518.27 Q190.328 1513.66 196.138 1513.66 Z\" fill=\"#000000\" fill-rule=\"evenodd\" fill-opacity=\"1\" /><path clip-path=\"url(#clip780)\" d=\"M216.3 1542.97 L221.184 1542.97 L221.184 1548.85 L216.3 1548.85 L216.3 1542.97 Z\" fill=\"#000000\" fill-rule=\"evenodd\" fill-opacity=\"1\" /><path clip-path=\"url(#clip780)\" d=\"M241.369 1517.37 Q237.758 1517.37 235.929 1520.93 Q234.124 1524.47 234.124 1531.6 Q234.124 1538.71 235.929 1542.27 Q237.758 1545.82 241.369 1545.82 Q245.003 1545.82 246.809 1542.27 Q248.638 1538.71 248.638 1531.6 Q248.638 1524.47 246.809 1520.93 Q245.003 1517.37 241.369 1517.37 M241.369 1513.66 Q247.179 1513.66 250.235 1518.27 Q253.314 1522.85 253.314 1531.6 Q253.314 1540.33 250.235 1544.94 Q247.179 1549.52 241.369 1549.52 Q235.559 1549.52 232.48 1544.94 Q229.425 1540.33 229.425 1531.6 Q229.425 1522.85 232.48 1518.27 Q235.559 1513.66 241.369 1513.66 Z\" fill=\"#000000\" fill-rule=\"evenodd\" fill-opacity=\"1\" /><path clip-path=\"url(#clip780)\" d=\"M541.944 1517.37 Q538.332 1517.37 536.504 1520.93 Q534.698 1524.47 534.698 1531.6 Q534.698 1538.71 536.504 1542.27 Q538.332 1545.82 541.944 1545.82 Q545.578 1545.82 547.383 1542.27 Q549.212 1538.71 549.212 1531.6 Q549.212 1524.47 547.383 1520.93 Q545.578 1517.37 541.944 1517.37 M541.944 1513.66 Q547.754 1513.66 550.809 1518.27 Q553.888 1522.85 553.888 1531.6 Q553.888 1540.33 550.809 1544.94 Q547.754 1549.52 541.944 1549.52 Q536.133 1549.52 533.055 1544.94 Q529.999 1540.33 529.999 1531.6 Q529.999 1522.85 533.055 1518.27 Q536.133 1513.66 541.944 1513.66 Z\" fill=\"#000000\" fill-rule=\"evenodd\" fill-opacity=\"1\" /><path clip-path=\"url(#clip780)\" d=\"M562.105 1542.97 L566.99 1542.97 L566.99 1548.85 L562.105 1548.85 L562.105 1542.97 Z\" fill=\"#000000\" fill-rule=\"evenodd\" fill-opacity=\"1\" /><path clip-path=\"url(#clip780)\" d=\"M577.221 1514.29 L595.577 1514.29 L595.577 1518.22 L581.503 1518.22 L581.503 1526.7 Q582.522 1526.35 583.541 1526.19 Q584.559 1526 585.578 1526 Q591.365 1526 594.744 1529.17 Q598.124 1532.34 598.124 1537.76 Q598.124 1543.34 594.652 1546.44 Q591.179 1549.52 584.86 1549.52 Q582.684 1549.52 580.416 1549.15 Q578.17 1548.78 575.763 1548.04 L575.763 1543.34 Q577.846 1544.47 580.068 1545.03 Q582.291 1545.58 584.767 1545.58 Q588.772 1545.58 591.11 1543.48 Q593.448 1541.37 593.448 1537.76 Q593.448 1534.15 591.11 1532.04 Q588.772 1529.94 584.767 1529.94 Q582.892 1529.94 581.017 1530.35 Q579.166 1530.77 577.221 1531.65 L577.221 1514.29 Z\" fill=\"#000000\" fill-rule=\"evenodd\" fill-opacity=\"1\" /><path clip-path=\"url(#clip780)\" d=\"M876.522 1544.91 L884.161 1544.91 L884.161 1518.55 L875.851 1520.21 L875.851 1515.95 L884.115 1514.29 L888.791 1514.29 L888.791 1544.91 L896.43 1544.91 L896.43 1548.85 L876.522 1548.85 L876.522 1544.91 Z\" fill=\"#000000\" fill-rule=\"evenodd\" fill-opacity=\"1\" /><path clip-path=\"url(#clip780)\" d=\"M905.874 1542.97 L910.758 1542.97 L910.758 1548.85 L905.874 1548.85 L905.874 1542.97 Z\" fill=\"#000000\" fill-rule=\"evenodd\" fill-opacity=\"1\" /><path clip-path=\"url(#clip780)\" d=\"M930.943 1517.37 Q927.332 1517.37 925.503 1520.93 Q923.698 1524.47 923.698 1531.6 Q923.698 1538.71 925.503 1542.27 Q927.332 1545.82 930.943 1545.82 Q934.577 1545.82 936.383 1542.27 Q938.212 1538.71 938.212 1531.6 Q938.212 1524.47 936.383 1520.93 Q934.577 1517.37 930.943 1517.37 M930.943 1513.66 Q936.753 1513.66 939.809 1518.27 Q942.888 1522.85 942.888 1531.6 Q942.888 1540.33 939.809 1544.94 Q936.753 1549.52 930.943 1549.52 Q925.133 1549.52 922.054 1544.94 Q918.999 1540.33 918.999 1531.6 Q918.999 1522.85 922.054 1518.27 Q925.133 1513.66 930.943 1513.66 Z\" fill=\"#000000\" fill-rule=\"evenodd\" fill-opacity=\"1\" /><path clip-path=\"url(#clip780)\" d=\"M1222.33 1544.91 L1229.97 1544.91 L1229.97 1518.55 L1221.66 1520.21 L1221.66 1515.95 L1229.92 1514.29 L1234.6 1514.29 L1234.6 1544.91 L1242.24 1544.91 L1242.24 1548.85 L1222.33 1548.85 L1222.33 1544.91 Z\" fill=\"#000000\" fill-rule=\"evenodd\" fill-opacity=\"1\" /><path clip-path=\"url(#clip780)\" d=\"M1251.68 1542.97 L1256.56 1542.97 L1256.56 1548.85 L1251.68 1548.85 L1251.68 1542.97 Z\" fill=\"#000000\" fill-rule=\"evenodd\" fill-opacity=\"1\" /><path clip-path=\"url(#clip780)\" d=\"M1266.8 1514.29 L1285.15 1514.29 L1285.15 1518.22 L1271.08 1518.22 L1271.08 1526.7 Q1272.1 1526.35 1273.11 1526.19 Q1274.13 1526 1275.15 1526 Q1280.94 1526 1284.32 1529.17 Q1287.7 1532.34 1287.7 1537.76 Q1287.7 1543.34 1284.23 1546.44 Q1280.75 1549.52 1274.43 1549.52 Q1272.26 1549.52 1269.99 1549.15 Q1267.74 1548.78 1265.34 1548.04 L1265.34 1543.34 Q1267.42 1544.47 1269.64 1545.03 Q1271.86 1545.58 1274.34 1545.58 Q1278.35 1545.58 1280.68 1543.48 Q1283.02 1541.37 1283.02 1537.76 Q1283.02 1534.15 1280.68 1532.04 Q1278.35 1529.94 1274.34 1529.94 Q1272.47 1529.94 1270.59 1530.35 Q1268.74 1530.77 1266.8 1531.65 L1266.8 1514.29 Z\" fill=\"#000000\" fill-rule=\"evenodd\" fill-opacity=\"1\" /><path clip-path=\"url(#clip780)\" d=\"M1571.22 1544.91 L1587.54 1544.91 L1587.54 1548.85 L1565.6 1548.85 L1565.6 1544.91 Q1568.26 1542.16 1572.84 1537.53 Q1577.45 1532.88 1578.63 1531.53 Q1580.88 1529.01 1581.76 1527.27 Q1582.66 1525.51 1582.66 1523.82 Q1582.66 1521.07 1580.71 1519.33 Q1578.79 1517.6 1575.69 1517.6 Q1573.49 1517.6 1571.04 1518.36 Q1568.61 1519.13 1565.83 1520.68 L1565.83 1515.95 Q1568.65 1514.82 1571.11 1514.24 Q1573.56 1513.66 1575.6 1513.66 Q1580.97 1513.66 1584.16 1516.35 Q1587.36 1519.03 1587.36 1523.52 Q1587.36 1525.65 1586.55 1527.57 Q1585.76 1529.47 1583.65 1532.07 Q1583.08 1532.74 1579.97 1535.95 Q1576.87 1539.15 1571.22 1544.91 Z\" fill=\"#000000\" fill-rule=\"evenodd\" fill-opacity=\"1\" /><path clip-path=\"url(#clip780)\" d=\"M1597.36 1542.97 L1602.24 1542.97 L1602.24 1548.85 L1597.36 1548.85 L1597.36 1542.97 Z\" fill=\"#000000\" fill-rule=\"evenodd\" fill-opacity=\"1\" /><path clip-path=\"url(#clip780)\" d=\"M1622.43 1517.37 Q1618.82 1517.37 1616.99 1520.93 Q1615.18 1524.47 1615.18 1531.6 Q1615.18 1538.71 1616.99 1542.27 Q1618.82 1545.82 1622.43 1545.82 Q1626.06 1545.82 1627.87 1542.27 Q1629.7 1538.71 1629.7 1531.6 Q1629.7 1524.47 1627.87 1520.93 Q1626.06 1517.37 1622.43 1517.37 M1622.43 1513.66 Q1628.24 1513.66 1631.29 1518.27 Q1634.37 1522.85 1634.37 1531.6 Q1634.37 1540.33 1631.29 1544.94 Q1628.24 1549.52 1622.43 1549.52 Q1616.62 1549.52 1613.54 1544.94 Q1610.48 1540.33 1610.48 1531.6 Q1610.48 1522.85 1613.54 1518.27 Q1616.62 1513.66 1622.43 1513.66 Z\" fill=\"#000000\" fill-rule=\"evenodd\" fill-opacity=\"1\" /><path clip-path=\"url(#clip780)\" d=\"M1917.03 1544.91 L1933.35 1544.91 L1933.35 1548.85 L1911.4 1548.85 L1911.4 1544.91 Q1914.07 1542.16 1918.65 1537.53 Q1923.26 1532.88 1924.44 1531.53 Q1926.68 1529.01 1927.56 1527.27 Q1928.46 1525.51 1928.46 1523.82 Q1928.46 1521.07 1926.52 1519.33 Q1924.6 1517.6 1921.5 1517.6 Q1919.3 1517.6 1916.84 1518.36 Q1914.41 1519.13 1911.64 1520.68 L1911.64 1515.95 Q1914.46 1514.82 1916.91 1514.24 Q1919.37 1513.66 1921.4 1513.66 Q1926.77 1513.66 1929.97 1516.35 Q1933.16 1519.03 1933.16 1523.52 Q1933.16 1525.65 1932.35 1527.57 Q1931.57 1529.47 1929.46 1532.07 Q1928.88 1532.74 1925.78 1535.95 Q1922.68 1539.15 1917.03 1544.91 Z\" fill=\"#000000\" fill-rule=\"evenodd\" fill-opacity=\"1\" /><path clip-path=\"url(#clip780)\" d=\"M1943.16 1542.97 L1948.05 1542.97 L1948.05 1548.85 L1943.16 1548.85 L1943.16 1542.97 Z\" fill=\"#000000\" fill-rule=\"evenodd\" fill-opacity=\"1\" /><path clip-path=\"url(#clip780)\" d=\"M1958.28 1514.29 L1976.64 1514.29 L1976.64 1518.22 L1962.56 1518.22 L1962.56 1526.7 Q1963.58 1526.35 1964.6 1526.19 Q1965.62 1526 1966.64 1526 Q1972.42 1526 1975.8 1529.17 Q1979.18 1532.34 1979.18 1537.76 Q1979.18 1543.34 1975.71 1546.44 Q1972.24 1549.52 1965.92 1549.52 Q1963.74 1549.52 1961.47 1549.15 Q1959.23 1548.78 1956.82 1548.04 L1956.82 1543.34 Q1958.9 1544.47 1961.13 1545.03 Q1963.35 1545.58 1965.82 1545.58 Q1969.83 1545.58 1972.17 1543.48 Q1974.51 1541.37 1974.51 1537.76 Q1974.51 1534.15 1972.17 1532.04 Q1969.83 1529.94 1965.82 1529.94 Q1963.95 1529.94 1962.08 1530.35 Q1960.22 1530.77 1958.28 1531.65 L1958.28 1514.29 Z\" fill=\"#000000\" fill-rule=\"evenodd\" fill-opacity=\"1\" /><path clip-path=\"url(#clip780)\" d=\"M2271.91 1530.21 Q2275.26 1530.93 2277.14 1533.2 Q2279.04 1535.47 2279.04 1538.8 Q2279.04 1543.92 2275.52 1546.72 Q2272 1549.52 2265.52 1549.52 Q2263.34 1549.52 2261.03 1549.08 Q2258.74 1548.66 2256.28 1547.81 L2256.28 1543.29 Q2258.23 1544.43 2260.54 1545.01 Q2262.86 1545.58 2265.38 1545.58 Q2269.78 1545.58 2272.07 1543.85 Q2274.39 1542.11 2274.39 1538.8 Q2274.39 1535.75 2272.23 1534.03 Q2270.1 1532.3 2266.28 1532.3 L2262.26 1532.3 L2262.26 1528.45 L2266.47 1528.45 Q2269.92 1528.45 2271.75 1527.09 Q2273.58 1525.7 2273.58 1523.11 Q2273.58 1520.45 2271.68 1519.03 Q2269.8 1517.6 2266.28 1517.6 Q2264.36 1517.6 2262.16 1518.01 Q2259.96 1518.43 2257.33 1519.31 L2257.33 1515.14 Q2259.99 1514.4 2262.3 1514.03 Q2264.64 1513.66 2266.7 1513.66 Q2272.02 1513.66 2275.13 1516.09 Q2278.23 1518.5 2278.23 1522.62 Q2278.23 1525.49 2276.58 1527.48 Q2274.94 1529.45 2271.91 1530.21 Z\" fill=\"#000000\" fill-rule=\"evenodd\" fill-opacity=\"1\" /><path clip-path=\"url(#clip780)\" d=\"M2287.9 1542.97 L2292.79 1542.97 L2292.79 1548.85 L2287.9 1548.85 L2287.9 1542.97 Z\" fill=\"#000000\" fill-rule=\"evenodd\" fill-opacity=\"1\" /><path clip-path=\"url(#clip780)\" d=\"M2312.97 1517.37 Q2309.36 1517.37 2307.53 1520.93 Q2305.73 1524.47 2305.73 1531.6 Q2305.73 1538.71 2307.53 1542.27 Q2309.36 1545.82 2312.97 1545.82 Q2316.61 1545.82 2318.41 1542.27 Q2320.24 1538.71 2320.24 1531.6 Q2320.24 1524.47 2318.41 1520.93 Q2316.61 1517.37 2312.97 1517.37 M2312.97 1513.66 Q2318.78 1513.66 2321.84 1518.27 Q2324.92 1522.85 2324.92 1531.6 Q2324.92 1540.33 2321.84 1544.94 Q2318.78 1549.52 2312.97 1549.52 Q2307.16 1549.52 2304.08 1544.94 Q2301.03 1540.33 2301.03 1531.6 Q2301.03 1522.85 2304.08 1518.27 Q2307.16 1513.66 2312.97 1513.66 Z\" fill=\"#000000\" fill-rule=\"evenodd\" fill-opacity=\"1\" /><polyline clip-path=\"url(#clip782)\" style=\"stroke:#000000; stroke-linecap:butt; stroke-linejoin:round; stroke-width:2; stroke-opacity:0.1; fill:none\" points=\"\n",
       "  156.598,1486.45 2352.76,1486.45 \n",
       "  \"/>\n",
       "<polyline clip-path=\"url(#clip782)\" style=\"stroke:#000000; stroke-linecap:butt; stroke-linejoin:round; stroke-width:2; stroke-opacity:0.1; fill:none\" points=\"\n",
       "  156.598,1198.61 2352.76,1198.61 \n",
       "  \"/>\n",
       "<polyline clip-path=\"url(#clip782)\" style=\"stroke:#000000; stroke-linecap:butt; stroke-linejoin:round; stroke-width:2; stroke-opacity:0.1; fill:none\" points=\"\n",
       "  156.598,910.766 2352.76,910.766 \n",
       "  \"/>\n",
       "<polyline clip-path=\"url(#clip782)\" style=\"stroke:#000000; stroke-linecap:butt; stroke-linejoin:round; stroke-width:2; stroke-opacity:0.1; fill:none\" points=\"\n",
       "  156.598,622.926 2352.76,622.926 \n",
       "  \"/>\n",
       "<polyline clip-path=\"url(#clip782)\" style=\"stroke:#000000; stroke-linecap:butt; stroke-linejoin:round; stroke-width:2; stroke-opacity:0.1; fill:none\" points=\"\n",
       "  156.598,335.085 2352.76,335.085 \n",
       "  \"/>\n",
       "<polyline clip-path=\"url(#clip782)\" style=\"stroke:#000000; stroke-linecap:butt; stroke-linejoin:round; stroke-width:2; stroke-opacity:0.1; fill:none\" points=\"\n",
       "  156.598,47.2441 2352.76,47.2441 \n",
       "  \"/>\n",
       "<polyline clip-path=\"url(#clip780)\" style=\"stroke:#000000; stroke-linecap:butt; stroke-linejoin:round; stroke-width:4; stroke-opacity:1; fill:none\" points=\"\n",
       "  156.598,1486.45 156.598,47.2441 \n",
       "  \"/>\n",
       "<polyline clip-path=\"url(#clip780)\" style=\"stroke:#000000; stroke-linecap:butt; stroke-linejoin:round; stroke-width:4; stroke-opacity:1; fill:none\" points=\"\n",
       "  156.598,1486.45 175.496,1486.45 \n",
       "  \"/>\n",
       "<polyline clip-path=\"url(#clip780)\" style=\"stroke:#000000; stroke-linecap:butt; stroke-linejoin:round; stroke-width:4; stroke-opacity:1; fill:none\" points=\"\n",
       "  156.598,1198.61 175.496,1198.61 \n",
       "  \"/>\n",
       "<polyline clip-path=\"url(#clip780)\" style=\"stroke:#000000; stroke-linecap:butt; stroke-linejoin:round; stroke-width:4; stroke-opacity:1; fill:none\" points=\"\n",
       "  156.598,910.766 175.496,910.766 \n",
       "  \"/>\n",
       "<polyline clip-path=\"url(#clip780)\" style=\"stroke:#000000; stroke-linecap:butt; stroke-linejoin:round; stroke-width:4; stroke-opacity:1; fill:none\" points=\"\n",
       "  156.598,622.926 175.496,622.926 \n",
       "  \"/>\n",
       "<polyline clip-path=\"url(#clip780)\" style=\"stroke:#000000; stroke-linecap:butt; stroke-linejoin:round; stroke-width:4; stroke-opacity:1; fill:none\" points=\"\n",
       "  156.598,335.085 175.496,335.085 \n",
       "  \"/>\n",
       "<polyline clip-path=\"url(#clip780)\" style=\"stroke:#000000; stroke-linecap:butt; stroke-linejoin:round; stroke-width:4; stroke-opacity:1; fill:none\" points=\"\n",
       "  156.598,47.2441 175.496,47.2441 \n",
       "  \"/>\n",
       "<path clip-path=\"url(#clip780)\" d=\"M63.4226 1472.25 Q59.8115 1472.25 57.9828 1475.81 Q56.1773 1479.35 56.1773 1486.48 Q56.1773 1493.59 57.9828 1497.15 Q59.8115 1500.7 63.4226 1500.7 Q67.0569 1500.7 68.8624 1497.15 Q70.6911 1493.59 70.6911 1486.48 Q70.6911 1479.35 68.8624 1475.81 Q67.0569 1472.25 63.4226 1472.25 M63.4226 1468.54 Q69.2328 1468.54 72.2883 1473.15 Q75.367 1477.73 75.367 1486.48 Q75.367 1495.21 72.2883 1499.82 Q69.2328 1504.4 63.4226 1504.4 Q57.6125 1504.4 54.5338 1499.82 Q51.4782 1495.21 51.4782 1486.48 Q51.4782 1477.73 54.5338 1473.15 Q57.6125 1468.54 63.4226 1468.54 Z\" fill=\"#000000\" fill-rule=\"evenodd\" fill-opacity=\"1\" /><path clip-path=\"url(#clip780)\" d=\"M83.5845 1497.85 L88.4688 1497.85 L88.4688 1503.73 L83.5845 1503.73 L83.5845 1497.85 Z\" fill=\"#000000\" fill-rule=\"evenodd\" fill-opacity=\"1\" /><path clip-path=\"url(#clip780)\" d=\"M108.654 1472.25 Q105.043 1472.25 103.214 1475.81 Q101.409 1479.35 101.409 1486.48 Q101.409 1493.59 103.214 1497.15 Q105.043 1500.7 108.654 1500.7 Q112.288 1500.7 114.094 1497.15 Q115.922 1493.59 115.922 1486.48 Q115.922 1479.35 114.094 1475.81 Q112.288 1472.25 108.654 1472.25 M108.654 1468.54 Q114.464 1468.54 117.52 1473.15 Q120.598 1477.73 120.598 1486.48 Q120.598 1495.21 117.52 1499.82 Q114.464 1504.4 108.654 1504.4 Q102.844 1504.4 99.765 1499.82 Q96.7095 1495.21 96.7095 1486.48 Q96.7095 1477.73 99.765 1473.15 Q102.844 1468.54 108.654 1468.54 Z\" fill=\"#000000\" fill-rule=\"evenodd\" fill-opacity=\"1\" /><path clip-path=\"url(#clip780)\" d=\"M65.0198 1184.41 Q61.4087 1184.41 59.58 1187.97 Q57.7745 1191.51 57.7745 1198.64 Q57.7745 1205.75 59.58 1209.31 Q61.4087 1212.85 65.0198 1212.85 Q68.6541 1212.85 70.4596 1209.31 Q72.2883 1205.75 72.2883 1198.64 Q72.2883 1191.51 70.4596 1187.97 Q68.6541 1184.41 65.0198 1184.41 M65.0198 1180.7 Q70.83 1180.7 73.8855 1185.31 Q76.9642 1189.89 76.9642 1198.64 Q76.9642 1207.37 73.8855 1211.98 Q70.83 1216.56 65.0198 1216.56 Q59.2097 1216.56 56.131 1211.98 Q53.0754 1207.37 53.0754 1198.64 Q53.0754 1189.89 56.131 1185.31 Q59.2097 1180.7 65.0198 1180.7 Z\" fill=\"#000000\" fill-rule=\"evenodd\" fill-opacity=\"1\" /><path clip-path=\"url(#clip780)\" d=\"M85.1818 1210.01 L90.066 1210.01 L90.066 1215.89 L85.1818 1215.89 L85.1818 1210.01 Z\" fill=\"#000000\" fill-rule=\"evenodd\" fill-opacity=\"1\" /><path clip-path=\"url(#clip780)\" d=\"M104.279 1211.95 L120.598 1211.95 L120.598 1215.89 L98.6539 1215.89 L98.6539 1211.95 Q101.316 1209.2 105.899 1204.57 Q110.506 1199.91 111.686 1198.57 Q113.932 1196.05 114.811 1194.31 Q115.714 1192.55 115.714 1190.86 Q115.714 1188.11 113.77 1186.37 Q111.848 1184.64 108.746 1184.64 Q106.547 1184.64 104.094 1185.4 Q101.663 1186.17 98.8854 1187.72 L98.8854 1182.99 Q101.709 1181.86 104.163 1181.28 Q106.617 1180.7 108.654 1180.7 Q114.024 1180.7 117.219 1183.39 Q120.413 1186.07 120.413 1190.56 Q120.413 1192.69 119.603 1194.61 Q118.816 1196.51 116.709 1199.1 Q116.131 1199.78 113.029 1202.99 Q109.927 1206.19 104.279 1211.95 Z\" fill=\"#000000\" fill-rule=\"evenodd\" fill-opacity=\"1\" /><path clip-path=\"url(#clip780)\" d=\"M62.9365 896.565 Q59.3254 896.565 57.4967 900.13 Q55.6912 903.671 55.6912 910.801 Q55.6912 917.908 57.4967 921.472 Q59.3254 925.014 62.9365 925.014 Q66.5707 925.014 68.3763 921.472 Q70.205 917.908 70.205 910.801 Q70.205 903.671 68.3763 900.13 Q66.5707 896.565 62.9365 896.565 M62.9365 892.861 Q68.7467 892.861 71.8022 897.468 Q74.8809 902.051 74.8809 910.801 Q74.8809 919.528 71.8022 924.134 Q68.7467 928.718 62.9365 928.718 Q57.1264 928.718 54.0477 924.134 Q50.9921 919.528 50.9921 910.801 Q50.9921 902.051 54.0477 897.468 Q57.1264 892.861 62.9365 892.861 Z\" fill=\"#000000\" fill-rule=\"evenodd\" fill-opacity=\"1\" /><path clip-path=\"url(#clip780)\" d=\"M83.0984 922.167 L87.9827 922.167 L87.9827 928.046 L83.0984 928.046 L83.0984 922.167 Z\" fill=\"#000000\" fill-rule=\"evenodd\" fill-opacity=\"1\" /><path clip-path=\"url(#clip780)\" d=\"M111.015 897.56 L99.2095 916.009 L111.015 916.009 L111.015 897.56 M109.788 893.486 L115.668 893.486 L115.668 916.009 L120.598 916.009 L120.598 919.898 L115.668 919.898 L115.668 928.046 L111.015 928.046 L111.015 919.898 L95.4132 919.898 L95.4132 915.384 L109.788 893.486 Z\" fill=\"#000000\" fill-rule=\"evenodd\" fill-opacity=\"1\" /><path clip-path=\"url(#clip780)\" d=\"M63.2606 608.724 Q59.6495 608.724 57.8208 612.289 Q56.0152 615.831 56.0152 622.96 Q56.0152 630.067 57.8208 633.632 Q59.6495 637.173 63.2606 637.173 Q66.8948 637.173 68.7004 633.632 Q70.5291 630.067 70.5291 622.96 Q70.5291 615.831 68.7004 612.289 Q66.8948 608.724 63.2606 608.724 M63.2606 605.021 Q69.0707 605.021 72.1263 609.627 Q75.205 614.21 75.205 622.96 Q75.205 631.687 72.1263 636.294 Q69.0707 640.877 63.2606 640.877 Q57.4504 640.877 54.3717 636.294 Q51.3162 631.687 51.3162 622.96 Q51.3162 614.21 54.3717 609.627 Q57.4504 605.021 63.2606 605.021 Z\" fill=\"#000000\" fill-rule=\"evenodd\" fill-opacity=\"1\" /><path clip-path=\"url(#clip780)\" d=\"M83.4225 634.326 L88.3067 634.326 L88.3067 640.206 L83.4225 640.206 L83.4225 634.326 Z\" fill=\"#000000\" fill-rule=\"evenodd\" fill-opacity=\"1\" /><path clip-path=\"url(#clip780)\" d=\"M109.071 621.062 Q105.922 621.062 104.071 623.215 Q102.242 625.368 102.242 629.118 Q102.242 632.845 104.071 635.02 Q105.922 637.173 109.071 637.173 Q112.219 637.173 114.047 635.02 Q115.899 632.845 115.899 629.118 Q115.899 625.368 114.047 623.215 Q112.219 621.062 109.071 621.062 M118.353 606.409 L118.353 610.669 Q116.594 609.835 114.788 609.396 Q113.006 608.956 111.246 608.956 Q106.617 608.956 104.163 612.081 Q101.733 615.206 101.385 621.525 Q102.751 619.511 104.811 618.446 Q106.871 617.359 109.348 617.359 Q114.557 617.359 117.566 620.53 Q120.598 623.678 120.598 629.118 Q120.598 634.442 117.45 637.659 Q114.302 640.877 109.071 640.877 Q103.075 640.877 99.9039 636.294 Q96.7326 631.687 96.7326 622.96 Q96.7326 614.766 100.621 609.905 Q104.51 605.021 111.061 605.021 Q112.82 605.021 114.603 605.368 Q116.408 605.715 118.353 606.409 Z\" fill=\"#000000\" fill-rule=\"evenodd\" fill-opacity=\"1\" /><path clip-path=\"url(#clip780)\" d=\"M63.5152 320.884 Q59.9041 320.884 58.0754 324.448 Q56.2699 327.99 56.2699 335.12 Q56.2699 342.226 58.0754 345.791 Q59.9041 349.332 63.5152 349.332 Q67.1494 349.332 68.955 345.791 Q70.7837 342.226 70.7837 335.12 Q70.7837 327.99 68.955 324.448 Q67.1494 320.884 63.5152 320.884 M63.5152 317.18 Q69.3254 317.18 72.3809 321.786 Q75.4596 326.37 75.4596 335.12 Q75.4596 343.846 72.3809 348.453 Q69.3254 353.036 63.5152 353.036 Q57.7051 353.036 54.6264 348.453 Q51.5708 343.846 51.5708 335.12 Q51.5708 326.37 54.6264 321.786 Q57.7051 317.18 63.5152 317.18 Z\" fill=\"#000000\" fill-rule=\"evenodd\" fill-opacity=\"1\" /><path clip-path=\"url(#clip780)\" d=\"M83.6771 346.485 L88.5614 346.485 L88.5614 352.365 L83.6771 352.365 L83.6771 346.485 Z\" fill=\"#000000\" fill-rule=\"evenodd\" fill-opacity=\"1\" /><path clip-path=\"url(#clip780)\" d=\"M108.746 335.953 Q105.413 335.953 103.492 337.735 Q101.594 339.518 101.594 342.643 Q101.594 345.768 103.492 347.55 Q105.413 349.332 108.746 349.332 Q112.08 349.332 114.001 347.55 Q115.922 345.745 115.922 342.643 Q115.922 339.518 114.001 337.735 Q112.103 335.953 108.746 335.953 M104.071 333.962 Q101.061 333.221 99.3715 331.161 Q97.7048 329.101 97.7048 326.138 Q97.7048 321.995 100.645 319.587 Q103.608 317.18 108.746 317.18 Q113.908 317.18 116.848 319.587 Q119.788 321.995 119.788 326.138 Q119.788 329.101 118.098 331.161 Q116.432 333.221 113.445 333.962 Q116.825 334.749 118.7 337.041 Q120.598 339.333 120.598 342.643 Q120.598 347.666 117.52 350.351 Q114.464 353.036 108.746 353.036 Q103.029 353.036 99.9502 350.351 Q96.8947 347.666 96.8947 342.643 Q96.8947 339.333 98.7928 337.041 Q100.691 334.749 104.071 333.962 M102.358 326.578 Q102.358 329.263 104.024 330.768 Q105.714 332.272 108.746 332.272 Q111.756 332.272 113.445 330.768 Q115.158 329.263 115.158 326.578 Q115.158 323.893 113.445 322.388 Q111.756 320.884 108.746 320.884 Q105.714 320.884 104.024 322.388 Q102.358 323.893 102.358 326.578 Z\" fill=\"#000000\" fill-rule=\"evenodd\" fill-opacity=\"1\" /><path clip-path=\"url(#clip780)\" d=\"M54.2328 60.5889 L61.8717 60.5889 L61.8717 34.2233 L53.5616 35.89 L53.5616 31.6308 L61.8254 29.9641 L66.5013 29.9641 L66.5013 60.5889 L74.1402 60.5889 L74.1402 64.5241 L54.2328 64.5241 L54.2328 60.5889 Z\" fill=\"#000000\" fill-rule=\"evenodd\" fill-opacity=\"1\" /><path clip-path=\"url(#clip780)\" d=\"M83.5845 58.6445 L88.4688 58.6445 L88.4688 64.5241 L83.5845 64.5241 L83.5845 58.6445 Z\" fill=\"#000000\" fill-rule=\"evenodd\" fill-opacity=\"1\" /><path clip-path=\"url(#clip780)\" d=\"M108.654 33.0428 Q105.043 33.0428 103.214 36.6076 Q101.409 40.1492 101.409 47.2788 Q101.409 54.3853 103.214 57.9501 Q105.043 61.4917 108.654 61.4917 Q112.288 61.4917 114.094 57.9501 Q115.922 54.3853 115.922 47.2788 Q115.922 40.1492 114.094 36.6076 Q112.288 33.0428 108.654 33.0428 M108.654 29.3391 Q114.464 29.3391 117.52 33.9456 Q120.598 38.5289 120.598 47.2788 Q120.598 56.0056 117.52 60.6121 Q114.464 65.1954 108.654 65.1954 Q102.844 65.1954 99.765 60.6121 Q96.7095 56.0056 96.7095 47.2788 Q96.7095 38.5289 99.765 33.9456 Q102.844 29.3391 108.654 29.3391 Z\" fill=\"#000000\" fill-rule=\"evenodd\" fill-opacity=\"1\" /><polyline clip-path=\"url(#clip782)\" style=\"stroke:#009af9; stroke-linecap:butt; stroke-linejoin:round; stroke-width:4; stroke-opacity:1; fill:none\" points=\"\n",
       "  218.754,234.708 225.66,315.679 232.566,396.649 239.472,477.62 246.378,558.59 253.284,639.561 260.191,720.531 267.097,790.387 274.003,856.321 280.909,910.041 \n",
       "  287.815,963.76 294.721,1008.83 301.628,1042.95 308.534,1077.06 315.44,1111.18 322.346,1145.29 329.252,1165.85 336.158,1186.41 343.064,1206.96 349.971,1227.52 \n",
       "  356.877,1248.07 363.783,1259.74 370.689,1271.41 377.595,1283.07 384.501,1294.74 391.408,1306.4 398.314,1311.55 405.22,1316.7 412.126,1321.84 419.032,1326.99 \n",
       "  425.938,1332.14 432.844,1337.28 439.751,1342.43 446.657,1347.58 453.563,1352.72 460.469,1357.87 467.375,1358.86 474.281,1359.85 481.188,1360.84 488.094,1361.84 \n",
       "  495,1362.83 501.906,1363.82 508.812,1364.81 515.718,1365.8 522.625,1366.79 529.531,1367.78 536.437,1368.77 543.343,1369.77 550.249,1370.76 557.155,1371.75 \n",
       "  564.061,1372.74 570.968,1373.73 577.874,1374.72 584.78,1375.71 591.686,1376.7 598.592,1377.7 605.498,1377.8 612.405,1377.91 619.311,1378.02 626.217,1378.13 \n",
       "  633.123,1378.24 640.029,1378.34 646.935,1378.45 653.841,1378.56 660.748,1378.67 667.654,1378.78 674.56,1378.88 681.466,1378.99 688.372,1379.1 695.278,1379.21 \n",
       "  702.185,1379.32 709.091,1379.43 715.997,1379.53 722.903,1379.64 729.809,1379.75 736.715,1379.86 743.622,1380.03 750.528,1380.2 757.434,1380.37 764.34,1380.54 \n",
       "  771.246,1380.7 778.152,1380.87 785.058,1381.04 791.965,1381.21 798.871,1381.38 805.777,1381.55 812.683,1381.72 819.589,1381.89 826.495,1382.06 833.402,1382.23 \n",
       "  840.308,1382.4 847.214,1382.57 854.12,1382.74 861.026,1382.91 867.932,1383.08 874.838,1383.25 881.745,1383.52 888.651,1383.79 895.557,1384.07 902.463,1384.34 \n",
       "  909.369,1384.61 916.275,1384.88 923.182,1385.16 930.088,1385.43 936.994,1385.7 943.9,1385.98 950.806,1386.25 957.712,1386.52 964.619,1386.79 971.525,1387.07 \n",
       "  978.431,1387.34 985.337,1387.61 992.243,1387.89 999.149,1388.16 1006.06,1388.43 1012.96,1388.71 1019.87,1389.05 1026.77,1389.39 1033.68,1389.73 1040.59,1390.08 \n",
       "  1047.49,1390.42 1054.4,1390.76 1061.3,1391.11 1068.21,1391.45 1075.12,1391.79 1082.02,1392.14 1088.93,1392.48 1095.84,1392.82 1102.74,1393.17 1109.65,1393.51 \n",
       "  1116.55,1393.85 1123.46,1394.2 1130.37,1394.54 1137.27,1394.88 1144.18,1395.23 1151.08,1395.57 1157.99,1395.91 1164.9,1396.26 1171.8,1396.6 1178.71,1396.94 \n",
       "  1185.62,1397.28 1192.52,1397.63 1199.43,1397.97 1206.33,1398.31 1213.24,1398.66 1220.15,1399 1227.05,1399.37 1233.96,1399.73 1240.86,1400.1 1247.77,1400.47 \n",
       "  1254.68,1400.83 1261.58,1401.2 1268.49,1401.56 1275.4,1401.93 1282.3,1402.3 1289.21,1402.66 1296.11,1403.03 1303.02,1403.4 1309.93,1403.76 1316.83,1404.13 \n",
       "  1323.74,1404.49 1330.64,1404.86 1337.55,1405.23 1344.46,1405.59 1351.36,1405.96 1358.27,1406.33 1365.18,1406.69 1372.08,1407.06 1378.99,1407.42 1385.89,1407.79 \n",
       "  1392.8,1408.16 1399.71,1408.52 1406.61,1408.89 1413.52,1409.26 1420.42,1409.62 1427.33,1409.99 1434.24,1410.35 1441.14,1410.7 1448.05,1411.06 1454.96,1411.42 \n",
       "  1461.86,1411.77 1468.77,1412.13 1475.67,1412.48 1482.58,1412.84 1489.49,1413.2 1496.39,1413.55 1503.3,1413.91 1510.2,1414.27 1517.11,1414.62 1524.02,1414.98 \n",
       "  1530.92,1415.34 1537.83,1415.69 1544.74,1416.05 1551.64,1416.41 1558.55,1416.76 1565.45,1417.12 1572.36,1417.44 1579.27,1417.75 1586.17,1418.07 1593.08,1418.38 \n",
       "  1599.98,1418.7 1606.89,1419.01 1613.8,1419.33 1620.7,1419.64 1627.61,1419.95 1634.52,1420.27 1641.42,1420.58 1648.33,1420.9 1655.23,1421.21 1662.14,1421.53 \n",
       "  1669.05,1421.84 1675.95,1422.16 1682.86,1422.47 1689.76,1422.79 1696.67,1423.1 1703.58,1423.42 1710.48,1423.73 1717.39,1424.05 1724.3,1424.36 1731.2,1424.68 \n",
       "  1738.11,1424.99 1745.01,1425.31 1751.92,1425.62 1758.83,1425.94 1765.73,1426.25 1772.64,1426.57 1779.54,1426.88 1786.45,1427.2 1793.36,1427.51 1800.26,1427.83 \n",
       "  1807.17,1428.14 1814.08,1428.46 1820.98,1428.77 1827.89,1429.09 1834.79,1429.4 1841.7,1429.72 1848.61,1430.03 1855.51,1430.35 1862.42,1430.66 1869.32,1430.98 \n",
       "  1876.23,1431.29 1883.14,1431.61 1890.04,1431.92 1896.95,1432.24 1903.86,1432.55 1910.76,1432.87 1917.67,1433.18 1924.57,1433.5 1931.48,1433.81 1938.39,1434.12 \n",
       "  1945.29,1434.44 1952.2,1434.75 1959.11,1435.07 1966.01,1435.38 1972.92,1435.7 1979.82,1436.01 1986.73,1436.33 1993.64,1436.64 2000.54,1436.96 2007.45,1437.27 \n",
       "  2014.35,1437.59 2021.26,1437.9 2028.17,1438.22 2035.07,1438.53 2041.98,1438.85 2048.89,1439.16 2055.79,1439.48 2062.7,1439.79 2069.6,1440.11 2076.51,1440.42 \n",
       "  2083.42,1440.74 2090.32,1441.05 2097.23,1441.37 2104.13,1441.68 2111.04,1442 2117.95,1442.31 2124.85,1442.63 2131.76,1442.94 2138.67,1443.26 2145.57,1443.57 \n",
       "  2152.48,1443.89 2159.38,1444.2 2166.29,1444.52 2173.2,1444.83 2180.1,1445.15 2187.01,1445.46 2193.91,1445.78 2200.82,1446.09 2207.73,1446.41 2214.63,1446.72 \n",
       "  2221.54,1447.04 2228.45,1447.35 2235.35,1447.67 2242.26,1447.98 2249.16,1448.29 2256.07,1448.61 2262.98,1448.92 2269.88,1449.24 2276.79,1449.55 2283.69,1449.87 \n",
       "  2290.6,1450.18 \n",
       "  \"/>\n",
       "<circle clip-path=\"url(#clip782)\" cx=\"253.284\" cy=\"395.531\" r=\"14\" fill=\"#e26f46\" fill-rule=\"evenodd\" fill-opacity=\"1\" stroke=\"#000000\" stroke-opacity=\"1\" stroke-width=\"3.2\"/>\n",
       "<circle clip-path=\"url(#clip782)\" cx=\"260.191\" cy=\"681.933\" r=\"14\" fill=\"#e26f46\" fill-rule=\"evenodd\" fill-opacity=\"1\" stroke=\"#000000\" stroke-opacity=\"1\" stroke-width=\"3.2\"/>\n",
       "<circle clip-path=\"url(#clip782)\" cx=\"270.55\" cy=\"561.184\" r=\"14\" fill=\"#e26f46\" fill-rule=\"evenodd\" fill-opacity=\"1\" stroke=\"#000000\" stroke-opacity=\"1\" stroke-width=\"3.2\"/>\n",
       "<circle clip-path=\"url(#clip782)\" cx=\"274.003\" cy=\"706.975\" r=\"14\" fill=\"#e26f46\" fill-rule=\"evenodd\" fill-opacity=\"1\" stroke=\"#000000\" stroke-opacity=\"1\" stroke-width=\"3.2\"/>\n",
       "<circle clip-path=\"url(#clip782)\" cx=\"287.815\" cy=\"859.387\" r=\"14\" fill=\"#e26f46\" fill-rule=\"evenodd\" fill-opacity=\"1\" stroke=\"#000000\" stroke-opacity=\"1\" stroke-width=\"3.2\"/>\n",
       "<circle clip-path=\"url(#clip782)\" cx=\"294.721\" cy=\"738.206\" r=\"14\" fill=\"#e26f46\" fill-rule=\"evenodd\" fill-opacity=\"1\" stroke=\"#000000\" stroke-opacity=\"1\" stroke-width=\"3.2\"/>\n",
       "<circle clip-path=\"url(#clip782)\" cx=\"322.346\" cy=\"913.645\" r=\"14\" fill=\"#e26f46\" fill-rule=\"evenodd\" fill-opacity=\"1\" stroke=\"#000000\" stroke-opacity=\"1\" stroke-width=\"3.2\"/>\n",
       "<circle clip-path=\"url(#clip782)\" cx=\"356.877\" cy=\"1018.27\" r=\"14\" fill=\"#e26f46\" fill-rule=\"evenodd\" fill-opacity=\"1\" stroke=\"#000000\" stroke-opacity=\"1\" stroke-width=\"3.2\"/>\n",
       "<circle clip-path=\"url(#clip782)\" cx=\"391.408\" cy=\"1116.43\" r=\"14\" fill=\"#e26f46\" fill-rule=\"evenodd\" fill-opacity=\"1\" stroke=\"#000000\" stroke-opacity=\"1\" stroke-width=\"3.2\"/>\n",
       "<circle clip-path=\"url(#clip782)\" cx=\"460.469\" cy=\"1148.09\" r=\"14\" fill=\"#e26f46\" fill-rule=\"evenodd\" fill-opacity=\"1\" stroke=\"#000000\" stroke-opacity=\"1\" stroke-width=\"3.2\"/>\n",
       "<circle clip-path=\"url(#clip782)\" cx=\"598.592\" cy=\"1252\" r=\"14\" fill=\"#e26f46\" fill-rule=\"evenodd\" fill-opacity=\"1\" stroke=\"#000000\" stroke-opacity=\"1\" stroke-width=\"3.2\"/>\n",
       "<circle clip-path=\"url(#clip782)\" cx=\"736.715\" cy=\"1269.13\" r=\"14\" fill=\"#e26f46\" fill-rule=\"evenodd\" fill-opacity=\"1\" stroke=\"#000000\" stroke-opacity=\"1\" stroke-width=\"3.2\"/>\n",
       "<circle clip-path=\"url(#clip782)\" cx=\"874.838\" cy=\"1257.9\" r=\"14\" fill=\"#e26f46\" fill-rule=\"evenodd\" fill-opacity=\"1\" stroke=\"#000000\" stroke-opacity=\"1\" stroke-width=\"3.2\"/>\n",
       "<circle clip-path=\"url(#clip782)\" cx=\"1012.96\" cy=\"1280.07\" r=\"14\" fill=\"#e26f46\" fill-rule=\"evenodd\" fill-opacity=\"1\" stroke=\"#000000\" stroke-opacity=\"1\" stroke-width=\"3.2\"/>\n",
       "<circle clip-path=\"url(#clip782)\" cx=\"1220.15\" cy=\"1331.45\" r=\"14\" fill=\"#e26f46\" fill-rule=\"evenodd\" fill-opacity=\"1\" stroke=\"#000000\" stroke-opacity=\"1\" stroke-width=\"3.2\"/>\n",
       "<circle clip-path=\"url(#clip782)\" cx=\"1427.33\" cy=\"1345.69\" r=\"14\" fill=\"#e26f46\" fill-rule=\"evenodd\" fill-opacity=\"1\" stroke=\"#000000\" stroke-opacity=\"1\" stroke-width=\"3.2\"/>\n",
       "<circle clip-path=\"url(#clip782)\" cx=\"1565.45\" cy=\"1303.81\" r=\"14\" fill=\"#e26f46\" fill-rule=\"evenodd\" fill-opacity=\"1\" stroke=\"#000000\" stroke-opacity=\"1\" stroke-width=\"3.2\"/>\n",
       "<circle clip-path=\"url(#clip782)\" cx=\"1979.82\" cy=\"1399.38\" r=\"14\" fill=\"#e26f46\" fill-rule=\"evenodd\" fill-opacity=\"1\" stroke=\"#000000\" stroke-opacity=\"1\" stroke-width=\"3.2\"/>\n",
       "</svg>\n"
      ]
     },
     "execution_count": 1824,
     "metadata": {},
     "output_type": "execute_result"
    }
   ],
   "source": [
    "prob = ODEProblem(rate_eqns!, n0_Np, p0_Np.t_span, R_Np)\n",
    "@time sol = DifferentialEquations.solve(prob, alg=DP5(), saveat=data.X100_xs)\n",
    ";\n",
    "\n",
    "times = 0:10e-3:t_span[2]\n",
    "sol_values = sol(times)\n",
    "\n",
    "detectable = [sum(u[p0_Np.idxs_Np_d]) for u in sol_values]\n",
    "\n",
    "plot(times, detectable, legend=nothing)\n",
    "plot!(\n",
    "    xticks=0.0:0.5:3.0,\n",
    "    yticks=0.0:0.2:1.0,\n",
    "    ylim=(0,1)\n",
    ")\n",
    "scatter!(data.X100_xs, data.X100_ys)"
   ]
  },
  {
   "cell_type": "code",
   "execution_count": 1865,
   "metadata": {},
   "outputs": [],
   "source": [
    "function grid_scan_Np(grid, prob, p0, data)\n",
    "    \n",
    "    grid_iterable = collect(Iterators.product(grid...))\n",
    "    errors = []\n",
    "    \n",
    "    n_states = length(p0.idxs_Np_all)\n",
    "    n0 = zeros(Float64, n_states)\n",
    "    R = zeros(Float64, n_states, n_states)\n",
    "    prob = ODEProblem(rate_eqns!, n0, p0.t_span, R)\n",
    "    \n",
    "    @showprogress for i in eachindex(grid_iterable)\n",
    "        params = grid_iterable[i]\n",
    "        \n",
    "        p′ = NamedTuple{fieldnames(grid)}(params)\n",
    "        p = (; p0..., p′...)\n",
    "        \n",
    "        construct_rate_eqns_Np!(R, p)\n",
    "        \n",
    "        # Initialize in X(000)\n",
    "        n0 .= 0.0\n",
    "        n0[p0.idxs_Np.X000_idxs[2]] = p.n0_X000\n",
    "        new_prob = remake(prob, u0=n0, p=R)\n",
    "        sol_X000 = DifferentialEquations.solve(new_prob, alg=DP5(), saveat=data.X000_xs)\n",
    "        X000_preds = [sum(u[p.idxs_Np_d]) for u in sol_X000.u]\n",
    "        error_X000 = squared_error(data.X000_xs, data.X000_ys, X000_preds)\n",
    "        \n",
    "        # Initialize in X(100)\n",
    "        n0 .= 0.0\n",
    "        n0[p.idxs_Np.X100_idxs[2]] = (1 - p.imperfect_X100_prep) * p.n0_X100\n",
    "        n0[p.idxs_Np.X000_idxs[2]] = p.imperfect_X100_prep * p.n0_X100\n",
    "        new_prob = remake(prob, u0=n0, p=R)\n",
    "        sol_X100 = DifferentialEquations.solve(new_prob, alg=DP5(), saveat=data.X100_xs)\n",
    "        X100_preds = [sum(u[p.idxs_Np_d]) for u in sol_X100.u]\n",
    "        error_X100 = squared_error(data.X100_xs, data.X100_ys, X100_preds)\n",
    "        \n",
    "        push!(errors, error_X000 + error_X100)\n",
    "\n",
    "#         print(round(i / length(grid_iterable), digits=2), \" (\", params, \")\", \": \", round(error, digits=5), \"\\r\")\n",
    "#         flush(stdout)\n",
    "        \n",
    "    end\n",
    "    return errors\n",
    "end\n",
    ";"
   ]
  },
  {
   "cell_type": "code",
   "execution_count": 2186,
   "metadata": {},
   "outputs": [],
   "source": [
    "μ_v1 = (0.22:0.02:0.38) .* 3.336e-30\n",
    "μ_v2 = (0.22:0.02:0.38) .* 3.336e-30\n",
    "τ_vacuum = 1.3:0.1:2.8\n",
    "n0_X000 = 0.50:0.01:0.80\n",
    "n0_X100 = 0.50:0.01:0.80\n",
    "imperfect_X100_prep = 0.10:0.01:0.30\n",
    "\n",
    "grid = (\n",
    "    μ_v1 = μ_v1,\n",
    "    μ_v2 = μ_v2,\n",
    "    τ_vacuum = τ_vacuum,\n",
    "    n0_X000 = n0_X000,\n",
    "    n0_X100 = n0_X100,\n",
    "    imperfect_X100_prep = imperfect_X100_prep\n",
    ")\n",
    ";"
   ]
  },
  {
   "cell_type": "code",
   "execution_count": 2187,
   "metadata": {},
   "outputs": [],
   "source": [
    "include(\"data.jl\");"
   ]
  },
  {
   "cell_type": "code",
   "execution_count": null,
   "metadata": {},
   "outputs": [
    {
     "name": "stderr",
     "output_type": "stream",
     "text": [
      "\u001b[32mProgress:   0%|█                                        |  ETA: 1:37:17\u001b[39m"
     ]
    }
   ],
   "source": [
    "using ProgressMeter\n",
    "@time errors = grid_scan_Np(grid, prob, p0_Np, data)\n",
    ";"
   ]
  },
  {
   "cell_type": "code",
   "execution_count": 2170,
   "metadata": {},
   "outputs": [
    {
     "data": {
      "text/plain": [
       "(μ_v1 = 8.6736e-31, μ_v2 = 1.0007999999999999e-30, τ_vacuum = 2.1, n0_X000 = 0.72, n0_X100 = 0.8, imperfect_X100_prep = 0.25)"
      ]
     },
     "execution_count": 2170,
     "metadata": {},
     "output_type": "execute_result"
    }
   ],
   "source": [
    "grid_iterable = collect(Iterators.product(grid...));\n",
    "best_params_idx = findmin(errors)[2]\n",
    "best_params = grid_iterable[best_params_idx]\n",
    "\n",
    "p_Np′ = NamedTuple{fieldnames(grid)}(best_params)\n",
    "p_Np = (; p0_Np..., p_Np′...)\n",
    "p_Np′"
   ]
  },
  {
   "cell_type": "code",
   "execution_count": 2171,
   "metadata": {},
   "outputs": [],
   "source": [
    "function average_vals(grid, grid_iterable, param, errors)\n",
    "    \n",
    "    # Find the index of the `param` symbol\n",
    "    param_names = keys(grid)\n",
    "    idx = 0\n",
    "    for (i, param_name) ∈ enumerate(param_names)\n",
    "        if param_name == param\n",
    "            idx = i\n",
    "        end\n",
    "    end\n",
    "    \n",
    "    param_sums = Dict{Float64, Float64}()\n",
    "    param_grid = grid[param]\n",
    "    n = length(grid_iterable) / length(param_grid)\n",
    "    \n",
    "    for (i, grid_point) ∈ enumerate(grid_iterable)\n",
    "        grid_val = grid_point[idx]\n",
    "        error = errors[i]\n",
    "        if grid_val ∈ keys(param_sums)\n",
    "            param_sums[grid_val] += error / n\n",
    "        else\n",
    "            param_sums[grid_val] = error / n\n",
    "        end\n",
    "    end\n",
    "    return param_sums\n",
    "end\n",
    ";"
   ]
  },
  {
   "cell_type": "code",
   "execution_count": 2184,
   "metadata": {},
   "outputs": [],
   "source": [
    "average_errors = average_vals(grid, grid_iterable, :imperfect_X100_prep, errors);"
   ]
  },
  {
   "cell_type": "code",
   "execution_count": 2185,
   "metadata": {},
   "outputs": [
    {
     "data": {
      "image/svg+xml": [
       "<?xml version=\"1.0\" encoding=\"utf-8\"?>\n",
       "<svg xmlns=\"http://www.w3.org/2000/svg\" xmlns:xlink=\"http://www.w3.org/1999/xlink\" width=\"600\" height=\"400\" viewBox=\"0 0 2400 1600\">\n",
       "<defs>\n",
       "  <clipPath id=\"clip260\">\n",
       "    <rect x=\"0\" y=\"0\" width=\"2400\" height=\"1600\"/>\n",
       "  </clipPath>\n",
       "</defs>\n",
       "<path clip-path=\"url(#clip260)\" d=\"\n",
       "M0 1600 L2400 1600 L2400 0 L0 0  Z\n",
       "  \" fill=\"#ffffff\" fill-rule=\"evenodd\" fill-opacity=\"1\"/>\n",
       "<defs>\n",
       "  <clipPath id=\"clip261\">\n",
       "    <rect x=\"480\" y=\"0\" width=\"1681\" height=\"1600\"/>\n",
       "  </clipPath>\n",
       "</defs>\n",
       "<path clip-path=\"url(#clip260)\" d=\"\n",
       "M186.76 1486.45 L2352.76 1486.45 L2352.76 47.2441 L186.76 47.2441  Z\n",
       "  \" fill=\"#ffffff\" fill-rule=\"evenodd\" fill-opacity=\"1\"/>\n",
       "<defs>\n",
       "  <clipPath id=\"clip262\">\n",
       "    <rect x=\"186\" y=\"47\" width=\"2167\" height=\"1440\"/>\n",
       "  </clipPath>\n",
       "</defs>\n",
       "<polyline clip-path=\"url(#clip262)\" style=\"stroke:#000000; stroke-linecap:butt; stroke-linejoin:round; stroke-width:2; stroke-opacity:0.1; fill:none\" points=\"\n",
       "  248.062,1486.45 248.062,47.2441 \n",
       "  \"/>\n",
       "<polyline clip-path=\"url(#clip262)\" style=\"stroke:#000000; stroke-linecap:butt; stroke-linejoin:round; stroke-width:2; stroke-opacity:0.1; fill:none\" points=\"\n",
       "  758.91,1486.45 758.91,47.2441 \n",
       "  \"/>\n",
       "<polyline clip-path=\"url(#clip262)\" style=\"stroke:#000000; stroke-linecap:butt; stroke-linejoin:round; stroke-width:2; stroke-opacity:0.1; fill:none\" points=\"\n",
       "  1269.76,1486.45 1269.76,47.2441 \n",
       "  \"/>\n",
       "<polyline clip-path=\"url(#clip262)\" style=\"stroke:#000000; stroke-linecap:butt; stroke-linejoin:round; stroke-width:2; stroke-opacity:0.1; fill:none\" points=\"\n",
       "  1780.61,1486.45 1780.61,47.2441 \n",
       "  \"/>\n",
       "<polyline clip-path=\"url(#clip262)\" style=\"stroke:#000000; stroke-linecap:butt; stroke-linejoin:round; stroke-width:2; stroke-opacity:0.1; fill:none\" points=\"\n",
       "  2291.45,1486.45 2291.45,47.2441 \n",
       "  \"/>\n",
       "<polyline clip-path=\"url(#clip260)\" style=\"stroke:#000000; stroke-linecap:butt; stroke-linejoin:round; stroke-width:4; stroke-opacity:1; fill:none\" points=\"\n",
       "  186.76,1486.45 2352.76,1486.45 \n",
       "  \"/>\n",
       "<polyline clip-path=\"url(#clip260)\" style=\"stroke:#000000; stroke-linecap:butt; stroke-linejoin:round; stroke-width:4; stroke-opacity:1; fill:none\" points=\"\n",
       "  248.062,1486.45 248.062,1467.55 \n",
       "  \"/>\n",
       "<polyline clip-path=\"url(#clip260)\" style=\"stroke:#000000; stroke-linecap:butt; stroke-linejoin:round; stroke-width:4; stroke-opacity:1; fill:none\" points=\"\n",
       "  758.91,1486.45 758.91,1467.55 \n",
       "  \"/>\n",
       "<polyline clip-path=\"url(#clip260)\" style=\"stroke:#000000; stroke-linecap:butt; stroke-linejoin:round; stroke-width:4; stroke-opacity:1; fill:none\" points=\"\n",
       "  1269.76,1486.45 1269.76,1467.55 \n",
       "  \"/>\n",
       "<polyline clip-path=\"url(#clip260)\" style=\"stroke:#000000; stroke-linecap:butt; stroke-linejoin:round; stroke-width:4; stroke-opacity:1; fill:none\" points=\"\n",
       "  1780.61,1486.45 1780.61,1467.55 \n",
       "  \"/>\n",
       "<polyline clip-path=\"url(#clip260)\" style=\"stroke:#000000; stroke-linecap:butt; stroke-linejoin:round; stroke-width:4; stroke-opacity:1; fill:none\" points=\"\n",
       "  2291.45,1486.45 2291.45,1467.55 \n",
       "  \"/>\n",
       "<path clip-path=\"url(#clip260)\" d=\"M238.444 1544.91 L246.083 1544.91 L246.083 1518.55 L237.773 1520.21 L237.773 1515.95 L246.036 1514.29 L250.712 1514.29 L250.712 1544.91 L258.351 1544.91 L258.351 1548.85 L238.444 1548.85 L238.444 1544.91 Z\" fill=\"#000000\" fill-rule=\"evenodd\" fill-opacity=\"1\" /><path clip-path=\"url(#clip260)\" d=\"M753.563 1544.91 L769.882 1544.91 L769.882 1548.85 L747.938 1548.85 L747.938 1544.91 Q750.6 1542.16 755.183 1537.53 Q759.79 1532.88 760.97 1531.53 Q763.215 1529.01 764.095 1527.27 Q764.998 1525.51 764.998 1523.82 Q764.998 1521.07 763.053 1519.33 Q761.132 1517.6 758.03 1517.6 Q755.831 1517.6 753.378 1518.36 Q750.947 1519.13 748.169 1520.68 L748.169 1515.95 Q750.993 1514.82 753.447 1514.24 Q755.901 1513.66 757.938 1513.66 Q763.308 1513.66 766.502 1516.35 Q769.697 1519.03 769.697 1523.52 Q769.697 1525.65 768.887 1527.57 Q768.1 1529.47 765.993 1532.07 Q765.415 1532.74 762.313 1535.95 Q759.211 1539.15 753.563 1544.91 Z\" fill=\"#000000\" fill-rule=\"evenodd\" fill-opacity=\"1\" /><path clip-path=\"url(#clip260)\" d=\"M1274.01 1530.21 Q1277.36 1530.93 1279.24 1533.2 Q1281.14 1535.47 1281.14 1538.8 Q1281.14 1543.92 1277.62 1546.72 Q1274.1 1549.52 1267.62 1549.52 Q1265.44 1549.52 1263.13 1549.08 Q1260.83 1548.66 1258.38 1547.81 L1258.38 1543.29 Q1260.33 1544.43 1262.64 1545.01 Q1264.95 1545.58 1267.48 1545.58 Q1271.88 1545.58 1274.17 1543.85 Q1276.48 1542.11 1276.48 1538.8 Q1276.48 1535.75 1274.33 1534.03 Q1272.2 1532.3 1268.38 1532.3 L1264.35 1532.3 L1264.35 1528.45 L1268.57 1528.45 Q1272.01 1528.45 1273.84 1527.09 Q1275.67 1525.7 1275.67 1523.11 Q1275.67 1520.45 1273.77 1519.03 Q1271.9 1517.6 1268.38 1517.6 Q1266.46 1517.6 1264.26 1518.01 Q1262.06 1518.43 1259.42 1519.31 L1259.42 1515.14 Q1262.08 1514.4 1264.4 1514.03 Q1266.74 1513.66 1268.8 1513.66 Q1274.12 1513.66 1277.22 1516.09 Q1280.33 1518.5 1280.33 1522.62 Q1280.33 1525.49 1278.68 1527.48 Q1277.04 1529.45 1274.01 1530.21 Z\" fill=\"#000000\" fill-rule=\"evenodd\" fill-opacity=\"1\" /><path clip-path=\"url(#clip260)\" d=\"M1783.62 1518.36 L1771.81 1536.81 L1783.62 1536.81 L1783.62 1518.36 M1782.39 1514.29 L1788.27 1514.29 L1788.27 1536.81 L1793.2 1536.81 L1793.2 1540.7 L1788.27 1540.7 L1788.27 1548.85 L1783.62 1548.85 L1783.62 1540.7 L1768.01 1540.7 L1768.01 1536.19 L1782.39 1514.29 Z\" fill=\"#000000\" fill-rule=\"evenodd\" fill-opacity=\"1\" /><path clip-path=\"url(#clip260)\" d=\"M2281.73 1514.29 L2300.09 1514.29 L2300.09 1518.22 L2286.01 1518.22 L2286.01 1526.7 Q2287.03 1526.35 2288.05 1526.19 Q2289.07 1526 2290.09 1526 Q2295.88 1526 2299.26 1529.17 Q2302.63 1532.34 2302.63 1537.76 Q2302.63 1543.34 2299.16 1546.44 Q2295.69 1549.52 2289.37 1549.52 Q2287.19 1549.52 2284.93 1549.15 Q2282.68 1548.78 2280.27 1548.04 L2280.27 1543.34 Q2282.36 1544.47 2284.58 1545.03 Q2286.8 1545.58 2289.28 1545.58 Q2293.28 1545.58 2295.62 1543.48 Q2297.96 1541.37 2297.96 1537.76 Q2297.96 1534.15 2295.62 1532.04 Q2293.28 1529.94 2289.28 1529.94 Q2287.4 1529.94 2285.53 1530.35 Q2283.68 1530.77 2281.73 1531.65 L2281.73 1514.29 Z\" fill=\"#000000\" fill-rule=\"evenodd\" fill-opacity=\"1\" /><polyline clip-path=\"url(#clip262)\" style=\"stroke:#000000; stroke-linecap:butt; stroke-linejoin:round; stroke-width:2; stroke-opacity:0.1; fill:none\" points=\"\n",
       "  186.76,1416.3 2352.76,1416.3 \n",
       "  \"/>\n",
       "<polyline clip-path=\"url(#clip262)\" style=\"stroke:#000000; stroke-linecap:butt; stroke-linejoin:round; stroke-width:2; stroke-opacity:0.1; fill:none\" points=\"\n",
       "  186.76,1243.25 2352.76,1243.25 \n",
       "  \"/>\n",
       "<polyline clip-path=\"url(#clip262)\" style=\"stroke:#000000; stroke-linecap:butt; stroke-linejoin:round; stroke-width:2; stroke-opacity:0.1; fill:none\" points=\"\n",
       "  186.76,1070.2 2352.76,1070.2 \n",
       "  \"/>\n",
       "<polyline clip-path=\"url(#clip262)\" style=\"stroke:#000000; stroke-linecap:butt; stroke-linejoin:round; stroke-width:2; stroke-opacity:0.1; fill:none\" points=\"\n",
       "  186.76,897.156 2352.76,897.156 \n",
       "  \"/>\n",
       "<polyline clip-path=\"url(#clip262)\" style=\"stroke:#000000; stroke-linecap:butt; stroke-linejoin:round; stroke-width:2; stroke-opacity:0.1; fill:none\" points=\"\n",
       "  186.76,724.11 2352.76,724.11 \n",
       "  \"/>\n",
       "<polyline clip-path=\"url(#clip262)\" style=\"stroke:#000000; stroke-linecap:butt; stroke-linejoin:round; stroke-width:2; stroke-opacity:0.1; fill:none\" points=\"\n",
       "  186.76,551.063 2352.76,551.063 \n",
       "  \"/>\n",
       "<polyline clip-path=\"url(#clip262)\" style=\"stroke:#000000; stroke-linecap:butt; stroke-linejoin:round; stroke-width:2; stroke-opacity:0.1; fill:none\" points=\"\n",
       "  186.76,378.017 2352.76,378.017 \n",
       "  \"/>\n",
       "<polyline clip-path=\"url(#clip262)\" style=\"stroke:#000000; stroke-linecap:butt; stroke-linejoin:round; stroke-width:2; stroke-opacity:0.1; fill:none\" points=\"\n",
       "  186.76,204.97 2352.76,204.97 \n",
       "  \"/>\n",
       "<polyline clip-path=\"url(#clip260)\" style=\"stroke:#000000; stroke-linecap:butt; stroke-linejoin:round; stroke-width:4; stroke-opacity:1; fill:none\" points=\"\n",
       "  186.76,1486.45 186.76,47.2441 \n",
       "  \"/>\n",
       "<polyline clip-path=\"url(#clip260)\" style=\"stroke:#000000; stroke-linecap:butt; stroke-linejoin:round; stroke-width:4; stroke-opacity:1; fill:none\" points=\"\n",
       "  186.76,1416.3 205.658,1416.3 \n",
       "  \"/>\n",
       "<polyline clip-path=\"url(#clip260)\" style=\"stroke:#000000; stroke-linecap:butt; stroke-linejoin:round; stroke-width:4; stroke-opacity:1; fill:none\" points=\"\n",
       "  186.76,1243.25 205.658,1243.25 \n",
       "  \"/>\n",
       "<polyline clip-path=\"url(#clip260)\" style=\"stroke:#000000; stroke-linecap:butt; stroke-linejoin:round; stroke-width:4; stroke-opacity:1; fill:none\" points=\"\n",
       "  186.76,1070.2 205.658,1070.2 \n",
       "  \"/>\n",
       "<polyline clip-path=\"url(#clip260)\" style=\"stroke:#000000; stroke-linecap:butt; stroke-linejoin:round; stroke-width:4; stroke-opacity:1; fill:none\" points=\"\n",
       "  186.76,897.156 205.658,897.156 \n",
       "  \"/>\n",
       "<polyline clip-path=\"url(#clip260)\" style=\"stroke:#000000; stroke-linecap:butt; stroke-linejoin:round; stroke-width:4; stroke-opacity:1; fill:none\" points=\"\n",
       "  186.76,724.11 205.658,724.11 \n",
       "  \"/>\n",
       "<polyline clip-path=\"url(#clip260)\" style=\"stroke:#000000; stroke-linecap:butt; stroke-linejoin:round; stroke-width:4; stroke-opacity:1; fill:none\" points=\"\n",
       "  186.76,551.063 205.658,551.063 \n",
       "  \"/>\n",
       "<polyline clip-path=\"url(#clip260)\" style=\"stroke:#000000; stroke-linecap:butt; stroke-linejoin:round; stroke-width:4; stroke-opacity:1; fill:none\" points=\"\n",
       "  186.76,378.017 205.658,378.017 \n",
       "  \"/>\n",
       "<polyline clip-path=\"url(#clip260)\" style=\"stroke:#000000; stroke-linecap:butt; stroke-linejoin:round; stroke-width:4; stroke-opacity:1; fill:none\" points=\"\n",
       "  186.76,204.97 205.658,204.97 \n",
       "  \"/>\n",
       "<path clip-path=\"url(#clip260)\" d=\"M63.5152 1402.09 Q59.9041 1402.09 58.0754 1405.66 Q56.2699 1409.2 56.2699 1416.33 Q56.2699 1423.44 58.0754 1427 Q59.9041 1430.54 63.5152 1430.54 Q67.1494 1430.54 68.955 1427 Q70.7837 1423.44 70.7837 1416.33 Q70.7837 1409.2 68.955 1405.66 Q67.1494 1402.09 63.5152 1402.09 M63.5152 1398.39 Q69.3254 1398.39 72.3809 1403 Q75.4596 1407.58 75.4596 1416.33 Q75.4596 1425.06 72.3809 1429.66 Q69.3254 1434.25 63.5152 1434.25 Q57.7051 1434.25 54.6264 1429.66 Q51.5708 1425.06 51.5708 1416.33 Q51.5708 1407.58 54.6264 1403 Q57.7051 1398.39 63.5152 1398.39 Z\" fill=\"#000000\" fill-rule=\"evenodd\" fill-opacity=\"1\" /><path clip-path=\"url(#clip260)\" d=\"M83.6771 1427.7 L88.5614 1427.7 L88.5614 1433.58 L83.6771 1433.58 L83.6771 1427.7 Z\" fill=\"#000000\" fill-rule=\"evenodd\" fill-opacity=\"1\" /><path clip-path=\"url(#clip260)\" d=\"M99.5567 1429.64 L107.196 1429.64 L107.196 1403.28 L98.8854 1404.94 L98.8854 1400.68 L107.149 1399.02 L111.825 1399.02 L111.825 1429.64 L119.464 1429.64 L119.464 1433.58 L99.5567 1433.58 L99.5567 1429.64 Z\" fill=\"#000000\" fill-rule=\"evenodd\" fill-opacity=\"1\" /><path clip-path=\"url(#clip260)\" d=\"M138.908 1417.16 Q135.575 1417.16 133.654 1418.95 Q131.756 1420.73 131.756 1423.85 Q131.756 1426.98 133.654 1428.76 Q135.575 1430.54 138.908 1430.54 Q142.242 1430.54 144.163 1428.76 Q146.084 1426.96 146.084 1423.85 Q146.084 1420.73 144.163 1418.95 Q142.265 1417.16 138.908 1417.16 M134.232 1415.17 Q131.223 1414.43 129.533 1412.37 Q127.867 1410.31 127.867 1407.35 Q127.867 1403.21 130.807 1400.8 Q133.769 1398.39 138.908 1398.39 Q144.07 1398.39 147.01 1400.8 Q149.95 1403.21 149.95 1407.35 Q149.95 1410.31 148.26 1412.37 Q146.593 1414.43 143.607 1415.17 Q146.987 1415.96 148.862 1418.25 Q150.76 1420.54 150.76 1423.85 Q150.76 1428.88 147.681 1431.56 Q144.626 1434.25 138.908 1434.25 Q133.191 1434.25 130.112 1431.56 Q127.057 1428.88 127.057 1423.85 Q127.057 1420.54 128.955 1418.25 Q130.853 1415.96 134.232 1415.17 M132.519 1407.79 Q132.519 1410.47 134.186 1411.98 Q135.876 1413.48 138.908 1413.48 Q141.918 1413.48 143.607 1411.98 Q145.32 1410.47 145.32 1407.79 Q145.32 1405.1 143.607 1403.6 Q141.918 1402.09 138.908 1402.09 Q135.876 1402.09 134.186 1403.6 Q132.519 1405.1 132.519 1407.79 Z\" fill=\"#000000\" fill-rule=\"evenodd\" fill-opacity=\"1\" /><path clip-path=\"url(#clip260)\" d=\"M63.4226 1229.05 Q59.8115 1229.05 57.9828 1232.61 Q56.1773 1236.15 56.1773 1243.28 Q56.1773 1250.39 57.9828 1253.96 Q59.8115 1257.5 63.4226 1257.5 Q67.0569 1257.5 68.8624 1253.96 Q70.6911 1250.39 70.6911 1243.28 Q70.6911 1236.15 68.8624 1232.61 Q67.0569 1229.05 63.4226 1229.05 M63.4226 1225.34 Q69.2328 1225.34 72.2883 1229.95 Q75.367 1234.53 75.367 1243.28 Q75.367 1252.01 72.2883 1256.62 Q69.2328 1261.2 63.4226 1261.2 Q57.6125 1261.2 54.5338 1256.62 Q51.4782 1252.01 51.4782 1243.28 Q51.4782 1234.53 54.5338 1229.95 Q57.6125 1225.34 63.4226 1225.34 Z\" fill=\"#000000\" fill-rule=\"evenodd\" fill-opacity=\"1\" /><path clip-path=\"url(#clip260)\" d=\"M83.5845 1254.65 L88.4688 1254.65 L88.4688 1260.53 L83.5845 1260.53 L83.5845 1254.65 Z\" fill=\"#000000\" fill-rule=\"evenodd\" fill-opacity=\"1\" /><path clip-path=\"url(#clip260)\" d=\"M102.682 1256.59 L119.001 1256.59 L119.001 1260.53 L97.0567 1260.53 L97.0567 1256.59 Q99.7187 1253.84 104.302 1249.21 Q108.908 1244.56 110.089 1243.21 Q112.334 1240.69 113.214 1238.96 Q114.117 1237.2 114.117 1235.51 Q114.117 1232.75 112.172 1231.02 Q110.251 1229.28 107.149 1229.28 Q104.95 1229.28 102.496 1230.04 Q100.066 1230.81 97.2882 1232.36 L97.2882 1227.64 Q100.112 1226.5 102.566 1225.92 Q105.02 1225.34 107.057 1225.34 Q112.427 1225.34 115.621 1228.03 Q118.816 1230.71 118.816 1235.21 Q118.816 1237.33 118.006 1239.26 Q117.219 1241.15 115.112 1243.75 Q114.533 1244.42 111.432 1247.64 Q108.33 1250.83 102.682 1256.59 Z\" fill=\"#000000\" fill-rule=\"evenodd\" fill-opacity=\"1\" /><path clip-path=\"url(#clip260)\" d=\"M138.816 1229.05 Q135.205 1229.05 133.376 1232.61 Q131.57 1236.15 131.57 1243.28 Q131.57 1250.39 133.376 1253.96 Q135.205 1257.5 138.816 1257.5 Q142.45 1257.5 144.256 1253.96 Q146.084 1250.39 146.084 1243.28 Q146.084 1236.15 144.256 1232.61 Q142.45 1229.05 138.816 1229.05 M138.816 1225.34 Q144.626 1225.34 147.681 1229.95 Q150.76 1234.53 150.76 1243.28 Q150.76 1252.01 147.681 1256.62 Q144.626 1261.2 138.816 1261.2 Q133.006 1261.2 129.927 1256.62 Q126.871 1252.01 126.871 1243.28 Q126.871 1234.53 129.927 1229.95 Q133.006 1225.34 138.816 1225.34 Z\" fill=\"#000000\" fill-rule=\"evenodd\" fill-opacity=\"1\" /><path clip-path=\"url(#clip260)\" d=\"M65.0198 1056 Q61.4087 1056 59.58 1059.57 Q57.7745 1063.11 57.7745 1070.24 Q57.7745 1077.34 59.58 1080.91 Q61.4087 1084.45 65.0198 1084.45 Q68.6541 1084.45 70.4596 1080.91 Q72.2883 1077.34 72.2883 1070.24 Q72.2883 1063.11 70.4596 1059.57 Q68.6541 1056 65.0198 1056 M65.0198 1052.3 Q70.83 1052.3 73.8855 1056.9 Q76.9642 1061.49 76.9642 1070.24 Q76.9642 1078.96 73.8855 1083.57 Q70.83 1088.15 65.0198 1088.15 Q59.2097 1088.15 56.131 1083.57 Q53.0754 1078.96 53.0754 1070.24 Q53.0754 1061.49 56.131 1056.9 Q59.2097 1052.3 65.0198 1052.3 Z\" fill=\"#000000\" fill-rule=\"evenodd\" fill-opacity=\"1\" /><path clip-path=\"url(#clip260)\" d=\"M85.1818 1081.6 L90.066 1081.6 L90.066 1087.48 L85.1818 1087.48 L85.1818 1081.6 Z\" fill=\"#000000\" fill-rule=\"evenodd\" fill-opacity=\"1\" /><path clip-path=\"url(#clip260)\" d=\"M104.279 1083.55 L120.598 1083.55 L120.598 1087.48 L98.6539 1087.48 L98.6539 1083.55 Q101.316 1080.79 105.899 1076.16 Q110.506 1071.51 111.686 1070.17 Q113.932 1067.64 114.811 1065.91 Q115.714 1064.15 115.714 1062.46 Q115.714 1059.71 113.77 1057.97 Q111.848 1056.23 108.746 1056.23 Q106.547 1056.23 104.094 1057 Q101.663 1057.76 98.8854 1059.31 L98.8854 1054.59 Q101.709 1053.46 104.163 1052.88 Q106.617 1052.3 108.654 1052.3 Q114.024 1052.3 117.219 1054.98 Q120.413 1057.67 120.413 1062.16 Q120.413 1064.29 119.603 1066.21 Q118.816 1068.11 116.709 1070.7 Q116.131 1071.37 113.029 1074.59 Q109.927 1077.78 104.279 1083.55 Z\" fill=\"#000000\" fill-rule=\"evenodd\" fill-opacity=\"1\" /><path clip-path=\"url(#clip260)\" d=\"M134.441 1083.55 L150.76 1083.55 L150.76 1087.48 L128.816 1087.48 L128.816 1083.55 Q131.478 1080.79 136.061 1076.16 Q140.668 1071.51 141.848 1070.17 Q144.093 1067.64 144.973 1065.91 Q145.876 1064.15 145.876 1062.46 Q145.876 1059.71 143.931 1057.97 Q142.01 1056.23 138.908 1056.23 Q136.709 1056.23 134.256 1057 Q131.825 1057.76 129.047 1059.31 L129.047 1054.59 Q131.871 1053.46 134.325 1052.88 Q136.779 1052.3 138.816 1052.3 Q144.186 1052.3 147.38 1054.98 Q150.575 1057.67 150.575 1062.16 Q150.575 1064.29 149.765 1066.21 Q148.978 1068.11 146.871 1070.7 Q146.293 1071.37 143.191 1074.59 Q140.089 1077.78 134.441 1083.55 Z\" fill=\"#000000\" fill-rule=\"evenodd\" fill-opacity=\"1\" /><path clip-path=\"url(#clip260)\" d=\"M62.9365 882.955 Q59.3254 882.955 57.4967 886.52 Q55.6912 890.061 55.6912 897.191 Q55.6912 904.297 57.4967 907.862 Q59.3254 911.404 62.9365 911.404 Q66.5707 911.404 68.3763 907.862 Q70.205 904.297 70.205 897.191 Q70.205 890.061 68.3763 886.52 Q66.5707 882.955 62.9365 882.955 M62.9365 879.251 Q68.7467 879.251 71.8022 883.858 Q74.8809 888.441 74.8809 897.191 Q74.8809 905.918 71.8022 910.524 Q68.7467 915.108 62.9365 915.108 Q57.1264 915.108 54.0477 910.524 Q50.9921 905.918 50.9921 897.191 Q50.9921 888.441 54.0477 883.858 Q57.1264 879.251 62.9365 879.251 Z\" fill=\"#000000\" fill-rule=\"evenodd\" fill-opacity=\"1\" /><path clip-path=\"url(#clip260)\" d=\"M83.0984 908.557 L87.9827 908.557 L87.9827 914.436 L83.0984 914.436 L83.0984 908.557 Z\" fill=\"#000000\" fill-rule=\"evenodd\" fill-opacity=\"1\" /><path clip-path=\"url(#clip260)\" d=\"M102.196 910.501 L118.515 910.501 L118.515 914.436 L96.5706 914.436 L96.5706 910.501 Q99.2326 907.746 103.816 903.117 Q108.422 898.464 109.603 897.121 Q111.848 894.598 112.728 892.862 Q113.631 891.103 113.631 889.413 Q113.631 886.659 111.686 884.922 Q109.765 883.186 106.663 883.186 Q104.464 883.186 102.01 883.95 Q99.5798 884.714 96.8021 886.265 L96.8021 881.543 Q99.6261 880.409 102.08 879.83 Q104.534 879.251 106.571 879.251 Q111.941 879.251 115.135 881.936 Q118.33 884.622 118.33 889.112 Q118.33 891.242 117.52 893.163 Q116.733 895.061 114.626 897.654 Q114.047 898.325 110.946 901.543 Q107.844 904.737 102.196 910.501 Z\" fill=\"#000000\" fill-rule=\"evenodd\" fill-opacity=\"1\" /><path clip-path=\"url(#clip260)\" d=\"M141.177 883.95 L129.371 902.399 L141.177 902.399 L141.177 883.95 M139.95 879.876 L145.83 879.876 L145.83 902.399 L150.76 902.399 L150.76 906.288 L145.83 906.288 L145.83 914.436 L141.177 914.436 L141.177 906.288 L125.575 906.288 L125.575 901.774 L139.95 879.876 Z\" fill=\"#000000\" fill-rule=\"evenodd\" fill-opacity=\"1\" /><path clip-path=\"url(#clip260)\" d=\"M63.2606 709.908 Q59.6495 709.908 57.8208 713.473 Q56.0152 717.015 56.0152 724.144 Q56.0152 731.251 57.8208 734.816 Q59.6495 738.357 63.2606 738.357 Q66.8948 738.357 68.7004 734.816 Q70.5291 731.251 70.5291 724.144 Q70.5291 717.015 68.7004 713.473 Q66.8948 709.908 63.2606 709.908 M63.2606 706.205 Q69.0707 706.205 72.1263 710.811 Q75.205 715.394 75.205 724.144 Q75.205 732.871 72.1263 737.478 Q69.0707 742.061 63.2606 742.061 Q57.4504 742.061 54.3717 737.478 Q51.3162 732.871 51.3162 724.144 Q51.3162 715.394 54.3717 710.811 Q57.4504 706.205 63.2606 706.205 Z\" fill=\"#000000\" fill-rule=\"evenodd\" fill-opacity=\"1\" /><path clip-path=\"url(#clip260)\" d=\"M83.4225 735.51 L88.3067 735.51 L88.3067 741.39 L83.4225 741.39 L83.4225 735.51 Z\" fill=\"#000000\" fill-rule=\"evenodd\" fill-opacity=\"1\" /><path clip-path=\"url(#clip260)\" d=\"M102.52 737.455 L118.839 737.455 L118.839 741.39 L96.8947 741.39 L96.8947 737.455 Q99.5567 734.7 104.14 730.07 Q108.746 725.418 109.927 724.075 Q112.172 721.552 113.052 719.816 Q113.955 718.056 113.955 716.367 Q113.955 713.612 112.01 711.876 Q110.089 710.14 106.987 710.14 Q104.788 710.14 102.334 710.904 Q99.9039 711.668 97.1261 713.219 L97.1261 708.496 Q99.9502 707.362 102.404 706.783 Q104.858 706.205 106.895 706.205 Q112.265 706.205 115.459 708.89 Q118.654 711.575 118.654 716.066 Q118.654 718.195 117.844 720.117 Q117.057 722.015 114.95 724.607 Q114.371 725.279 111.27 728.496 Q108.168 731.691 102.52 737.455 Z\" fill=\"#000000\" fill-rule=\"evenodd\" fill-opacity=\"1\" /><path clip-path=\"url(#clip260)\" d=\"M139.232 722.246 Q136.084 722.246 134.232 724.399 Q132.404 726.552 132.404 730.302 Q132.404 734.029 134.232 736.205 Q136.084 738.357 139.232 738.357 Q142.381 738.357 144.209 736.205 Q146.061 734.029 146.061 730.302 Q146.061 726.552 144.209 724.399 Q142.381 722.246 139.232 722.246 M148.515 707.594 L148.515 711.853 Q146.756 711.019 144.95 710.58 Q143.168 710.14 141.408 710.14 Q136.779 710.14 134.325 713.265 Q131.894 716.39 131.547 722.709 Q132.913 720.695 134.973 719.631 Q137.033 718.543 139.51 718.543 Q144.718 718.543 147.728 721.714 Q150.76 724.862 150.76 730.302 Q150.76 735.626 147.612 738.843 Q144.464 742.061 139.232 742.061 Q133.237 742.061 130.066 737.478 Q126.894 732.871 126.894 724.144 Q126.894 715.95 130.783 711.089 Q134.672 706.205 141.223 706.205 Q142.982 706.205 144.765 706.552 Q146.57 706.899 148.515 707.594 Z\" fill=\"#000000\" fill-rule=\"evenodd\" fill-opacity=\"1\" /><path clip-path=\"url(#clip260)\" d=\"M63.5152 536.862 Q59.9041 536.862 58.0754 540.427 Q56.2699 543.968 56.2699 551.098 Q56.2699 558.204 58.0754 561.769 Q59.9041 565.311 63.5152 565.311 Q67.1494 565.311 68.955 561.769 Q70.7837 558.204 70.7837 551.098 Q70.7837 543.968 68.955 540.427 Q67.1494 536.862 63.5152 536.862 M63.5152 533.158 Q69.3254 533.158 72.3809 537.765 Q75.4596 542.348 75.4596 551.098 Q75.4596 559.825 72.3809 564.431 Q69.3254 569.014 63.5152 569.014 Q57.7051 569.014 54.6264 564.431 Q51.5708 559.825 51.5708 551.098 Q51.5708 542.348 54.6264 537.765 Q57.7051 533.158 63.5152 533.158 Z\" fill=\"#000000\" fill-rule=\"evenodd\" fill-opacity=\"1\" /><path clip-path=\"url(#clip260)\" d=\"M83.6771 562.464 L88.5614 562.464 L88.5614 568.343 L83.6771 568.343 L83.6771 562.464 Z\" fill=\"#000000\" fill-rule=\"evenodd\" fill-opacity=\"1\" /><path clip-path=\"url(#clip260)\" d=\"M102.774 564.408 L119.094 564.408 L119.094 568.343 L97.1493 568.343 L97.1493 564.408 Q99.8113 561.653 104.395 557.024 Q109.001 552.371 110.182 551.028 Q112.427 548.505 113.307 546.769 Q114.209 545.01 114.209 543.32 Q114.209 540.566 112.265 538.829 Q110.344 537.093 107.242 537.093 Q105.043 537.093 102.589 537.857 Q100.159 538.621 97.3808 540.172 L97.3808 535.45 Q100.205 534.316 102.659 533.737 Q105.112 533.158 107.149 533.158 Q112.52 533.158 115.714 535.843 Q118.908 538.529 118.908 543.019 Q118.908 545.149 118.098 547.07 Q117.311 548.968 115.205 551.561 Q114.626 552.232 111.524 555.45 Q108.422 558.644 102.774 564.408 Z\" fill=\"#000000\" fill-rule=\"evenodd\" fill-opacity=\"1\" /><path clip-path=\"url(#clip260)\" d=\"M138.908 551.931 Q135.575 551.931 133.654 553.714 Q131.756 555.496 131.756 558.621 Q131.756 561.746 133.654 563.528 Q135.575 565.311 138.908 565.311 Q142.242 565.311 144.163 563.528 Q146.084 561.723 146.084 558.621 Q146.084 555.496 144.163 553.714 Q142.265 551.931 138.908 551.931 M134.232 549.94 Q131.223 549.2 129.533 547.14 Q127.867 545.079 127.867 542.116 Q127.867 537.973 130.807 535.566 Q133.769 533.158 138.908 533.158 Q144.07 533.158 147.01 535.566 Q149.95 537.973 149.95 542.116 Q149.95 545.079 148.26 547.14 Q146.593 549.2 143.607 549.94 Q146.987 550.728 148.862 553.019 Q150.76 555.311 150.76 558.621 Q150.76 563.644 147.681 566.329 Q144.626 569.014 138.908 569.014 Q133.191 569.014 130.112 566.329 Q127.057 563.644 127.057 558.621 Q127.057 555.311 128.955 553.019 Q130.853 550.728 134.232 549.94 M132.519 542.556 Q132.519 545.241 134.186 546.746 Q135.876 548.251 138.908 548.251 Q141.918 548.251 143.607 546.746 Q145.32 545.241 145.32 542.556 Q145.32 539.871 143.607 538.366 Q141.918 536.862 138.908 536.862 Q135.876 536.862 134.186 538.366 Q132.519 539.871 132.519 542.556 Z\" fill=\"#000000\" fill-rule=\"evenodd\" fill-opacity=\"1\" /><path clip-path=\"url(#clip260)\" d=\"M63.4226 363.815 Q59.8115 363.815 57.9828 367.38 Q56.1773 370.922 56.1773 378.051 Q56.1773 385.158 57.9828 388.723 Q59.8115 392.264 63.4226 392.264 Q67.0569 392.264 68.8624 388.723 Q70.6911 385.158 70.6911 378.051 Q70.6911 370.922 68.8624 367.38 Q67.0569 363.815 63.4226 363.815 M63.4226 360.112 Q69.2328 360.112 72.2883 364.718 Q75.367 369.301 75.367 378.051 Q75.367 386.778 72.2883 391.385 Q69.2328 395.968 63.4226 395.968 Q57.6125 395.968 54.5338 391.385 Q51.4782 386.778 51.4782 378.051 Q51.4782 369.301 54.5338 364.718 Q57.6125 360.112 63.4226 360.112 Z\" fill=\"#000000\" fill-rule=\"evenodd\" fill-opacity=\"1\" /><path clip-path=\"url(#clip260)\" d=\"M83.5845 389.417 L88.4688 389.417 L88.4688 395.297 L83.5845 395.297 L83.5845 389.417 Z\" fill=\"#000000\" fill-rule=\"evenodd\" fill-opacity=\"1\" /><path clip-path=\"url(#clip260)\" d=\"M112.82 376.662 Q116.177 377.38 118.052 379.649 Q119.95 381.917 119.95 385.25 Q119.95 390.366 116.432 393.167 Q112.913 395.968 106.432 395.968 Q104.256 395.968 101.941 395.528 Q99.6493 395.111 97.1956 394.255 L97.1956 389.741 Q99.14 390.875 101.455 391.454 Q103.77 392.033 106.293 392.033 Q110.691 392.033 112.983 390.297 Q115.297 388.561 115.297 385.25 Q115.297 382.195 113.145 380.482 Q111.015 378.746 107.196 378.746 L103.168 378.746 L103.168 374.903 L107.381 374.903 Q110.83 374.903 112.658 373.538 Q114.487 372.149 114.487 369.556 Q114.487 366.894 112.589 365.482 Q110.714 364.047 107.196 364.047 Q105.274 364.047 103.075 364.463 Q100.876 364.88 98.2372 365.76 L98.2372 361.593 Q100.899 360.852 103.214 360.482 Q105.552 360.112 107.612 360.112 Q112.936 360.112 116.038 362.542 Q119.14 364.95 119.14 369.07 Q119.14 371.94 117.496 373.931 Q115.853 375.899 112.82 376.662 Z\" fill=\"#000000\" fill-rule=\"evenodd\" fill-opacity=\"1\" /><path clip-path=\"url(#clip260)\" d=\"M138.816 363.815 Q135.205 363.815 133.376 367.38 Q131.57 370.922 131.57 378.051 Q131.57 385.158 133.376 388.723 Q135.205 392.264 138.816 392.264 Q142.45 392.264 144.256 388.723 Q146.084 385.158 146.084 378.051 Q146.084 370.922 144.256 367.38 Q142.45 363.815 138.816 363.815 M138.816 360.112 Q144.626 360.112 147.681 364.718 Q150.76 369.301 150.76 378.051 Q150.76 386.778 147.681 391.385 Q144.626 395.968 138.816 395.968 Q133.006 395.968 129.927 391.385 Q126.871 386.778 126.871 378.051 Q126.871 369.301 129.927 364.718 Q133.006 360.112 138.816 360.112 Z\" fill=\"#000000\" fill-rule=\"evenodd\" fill-opacity=\"1\" /><path clip-path=\"url(#clip260)\" d=\"M65.0198 190.769 Q61.4087 190.769 59.58 194.334 Q57.7745 197.875 57.7745 205.005 Q57.7745 212.111 59.58 215.676 Q61.4087 219.218 65.0198 219.218 Q68.6541 219.218 70.4596 215.676 Q72.2883 212.111 72.2883 205.005 Q72.2883 197.875 70.4596 194.334 Q68.6541 190.769 65.0198 190.769 M65.0198 187.065 Q70.83 187.065 73.8855 191.672 Q76.9642 196.255 76.9642 205.005 Q76.9642 213.732 73.8855 218.338 Q70.83 222.921 65.0198 222.921 Q59.2097 222.921 56.131 218.338 Q53.0754 213.732 53.0754 205.005 Q53.0754 196.255 56.131 191.672 Q59.2097 187.065 65.0198 187.065 Z\" fill=\"#000000\" fill-rule=\"evenodd\" fill-opacity=\"1\" /><path clip-path=\"url(#clip260)\" d=\"M85.1818 216.371 L90.066 216.371 L90.066 222.25 L85.1818 222.25 L85.1818 216.371 Z\" fill=\"#000000\" fill-rule=\"evenodd\" fill-opacity=\"1\" /><path clip-path=\"url(#clip260)\" d=\"M114.418 203.616 Q117.774 204.334 119.649 206.602 Q121.547 208.871 121.547 212.204 Q121.547 217.32 118.029 220.121 Q114.51 222.921 108.029 222.921 Q105.853 222.921 103.538 222.482 Q101.246 222.065 98.7928 221.208 L98.7928 216.695 Q100.737 217.829 103.052 218.408 Q105.367 218.986 107.89 218.986 Q112.288 218.986 114.58 217.25 Q116.895 215.514 116.895 212.204 Q116.895 209.148 114.742 207.435 Q112.612 205.699 108.793 205.699 L104.765 205.699 L104.765 201.857 L108.978 201.857 Q112.427 201.857 114.256 200.491 Q116.084 199.102 116.084 196.51 Q116.084 193.848 114.186 192.435 Q112.311 191 108.793 191 Q106.871 191 104.672 191.417 Q102.473 191.834 99.8345 192.713 L99.8345 188.547 Q102.496 187.806 104.811 187.436 Q107.149 187.065 109.209 187.065 Q114.533 187.065 117.635 189.496 Q120.737 191.903 120.737 196.023 Q120.737 198.894 119.094 200.885 Q117.45 202.852 114.418 203.616 Z\" fill=\"#000000\" fill-rule=\"evenodd\" fill-opacity=\"1\" /><path clip-path=\"url(#clip260)\" d=\"M134.441 218.315 L150.76 218.315 L150.76 222.25 L128.816 222.25 L128.816 218.315 Q131.478 215.56 136.061 210.931 Q140.668 206.278 141.848 204.935 Q144.093 202.412 144.973 200.676 Q145.876 198.917 145.876 197.227 Q145.876 194.472 143.931 192.736 Q142.01 191 138.908 191 Q136.709 191 134.256 191.764 Q131.825 192.528 129.047 194.079 L129.047 189.357 Q131.871 188.223 134.325 187.644 Q136.779 187.065 138.816 187.065 Q144.186 187.065 147.38 189.75 Q150.575 192.435 150.575 196.926 Q150.575 199.056 149.765 200.977 Q148.978 202.875 146.871 205.468 Q146.293 206.139 143.191 209.357 Q140.089 212.551 134.441 218.315 Z\" fill=\"#000000\" fill-rule=\"evenodd\" fill-opacity=\"1\" /><polyline clip-path=\"url(#clip262)\" style=\"stroke:#009af9; stroke-linecap:butt; stroke-linejoin:round; stroke-width:4; stroke-opacity:1; fill:none\" points=\"\n",
       "  248.062,1445.72 758.91,506.854 1269.76,872.769 1780.61,87.9763 2291.45,1185.72 \n",
       "  \"/>\n",
       "<path clip-path=\"url(#clip260)\" d=\"\n",
       "M1987.46 198.898 L2280.56 198.898 L2280.56 95.2176 L1987.46 95.2176  Z\n",
       "  \" fill=\"#ffffff\" fill-rule=\"evenodd\" fill-opacity=\"1\"/>\n",
       "<polyline clip-path=\"url(#clip260)\" style=\"stroke:#000000; stroke-linecap:butt; stroke-linejoin:round; stroke-width:4; stroke-opacity:1; fill:none\" points=\"\n",
       "  1987.46,198.898 2280.56,198.898 2280.56,95.2176 1987.46,95.2176 1987.46,198.898 \n",
       "  \"/>\n",
       "<polyline clip-path=\"url(#clip260)\" style=\"stroke:#009af9; stroke-linecap:butt; stroke-linejoin:round; stroke-width:4; stroke-opacity:1; fill:none\" points=\"\n",
       "  2011.53,147.058 2155.93,147.058 \n",
       "  \"/>\n",
       "<path clip-path=\"url(#clip260)\" d=\"M2193.84 166.745 Q2192.03 171.375 2190.32 172.787 Q2188.6 174.199 2185.73 174.199 L2182.33 174.199 L2182.33 170.634 L2184.83 170.634 Q2186.59 170.634 2187.56 169.8 Q2188.53 168.967 2189.71 165.865 L2190.48 163.921 L2179.99 138.412 L2184.51 138.412 L2192.61 158.689 L2200.71 138.412 L2205.22 138.412 L2193.84 166.745 Z\" fill=\"#000000\" fill-rule=\"evenodd\" fill-opacity=\"1\" /><path clip-path=\"url(#clip260)\" d=\"M2212.52 160.402 L2220.15 160.402 L2220.15 134.037 L2211.84 135.703 L2211.84 131.444 L2220.11 129.778 L2224.78 129.778 L2224.78 160.402 L2232.42 160.402 L2232.42 164.338 L2212.52 164.338 L2212.52 160.402 Z\" fill=\"#000000\" fill-rule=\"evenodd\" fill-opacity=\"1\" /></svg>\n"
      ]
     },
     "execution_count": 2185,
     "metadata": {},
     "output_type": "execute_result"
    }
   ],
   "source": [
    "plot(collect(values(average_errors)))"
   ]
  },
  {
   "cell_type": "code",
   "execution_count": 2174,
   "metadata": {},
   "outputs": [
    {
     "name": "stdout",
     "output_type": "stream",
     "text": [
      "  0.000224 seconds (231 allocations: 100.781 KiB)\n"
     ]
    },
    {
     "data": {
      "image/svg+xml": [
       "<?xml version=\"1.0\" encoding=\"utf-8\"?>\n",
       "<svg xmlns=\"http://www.w3.org/2000/svg\" xmlns:xlink=\"http://www.w3.org/1999/xlink\" width=\"600\" height=\"400\" viewBox=\"0 0 2400 1600\">\n",
       "<defs>\n",
       "  <clipPath id=\"clip060\">\n",
       "    <rect x=\"0\" y=\"0\" width=\"2400\" height=\"1600\"/>\n",
       "  </clipPath>\n",
       "</defs>\n",
       "<path clip-path=\"url(#clip060)\" d=\"\n",
       "M0 1600 L2400 1600 L2400 0 L0 0  Z\n",
       "  \" fill=\"#ffffff\" fill-rule=\"evenodd\" fill-opacity=\"1\"/>\n",
       "<defs>\n",
       "  <clipPath id=\"clip061\">\n",
       "    <rect x=\"480\" y=\"0\" width=\"1681\" height=\"1600\"/>\n",
       "  </clipPath>\n",
       "</defs>\n",
       "<path clip-path=\"url(#clip060)\" d=\"\n",
       "M156.598 1486.45 L2352.76 1486.45 L2352.76 47.2441 L156.598 47.2441  Z\n",
       "  \" fill=\"#ffffff\" fill-rule=\"evenodd\" fill-opacity=\"1\"/>\n",
       "<defs>\n",
       "  <clipPath id=\"clip062\">\n",
       "    <rect x=\"156\" y=\"47\" width=\"2197\" height=\"1440\"/>\n",
       "  </clipPath>\n",
       "</defs>\n",
       "<polyline clip-path=\"url(#clip062)\" style=\"stroke:#000000; stroke-linecap:butt; stroke-linejoin:round; stroke-width:2; stroke-opacity:0.1; fill:none\" points=\"\n",
       "  218.754,1486.45 218.754,47.2441 \n",
       "  \"/>\n",
       "<polyline clip-path=\"url(#clip062)\" style=\"stroke:#000000; stroke-linecap:butt; stroke-linejoin:round; stroke-width:2; stroke-opacity:0.1; fill:none\" points=\"\n",
       "  564.061,1486.45 564.061,47.2441 \n",
       "  \"/>\n",
       "<polyline clip-path=\"url(#clip062)\" style=\"stroke:#000000; stroke-linecap:butt; stroke-linejoin:round; stroke-width:2; stroke-opacity:0.1; fill:none\" points=\"\n",
       "  909.369,1486.45 909.369,47.2441 \n",
       "  \"/>\n",
       "<polyline clip-path=\"url(#clip062)\" style=\"stroke:#000000; stroke-linecap:butt; stroke-linejoin:round; stroke-width:2; stroke-opacity:0.1; fill:none\" points=\"\n",
       "  1254.68,1486.45 1254.68,47.2441 \n",
       "  \"/>\n",
       "<polyline clip-path=\"url(#clip062)\" style=\"stroke:#000000; stroke-linecap:butt; stroke-linejoin:round; stroke-width:2; stroke-opacity:0.1; fill:none\" points=\"\n",
       "  1599.98,1486.45 1599.98,47.2441 \n",
       "  \"/>\n",
       "<polyline clip-path=\"url(#clip062)\" style=\"stroke:#000000; stroke-linecap:butt; stroke-linejoin:round; stroke-width:2; stroke-opacity:0.1; fill:none\" points=\"\n",
       "  1945.29,1486.45 1945.29,47.2441 \n",
       "  \"/>\n",
       "<polyline clip-path=\"url(#clip062)\" style=\"stroke:#000000; stroke-linecap:butt; stroke-linejoin:round; stroke-width:2; stroke-opacity:0.1; fill:none\" points=\"\n",
       "  2290.6,1486.45 2290.6,47.2441 \n",
       "  \"/>\n",
       "<polyline clip-path=\"url(#clip060)\" style=\"stroke:#000000; stroke-linecap:butt; stroke-linejoin:round; stroke-width:4; stroke-opacity:1; fill:none\" points=\"\n",
       "  156.598,1486.45 2352.76,1486.45 \n",
       "  \"/>\n",
       "<polyline clip-path=\"url(#clip060)\" style=\"stroke:#000000; stroke-linecap:butt; stroke-linejoin:round; stroke-width:4; stroke-opacity:1; fill:none\" points=\"\n",
       "  218.754,1486.45 218.754,1467.55 \n",
       "  \"/>\n",
       "<polyline clip-path=\"url(#clip060)\" style=\"stroke:#000000; stroke-linecap:butt; stroke-linejoin:round; stroke-width:4; stroke-opacity:1; fill:none\" points=\"\n",
       "  564.061,1486.45 564.061,1467.55 \n",
       "  \"/>\n",
       "<polyline clip-path=\"url(#clip060)\" style=\"stroke:#000000; stroke-linecap:butt; stroke-linejoin:round; stroke-width:4; stroke-opacity:1; fill:none\" points=\"\n",
       "  909.369,1486.45 909.369,1467.55 \n",
       "  \"/>\n",
       "<polyline clip-path=\"url(#clip060)\" style=\"stroke:#000000; stroke-linecap:butt; stroke-linejoin:round; stroke-width:4; stroke-opacity:1; fill:none\" points=\"\n",
       "  1254.68,1486.45 1254.68,1467.55 \n",
       "  \"/>\n",
       "<polyline clip-path=\"url(#clip060)\" style=\"stroke:#000000; stroke-linecap:butt; stroke-linejoin:round; stroke-width:4; stroke-opacity:1; fill:none\" points=\"\n",
       "  1599.98,1486.45 1599.98,1467.55 \n",
       "  \"/>\n",
       "<polyline clip-path=\"url(#clip060)\" style=\"stroke:#000000; stroke-linecap:butt; stroke-linejoin:round; stroke-width:4; stroke-opacity:1; fill:none\" points=\"\n",
       "  1945.29,1486.45 1945.29,1467.55 \n",
       "  \"/>\n",
       "<polyline clip-path=\"url(#clip060)\" style=\"stroke:#000000; stroke-linecap:butt; stroke-linejoin:round; stroke-width:4; stroke-opacity:1; fill:none\" points=\"\n",
       "  2290.6,1486.45 2290.6,1467.55 \n",
       "  \"/>\n",
       "<path clip-path=\"url(#clip060)\" d=\"M196.138 1517.37 Q192.527 1517.37 190.698 1520.93 Q188.893 1524.47 188.893 1531.6 Q188.893 1538.71 190.698 1542.27 Q192.527 1545.82 196.138 1545.82 Q199.772 1545.82 201.578 1542.27 Q203.407 1538.71 203.407 1531.6 Q203.407 1524.47 201.578 1520.93 Q199.772 1517.37 196.138 1517.37 M196.138 1513.66 Q201.948 1513.66 205.004 1518.27 Q208.082 1522.85 208.082 1531.6 Q208.082 1540.33 205.004 1544.94 Q201.948 1549.52 196.138 1549.52 Q190.328 1549.52 187.249 1544.94 Q184.194 1540.33 184.194 1531.6 Q184.194 1522.85 187.249 1518.27 Q190.328 1513.66 196.138 1513.66 Z\" fill=\"#000000\" fill-rule=\"evenodd\" fill-opacity=\"1\" /><path clip-path=\"url(#clip060)\" d=\"M216.3 1542.97 L221.184 1542.97 L221.184 1548.85 L216.3 1548.85 L216.3 1542.97 Z\" fill=\"#000000\" fill-rule=\"evenodd\" fill-opacity=\"1\" /><path clip-path=\"url(#clip060)\" d=\"M241.369 1517.37 Q237.758 1517.37 235.929 1520.93 Q234.124 1524.47 234.124 1531.6 Q234.124 1538.71 235.929 1542.27 Q237.758 1545.82 241.369 1545.82 Q245.003 1545.82 246.809 1542.27 Q248.638 1538.71 248.638 1531.6 Q248.638 1524.47 246.809 1520.93 Q245.003 1517.37 241.369 1517.37 M241.369 1513.66 Q247.179 1513.66 250.235 1518.27 Q253.314 1522.85 253.314 1531.6 Q253.314 1540.33 250.235 1544.94 Q247.179 1549.52 241.369 1549.52 Q235.559 1549.52 232.48 1544.94 Q229.425 1540.33 229.425 1531.6 Q229.425 1522.85 232.48 1518.27 Q235.559 1513.66 241.369 1513.66 Z\" fill=\"#000000\" fill-rule=\"evenodd\" fill-opacity=\"1\" /><path clip-path=\"url(#clip060)\" d=\"M541.944 1517.37 Q538.332 1517.37 536.504 1520.93 Q534.698 1524.47 534.698 1531.6 Q534.698 1538.71 536.504 1542.27 Q538.332 1545.82 541.944 1545.82 Q545.578 1545.82 547.383 1542.27 Q549.212 1538.71 549.212 1531.6 Q549.212 1524.47 547.383 1520.93 Q545.578 1517.37 541.944 1517.37 M541.944 1513.66 Q547.754 1513.66 550.809 1518.27 Q553.888 1522.85 553.888 1531.6 Q553.888 1540.33 550.809 1544.94 Q547.754 1549.52 541.944 1549.52 Q536.133 1549.52 533.055 1544.94 Q529.999 1540.33 529.999 1531.6 Q529.999 1522.85 533.055 1518.27 Q536.133 1513.66 541.944 1513.66 Z\" fill=\"#000000\" fill-rule=\"evenodd\" fill-opacity=\"1\" /><path clip-path=\"url(#clip060)\" d=\"M562.105 1542.97 L566.99 1542.97 L566.99 1548.85 L562.105 1548.85 L562.105 1542.97 Z\" fill=\"#000000\" fill-rule=\"evenodd\" fill-opacity=\"1\" /><path clip-path=\"url(#clip060)\" d=\"M577.221 1514.29 L595.577 1514.29 L595.577 1518.22 L581.503 1518.22 L581.503 1526.7 Q582.522 1526.35 583.541 1526.19 Q584.559 1526 585.578 1526 Q591.365 1526 594.744 1529.17 Q598.124 1532.34 598.124 1537.76 Q598.124 1543.34 594.652 1546.44 Q591.179 1549.52 584.86 1549.52 Q582.684 1549.52 580.416 1549.15 Q578.17 1548.78 575.763 1548.04 L575.763 1543.34 Q577.846 1544.47 580.068 1545.03 Q582.291 1545.58 584.767 1545.58 Q588.772 1545.58 591.11 1543.48 Q593.448 1541.37 593.448 1537.76 Q593.448 1534.15 591.11 1532.04 Q588.772 1529.94 584.767 1529.94 Q582.892 1529.94 581.017 1530.35 Q579.166 1530.77 577.221 1531.65 L577.221 1514.29 Z\" fill=\"#000000\" fill-rule=\"evenodd\" fill-opacity=\"1\" /><path clip-path=\"url(#clip060)\" d=\"M876.522 1544.91 L884.161 1544.91 L884.161 1518.55 L875.851 1520.21 L875.851 1515.95 L884.115 1514.29 L888.791 1514.29 L888.791 1544.91 L896.43 1544.91 L896.43 1548.85 L876.522 1548.85 L876.522 1544.91 Z\" fill=\"#000000\" fill-rule=\"evenodd\" fill-opacity=\"1\" /><path clip-path=\"url(#clip060)\" d=\"M905.874 1542.97 L910.758 1542.97 L910.758 1548.85 L905.874 1548.85 L905.874 1542.97 Z\" fill=\"#000000\" fill-rule=\"evenodd\" fill-opacity=\"1\" /><path clip-path=\"url(#clip060)\" d=\"M930.943 1517.37 Q927.332 1517.37 925.503 1520.93 Q923.698 1524.47 923.698 1531.6 Q923.698 1538.71 925.503 1542.27 Q927.332 1545.82 930.943 1545.82 Q934.577 1545.82 936.383 1542.27 Q938.212 1538.71 938.212 1531.6 Q938.212 1524.47 936.383 1520.93 Q934.577 1517.37 930.943 1517.37 M930.943 1513.66 Q936.753 1513.66 939.809 1518.27 Q942.888 1522.85 942.888 1531.6 Q942.888 1540.33 939.809 1544.94 Q936.753 1549.52 930.943 1549.52 Q925.133 1549.52 922.054 1544.94 Q918.999 1540.33 918.999 1531.6 Q918.999 1522.85 922.054 1518.27 Q925.133 1513.66 930.943 1513.66 Z\" fill=\"#000000\" fill-rule=\"evenodd\" fill-opacity=\"1\" /><path clip-path=\"url(#clip060)\" d=\"M1222.33 1544.91 L1229.97 1544.91 L1229.97 1518.55 L1221.66 1520.21 L1221.66 1515.95 L1229.92 1514.29 L1234.6 1514.29 L1234.6 1544.91 L1242.24 1544.91 L1242.24 1548.85 L1222.33 1548.85 L1222.33 1544.91 Z\" fill=\"#000000\" fill-rule=\"evenodd\" fill-opacity=\"1\" /><path clip-path=\"url(#clip060)\" d=\"M1251.68 1542.97 L1256.56 1542.97 L1256.56 1548.85 L1251.68 1548.85 L1251.68 1542.97 Z\" fill=\"#000000\" fill-rule=\"evenodd\" fill-opacity=\"1\" /><path clip-path=\"url(#clip060)\" d=\"M1266.8 1514.29 L1285.15 1514.29 L1285.15 1518.22 L1271.08 1518.22 L1271.08 1526.7 Q1272.1 1526.35 1273.11 1526.19 Q1274.13 1526 1275.15 1526 Q1280.94 1526 1284.32 1529.17 Q1287.7 1532.34 1287.7 1537.76 Q1287.7 1543.34 1284.23 1546.44 Q1280.75 1549.52 1274.43 1549.52 Q1272.26 1549.52 1269.99 1549.15 Q1267.74 1548.78 1265.34 1548.04 L1265.34 1543.34 Q1267.42 1544.47 1269.64 1545.03 Q1271.86 1545.58 1274.34 1545.58 Q1278.35 1545.58 1280.68 1543.48 Q1283.02 1541.37 1283.02 1537.76 Q1283.02 1534.15 1280.68 1532.04 Q1278.35 1529.94 1274.34 1529.94 Q1272.47 1529.94 1270.59 1530.35 Q1268.74 1530.77 1266.8 1531.65 L1266.8 1514.29 Z\" fill=\"#000000\" fill-rule=\"evenodd\" fill-opacity=\"1\" /><path clip-path=\"url(#clip060)\" d=\"M1571.22 1544.91 L1587.54 1544.91 L1587.54 1548.85 L1565.6 1548.85 L1565.6 1544.91 Q1568.26 1542.16 1572.84 1537.53 Q1577.45 1532.88 1578.63 1531.53 Q1580.88 1529.01 1581.76 1527.27 Q1582.66 1525.51 1582.66 1523.82 Q1582.66 1521.07 1580.71 1519.33 Q1578.79 1517.6 1575.69 1517.6 Q1573.49 1517.6 1571.04 1518.36 Q1568.61 1519.13 1565.83 1520.68 L1565.83 1515.95 Q1568.65 1514.82 1571.11 1514.24 Q1573.56 1513.66 1575.6 1513.66 Q1580.97 1513.66 1584.16 1516.35 Q1587.36 1519.03 1587.36 1523.52 Q1587.36 1525.65 1586.55 1527.57 Q1585.76 1529.47 1583.65 1532.07 Q1583.08 1532.74 1579.97 1535.95 Q1576.87 1539.15 1571.22 1544.91 Z\" fill=\"#000000\" fill-rule=\"evenodd\" fill-opacity=\"1\" /><path clip-path=\"url(#clip060)\" d=\"M1597.36 1542.97 L1602.24 1542.97 L1602.24 1548.85 L1597.36 1548.85 L1597.36 1542.97 Z\" fill=\"#000000\" fill-rule=\"evenodd\" fill-opacity=\"1\" /><path clip-path=\"url(#clip060)\" d=\"M1622.43 1517.37 Q1618.82 1517.37 1616.99 1520.93 Q1615.18 1524.47 1615.18 1531.6 Q1615.18 1538.71 1616.99 1542.27 Q1618.82 1545.82 1622.43 1545.82 Q1626.06 1545.82 1627.87 1542.27 Q1629.7 1538.71 1629.7 1531.6 Q1629.7 1524.47 1627.87 1520.93 Q1626.06 1517.37 1622.43 1517.37 M1622.43 1513.66 Q1628.24 1513.66 1631.29 1518.27 Q1634.37 1522.85 1634.37 1531.6 Q1634.37 1540.33 1631.29 1544.94 Q1628.24 1549.52 1622.43 1549.52 Q1616.62 1549.52 1613.54 1544.94 Q1610.48 1540.33 1610.48 1531.6 Q1610.48 1522.85 1613.54 1518.27 Q1616.62 1513.66 1622.43 1513.66 Z\" fill=\"#000000\" fill-rule=\"evenodd\" fill-opacity=\"1\" /><path clip-path=\"url(#clip060)\" d=\"M1917.03 1544.91 L1933.35 1544.91 L1933.35 1548.85 L1911.4 1548.85 L1911.4 1544.91 Q1914.07 1542.16 1918.65 1537.53 Q1923.26 1532.88 1924.44 1531.53 Q1926.68 1529.01 1927.56 1527.27 Q1928.46 1525.51 1928.46 1523.82 Q1928.46 1521.07 1926.52 1519.33 Q1924.6 1517.6 1921.5 1517.6 Q1919.3 1517.6 1916.84 1518.36 Q1914.41 1519.13 1911.64 1520.68 L1911.64 1515.95 Q1914.46 1514.82 1916.91 1514.24 Q1919.37 1513.66 1921.4 1513.66 Q1926.77 1513.66 1929.97 1516.35 Q1933.16 1519.03 1933.16 1523.52 Q1933.16 1525.65 1932.35 1527.57 Q1931.57 1529.47 1929.46 1532.07 Q1928.88 1532.74 1925.78 1535.95 Q1922.68 1539.15 1917.03 1544.91 Z\" fill=\"#000000\" fill-rule=\"evenodd\" fill-opacity=\"1\" /><path clip-path=\"url(#clip060)\" d=\"M1943.16 1542.97 L1948.05 1542.97 L1948.05 1548.85 L1943.16 1548.85 L1943.16 1542.97 Z\" fill=\"#000000\" fill-rule=\"evenodd\" fill-opacity=\"1\" /><path clip-path=\"url(#clip060)\" d=\"M1958.28 1514.29 L1976.64 1514.29 L1976.64 1518.22 L1962.56 1518.22 L1962.56 1526.7 Q1963.58 1526.35 1964.6 1526.19 Q1965.62 1526 1966.64 1526 Q1972.42 1526 1975.8 1529.17 Q1979.18 1532.34 1979.18 1537.76 Q1979.18 1543.34 1975.71 1546.44 Q1972.24 1549.52 1965.92 1549.52 Q1963.74 1549.52 1961.47 1549.15 Q1959.23 1548.78 1956.82 1548.04 L1956.82 1543.34 Q1958.9 1544.47 1961.13 1545.03 Q1963.35 1545.58 1965.82 1545.58 Q1969.83 1545.58 1972.17 1543.48 Q1974.51 1541.37 1974.51 1537.76 Q1974.51 1534.15 1972.17 1532.04 Q1969.83 1529.94 1965.82 1529.94 Q1963.95 1529.94 1962.08 1530.35 Q1960.22 1530.77 1958.28 1531.65 L1958.28 1514.29 Z\" fill=\"#000000\" fill-rule=\"evenodd\" fill-opacity=\"1\" /><path clip-path=\"url(#clip060)\" d=\"M2271.91 1530.21 Q2275.26 1530.93 2277.14 1533.2 Q2279.04 1535.47 2279.04 1538.8 Q2279.04 1543.92 2275.52 1546.72 Q2272 1549.52 2265.52 1549.52 Q2263.34 1549.52 2261.03 1549.08 Q2258.74 1548.66 2256.28 1547.81 L2256.28 1543.29 Q2258.23 1544.43 2260.54 1545.01 Q2262.86 1545.58 2265.38 1545.58 Q2269.78 1545.58 2272.07 1543.85 Q2274.39 1542.11 2274.39 1538.8 Q2274.39 1535.75 2272.23 1534.03 Q2270.1 1532.3 2266.28 1532.3 L2262.26 1532.3 L2262.26 1528.45 L2266.47 1528.45 Q2269.92 1528.45 2271.75 1527.09 Q2273.58 1525.7 2273.58 1523.11 Q2273.58 1520.45 2271.68 1519.03 Q2269.8 1517.6 2266.28 1517.6 Q2264.36 1517.6 2262.16 1518.01 Q2259.96 1518.43 2257.33 1519.31 L2257.33 1515.14 Q2259.99 1514.4 2262.3 1514.03 Q2264.64 1513.66 2266.7 1513.66 Q2272.02 1513.66 2275.13 1516.09 Q2278.23 1518.5 2278.23 1522.62 Q2278.23 1525.49 2276.58 1527.48 Q2274.94 1529.45 2271.91 1530.21 Z\" fill=\"#000000\" fill-rule=\"evenodd\" fill-opacity=\"1\" /><path clip-path=\"url(#clip060)\" d=\"M2287.9 1542.97 L2292.79 1542.97 L2292.79 1548.85 L2287.9 1548.85 L2287.9 1542.97 Z\" fill=\"#000000\" fill-rule=\"evenodd\" fill-opacity=\"1\" /><path clip-path=\"url(#clip060)\" d=\"M2312.97 1517.37 Q2309.36 1517.37 2307.53 1520.93 Q2305.73 1524.47 2305.73 1531.6 Q2305.73 1538.71 2307.53 1542.27 Q2309.36 1545.82 2312.97 1545.82 Q2316.61 1545.82 2318.41 1542.27 Q2320.24 1538.71 2320.24 1531.6 Q2320.24 1524.47 2318.41 1520.93 Q2316.61 1517.37 2312.97 1517.37 M2312.97 1513.66 Q2318.78 1513.66 2321.84 1518.27 Q2324.92 1522.85 2324.92 1531.6 Q2324.92 1540.33 2321.84 1544.94 Q2318.78 1549.52 2312.97 1549.52 Q2307.16 1549.52 2304.08 1544.94 Q2301.03 1540.33 2301.03 1531.6 Q2301.03 1522.85 2304.08 1518.27 Q2307.16 1513.66 2312.97 1513.66 Z\" fill=\"#000000\" fill-rule=\"evenodd\" fill-opacity=\"1\" /><polyline clip-path=\"url(#clip062)\" style=\"stroke:#000000; stroke-linecap:butt; stroke-linejoin:round; stroke-width:2; stroke-opacity:0.1; fill:none\" points=\"\n",
       "  156.598,1486.45 2352.76,1486.45 \n",
       "  \"/>\n",
       "<polyline clip-path=\"url(#clip062)\" style=\"stroke:#000000; stroke-linecap:butt; stroke-linejoin:round; stroke-width:2; stroke-opacity:0.1; fill:none\" points=\"\n",
       "  156.598,1198.61 2352.76,1198.61 \n",
       "  \"/>\n",
       "<polyline clip-path=\"url(#clip062)\" style=\"stroke:#000000; stroke-linecap:butt; stroke-linejoin:round; stroke-width:2; stroke-opacity:0.1; fill:none\" points=\"\n",
       "  156.598,910.766 2352.76,910.766 \n",
       "  \"/>\n",
       "<polyline clip-path=\"url(#clip062)\" style=\"stroke:#000000; stroke-linecap:butt; stroke-linejoin:round; stroke-width:2; stroke-opacity:0.1; fill:none\" points=\"\n",
       "  156.598,622.926 2352.76,622.926 \n",
       "  \"/>\n",
       "<polyline clip-path=\"url(#clip062)\" style=\"stroke:#000000; stroke-linecap:butt; stroke-linejoin:round; stroke-width:2; stroke-opacity:0.1; fill:none\" points=\"\n",
       "  156.598,335.085 2352.76,335.085 \n",
       "  \"/>\n",
       "<polyline clip-path=\"url(#clip062)\" style=\"stroke:#000000; stroke-linecap:butt; stroke-linejoin:round; stroke-width:2; stroke-opacity:0.1; fill:none\" points=\"\n",
       "  156.598,47.2441 2352.76,47.2441 \n",
       "  \"/>\n",
       "<polyline clip-path=\"url(#clip060)\" style=\"stroke:#000000; stroke-linecap:butt; stroke-linejoin:round; stroke-width:4; stroke-opacity:1; fill:none\" points=\"\n",
       "  156.598,1486.45 156.598,47.2441 \n",
       "  \"/>\n",
       "<polyline clip-path=\"url(#clip060)\" style=\"stroke:#000000; stroke-linecap:butt; stroke-linejoin:round; stroke-width:4; stroke-opacity:1; fill:none\" points=\"\n",
       "  156.598,1486.45 175.496,1486.45 \n",
       "  \"/>\n",
       "<polyline clip-path=\"url(#clip060)\" style=\"stroke:#000000; stroke-linecap:butt; stroke-linejoin:round; stroke-width:4; stroke-opacity:1; fill:none\" points=\"\n",
       "  156.598,1198.61 175.496,1198.61 \n",
       "  \"/>\n",
       "<polyline clip-path=\"url(#clip060)\" style=\"stroke:#000000; stroke-linecap:butt; stroke-linejoin:round; stroke-width:4; stroke-opacity:1; fill:none\" points=\"\n",
       "  156.598,910.766 175.496,910.766 \n",
       "  \"/>\n",
       "<polyline clip-path=\"url(#clip060)\" style=\"stroke:#000000; stroke-linecap:butt; stroke-linejoin:round; stroke-width:4; stroke-opacity:1; fill:none\" points=\"\n",
       "  156.598,622.926 175.496,622.926 \n",
       "  \"/>\n",
       "<polyline clip-path=\"url(#clip060)\" style=\"stroke:#000000; stroke-linecap:butt; stroke-linejoin:round; stroke-width:4; stroke-opacity:1; fill:none\" points=\"\n",
       "  156.598,335.085 175.496,335.085 \n",
       "  \"/>\n",
       "<polyline clip-path=\"url(#clip060)\" style=\"stroke:#000000; stroke-linecap:butt; stroke-linejoin:round; stroke-width:4; stroke-opacity:1; fill:none\" points=\"\n",
       "  156.598,47.2441 175.496,47.2441 \n",
       "  \"/>\n",
       "<path clip-path=\"url(#clip060)\" d=\"M63.4226 1472.25 Q59.8115 1472.25 57.9828 1475.81 Q56.1773 1479.35 56.1773 1486.48 Q56.1773 1493.59 57.9828 1497.15 Q59.8115 1500.7 63.4226 1500.7 Q67.0569 1500.7 68.8624 1497.15 Q70.6911 1493.59 70.6911 1486.48 Q70.6911 1479.35 68.8624 1475.81 Q67.0569 1472.25 63.4226 1472.25 M63.4226 1468.54 Q69.2328 1468.54 72.2883 1473.15 Q75.367 1477.73 75.367 1486.48 Q75.367 1495.21 72.2883 1499.82 Q69.2328 1504.4 63.4226 1504.4 Q57.6125 1504.4 54.5338 1499.82 Q51.4782 1495.21 51.4782 1486.48 Q51.4782 1477.73 54.5338 1473.15 Q57.6125 1468.54 63.4226 1468.54 Z\" fill=\"#000000\" fill-rule=\"evenodd\" fill-opacity=\"1\" /><path clip-path=\"url(#clip060)\" d=\"M83.5845 1497.85 L88.4688 1497.85 L88.4688 1503.73 L83.5845 1503.73 L83.5845 1497.85 Z\" fill=\"#000000\" fill-rule=\"evenodd\" fill-opacity=\"1\" /><path clip-path=\"url(#clip060)\" d=\"M108.654 1472.25 Q105.043 1472.25 103.214 1475.81 Q101.409 1479.35 101.409 1486.48 Q101.409 1493.59 103.214 1497.15 Q105.043 1500.7 108.654 1500.7 Q112.288 1500.7 114.094 1497.15 Q115.922 1493.59 115.922 1486.48 Q115.922 1479.35 114.094 1475.81 Q112.288 1472.25 108.654 1472.25 M108.654 1468.54 Q114.464 1468.54 117.52 1473.15 Q120.598 1477.73 120.598 1486.48 Q120.598 1495.21 117.52 1499.82 Q114.464 1504.4 108.654 1504.4 Q102.844 1504.4 99.765 1499.82 Q96.7095 1495.21 96.7095 1486.48 Q96.7095 1477.73 99.765 1473.15 Q102.844 1468.54 108.654 1468.54 Z\" fill=\"#000000\" fill-rule=\"evenodd\" fill-opacity=\"1\" /><path clip-path=\"url(#clip060)\" d=\"M65.0198 1184.41 Q61.4087 1184.41 59.58 1187.97 Q57.7745 1191.51 57.7745 1198.64 Q57.7745 1205.75 59.58 1209.31 Q61.4087 1212.85 65.0198 1212.85 Q68.6541 1212.85 70.4596 1209.31 Q72.2883 1205.75 72.2883 1198.64 Q72.2883 1191.51 70.4596 1187.97 Q68.6541 1184.41 65.0198 1184.41 M65.0198 1180.7 Q70.83 1180.7 73.8855 1185.31 Q76.9642 1189.89 76.9642 1198.64 Q76.9642 1207.37 73.8855 1211.98 Q70.83 1216.56 65.0198 1216.56 Q59.2097 1216.56 56.131 1211.98 Q53.0754 1207.37 53.0754 1198.64 Q53.0754 1189.89 56.131 1185.31 Q59.2097 1180.7 65.0198 1180.7 Z\" fill=\"#000000\" fill-rule=\"evenodd\" fill-opacity=\"1\" /><path clip-path=\"url(#clip060)\" d=\"M85.1818 1210.01 L90.066 1210.01 L90.066 1215.89 L85.1818 1215.89 L85.1818 1210.01 Z\" fill=\"#000000\" fill-rule=\"evenodd\" fill-opacity=\"1\" /><path clip-path=\"url(#clip060)\" d=\"M104.279 1211.95 L120.598 1211.95 L120.598 1215.89 L98.6539 1215.89 L98.6539 1211.95 Q101.316 1209.2 105.899 1204.57 Q110.506 1199.91 111.686 1198.57 Q113.932 1196.05 114.811 1194.31 Q115.714 1192.55 115.714 1190.86 Q115.714 1188.11 113.77 1186.37 Q111.848 1184.64 108.746 1184.64 Q106.547 1184.64 104.094 1185.4 Q101.663 1186.17 98.8854 1187.72 L98.8854 1182.99 Q101.709 1181.86 104.163 1181.28 Q106.617 1180.7 108.654 1180.7 Q114.024 1180.7 117.219 1183.39 Q120.413 1186.07 120.413 1190.56 Q120.413 1192.69 119.603 1194.61 Q118.816 1196.51 116.709 1199.1 Q116.131 1199.78 113.029 1202.99 Q109.927 1206.19 104.279 1211.95 Z\" fill=\"#000000\" fill-rule=\"evenodd\" fill-opacity=\"1\" /><path clip-path=\"url(#clip060)\" d=\"M62.9365 896.565 Q59.3254 896.565 57.4967 900.13 Q55.6912 903.671 55.6912 910.801 Q55.6912 917.908 57.4967 921.472 Q59.3254 925.014 62.9365 925.014 Q66.5707 925.014 68.3763 921.472 Q70.205 917.908 70.205 910.801 Q70.205 903.671 68.3763 900.13 Q66.5707 896.565 62.9365 896.565 M62.9365 892.861 Q68.7467 892.861 71.8022 897.468 Q74.8809 902.051 74.8809 910.801 Q74.8809 919.528 71.8022 924.134 Q68.7467 928.718 62.9365 928.718 Q57.1264 928.718 54.0477 924.134 Q50.9921 919.528 50.9921 910.801 Q50.9921 902.051 54.0477 897.468 Q57.1264 892.861 62.9365 892.861 Z\" fill=\"#000000\" fill-rule=\"evenodd\" fill-opacity=\"1\" /><path clip-path=\"url(#clip060)\" d=\"M83.0984 922.167 L87.9827 922.167 L87.9827 928.046 L83.0984 928.046 L83.0984 922.167 Z\" fill=\"#000000\" fill-rule=\"evenodd\" fill-opacity=\"1\" /><path clip-path=\"url(#clip060)\" d=\"M111.015 897.56 L99.2095 916.009 L111.015 916.009 L111.015 897.56 M109.788 893.486 L115.668 893.486 L115.668 916.009 L120.598 916.009 L120.598 919.898 L115.668 919.898 L115.668 928.046 L111.015 928.046 L111.015 919.898 L95.4132 919.898 L95.4132 915.384 L109.788 893.486 Z\" fill=\"#000000\" fill-rule=\"evenodd\" fill-opacity=\"1\" /><path clip-path=\"url(#clip060)\" d=\"M63.2606 608.724 Q59.6495 608.724 57.8208 612.289 Q56.0152 615.831 56.0152 622.96 Q56.0152 630.067 57.8208 633.632 Q59.6495 637.173 63.2606 637.173 Q66.8948 637.173 68.7004 633.632 Q70.5291 630.067 70.5291 622.96 Q70.5291 615.831 68.7004 612.289 Q66.8948 608.724 63.2606 608.724 M63.2606 605.021 Q69.0707 605.021 72.1263 609.627 Q75.205 614.21 75.205 622.96 Q75.205 631.687 72.1263 636.294 Q69.0707 640.877 63.2606 640.877 Q57.4504 640.877 54.3717 636.294 Q51.3162 631.687 51.3162 622.96 Q51.3162 614.21 54.3717 609.627 Q57.4504 605.021 63.2606 605.021 Z\" fill=\"#000000\" fill-rule=\"evenodd\" fill-opacity=\"1\" /><path clip-path=\"url(#clip060)\" d=\"M83.4225 634.326 L88.3067 634.326 L88.3067 640.206 L83.4225 640.206 L83.4225 634.326 Z\" fill=\"#000000\" fill-rule=\"evenodd\" fill-opacity=\"1\" /><path clip-path=\"url(#clip060)\" d=\"M109.071 621.062 Q105.922 621.062 104.071 623.215 Q102.242 625.368 102.242 629.118 Q102.242 632.845 104.071 635.02 Q105.922 637.173 109.071 637.173 Q112.219 637.173 114.047 635.02 Q115.899 632.845 115.899 629.118 Q115.899 625.368 114.047 623.215 Q112.219 621.062 109.071 621.062 M118.353 606.409 L118.353 610.669 Q116.594 609.835 114.788 609.396 Q113.006 608.956 111.246 608.956 Q106.617 608.956 104.163 612.081 Q101.733 615.206 101.385 621.525 Q102.751 619.511 104.811 618.446 Q106.871 617.359 109.348 617.359 Q114.557 617.359 117.566 620.53 Q120.598 623.678 120.598 629.118 Q120.598 634.442 117.45 637.659 Q114.302 640.877 109.071 640.877 Q103.075 640.877 99.9039 636.294 Q96.7326 631.687 96.7326 622.96 Q96.7326 614.766 100.621 609.905 Q104.51 605.021 111.061 605.021 Q112.82 605.021 114.603 605.368 Q116.408 605.715 118.353 606.409 Z\" fill=\"#000000\" fill-rule=\"evenodd\" fill-opacity=\"1\" /><path clip-path=\"url(#clip060)\" d=\"M63.5152 320.884 Q59.9041 320.884 58.0754 324.448 Q56.2699 327.99 56.2699 335.12 Q56.2699 342.226 58.0754 345.791 Q59.9041 349.332 63.5152 349.332 Q67.1494 349.332 68.955 345.791 Q70.7837 342.226 70.7837 335.12 Q70.7837 327.99 68.955 324.448 Q67.1494 320.884 63.5152 320.884 M63.5152 317.18 Q69.3254 317.18 72.3809 321.786 Q75.4596 326.37 75.4596 335.12 Q75.4596 343.846 72.3809 348.453 Q69.3254 353.036 63.5152 353.036 Q57.7051 353.036 54.6264 348.453 Q51.5708 343.846 51.5708 335.12 Q51.5708 326.37 54.6264 321.786 Q57.7051 317.18 63.5152 317.18 Z\" fill=\"#000000\" fill-rule=\"evenodd\" fill-opacity=\"1\" /><path clip-path=\"url(#clip060)\" d=\"M83.6771 346.485 L88.5614 346.485 L88.5614 352.365 L83.6771 352.365 L83.6771 346.485 Z\" fill=\"#000000\" fill-rule=\"evenodd\" fill-opacity=\"1\" /><path clip-path=\"url(#clip060)\" d=\"M108.746 335.953 Q105.413 335.953 103.492 337.735 Q101.594 339.518 101.594 342.643 Q101.594 345.768 103.492 347.55 Q105.413 349.332 108.746 349.332 Q112.08 349.332 114.001 347.55 Q115.922 345.745 115.922 342.643 Q115.922 339.518 114.001 337.735 Q112.103 335.953 108.746 335.953 M104.071 333.962 Q101.061 333.221 99.3715 331.161 Q97.7048 329.101 97.7048 326.138 Q97.7048 321.995 100.645 319.587 Q103.608 317.18 108.746 317.18 Q113.908 317.18 116.848 319.587 Q119.788 321.995 119.788 326.138 Q119.788 329.101 118.098 331.161 Q116.432 333.221 113.445 333.962 Q116.825 334.749 118.7 337.041 Q120.598 339.333 120.598 342.643 Q120.598 347.666 117.52 350.351 Q114.464 353.036 108.746 353.036 Q103.029 353.036 99.9502 350.351 Q96.8947 347.666 96.8947 342.643 Q96.8947 339.333 98.7928 337.041 Q100.691 334.749 104.071 333.962 M102.358 326.578 Q102.358 329.263 104.024 330.768 Q105.714 332.272 108.746 332.272 Q111.756 332.272 113.445 330.768 Q115.158 329.263 115.158 326.578 Q115.158 323.893 113.445 322.388 Q111.756 320.884 108.746 320.884 Q105.714 320.884 104.024 322.388 Q102.358 323.893 102.358 326.578 Z\" fill=\"#000000\" fill-rule=\"evenodd\" fill-opacity=\"1\" /><path clip-path=\"url(#clip060)\" d=\"M54.2328 60.5889 L61.8717 60.5889 L61.8717 34.2233 L53.5616 35.89 L53.5616 31.6308 L61.8254 29.9641 L66.5013 29.9641 L66.5013 60.5889 L74.1402 60.5889 L74.1402 64.5241 L54.2328 64.5241 L54.2328 60.5889 Z\" fill=\"#000000\" fill-rule=\"evenodd\" fill-opacity=\"1\" /><path clip-path=\"url(#clip060)\" d=\"M83.5845 58.6445 L88.4688 58.6445 L88.4688 64.5241 L83.5845 64.5241 L83.5845 58.6445 Z\" fill=\"#000000\" fill-rule=\"evenodd\" fill-opacity=\"1\" /><path clip-path=\"url(#clip060)\" d=\"M108.654 33.0428 Q105.043 33.0428 103.214 36.6076 Q101.409 40.1492 101.409 47.2788 Q101.409 54.3853 103.214 57.9501 Q105.043 61.4917 108.654 61.4917 Q112.288 61.4917 114.094 57.9501 Q115.922 54.3853 115.922 47.2788 Q115.922 40.1492 114.094 36.6076 Q112.288 33.0428 108.654 33.0428 M108.654 29.3391 Q114.464 29.3391 117.52 33.9456 Q120.598 38.5289 120.598 47.2788 Q120.598 56.0056 117.52 60.6121 Q114.464 65.1954 108.654 65.1954 Q102.844 65.1954 99.765 60.6121 Q96.7095 56.0056 96.7095 47.2788 Q96.7095 38.5289 99.765 33.9456 Q102.844 29.3391 108.654 29.3391 Z\" fill=\"#000000\" fill-rule=\"evenodd\" fill-opacity=\"1\" /><polyline clip-path=\"url(#clip062)\" style=\"stroke:#009af9; stroke-linecap:butt; stroke-linejoin:round; stroke-width:4; stroke-opacity:1; fill:none\" points=\"\n",
       "  218.754,450.221 225.66,463.285 232.566,475.861 239.472,487.997 246.378,499.732 253.284,511.101 260.191,522.135 267.097,532.861 274.003,543.304 280.909,553.483 \n",
       "  287.815,563.417 294.721,573.124 301.628,582.62 308.534,591.917 315.44,601.026 322.346,609.958 329.252,618.723 336.158,627.329 343.064,635.787 349.971,644.103 \n",
       "  356.877,652.283 363.783,660.332 370.689,668.256 377.595,676.059 384.501,683.746 391.408,691.322 398.314,698.792 405.22,706.16 412.126,713.428 419.032,720.6 \n",
       "  425.938,727.677 432.844,734.662 439.751,741.557 446.657,748.365 453.563,755.087 460.469,761.727 467.375,768.287 474.281,774.769 481.188,781.176 488.094,787.508 \n",
       "  495,793.768 501.906,799.955 508.812,806.071 515.718,812.117 522.625,818.094 529.531,824.003 536.437,829.845 543.343,835.623 550.249,841.337 557.155,846.988 \n",
       "  564.061,852.579 570.968,858.11 577.874,863.584 584.78,869.001 591.686,874.361 598.592,879.664 605.498,884.91 612.405,890.101 619.311,895.236 626.217,900.316 \n",
       "  633.123,905.343 640.029,910.317 646.935,915.24 653.841,920.114 660.748,924.939 667.654,929.719 674.56,934.45 681.466,939.134 688.372,943.77 695.278,948.357 \n",
       "  702.185,952.897 709.091,957.391 715.997,961.838 722.903,966.242 729.809,970.603 736.715,974.924 743.622,979.204 750.528,983.442 757.434,987.638 764.34,991.792 \n",
       "  771.246,995.904 778.152,999.975 785.058,1004.01 791.965,1008 798.871,1011.95 805.777,1015.87 812.683,1019.75 819.589,1023.6 826.495,1027.4 833.402,1031.17 \n",
       "  840.308,1034.91 847.214,1038.6 854.12,1042.26 861.026,1045.89 867.932,1049.48 874.838,1053.04 881.745,1056.57 888.651,1060.07 895.557,1063.53 902.463,1066.96 \n",
       "  909.369,1070.36 916.275,1073.72 923.182,1077.06 930.088,1080.36 936.994,1083.63 943.9,1086.87 950.806,1090.09 957.712,1093.27 964.619,1096.43 971.525,1099.55 \n",
       "  978.431,1102.65 985.337,1105.72 992.243,1108.76 999.149,1111.77 1006.06,1114.75 1012.96,1117.71 1019.87,1120.64 1026.77,1123.55 1033.68,1126.43 1040.59,1129.29 \n",
       "  1047.49,1132.11 1054.4,1134.92 1061.3,1137.69 1068.21,1140.44 1075.12,1143.17 1082.02,1145.87 1088.93,1148.55 1095.84,1151.21 1102.74,1153.84 1109.65,1156.45 \n",
       "  1116.55,1159.04 1123.46,1161.61 1130.37,1164.15 1137.27,1166.66 1144.18,1169.16 1151.08,1171.63 1157.99,1174.08 1164.9,1176.51 1171.8,1178.93 1178.71,1181.32 \n",
       "  1185.62,1183.69 1192.52,1186.04 1199.43,1188.36 1206.33,1190.67 1213.24,1192.96 1220.15,1195.22 1227.05,1197.47 1233.96,1199.7 1240.86,1201.91 1247.77,1204.1 \n",
       "  1254.68,1206.28 1261.58,1208.43 1268.49,1210.57 1275.4,1212.68 1282.3,1214.78 1289.21,1216.86 1296.11,1218.92 1303.02,1220.96 1309.93,1222.99 1316.83,1225.01 \n",
       "  1323.74,1227 1330.64,1228.98 1337.55,1230.94 1344.46,1232.89 1351.36,1234.81 1358.27,1236.72 1365.18,1238.62 1372.08,1240.49 1378.99,1242.36 1385.89,1244.21 \n",
       "  1392.8,1246.04 1399.71,1247.86 1406.61,1249.67 1413.52,1251.45 1420.42,1253.22 1427.33,1254.98 1434.24,1256.72 1441.14,1258.45 1448.05,1260.16 1454.96,1261.86 \n",
       "  1461.86,1263.55 1468.77,1265.23 1475.67,1266.89 1482.58,1268.53 1489.49,1270.16 1496.39,1271.78 1503.3,1273.38 1510.2,1274.97 1517.11,1276.55 1524.02,1278.11 \n",
       "  1530.92,1279.67 1537.83,1281.21 1544.74,1282.74 1551.64,1284.25 1558.55,1285.76 1565.45,1287.25 1572.36,1288.72 1579.27,1290.19 1586.17,1291.64 1593.08,1293.08 \n",
       "  1599.98,1294.51 1606.89,1295.94 1613.8,1297.35 1620.7,1298.74 1627.61,1300.13 1634.52,1301.5 1641.42,1302.86 1648.33,1304.21 1655.23,1305.55 1662.14,1306.88 \n",
       "  1669.05,1308.2 1675.95,1309.51 1682.86,1310.82 1689.76,1312.11 1696.67,1313.38 1703.58,1314.65 1710.48,1315.91 1717.39,1317.15 1724.3,1318.39 1731.2,1319.62 \n",
       "  1738.11,1320.84 1745.01,1322.05 1751.92,1323.25 1758.83,1324.44 1765.73,1325.62 1772.64,1326.79 1779.54,1327.95 1786.45,1329.1 1793.36,1330.24 1800.26,1331.38 \n",
       "  1807.17,1332.5 1814.08,1333.62 1820.98,1334.73 1827.89,1335.83 1834.79,1336.92 1841.7,1338 1848.61,1339.08 1855.51,1340.14 1862.42,1341.19 1869.32,1342.24 \n",
       "  1876.23,1343.28 1883.14,1344.31 1890.04,1345.34 1896.95,1346.36 1903.86,1347.37 1910.76,1348.37 1917.67,1349.36 1924.57,1350.34 1931.48,1351.32 1938.39,1352.29 \n",
       "  1945.29,1353.25 1952.2,1354.2 1959.11,1355.15 1966.01,1356.09 1972.92,1357.03 1979.82,1357.96 1986.73,1358.87 1993.64,1359.78 2000.54,1360.69 2007.45,1361.58 \n",
       "  2014.35,1362.47 2021.26,1363.35 2028.17,1364.23 2035.07,1365.1 2041.98,1365.97 2048.89,1366.83 2055.79,1367.68 2062.7,1368.52 2069.6,1369.36 2076.51,1370.19 \n",
       "  2083.42,1371.01 2090.32,1371.83 2097.23,1372.64 2104.13,1373.45 2111.04,1374.25 2117.95,1375.04 2124.85,1375.83 2131.76,1376.61 2138.67,1377.39 2145.57,1378.16 \n",
       "  2152.48,1378.92 2159.38,1379.68 2166.29,1380.43 2173.2,1381.18 2180.1,1381.92 2187.01,1382.66 2193.91,1383.39 2200.82,1384.11 2207.73,1384.83 2214.63,1385.54 \n",
       "  2221.54,1386.25 2228.45,1386.95 2235.35,1387.65 2242.26,1388.34 2249.16,1389.03 2256.07,1389.71 2262.98,1390.39 2269.88,1391.06 2276.79,1391.73 2283.69,1392.39 \n",
       "  2290.6,1393.05 \n",
       "  \"/>\n",
       "<circle clip-path=\"url(#clip062)\" cx=\"287.815\" cy=\"545.784\" r=\"14\" fill=\"#e26f46\" fill-rule=\"evenodd\" fill-opacity=\"1\" stroke=\"#000000\" stroke-opacity=\"1\" stroke-width=\"3.2\"/>\n",
       "<circle clip-path=\"url(#clip062)\" cx=\"391.408\" cy=\"650.702\" r=\"14\" fill=\"#e26f46\" fill-rule=\"evenodd\" fill-opacity=\"1\" stroke=\"#000000\" stroke-opacity=\"1\" stroke-width=\"3.2\"/>\n",
       "<circle clip-path=\"url(#clip062)\" cx=\"564.061\" cy=\"804.841\" r=\"14\" fill=\"#e26f46\" fill-rule=\"evenodd\" fill-opacity=\"1\" stroke=\"#000000\" stroke-opacity=\"1\" stroke-width=\"3.2\"/>\n",
       "<circle clip-path=\"url(#clip062)\" cx=\"736.715\" cy=\"870.756\" r=\"14\" fill=\"#e26f46\" fill-rule=\"evenodd\" fill-opacity=\"1\" stroke=\"#000000\" stroke-opacity=\"1\" stroke-width=\"3.2\"/>\n",
       "<circle clip-path=\"url(#clip062)\" cx=\"909.369\" cy=\"1036.12\" r=\"14\" fill=\"#e26f46\" fill-rule=\"evenodd\" fill-opacity=\"1\" stroke=\"#000000\" stroke-opacity=\"1\" stroke-width=\"3.2\"/>\n",
       "<circle clip-path=\"url(#clip062)\" cx=\"1254.68\" cy=\"1183.93\" r=\"14\" fill=\"#e26f46\" fill-rule=\"evenodd\" fill-opacity=\"1\" stroke=\"#000000\" stroke-opacity=\"1\" stroke-width=\"3.2\"/>\n",
       "<circle clip-path=\"url(#clip062)\" cx=\"1599.98\" cy=\"1269.7\" r=\"14\" fill=\"#e26f46\" fill-rule=\"evenodd\" fill-opacity=\"1\" stroke=\"#000000\" stroke-opacity=\"1\" stroke-width=\"3.2\"/>\n",
       "<circle clip-path=\"url(#clip062)\" cx=\"1945.29\" cy=\"1324.68\" r=\"14\" fill=\"#e26f46\" fill-rule=\"evenodd\" fill-opacity=\"1\" stroke=\"#000000\" stroke-opacity=\"1\" stroke-width=\"3.2\"/>\n",
       "<circle clip-path=\"url(#clip062)\" cx=\"2290.6\" cy=\"1376.49\" r=\"14\" fill=\"#e26f46\" fill-rule=\"evenodd\" fill-opacity=\"1\" stroke=\"#000000\" stroke-opacity=\"1\" stroke-width=\"3.2\"/>\n",
       "</svg>\n"
      ]
     },
     "execution_count": 2174,
     "metadata": {},
     "output_type": "execute_result"
    }
   ],
   "source": [
    "n0_Np .= 0.0\n",
    "n0_Np[p_Np.idxs_Np.X000_idxs[2]] = p_Np.n0_X000\n",
    "\n",
    "prob = ODEProblem(rate_eqns!, n0_Np, p_Np.t_span, R_Np)\n",
    "@time sol = DifferentialEquations.solve(prob, alg=DP5())\n",
    "\n",
    "times = 0:10e-3:t_span[2]\n",
    "sol_values = sol(times)\n",
    "\n",
    "detectable = [sum(u[p_Np.idxs_Np_d]) for u in sol_values]\n",
    "plot(times, detectable, legend=nothing)\n",
    "plot!(\n",
    "    xticks=0.0:0.5:3.0,\n",
    "    yticks=0.0:0.2:1.0,\n",
    "    ylim=(0,1)\n",
    ")\n",
    "scatter!(data.X000_xs, data.X000_ys)"
   ]
  },
  {
   "cell_type": "code",
   "execution_count": 2175,
   "metadata": {},
   "outputs": [
    {
     "name": "stdout",
     "output_type": "stream",
     "text": [
      "  0.000230 seconds (249 allocations: 108.984 KiB)\n"
     ]
    },
    {
     "data": {
      "image/svg+xml": [
       "<?xml version=\"1.0\" encoding=\"utf-8\"?>\n",
       "<svg xmlns=\"http://www.w3.org/2000/svg\" xmlns:xlink=\"http://www.w3.org/1999/xlink\" width=\"600\" height=\"400\" viewBox=\"0 0 2400 1600\">\n",
       "<defs>\n",
       "  <clipPath id=\"clip100\">\n",
       "    <rect x=\"0\" y=\"0\" width=\"2400\" height=\"1600\"/>\n",
       "  </clipPath>\n",
       "</defs>\n",
       "<path clip-path=\"url(#clip100)\" d=\"\n",
       "M0 1600 L2400 1600 L2400 0 L0 0  Z\n",
       "  \" fill=\"#ffffff\" fill-rule=\"evenodd\" fill-opacity=\"1\"/>\n",
       "<defs>\n",
       "  <clipPath id=\"clip101\">\n",
       "    <rect x=\"480\" y=\"0\" width=\"1681\" height=\"1600\"/>\n",
       "  </clipPath>\n",
       "</defs>\n",
       "<path clip-path=\"url(#clip100)\" d=\"\n",
       "M156.598 1486.45 L2352.76 1486.45 L2352.76 47.2441 L156.598 47.2441  Z\n",
       "  \" fill=\"#ffffff\" fill-rule=\"evenodd\" fill-opacity=\"1\"/>\n",
       "<defs>\n",
       "  <clipPath id=\"clip102\">\n",
       "    <rect x=\"156\" y=\"47\" width=\"2197\" height=\"1440\"/>\n",
       "  </clipPath>\n",
       "</defs>\n",
       "<polyline clip-path=\"url(#clip102)\" style=\"stroke:#000000; stroke-linecap:butt; stroke-linejoin:round; stroke-width:2; stroke-opacity:0.1; fill:none\" points=\"\n",
       "  218.754,1486.45 218.754,47.2441 \n",
       "  \"/>\n",
       "<polyline clip-path=\"url(#clip102)\" style=\"stroke:#000000; stroke-linecap:butt; stroke-linejoin:round; stroke-width:2; stroke-opacity:0.1; fill:none\" points=\"\n",
       "  564.061,1486.45 564.061,47.2441 \n",
       "  \"/>\n",
       "<polyline clip-path=\"url(#clip102)\" style=\"stroke:#000000; stroke-linecap:butt; stroke-linejoin:round; stroke-width:2; stroke-opacity:0.1; fill:none\" points=\"\n",
       "  909.369,1486.45 909.369,47.2441 \n",
       "  \"/>\n",
       "<polyline clip-path=\"url(#clip102)\" style=\"stroke:#000000; stroke-linecap:butt; stroke-linejoin:round; stroke-width:2; stroke-opacity:0.1; fill:none\" points=\"\n",
       "  1254.68,1486.45 1254.68,47.2441 \n",
       "  \"/>\n",
       "<polyline clip-path=\"url(#clip102)\" style=\"stroke:#000000; stroke-linecap:butt; stroke-linejoin:round; stroke-width:2; stroke-opacity:0.1; fill:none\" points=\"\n",
       "  1599.98,1486.45 1599.98,47.2441 \n",
       "  \"/>\n",
       "<polyline clip-path=\"url(#clip102)\" style=\"stroke:#000000; stroke-linecap:butt; stroke-linejoin:round; stroke-width:2; stroke-opacity:0.1; fill:none\" points=\"\n",
       "  1945.29,1486.45 1945.29,47.2441 \n",
       "  \"/>\n",
       "<polyline clip-path=\"url(#clip102)\" style=\"stroke:#000000; stroke-linecap:butt; stroke-linejoin:round; stroke-width:2; stroke-opacity:0.1; fill:none\" points=\"\n",
       "  2290.6,1486.45 2290.6,47.2441 \n",
       "  \"/>\n",
       "<polyline clip-path=\"url(#clip100)\" style=\"stroke:#000000; stroke-linecap:butt; stroke-linejoin:round; stroke-width:4; stroke-opacity:1; fill:none\" points=\"\n",
       "  156.598,1486.45 2352.76,1486.45 \n",
       "  \"/>\n",
       "<polyline clip-path=\"url(#clip100)\" style=\"stroke:#000000; stroke-linecap:butt; stroke-linejoin:round; stroke-width:4; stroke-opacity:1; fill:none\" points=\"\n",
       "  218.754,1486.45 218.754,1467.55 \n",
       "  \"/>\n",
       "<polyline clip-path=\"url(#clip100)\" style=\"stroke:#000000; stroke-linecap:butt; stroke-linejoin:round; stroke-width:4; stroke-opacity:1; fill:none\" points=\"\n",
       "  564.061,1486.45 564.061,1467.55 \n",
       "  \"/>\n",
       "<polyline clip-path=\"url(#clip100)\" style=\"stroke:#000000; stroke-linecap:butt; stroke-linejoin:round; stroke-width:4; stroke-opacity:1; fill:none\" points=\"\n",
       "  909.369,1486.45 909.369,1467.55 \n",
       "  \"/>\n",
       "<polyline clip-path=\"url(#clip100)\" style=\"stroke:#000000; stroke-linecap:butt; stroke-linejoin:round; stroke-width:4; stroke-opacity:1; fill:none\" points=\"\n",
       "  1254.68,1486.45 1254.68,1467.55 \n",
       "  \"/>\n",
       "<polyline clip-path=\"url(#clip100)\" style=\"stroke:#000000; stroke-linecap:butt; stroke-linejoin:round; stroke-width:4; stroke-opacity:1; fill:none\" points=\"\n",
       "  1599.98,1486.45 1599.98,1467.55 \n",
       "  \"/>\n",
       "<polyline clip-path=\"url(#clip100)\" style=\"stroke:#000000; stroke-linecap:butt; stroke-linejoin:round; stroke-width:4; stroke-opacity:1; fill:none\" points=\"\n",
       "  1945.29,1486.45 1945.29,1467.55 \n",
       "  \"/>\n",
       "<polyline clip-path=\"url(#clip100)\" style=\"stroke:#000000; stroke-linecap:butt; stroke-linejoin:round; stroke-width:4; stroke-opacity:1; fill:none\" points=\"\n",
       "  2290.6,1486.45 2290.6,1467.55 \n",
       "  \"/>\n",
       "<path clip-path=\"url(#clip100)\" d=\"M196.138 1517.37 Q192.527 1517.37 190.698 1520.93 Q188.893 1524.47 188.893 1531.6 Q188.893 1538.71 190.698 1542.27 Q192.527 1545.82 196.138 1545.82 Q199.772 1545.82 201.578 1542.27 Q203.407 1538.71 203.407 1531.6 Q203.407 1524.47 201.578 1520.93 Q199.772 1517.37 196.138 1517.37 M196.138 1513.66 Q201.948 1513.66 205.004 1518.27 Q208.082 1522.85 208.082 1531.6 Q208.082 1540.33 205.004 1544.94 Q201.948 1549.52 196.138 1549.52 Q190.328 1549.52 187.249 1544.94 Q184.194 1540.33 184.194 1531.6 Q184.194 1522.85 187.249 1518.27 Q190.328 1513.66 196.138 1513.66 Z\" fill=\"#000000\" fill-rule=\"evenodd\" fill-opacity=\"1\" /><path clip-path=\"url(#clip100)\" d=\"M216.3 1542.97 L221.184 1542.97 L221.184 1548.85 L216.3 1548.85 L216.3 1542.97 Z\" fill=\"#000000\" fill-rule=\"evenodd\" fill-opacity=\"1\" /><path clip-path=\"url(#clip100)\" d=\"M241.369 1517.37 Q237.758 1517.37 235.929 1520.93 Q234.124 1524.47 234.124 1531.6 Q234.124 1538.71 235.929 1542.27 Q237.758 1545.82 241.369 1545.82 Q245.003 1545.82 246.809 1542.27 Q248.638 1538.71 248.638 1531.6 Q248.638 1524.47 246.809 1520.93 Q245.003 1517.37 241.369 1517.37 M241.369 1513.66 Q247.179 1513.66 250.235 1518.27 Q253.314 1522.85 253.314 1531.6 Q253.314 1540.33 250.235 1544.94 Q247.179 1549.52 241.369 1549.52 Q235.559 1549.52 232.48 1544.94 Q229.425 1540.33 229.425 1531.6 Q229.425 1522.85 232.48 1518.27 Q235.559 1513.66 241.369 1513.66 Z\" fill=\"#000000\" fill-rule=\"evenodd\" fill-opacity=\"1\" /><path clip-path=\"url(#clip100)\" d=\"M541.944 1517.37 Q538.332 1517.37 536.504 1520.93 Q534.698 1524.47 534.698 1531.6 Q534.698 1538.71 536.504 1542.27 Q538.332 1545.82 541.944 1545.82 Q545.578 1545.82 547.383 1542.27 Q549.212 1538.71 549.212 1531.6 Q549.212 1524.47 547.383 1520.93 Q545.578 1517.37 541.944 1517.37 M541.944 1513.66 Q547.754 1513.66 550.809 1518.27 Q553.888 1522.85 553.888 1531.6 Q553.888 1540.33 550.809 1544.94 Q547.754 1549.52 541.944 1549.52 Q536.133 1549.52 533.055 1544.94 Q529.999 1540.33 529.999 1531.6 Q529.999 1522.85 533.055 1518.27 Q536.133 1513.66 541.944 1513.66 Z\" fill=\"#000000\" fill-rule=\"evenodd\" fill-opacity=\"1\" /><path clip-path=\"url(#clip100)\" d=\"M562.105 1542.97 L566.99 1542.97 L566.99 1548.85 L562.105 1548.85 L562.105 1542.97 Z\" fill=\"#000000\" fill-rule=\"evenodd\" fill-opacity=\"1\" /><path clip-path=\"url(#clip100)\" d=\"M577.221 1514.29 L595.577 1514.29 L595.577 1518.22 L581.503 1518.22 L581.503 1526.7 Q582.522 1526.35 583.541 1526.19 Q584.559 1526 585.578 1526 Q591.365 1526 594.744 1529.17 Q598.124 1532.34 598.124 1537.76 Q598.124 1543.34 594.652 1546.44 Q591.179 1549.52 584.86 1549.52 Q582.684 1549.52 580.416 1549.15 Q578.17 1548.78 575.763 1548.04 L575.763 1543.34 Q577.846 1544.47 580.068 1545.03 Q582.291 1545.58 584.767 1545.58 Q588.772 1545.58 591.11 1543.48 Q593.448 1541.37 593.448 1537.76 Q593.448 1534.15 591.11 1532.04 Q588.772 1529.94 584.767 1529.94 Q582.892 1529.94 581.017 1530.35 Q579.166 1530.77 577.221 1531.65 L577.221 1514.29 Z\" fill=\"#000000\" fill-rule=\"evenodd\" fill-opacity=\"1\" /><path clip-path=\"url(#clip100)\" d=\"M876.522 1544.91 L884.161 1544.91 L884.161 1518.55 L875.851 1520.21 L875.851 1515.95 L884.115 1514.29 L888.791 1514.29 L888.791 1544.91 L896.43 1544.91 L896.43 1548.85 L876.522 1548.85 L876.522 1544.91 Z\" fill=\"#000000\" fill-rule=\"evenodd\" fill-opacity=\"1\" /><path clip-path=\"url(#clip100)\" d=\"M905.874 1542.97 L910.758 1542.97 L910.758 1548.85 L905.874 1548.85 L905.874 1542.97 Z\" fill=\"#000000\" fill-rule=\"evenodd\" fill-opacity=\"1\" /><path clip-path=\"url(#clip100)\" d=\"M930.943 1517.37 Q927.332 1517.37 925.503 1520.93 Q923.698 1524.47 923.698 1531.6 Q923.698 1538.71 925.503 1542.27 Q927.332 1545.82 930.943 1545.82 Q934.577 1545.82 936.383 1542.27 Q938.212 1538.71 938.212 1531.6 Q938.212 1524.47 936.383 1520.93 Q934.577 1517.37 930.943 1517.37 M930.943 1513.66 Q936.753 1513.66 939.809 1518.27 Q942.888 1522.85 942.888 1531.6 Q942.888 1540.33 939.809 1544.94 Q936.753 1549.52 930.943 1549.52 Q925.133 1549.52 922.054 1544.94 Q918.999 1540.33 918.999 1531.6 Q918.999 1522.85 922.054 1518.27 Q925.133 1513.66 930.943 1513.66 Z\" fill=\"#000000\" fill-rule=\"evenodd\" fill-opacity=\"1\" /><path clip-path=\"url(#clip100)\" d=\"M1222.33 1544.91 L1229.97 1544.91 L1229.97 1518.55 L1221.66 1520.21 L1221.66 1515.95 L1229.92 1514.29 L1234.6 1514.29 L1234.6 1544.91 L1242.24 1544.91 L1242.24 1548.85 L1222.33 1548.85 L1222.33 1544.91 Z\" fill=\"#000000\" fill-rule=\"evenodd\" fill-opacity=\"1\" /><path clip-path=\"url(#clip100)\" d=\"M1251.68 1542.97 L1256.56 1542.97 L1256.56 1548.85 L1251.68 1548.85 L1251.68 1542.97 Z\" fill=\"#000000\" fill-rule=\"evenodd\" fill-opacity=\"1\" /><path clip-path=\"url(#clip100)\" d=\"M1266.8 1514.29 L1285.15 1514.29 L1285.15 1518.22 L1271.08 1518.22 L1271.08 1526.7 Q1272.1 1526.35 1273.11 1526.19 Q1274.13 1526 1275.15 1526 Q1280.94 1526 1284.32 1529.17 Q1287.7 1532.34 1287.7 1537.76 Q1287.7 1543.34 1284.23 1546.44 Q1280.75 1549.52 1274.43 1549.52 Q1272.26 1549.52 1269.99 1549.15 Q1267.74 1548.78 1265.34 1548.04 L1265.34 1543.34 Q1267.42 1544.47 1269.64 1545.03 Q1271.86 1545.58 1274.34 1545.58 Q1278.35 1545.58 1280.68 1543.48 Q1283.02 1541.37 1283.02 1537.76 Q1283.02 1534.15 1280.68 1532.04 Q1278.35 1529.94 1274.34 1529.94 Q1272.47 1529.94 1270.59 1530.35 Q1268.74 1530.77 1266.8 1531.65 L1266.8 1514.29 Z\" fill=\"#000000\" fill-rule=\"evenodd\" fill-opacity=\"1\" /><path clip-path=\"url(#clip100)\" d=\"M1571.22 1544.91 L1587.54 1544.91 L1587.54 1548.85 L1565.6 1548.85 L1565.6 1544.91 Q1568.26 1542.16 1572.84 1537.53 Q1577.45 1532.88 1578.63 1531.53 Q1580.88 1529.01 1581.76 1527.27 Q1582.66 1525.51 1582.66 1523.82 Q1582.66 1521.07 1580.71 1519.33 Q1578.79 1517.6 1575.69 1517.6 Q1573.49 1517.6 1571.04 1518.36 Q1568.61 1519.13 1565.83 1520.68 L1565.83 1515.95 Q1568.65 1514.82 1571.11 1514.24 Q1573.56 1513.66 1575.6 1513.66 Q1580.97 1513.66 1584.16 1516.35 Q1587.36 1519.03 1587.36 1523.52 Q1587.36 1525.65 1586.55 1527.57 Q1585.76 1529.47 1583.65 1532.07 Q1583.08 1532.74 1579.97 1535.95 Q1576.87 1539.15 1571.22 1544.91 Z\" fill=\"#000000\" fill-rule=\"evenodd\" fill-opacity=\"1\" /><path clip-path=\"url(#clip100)\" d=\"M1597.36 1542.97 L1602.24 1542.97 L1602.24 1548.85 L1597.36 1548.85 L1597.36 1542.97 Z\" fill=\"#000000\" fill-rule=\"evenodd\" fill-opacity=\"1\" /><path clip-path=\"url(#clip100)\" d=\"M1622.43 1517.37 Q1618.82 1517.37 1616.99 1520.93 Q1615.18 1524.47 1615.18 1531.6 Q1615.18 1538.71 1616.99 1542.27 Q1618.82 1545.82 1622.43 1545.82 Q1626.06 1545.82 1627.87 1542.27 Q1629.7 1538.71 1629.7 1531.6 Q1629.7 1524.47 1627.87 1520.93 Q1626.06 1517.37 1622.43 1517.37 M1622.43 1513.66 Q1628.24 1513.66 1631.29 1518.27 Q1634.37 1522.85 1634.37 1531.6 Q1634.37 1540.33 1631.29 1544.94 Q1628.24 1549.52 1622.43 1549.52 Q1616.62 1549.52 1613.54 1544.94 Q1610.48 1540.33 1610.48 1531.6 Q1610.48 1522.85 1613.54 1518.27 Q1616.62 1513.66 1622.43 1513.66 Z\" fill=\"#000000\" fill-rule=\"evenodd\" fill-opacity=\"1\" /><path clip-path=\"url(#clip100)\" d=\"M1917.03 1544.91 L1933.35 1544.91 L1933.35 1548.85 L1911.4 1548.85 L1911.4 1544.91 Q1914.07 1542.16 1918.65 1537.53 Q1923.26 1532.88 1924.44 1531.53 Q1926.68 1529.01 1927.56 1527.27 Q1928.46 1525.51 1928.46 1523.82 Q1928.46 1521.07 1926.52 1519.33 Q1924.6 1517.6 1921.5 1517.6 Q1919.3 1517.6 1916.84 1518.36 Q1914.41 1519.13 1911.64 1520.68 L1911.64 1515.95 Q1914.46 1514.82 1916.91 1514.24 Q1919.37 1513.66 1921.4 1513.66 Q1926.77 1513.66 1929.97 1516.35 Q1933.16 1519.03 1933.16 1523.52 Q1933.16 1525.65 1932.35 1527.57 Q1931.57 1529.47 1929.46 1532.07 Q1928.88 1532.74 1925.78 1535.95 Q1922.68 1539.15 1917.03 1544.91 Z\" fill=\"#000000\" fill-rule=\"evenodd\" fill-opacity=\"1\" /><path clip-path=\"url(#clip100)\" d=\"M1943.16 1542.97 L1948.05 1542.97 L1948.05 1548.85 L1943.16 1548.85 L1943.16 1542.97 Z\" fill=\"#000000\" fill-rule=\"evenodd\" fill-opacity=\"1\" /><path clip-path=\"url(#clip100)\" d=\"M1958.28 1514.29 L1976.64 1514.29 L1976.64 1518.22 L1962.56 1518.22 L1962.56 1526.7 Q1963.58 1526.35 1964.6 1526.19 Q1965.62 1526 1966.64 1526 Q1972.42 1526 1975.8 1529.17 Q1979.18 1532.34 1979.18 1537.76 Q1979.18 1543.34 1975.71 1546.44 Q1972.24 1549.52 1965.92 1549.52 Q1963.74 1549.52 1961.47 1549.15 Q1959.23 1548.78 1956.82 1548.04 L1956.82 1543.34 Q1958.9 1544.47 1961.13 1545.03 Q1963.35 1545.58 1965.82 1545.58 Q1969.83 1545.58 1972.17 1543.48 Q1974.51 1541.37 1974.51 1537.76 Q1974.51 1534.15 1972.17 1532.04 Q1969.83 1529.94 1965.82 1529.94 Q1963.95 1529.94 1962.08 1530.35 Q1960.22 1530.77 1958.28 1531.65 L1958.28 1514.29 Z\" fill=\"#000000\" fill-rule=\"evenodd\" fill-opacity=\"1\" /><path clip-path=\"url(#clip100)\" d=\"M2271.91 1530.21 Q2275.26 1530.93 2277.14 1533.2 Q2279.04 1535.47 2279.04 1538.8 Q2279.04 1543.92 2275.52 1546.72 Q2272 1549.52 2265.52 1549.52 Q2263.34 1549.52 2261.03 1549.08 Q2258.74 1548.66 2256.28 1547.81 L2256.28 1543.29 Q2258.23 1544.43 2260.54 1545.01 Q2262.86 1545.58 2265.38 1545.58 Q2269.78 1545.58 2272.07 1543.85 Q2274.39 1542.11 2274.39 1538.8 Q2274.39 1535.75 2272.23 1534.03 Q2270.1 1532.3 2266.28 1532.3 L2262.26 1532.3 L2262.26 1528.45 L2266.47 1528.45 Q2269.92 1528.45 2271.75 1527.09 Q2273.58 1525.7 2273.58 1523.11 Q2273.58 1520.45 2271.68 1519.03 Q2269.8 1517.6 2266.28 1517.6 Q2264.36 1517.6 2262.16 1518.01 Q2259.96 1518.43 2257.33 1519.31 L2257.33 1515.14 Q2259.99 1514.4 2262.3 1514.03 Q2264.64 1513.66 2266.7 1513.66 Q2272.02 1513.66 2275.13 1516.09 Q2278.23 1518.5 2278.23 1522.62 Q2278.23 1525.49 2276.58 1527.48 Q2274.94 1529.45 2271.91 1530.21 Z\" fill=\"#000000\" fill-rule=\"evenodd\" fill-opacity=\"1\" /><path clip-path=\"url(#clip100)\" d=\"M2287.9 1542.97 L2292.79 1542.97 L2292.79 1548.85 L2287.9 1548.85 L2287.9 1542.97 Z\" fill=\"#000000\" fill-rule=\"evenodd\" fill-opacity=\"1\" /><path clip-path=\"url(#clip100)\" d=\"M2312.97 1517.37 Q2309.36 1517.37 2307.53 1520.93 Q2305.73 1524.47 2305.73 1531.6 Q2305.73 1538.71 2307.53 1542.27 Q2309.36 1545.82 2312.97 1545.82 Q2316.61 1545.82 2318.41 1542.27 Q2320.24 1538.71 2320.24 1531.6 Q2320.24 1524.47 2318.41 1520.93 Q2316.61 1517.37 2312.97 1517.37 M2312.97 1513.66 Q2318.78 1513.66 2321.84 1518.27 Q2324.92 1522.85 2324.92 1531.6 Q2324.92 1540.33 2321.84 1544.94 Q2318.78 1549.52 2312.97 1549.52 Q2307.16 1549.52 2304.08 1544.94 Q2301.03 1540.33 2301.03 1531.6 Q2301.03 1522.85 2304.08 1518.27 Q2307.16 1513.66 2312.97 1513.66 Z\" fill=\"#000000\" fill-rule=\"evenodd\" fill-opacity=\"1\" /><polyline clip-path=\"url(#clip102)\" style=\"stroke:#000000; stroke-linecap:butt; stroke-linejoin:round; stroke-width:2; stroke-opacity:0.1; fill:none\" points=\"\n",
       "  156.598,1486.45 2352.76,1486.45 \n",
       "  \"/>\n",
       "<polyline clip-path=\"url(#clip102)\" style=\"stroke:#000000; stroke-linecap:butt; stroke-linejoin:round; stroke-width:2; stroke-opacity:0.1; fill:none\" points=\"\n",
       "  156.598,1198.61 2352.76,1198.61 \n",
       "  \"/>\n",
       "<polyline clip-path=\"url(#clip102)\" style=\"stroke:#000000; stroke-linecap:butt; stroke-linejoin:round; stroke-width:2; stroke-opacity:0.1; fill:none\" points=\"\n",
       "  156.598,910.766 2352.76,910.766 \n",
       "  \"/>\n",
       "<polyline clip-path=\"url(#clip102)\" style=\"stroke:#000000; stroke-linecap:butt; stroke-linejoin:round; stroke-width:2; stroke-opacity:0.1; fill:none\" points=\"\n",
       "  156.598,622.926 2352.76,622.926 \n",
       "  \"/>\n",
       "<polyline clip-path=\"url(#clip102)\" style=\"stroke:#000000; stroke-linecap:butt; stroke-linejoin:round; stroke-width:2; stroke-opacity:0.1; fill:none\" points=\"\n",
       "  156.598,335.085 2352.76,335.085 \n",
       "  \"/>\n",
       "<polyline clip-path=\"url(#clip102)\" style=\"stroke:#000000; stroke-linecap:butt; stroke-linejoin:round; stroke-width:2; stroke-opacity:0.1; fill:none\" points=\"\n",
       "  156.598,47.2441 2352.76,47.2441 \n",
       "  \"/>\n",
       "<polyline clip-path=\"url(#clip100)\" style=\"stroke:#000000; stroke-linecap:butt; stroke-linejoin:round; stroke-width:4; stroke-opacity:1; fill:none\" points=\"\n",
       "  156.598,1486.45 156.598,47.2441 \n",
       "  \"/>\n",
       "<polyline clip-path=\"url(#clip100)\" style=\"stroke:#000000; stroke-linecap:butt; stroke-linejoin:round; stroke-width:4; stroke-opacity:1; fill:none\" points=\"\n",
       "  156.598,1486.45 175.496,1486.45 \n",
       "  \"/>\n",
       "<polyline clip-path=\"url(#clip100)\" style=\"stroke:#000000; stroke-linecap:butt; stroke-linejoin:round; stroke-width:4; stroke-opacity:1; fill:none\" points=\"\n",
       "  156.598,1198.61 175.496,1198.61 \n",
       "  \"/>\n",
       "<polyline clip-path=\"url(#clip100)\" style=\"stroke:#000000; stroke-linecap:butt; stroke-linejoin:round; stroke-width:4; stroke-opacity:1; fill:none\" points=\"\n",
       "  156.598,910.766 175.496,910.766 \n",
       "  \"/>\n",
       "<polyline clip-path=\"url(#clip100)\" style=\"stroke:#000000; stroke-linecap:butt; stroke-linejoin:round; stroke-width:4; stroke-opacity:1; fill:none\" points=\"\n",
       "  156.598,622.926 175.496,622.926 \n",
       "  \"/>\n",
       "<polyline clip-path=\"url(#clip100)\" style=\"stroke:#000000; stroke-linecap:butt; stroke-linejoin:round; stroke-width:4; stroke-opacity:1; fill:none\" points=\"\n",
       "  156.598,335.085 175.496,335.085 \n",
       "  \"/>\n",
       "<polyline clip-path=\"url(#clip100)\" style=\"stroke:#000000; stroke-linecap:butt; stroke-linejoin:round; stroke-width:4; stroke-opacity:1; fill:none\" points=\"\n",
       "  156.598,47.2441 175.496,47.2441 \n",
       "  \"/>\n",
       "<path clip-path=\"url(#clip100)\" d=\"M63.4226 1472.25 Q59.8115 1472.25 57.9828 1475.81 Q56.1773 1479.35 56.1773 1486.48 Q56.1773 1493.59 57.9828 1497.15 Q59.8115 1500.7 63.4226 1500.7 Q67.0569 1500.7 68.8624 1497.15 Q70.6911 1493.59 70.6911 1486.48 Q70.6911 1479.35 68.8624 1475.81 Q67.0569 1472.25 63.4226 1472.25 M63.4226 1468.54 Q69.2328 1468.54 72.2883 1473.15 Q75.367 1477.73 75.367 1486.48 Q75.367 1495.21 72.2883 1499.82 Q69.2328 1504.4 63.4226 1504.4 Q57.6125 1504.4 54.5338 1499.82 Q51.4782 1495.21 51.4782 1486.48 Q51.4782 1477.73 54.5338 1473.15 Q57.6125 1468.54 63.4226 1468.54 Z\" fill=\"#000000\" fill-rule=\"evenodd\" fill-opacity=\"1\" /><path clip-path=\"url(#clip100)\" d=\"M83.5845 1497.85 L88.4688 1497.85 L88.4688 1503.73 L83.5845 1503.73 L83.5845 1497.85 Z\" fill=\"#000000\" fill-rule=\"evenodd\" fill-opacity=\"1\" /><path clip-path=\"url(#clip100)\" d=\"M108.654 1472.25 Q105.043 1472.25 103.214 1475.81 Q101.409 1479.35 101.409 1486.48 Q101.409 1493.59 103.214 1497.15 Q105.043 1500.7 108.654 1500.7 Q112.288 1500.7 114.094 1497.15 Q115.922 1493.59 115.922 1486.48 Q115.922 1479.35 114.094 1475.81 Q112.288 1472.25 108.654 1472.25 M108.654 1468.54 Q114.464 1468.54 117.52 1473.15 Q120.598 1477.73 120.598 1486.48 Q120.598 1495.21 117.52 1499.82 Q114.464 1504.4 108.654 1504.4 Q102.844 1504.4 99.765 1499.82 Q96.7095 1495.21 96.7095 1486.48 Q96.7095 1477.73 99.765 1473.15 Q102.844 1468.54 108.654 1468.54 Z\" fill=\"#000000\" fill-rule=\"evenodd\" fill-opacity=\"1\" /><path clip-path=\"url(#clip100)\" d=\"M65.0198 1184.41 Q61.4087 1184.41 59.58 1187.97 Q57.7745 1191.51 57.7745 1198.64 Q57.7745 1205.75 59.58 1209.31 Q61.4087 1212.85 65.0198 1212.85 Q68.6541 1212.85 70.4596 1209.31 Q72.2883 1205.75 72.2883 1198.64 Q72.2883 1191.51 70.4596 1187.97 Q68.6541 1184.41 65.0198 1184.41 M65.0198 1180.7 Q70.83 1180.7 73.8855 1185.31 Q76.9642 1189.89 76.9642 1198.64 Q76.9642 1207.37 73.8855 1211.98 Q70.83 1216.56 65.0198 1216.56 Q59.2097 1216.56 56.131 1211.98 Q53.0754 1207.37 53.0754 1198.64 Q53.0754 1189.89 56.131 1185.31 Q59.2097 1180.7 65.0198 1180.7 Z\" fill=\"#000000\" fill-rule=\"evenodd\" fill-opacity=\"1\" /><path clip-path=\"url(#clip100)\" d=\"M85.1818 1210.01 L90.066 1210.01 L90.066 1215.89 L85.1818 1215.89 L85.1818 1210.01 Z\" fill=\"#000000\" fill-rule=\"evenodd\" fill-opacity=\"1\" /><path clip-path=\"url(#clip100)\" d=\"M104.279 1211.95 L120.598 1211.95 L120.598 1215.89 L98.6539 1215.89 L98.6539 1211.95 Q101.316 1209.2 105.899 1204.57 Q110.506 1199.91 111.686 1198.57 Q113.932 1196.05 114.811 1194.31 Q115.714 1192.55 115.714 1190.86 Q115.714 1188.11 113.77 1186.37 Q111.848 1184.64 108.746 1184.64 Q106.547 1184.64 104.094 1185.4 Q101.663 1186.17 98.8854 1187.72 L98.8854 1182.99 Q101.709 1181.86 104.163 1181.28 Q106.617 1180.7 108.654 1180.7 Q114.024 1180.7 117.219 1183.39 Q120.413 1186.07 120.413 1190.56 Q120.413 1192.69 119.603 1194.61 Q118.816 1196.51 116.709 1199.1 Q116.131 1199.78 113.029 1202.99 Q109.927 1206.19 104.279 1211.95 Z\" fill=\"#000000\" fill-rule=\"evenodd\" fill-opacity=\"1\" /><path clip-path=\"url(#clip100)\" d=\"M62.9365 896.565 Q59.3254 896.565 57.4967 900.13 Q55.6912 903.671 55.6912 910.801 Q55.6912 917.908 57.4967 921.472 Q59.3254 925.014 62.9365 925.014 Q66.5707 925.014 68.3763 921.472 Q70.205 917.908 70.205 910.801 Q70.205 903.671 68.3763 900.13 Q66.5707 896.565 62.9365 896.565 M62.9365 892.861 Q68.7467 892.861 71.8022 897.468 Q74.8809 902.051 74.8809 910.801 Q74.8809 919.528 71.8022 924.134 Q68.7467 928.718 62.9365 928.718 Q57.1264 928.718 54.0477 924.134 Q50.9921 919.528 50.9921 910.801 Q50.9921 902.051 54.0477 897.468 Q57.1264 892.861 62.9365 892.861 Z\" fill=\"#000000\" fill-rule=\"evenodd\" fill-opacity=\"1\" /><path clip-path=\"url(#clip100)\" d=\"M83.0984 922.167 L87.9827 922.167 L87.9827 928.046 L83.0984 928.046 L83.0984 922.167 Z\" fill=\"#000000\" fill-rule=\"evenodd\" fill-opacity=\"1\" /><path clip-path=\"url(#clip100)\" d=\"M111.015 897.56 L99.2095 916.009 L111.015 916.009 L111.015 897.56 M109.788 893.486 L115.668 893.486 L115.668 916.009 L120.598 916.009 L120.598 919.898 L115.668 919.898 L115.668 928.046 L111.015 928.046 L111.015 919.898 L95.4132 919.898 L95.4132 915.384 L109.788 893.486 Z\" fill=\"#000000\" fill-rule=\"evenodd\" fill-opacity=\"1\" /><path clip-path=\"url(#clip100)\" d=\"M63.2606 608.724 Q59.6495 608.724 57.8208 612.289 Q56.0152 615.831 56.0152 622.96 Q56.0152 630.067 57.8208 633.632 Q59.6495 637.173 63.2606 637.173 Q66.8948 637.173 68.7004 633.632 Q70.5291 630.067 70.5291 622.96 Q70.5291 615.831 68.7004 612.289 Q66.8948 608.724 63.2606 608.724 M63.2606 605.021 Q69.0707 605.021 72.1263 609.627 Q75.205 614.21 75.205 622.96 Q75.205 631.687 72.1263 636.294 Q69.0707 640.877 63.2606 640.877 Q57.4504 640.877 54.3717 636.294 Q51.3162 631.687 51.3162 622.96 Q51.3162 614.21 54.3717 609.627 Q57.4504 605.021 63.2606 605.021 Z\" fill=\"#000000\" fill-rule=\"evenodd\" fill-opacity=\"1\" /><path clip-path=\"url(#clip100)\" d=\"M83.4225 634.326 L88.3067 634.326 L88.3067 640.206 L83.4225 640.206 L83.4225 634.326 Z\" fill=\"#000000\" fill-rule=\"evenodd\" fill-opacity=\"1\" /><path clip-path=\"url(#clip100)\" d=\"M109.071 621.062 Q105.922 621.062 104.071 623.215 Q102.242 625.368 102.242 629.118 Q102.242 632.845 104.071 635.02 Q105.922 637.173 109.071 637.173 Q112.219 637.173 114.047 635.02 Q115.899 632.845 115.899 629.118 Q115.899 625.368 114.047 623.215 Q112.219 621.062 109.071 621.062 M118.353 606.409 L118.353 610.669 Q116.594 609.835 114.788 609.396 Q113.006 608.956 111.246 608.956 Q106.617 608.956 104.163 612.081 Q101.733 615.206 101.385 621.525 Q102.751 619.511 104.811 618.446 Q106.871 617.359 109.348 617.359 Q114.557 617.359 117.566 620.53 Q120.598 623.678 120.598 629.118 Q120.598 634.442 117.45 637.659 Q114.302 640.877 109.071 640.877 Q103.075 640.877 99.9039 636.294 Q96.7326 631.687 96.7326 622.96 Q96.7326 614.766 100.621 609.905 Q104.51 605.021 111.061 605.021 Q112.82 605.021 114.603 605.368 Q116.408 605.715 118.353 606.409 Z\" fill=\"#000000\" fill-rule=\"evenodd\" fill-opacity=\"1\" /><path clip-path=\"url(#clip100)\" d=\"M63.5152 320.884 Q59.9041 320.884 58.0754 324.448 Q56.2699 327.99 56.2699 335.12 Q56.2699 342.226 58.0754 345.791 Q59.9041 349.332 63.5152 349.332 Q67.1494 349.332 68.955 345.791 Q70.7837 342.226 70.7837 335.12 Q70.7837 327.99 68.955 324.448 Q67.1494 320.884 63.5152 320.884 M63.5152 317.18 Q69.3254 317.18 72.3809 321.786 Q75.4596 326.37 75.4596 335.12 Q75.4596 343.846 72.3809 348.453 Q69.3254 353.036 63.5152 353.036 Q57.7051 353.036 54.6264 348.453 Q51.5708 343.846 51.5708 335.12 Q51.5708 326.37 54.6264 321.786 Q57.7051 317.18 63.5152 317.18 Z\" fill=\"#000000\" fill-rule=\"evenodd\" fill-opacity=\"1\" /><path clip-path=\"url(#clip100)\" d=\"M83.6771 346.485 L88.5614 346.485 L88.5614 352.365 L83.6771 352.365 L83.6771 346.485 Z\" fill=\"#000000\" fill-rule=\"evenodd\" fill-opacity=\"1\" /><path clip-path=\"url(#clip100)\" d=\"M108.746 335.953 Q105.413 335.953 103.492 337.735 Q101.594 339.518 101.594 342.643 Q101.594 345.768 103.492 347.55 Q105.413 349.332 108.746 349.332 Q112.08 349.332 114.001 347.55 Q115.922 345.745 115.922 342.643 Q115.922 339.518 114.001 337.735 Q112.103 335.953 108.746 335.953 M104.071 333.962 Q101.061 333.221 99.3715 331.161 Q97.7048 329.101 97.7048 326.138 Q97.7048 321.995 100.645 319.587 Q103.608 317.18 108.746 317.18 Q113.908 317.18 116.848 319.587 Q119.788 321.995 119.788 326.138 Q119.788 329.101 118.098 331.161 Q116.432 333.221 113.445 333.962 Q116.825 334.749 118.7 337.041 Q120.598 339.333 120.598 342.643 Q120.598 347.666 117.52 350.351 Q114.464 353.036 108.746 353.036 Q103.029 353.036 99.9502 350.351 Q96.8947 347.666 96.8947 342.643 Q96.8947 339.333 98.7928 337.041 Q100.691 334.749 104.071 333.962 M102.358 326.578 Q102.358 329.263 104.024 330.768 Q105.714 332.272 108.746 332.272 Q111.756 332.272 113.445 330.768 Q115.158 329.263 115.158 326.578 Q115.158 323.893 113.445 322.388 Q111.756 320.884 108.746 320.884 Q105.714 320.884 104.024 322.388 Q102.358 323.893 102.358 326.578 Z\" fill=\"#000000\" fill-rule=\"evenodd\" fill-opacity=\"1\" /><path clip-path=\"url(#clip100)\" d=\"M54.2328 60.5889 L61.8717 60.5889 L61.8717 34.2233 L53.5616 35.89 L53.5616 31.6308 L61.8254 29.9641 L66.5013 29.9641 L66.5013 60.5889 L74.1402 60.5889 L74.1402 64.5241 L54.2328 64.5241 L54.2328 60.5889 Z\" fill=\"#000000\" fill-rule=\"evenodd\" fill-opacity=\"1\" /><path clip-path=\"url(#clip100)\" d=\"M83.5845 58.6445 L88.4688 58.6445 L88.4688 64.5241 L83.5845 64.5241 L83.5845 58.6445 Z\" fill=\"#000000\" fill-rule=\"evenodd\" fill-opacity=\"1\" /><path clip-path=\"url(#clip100)\" d=\"M108.654 33.0428 Q105.043 33.0428 103.214 36.6076 Q101.409 40.1492 101.409 47.2788 Q101.409 54.3853 103.214 57.9501 Q105.043 61.4917 108.654 61.4917 Q112.288 61.4917 114.094 57.9501 Q115.922 54.3853 115.922 47.2788 Q115.922 40.1492 114.094 36.6076 Q112.288 33.0428 108.654 33.0428 M108.654 29.3391 Q114.464 29.3391 117.52 33.9456 Q120.598 38.5289 120.598 47.2788 Q120.598 56.0056 117.52 60.6121 Q114.464 65.1954 108.654 65.1954 Q102.844 65.1954 99.765 60.6121 Q96.7095 56.0056 96.7095 47.2788 Q96.7095 38.5289 99.765 33.9456 Q102.844 29.3391 108.654 29.3391 Z\" fill=\"#000000\" fill-rule=\"evenodd\" fill-opacity=\"1\" /><polyline clip-path=\"url(#clip102)\" style=\"stroke:#009af9; stroke-linecap:butt; stroke-linejoin:round; stroke-width:4; stroke-opacity:1; fill:none\" points=\"\n",
       "  218.754,335.085 225.66,428.461 232.566,511.089 239.472,584.359 246.378,649.452 253.284,707.388 260.191,759.033 267.097,805.148 274.003,846.391 280.909,883.319 \n",
       "  287.815,916.431 294.721,946.172 301.628,972.918 308.534,996.99 315.44,1018.68 322.346,1038.27 329.252,1055.99 336.158,1072.02 343.064,1086.54 349.971,1099.72 \n",
       "  356.877,1111.69 363.783,1122.6 370.689,1132.56 377.595,1141.65 384.501,1149.96 391.408,1157.56 398.314,1164.54 405.22,1170.97 412.126,1176.9 419.032,1182.38 \n",
       "  425.938,1187.46 432.844,1192.17 439.751,1196.54 446.657,1200.6 453.563,1204.4 460.469,1207.97 467.375,1211.32 474.281,1214.48 481.188,1217.47 488.094,1220.3 \n",
       "  495,1222.97 501.906,1225.52 508.812,1227.94 515.718,1230.25 522.625,1232.47 529.531,1234.6 536.437,1236.66 543.343,1238.65 550.249,1240.58 557.155,1242.45 \n",
       "  564.061,1244.26 570.968,1246.02 577.874,1247.74 584.78,1249.41 591.686,1251.04 598.592,1252.63 605.498,1254.2 612.405,1255.74 619.311,1257.26 626.217,1258.76 \n",
       "  633.123,1260.23 640.029,1261.69 646.935,1263.12 653.841,1264.53 660.748,1265.93 667.654,1267.31 674.56,1268.67 681.466,1270.01 688.372,1271.35 695.278,1272.67 \n",
       "  702.185,1273.98 709.091,1275.28 715.997,1276.58 722.903,1277.87 729.809,1279.15 736.715,1280.41 743.622,1281.67 750.528,1282.92 757.434,1284.16 764.34,1285.38 \n",
       "  771.246,1286.6 778.152,1287.82 785.058,1289.03 791.965,1290.23 798.871,1291.43 805.777,1292.62 812.683,1293.81 819.589,1294.98 826.495,1296.15 833.402,1297.3 \n",
       "  840.308,1298.46 847.214,1299.6 854.12,1300.74 861.026,1301.88 867.932,1303.02 874.838,1304.14 881.745,1305.26 888.651,1306.37 895.557,1307.48 902.463,1308.57 \n",
       "  909.369,1309.67 916.275,1310.75 923.182,1311.83 930.088,1312.91 936.994,1313.98 943.9,1315.05 950.806,1316.11 957.712,1317.16 964.619,1318.21 971.525,1319.25 \n",
       "  978.431,1320.28 985.337,1321.31 992.243,1322.33 999.149,1323.35 1006.06,1324.37 1012.96,1325.38 1019.87,1326.38 1026.77,1327.38 1033.68,1328.37 1040.59,1329.35 \n",
       "  1047.49,1330.33 1054.4,1331.3 1061.3,1332.27 1068.21,1333.23 1075.12,1334.19 1082.02,1335.15 1088.93,1336.1 1095.84,1337.04 1102.74,1337.98 1109.65,1338.91 \n",
       "  1116.55,1339.83 1123.46,1340.75 1130.37,1341.66 1137.27,1342.57 1144.18,1343.47 1151.08,1344.38 1157.99,1345.27 1164.9,1346.16 1171.8,1347.05 1178.71,1347.92 \n",
       "  1185.62,1348.8 1192.52,1349.66 1199.43,1350.52 1206.33,1351.38 1213.24,1352.23 1220.15,1353.08 1227.05,1353.93 1233.96,1354.77 1240.86,1355.6 1247.77,1356.43 \n",
       "  1254.68,1357.25 1261.58,1358.06 1268.49,1358.88 1275.4,1359.68 1282.3,1360.48 1289.21,1361.28 1296.11,1362.08 1303.02,1362.87 1309.93,1363.66 1316.83,1364.44 \n",
       "  1323.74,1365.21 1330.64,1365.98 1337.55,1366.74 1344.46,1367.5 1351.36,1368.25 1358.27,1369.01 1365.18,1369.75 1372.08,1370.5 1378.99,1371.24 1385.89,1371.97 \n",
       "  1392.8,1372.7 1399.71,1373.42 1406.61,1374.14 1413.52,1374.85 1420.42,1375.56 1427.33,1376.27 1434.24,1376.97 1441.14,1377.67 1448.05,1378.37 1454.96,1379.06 \n",
       "  1461.86,1379.74 1468.77,1380.42 1475.67,1381.1 1482.58,1381.77 1489.49,1382.43 1496.39,1383.1 1503.3,1383.76 1510.2,1384.42 1517.11,1385.07 1524.02,1385.72 \n",
       "  1530.92,1386.36 1537.83,1387 1544.74,1387.63 1551.64,1388.26 1558.55,1388.89 1565.45,1389.51 1572.36,1390.13 1579.27,1390.75 1586.17,1391.36 1593.08,1391.97 \n",
       "  1599.98,1392.58 1606.89,1393.18 1613.8,1393.77 1620.7,1394.36 1627.61,1394.95 1634.52,1395.53 1641.42,1396.11 1648.33,1396.69 1655.23,1397.27 1662.14,1397.84 \n",
       "  1669.05,1398.41 1675.95,1398.97 1682.86,1399.53 1689.76,1400.09 1696.67,1400.64 1703.58,1401.18 1710.48,1401.73 1717.39,1402.27 1724.3,1402.81 1731.2,1403.35 \n",
       "  1738.11,1403.88 1745.01,1404.41 1751.92,1404.94 1758.83,1405.46 1765.73,1405.97 1772.64,1406.49 1779.54,1407 1786.45,1407.51 1793.36,1408.01 1800.26,1408.52 \n",
       "  1807.17,1409.02 1814.08,1409.51 1820.98,1410.01 1827.89,1410.49 1834.79,1410.98 1841.7,1411.46 1848.61,1411.94 1855.51,1412.41 1862.42,1412.89 1869.32,1413.36 \n",
       "  1876.23,1413.83 1883.14,1414.3 1890.04,1414.76 1896.95,1415.22 1903.86,1415.67 1910.76,1416.12 1917.67,1416.57 1924.57,1417.02 1931.48,1417.46 1938.39,1417.9 \n",
       "  1945.29,1418.34 1952.2,1418.78 1959.11,1419.22 1966.01,1419.65 1972.92,1420.07 1979.82,1420.49 1986.73,1420.91 1993.64,1421.33 2000.54,1421.75 2007.45,1422.16 \n",
       "  2014.35,1422.58 2021.26,1422.99 2028.17,1423.39 2035.07,1423.8 2041.98,1424.2 2048.89,1424.59 2055.79,1424.99 2062.7,1425.38 2069.6,1425.77 2076.51,1426.15 \n",
       "  2083.42,1426.54 2090.32,1426.92 2097.23,1427.31 2104.13,1427.68 2111.04,1428.06 2117.95,1428.43 2124.85,1428.8 2131.76,1429.17 2138.67,1429.53 2145.57,1429.89 \n",
       "  2152.48,1430.26 2159.38,1430.62 2166.29,1430.97 2173.2,1431.33 2180.1,1431.68 2187.01,1432.03 2193.91,1432.38 2200.82,1432.72 2207.73,1433.06 2214.63,1433.4 \n",
       "  2221.54,1433.74 2228.45,1434.07 2235.35,1434.41 2242.26,1434.74 2249.16,1435.07 2256.07,1435.4 2262.98,1435.72 2269.88,1436.05 2276.79,1436.37 2283.69,1436.68 \n",
       "  2290.6,1437 \n",
       "  \"/>\n",
       "<circle clip-path=\"url(#clip102)\" cx=\"280.909\" cy=\"561.184\" r=\"14\" fill=\"#e26f46\" fill-rule=\"evenodd\" fill-opacity=\"1\" stroke=\"#000000\" stroke-opacity=\"1\" stroke-width=\"3.2\"/>\n",
       "<circle clip-path=\"url(#clip102)\" cx=\"284.362\" cy=\"706.975\" r=\"14\" fill=\"#e26f46\" fill-rule=\"evenodd\" fill-opacity=\"1\" stroke=\"#000000\" stroke-opacity=\"1\" stroke-width=\"3.2\"/>\n",
       "<circle clip-path=\"url(#clip102)\" cx=\"298.174\" cy=\"859.387\" r=\"14\" fill=\"#e26f46\" fill-rule=\"evenodd\" fill-opacity=\"1\" stroke=\"#000000\" stroke-opacity=\"1\" stroke-width=\"3.2\"/>\n",
       "<circle clip-path=\"url(#clip102)\" cx=\"305.081\" cy=\"738.206\" r=\"14\" fill=\"#e26f46\" fill-rule=\"evenodd\" fill-opacity=\"1\" stroke=\"#000000\" stroke-opacity=\"1\" stroke-width=\"3.2\"/>\n",
       "<circle clip-path=\"url(#clip102)\" cx=\"332.705\" cy=\"913.645\" r=\"14\" fill=\"#e26f46\" fill-rule=\"evenodd\" fill-opacity=\"1\" stroke=\"#000000\" stroke-opacity=\"1\" stroke-width=\"3.2\"/>\n",
       "<circle clip-path=\"url(#clip102)\" cx=\"367.236\" cy=\"1018.27\" r=\"14\" fill=\"#e26f46\" fill-rule=\"evenodd\" fill-opacity=\"1\" stroke=\"#000000\" stroke-opacity=\"1\" stroke-width=\"3.2\"/>\n",
       "<circle clip-path=\"url(#clip102)\" cx=\"401.767\" cy=\"1116.43\" r=\"14\" fill=\"#e26f46\" fill-rule=\"evenodd\" fill-opacity=\"1\" stroke=\"#000000\" stroke-opacity=\"1\" stroke-width=\"3.2\"/>\n",
       "<circle clip-path=\"url(#clip102)\" cx=\"470.828\" cy=\"1148.09\" r=\"14\" fill=\"#e26f46\" fill-rule=\"evenodd\" fill-opacity=\"1\" stroke=\"#000000\" stroke-opacity=\"1\" stroke-width=\"3.2\"/>\n",
       "<circle clip-path=\"url(#clip102)\" cx=\"608.951\" cy=\"1252\" r=\"14\" fill=\"#e26f46\" fill-rule=\"evenodd\" fill-opacity=\"1\" stroke=\"#000000\" stroke-opacity=\"1\" stroke-width=\"3.2\"/>\n",
       "<circle clip-path=\"url(#clip102)\" cx=\"747.075\" cy=\"1269.13\" r=\"14\" fill=\"#e26f46\" fill-rule=\"evenodd\" fill-opacity=\"1\" stroke=\"#000000\" stroke-opacity=\"1\" stroke-width=\"3.2\"/>\n",
       "<circle clip-path=\"url(#clip102)\" cx=\"885.198\" cy=\"1257.9\" r=\"14\" fill=\"#e26f46\" fill-rule=\"evenodd\" fill-opacity=\"1\" stroke=\"#000000\" stroke-opacity=\"1\" stroke-width=\"3.2\"/>\n",
       "<circle clip-path=\"url(#clip102)\" cx=\"1023.32\" cy=\"1280.07\" r=\"14\" fill=\"#e26f46\" fill-rule=\"evenodd\" fill-opacity=\"1\" stroke=\"#000000\" stroke-opacity=\"1\" stroke-width=\"3.2\"/>\n",
       "<circle clip-path=\"url(#clip102)\" cx=\"1230.51\" cy=\"1331.45\" r=\"14\" fill=\"#e26f46\" fill-rule=\"evenodd\" fill-opacity=\"1\" stroke=\"#000000\" stroke-opacity=\"1\" stroke-width=\"3.2\"/>\n",
       "<circle clip-path=\"url(#clip102)\" cx=\"1437.69\" cy=\"1345.69\" r=\"14\" fill=\"#e26f46\" fill-rule=\"evenodd\" fill-opacity=\"1\" stroke=\"#000000\" stroke-opacity=\"1\" stroke-width=\"3.2\"/>\n",
       "<circle clip-path=\"url(#clip102)\" cx=\"1575.81\" cy=\"1303.81\" r=\"14\" fill=\"#e26f46\" fill-rule=\"evenodd\" fill-opacity=\"1\" stroke=\"#000000\" stroke-opacity=\"1\" stroke-width=\"3.2\"/>\n",
       "<circle clip-path=\"url(#clip102)\" cx=\"1990.18\" cy=\"1399.38\" r=\"14\" fill=\"#e26f46\" fill-rule=\"evenodd\" fill-opacity=\"1\" stroke=\"#000000\" stroke-opacity=\"1\" stroke-width=\"3.2\"/>\n",
       "</svg>\n"
      ]
     },
     "execution_count": 2175,
     "metadata": {},
     "output_type": "execute_result"
    }
   ],
   "source": [
    "n0_Np .= 0.0\n",
    "n0_Np[p_Np.idxs_Np.X100_idxs[2]] = (1 - p_Np.imperfect_X100_prep) * p_Np.n0_X100\n",
    "n0_Np[p_Np.idxs_Np.X000_idxs[2]] = p_Np.imperfect_X100_prep * p_Np.n0_X100\n",
    "\n",
    "prob = ODEProblem(rate_eqns!, n0_Np, p_Np.t_span, R_Np)\n",
    "@time sol = DifferentialEquations.solve(prob, alg=DP5())\n",
    "\n",
    "times = 0:10e-3:t_span[2]\n",
    "sol_values = sol(times)\n",
    "\n",
    "detectable = [sum(u[p_Np.idxs_Np_d]) for u in sol_values]\n",
    "plot(times, detectable, legend=nothing)\n",
    "plot!(\n",
    "    xticks=0.0:0.5:3.0,\n",
    "    yticks=0.0:0.2:1.0,\n",
    "    ylim=(0,1)\n",
    ")\n",
    "scatter!(data.X100_xs, data.X100_ys)"
   ]
  },
  {
   "cell_type": "markdown",
   "metadata": {},
   "source": [
    "### Trying out parallelizing grid scan"
   ]
  },
  {
   "cell_type": "code",
   "execution_count": null,
   "metadata": {},
   "outputs": [],
   "source": [
    "# function prob_func(prob, i, repeat)\n",
    "#     p′ = NamedTuple{fieldnames(grid)}(params)\n",
    "#     p = (; prob.p..., p′...)\n",
    "    \n",
    "#     R = zeros(Float64, length(p.basis), length(p.basis))\n",
    "#     construct_rate_eqns!(R, p)\n",
    "\n",
    "#     n0 = zeros(Float64, length(p.basis))\n",
    "#     n0[p.idxs_d[1]] = p.n0\n",
    "\n",
    "#     prob = ODEProblem(rate_eqns!, n0, p.t_span, R)"
   ]
  },
  {
   "cell_type": "code",
   "execution_count": null,
   "metadata": {},
   "outputs": [],
   "source": [
    "# EnsembleProblem(\n",
    "#     output_func = (sol, i) -> (sol, i)\n",
    "#     prob_func = (prob, i, repeat) -> \n",
    "#     )"
   ]
  },
  {
   "cell_type": "code",
   "execution_count": 180,
   "metadata": {},
   "outputs": [
    {
     "name": "stderr",
     "output_type": "stream",
     "text": [
      "WARNING: redefinition of constant grid_iterable. This may fail, cause incorrect answers, or produce other errors.\n"
     ]
    },
    {
     "data": {
      "text/plain": [
       "231"
      ]
     },
     "execution_count": 180,
     "metadata": {},
     "output_type": "execute_result"
    }
   ],
   "source": [
    "grid_iterable = collect(Iterators.product(grid...))\n",
    "\n",
    "n0 = zeros(Float64, length(p0.basis))\n",
    "R = zeros(Float64, length(p0.basis), length(p0.basis))\n",
    "prob = ODEProblem(rate_eqns!, n0, p0.t_span, R)\n",
    "probs = []\n",
    "\n",
    "# Define all problems\n",
    "for i in eachindex(grid_iterable)\n",
    "    params = grid_iterable[i]\n",
    "    p′ = NamedTuple{fieldnames(grid)}(params)\n",
    "    p = (; p0..., p′...)\n",
    "    n0[p.idxs_d[1]] = p.n0\n",
    "    construct_rate_eqns!(R, p)\n",
    "    new_prob = remake(prob, u0=n0, p=R)\n",
    "    push!(probs, deepcopy(new_prob))\n",
    "end\n",
    "\n",
    "length(probs)"
   ]
  },
  {
   "cell_type": "code",
   "execution_count": 251,
   "metadata": {},
   "outputs": [],
   "source": [
    "const probs_const = probs;"
   ]
  },
  {
   "cell_type": "code",
   "execution_count": 263,
   "metadata": {},
   "outputs": [],
   "source": [
    "prob_func(prob, i, repeat) = probs[i]\n",
    "output_func(sol, i) = (0.0, false)\n",
    ";"
   ]
  },
  {
   "cell_type": "code",
   "execution_count": 264,
   "metadata": {},
   "outputs": [],
   "source": [
    "ens_prob = EnsembleProblem(prob, prob_func=prob_func, output_func=output_func);"
   ]
  },
  {
   "cell_type": "code",
   "execution_count": 271,
   "metadata": {},
   "outputs": [
    {
     "name": "stdout",
     "output_type": "stream",
     "text": [
      "  9.502544 seconds (1.86 M allocations: 4.710 GiB, 4.57% gc time, 9.36% compilation time)\n"
     ]
    },
    {
     "data": {
      "text/plain": [
       "EnsembleSolution Solution of length 231 with uType:\n",
       "Float64"
      ]
     },
     "execution_count": 271,
     "metadata": {},
     "output_type": "execute_result"
    }
   ],
   "source": [
    "@time DifferentialEquations.solve(ens_prob, DP5(), EnsembleSerial(), trajectories=length(probs))"
   ]
  },
  {
   "cell_type": "code",
   "execution_count": 270,
   "metadata": {},
   "outputs": [
    {
     "name": "stdout",
     "output_type": "stream",
     "text": [
      " 18.326245 seconds (120.94 k allocations: 4.420 GiB, 2.35% gc time, 0.74% compilation time)\n"
     ]
    },
    {
     "data": {
      "text/plain": [
       "EnsembleSolution Solution of length 231 with uType:\n",
       "Float64"
      ]
     },
     "execution_count": 270,
     "metadata": {},
     "output_type": "execute_result"
    }
   ],
   "source": [
    "@time DifferentialEquations.solve(ens_prob, DP5(), EnsembleThreads(), trajectories=length(probs))"
   ]
  },
  {
   "cell_type": "code",
   "execution_count": null,
   "metadata": {},
   "outputs": [],
   "source": [
    "sol = DifferentialEquations.solve(prob)"
   ]
  },
  {
   "cell_type": "code",
   "execution_count": 181,
   "metadata": {},
   "outputs": [],
   "source": [
    "using Distributed"
   ]
  },
  {
   "cell_type": "code",
   "execution_count": 211,
   "metadata": {},
   "outputs": [
    {
     "data": {
      "text/plain": [
       "4"
      ]
     },
     "execution_count": 211,
     "metadata": {},
     "output_type": "execute_result"
    }
   ],
   "source": [
    "# addprocs(3)\n",
    "@everywhere using DifferentialEquations\n",
    "@everywhere probs = $probs\n",
    "@everywhere using LinearAlgebra\n",
    "nprocs()"
   ]
  },
  {
   "cell_type": "code",
   "execution_count": 214,
   "metadata": {},
   "outputs": [
    {
     "name": "stdout",
     "output_type": "stream",
     "text": [
      "169.018770 seconds (93.75 k allocations: 8.680 GiB, 1.43% gc time, 0.01% compilation time)\n"
     ]
    }
   ],
   "source": [
    "@time Threads.@threads for prob in probs\n",
    "    sol = DifferentialEquations.solve(prob)\n",
    "end"
   ]
  },
  {
   "cell_type": "code",
   "execution_count": 247,
   "metadata": {},
   "outputs": [
    {
     "name": "stdout",
     "output_type": "stream",
     "text": [
      "  7.964796 seconds (41.19 k allocations: 360.898 MiB, 0.29% gc time)\n"
     ]
    }
   ],
   "source": [
    "@time for prob in probs\n",
    "    sol = DifferentialEquations.solve(prob, alg=DP5())\n",
    "end"
   ]
  }
 ],
 "metadata": {
  "kernelspec": {
   "display_name": "Julia 1.7.2",
   "language": "julia",
   "name": "julia-1.7"
  },
  "language_info": {
   "file_extension": ".jl",
   "mimetype": "application/julia",
   "name": "julia",
   "version": "1.7.2"
  }
 },
 "nbformat": 4,
 "nbformat_minor": 5
}

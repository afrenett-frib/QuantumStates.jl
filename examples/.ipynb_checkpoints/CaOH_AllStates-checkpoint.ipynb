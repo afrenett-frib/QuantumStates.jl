{
 "cells": [
  {
   "cell_type": "code",
   "execution_count": 1,
   "metadata": {},
   "outputs": [],
   "source": [
    "using Revise"
   ]
  },
  {
   "cell_type": "code",
   "execution_count": 8,
   "metadata": {},
   "outputs": [],
   "source": [
    "# using OpticalBlochEquations\n",
    "using QuantumStates\n",
    "using LinearAlgebra\n",
    "using Parameters\n",
    "using CompositeStructs\n",
    "using BenchmarkTools"
   ]
  },
  {
   "cell_type": "code",
   "execution_count": 9,
   "metadata": {},
   "outputs": [],
   "source": [
    "@consts begin\n",
    "    ħ = 1.054e-34\n",
    "    c = 3.0e8\n",
    "    ϵ₀ = 8.854e-12\n",
    "    kB = 1.381e-23\n",
    "    T = 295\n",
    "end\n",
    ";"
   ]
  },
  {
   "cell_type": "code",
   "execution_count": 10,
   "metadata": {},
   "outputs": [],
   "source": [
    "@composite @kwdef mutable struct HundsCaseB_VibRot <: HundsCaseB\n",
    "    p::Int64\n",
    "    v1::Float64\n",
    "    v2::Float64\n",
    "    v3::Float64\n",
    "    HundsCaseB_Rot...\n",
    "end\n",
    ";"
   ]
  },
  {
   "cell_type": "code",
   "execution_count": 11,
   "metadata": {},
   "outputs": [],
   "source": [
    "function Γ(state::HundsCaseB_VibRot, state′::HundsCaseB_VibRot)\n",
    "    E = state.E\n",
    "    E′ = state′.E\n",
    "    ΔE = E′ - E\n",
    "    if ΔE > 0.0\n",
    "        return (8π^2 / (3ϵ₀*ħ*c^3)) * abs(ΔE)^3 * TDM(state, state′)^2\n",
    "    end\n",
    "    return 0.0\n",
    "end\n",
    ";"
   ]
  },
  {
   "cell_type": "code",
   "execution_count": 12,
   "metadata": {},
   "outputs": [],
   "source": [
    "function blackbody_rate(state::HundsCaseB, state′::HundsCaseB)\n",
    "    E = state.E\n",
    "    E′ = state′.E\n",
    "    ΔE_abs = abs(E′ - E)  \n",
    "    if ΔE_abs > 0.0\n",
    "        return (8π^2 / (3ϵ₀*ħ*c^3)) * (1 / (exp(ħ * (2π * ΔE_abs) / (kB * T)) - 1)) * \n",
    "            ΔE_abs^3 * TDM(state, state′)^2\n",
    "    end\n",
    "    return 0.0\n",
    "end\n",
    ";"
   ]
  },
  {
   "cell_type": "code",
   "execution_count": 13,
   "metadata": {},
   "outputs": [],
   "source": [
    "function parity_rule(state::HundsCaseB_VibRot, state′::HundsCaseB_VibRot)\n",
    "    p = state.p\n",
    "    p′ = state′.p\n",
    "    return δ(-p,p′)\n",
    "end\n",
    "; "
   ]
  },
  {
   "cell_type": "code",
   "execution_count": 14,
   "metadata": {},
   "outputs": [],
   "source": [
    "# Spectroscopic constants for X(000)\n",
    "# (Scurlock et al.)\n",
    "@consts begin\n",
    "    B_X000 = 10023.0841\n",
    "    D_X000 = 1.154e-2\n",
    "    γ_X000 = 34.7593\n",
    "end\n",
    ";"
   ]
  },
  {
   "cell_type": "code",
   "execution_count": 15,
   "metadata": {},
   "outputs": [],
   "source": [
    "function set_parity!(basis, sgn=1)\n",
    "    for i in eachindex(basis)\n",
    "        N = basis[i].N\n",
    "        basis[i].p = sgn * (1 * iseven(N) - 1 * isodd(N))\n",
    "    end\n",
    "    return nothing\n",
    "end\n",
    ";"
   ]
  },
  {
   "cell_type": "markdown",
   "metadata": {},
   "source": [
    "### Enumerate states in $X^2 \\Sigma^+$ of CaOH"
   ]
  },
  {
   "cell_type": "code",
   "execution_count": 16,
   "metadata": {},
   "outputs": [],
   "source": [
    "N_max = 5;"
   ]
  },
  {
   "cell_type": "markdown",
   "metadata": {},
   "source": [
    "### $(v_1 v_2^\\ell v_3) = (000)$"
   ]
  },
  {
   "cell_type": "code",
   "execution_count": 270,
   "metadata": {},
   "outputs": [],
   "source": [
    "E_X000 = 0.0\n",
    "\n",
    "QN_bounds = (E = E_X000, v1 = 0, v2 = 0, v3 = 0, S = 1/2, I = 1/2, Λ = 0, N = 0:N_max)\n",
    "X000_basis = enumerate_states(HundsCaseB_VibRot, QN_bounds)\n",
    "set_parity!(X000_basis)\n",
    ";"
   ]
  },
  {
   "cell_type": "markdown",
   "metadata": {},
   "source": [
    "### $(v_1 v_2^\\ell v_3) = (100)$"
   ]
  },
  {
   "cell_type": "code",
   "execution_count": 18,
   "metadata": {},
   "outputs": [],
   "source": [
    "E_X100 = 1e2 * 600 * c\n",
    "\n",
    "QN_bounds = (E = E_X100, v1 = 1, v2 = 0, v3 = 0, S = 1/2, I = 1/2, Λ = 0, N = 0:N_max)\n",
    "X100_basis = enumerate_states(HundsCaseB_VibRot, QN_bounds)\n",
    "set_parity!(X100_basis)\n",
    ";"
   ]
  },
  {
   "cell_type": "markdown",
   "metadata": {},
   "source": [
    "### $(v_1 v_2^\\ell v_3) = (200)$"
   ]
  },
  {
   "cell_type": "code",
   "execution_count": 19,
   "metadata": {},
   "outputs": [],
   "source": [
    "E_X200 = 2E_X100\n",
    "\n",
    "QN_bounds = (E = E_X200, v1 = 2, v2 = 0, v3 = 0, S = 1/2, I = 1/2, Λ = 0, N = 0:N_max)\n",
    "X200_basis = enumerate_states(HundsCaseB_VibRot, QN_bounds)\n",
    "set_parity!(X200_basis)\n",
    ";"
   ]
  },
  {
   "cell_type": "markdown",
   "metadata": {},
   "source": [
    "### $(v_1 v_2^\\ell v_3) = (300)$"
   ]
  },
  {
   "cell_type": "code",
   "execution_count": 20,
   "metadata": {},
   "outputs": [],
   "source": [
    "E_X300 = 3E_X100\n",
    "\n",
    "QN_bounds = (E = E_X300, v1 = 3, v2 = 0, v3 = 0, S = 1/2, I = 1/2, Λ = 0, N = 0:N_max)\n",
    "X300_basis = enumerate_states(HundsCaseB_VibRot, QN_bounds)\n",
    "set_parity!(X300_basis)\n",
    ";"
   ]
  },
  {
   "cell_type": "markdown",
   "metadata": {},
   "source": [
    "### $(v_1 v_2^\\ell v_3) = (01^10)$"
   ]
  },
  {
   "cell_type": "code",
   "execution_count": 21,
   "metadata": {},
   "outputs": [],
   "source": [
    "E_X0110 = 1e2 * 352 * c\n",
    "\n",
    "QN_bounds = (E = E_X0110, v1 = 0, v2 = 1, v3 = 0, S = 1/2, I = 1/2, Λ = 1, N = 1:N_max)\n",
    "X0110_basis_p_parity = enumerate_states(HundsCaseB_VibRot, QN_bounds)\n",
    "set_parity!(X0110_basis_p_parity)\n",
    "\n",
    "X0110_basis_m_parity = enumerate_states(HundsCaseB_VibRot, QN_bounds)\n",
    "set_parity!(X0110_basis_m_parity, -1)\n",
    "\n",
    "X0110_basis = [X0110_basis_p_parity; X0110_basis_m_parity]\n",
    ";"
   ]
  },
  {
   "cell_type": "markdown",
   "metadata": {},
   "source": [
    "### $(v_1 v_2^\\ell v_3) = (02^00)$"
   ]
  },
  {
   "cell_type": "code",
   "execution_count": 22,
   "metadata": {},
   "outputs": [],
   "source": [
    "E_X0200 = 2E_X0110\n",
    "\n",
    "QN_bounds = (E = E_X0200, v1 = 0, v2 = 2, v3 = 0, S = 1/2, I = 1/2, Λ = 0, N = 0:N_max)\n",
    "X0200_basis = enumerate_states(HundsCaseB_VibRot, QN_bounds)\n",
    ";"
   ]
  },
  {
   "cell_type": "markdown",
   "metadata": {},
   "source": [
    "### $(v_1 v_2^\\ell v_3) = (02^20)$"
   ]
  },
  {
   "cell_type": "code",
   "execution_count": 23,
   "metadata": {},
   "outputs": [],
   "source": [
    "E_X0220 = E_X0200\n",
    "\n",
    "QN_bounds = (E = E_X0220, v1 = 0, v2 = 2, v3 = 0, S = 1/2, I = 1/2, Λ = 2, N = 2:N_max)\n",
    "X0220_basis_p_parity = enumerate_states(HundsCaseB_VibRot, QN_bounds)\n",
    "set_parity!(X0220_basis_p_parity)\n",
    "\n",
    "X0220_basis_m_parity = enumerate_states(HundsCaseB_VibRot, QN_bounds)\n",
    "set_parity!(X0220_basis_m_parity, -1)\n",
    "\n",
    "X0220_basis = [X0220_basis_p_parity; X0220_basis_m_parity]\n",
    ";"
   ]
  },
  {
   "cell_type": "markdown",
   "metadata": {},
   "source": [
    "### $(v_1 v_2^\\ell v_3) = (11^10)$"
   ]
  },
  {
   "cell_type": "code",
   "execution_count": 24,
   "metadata": {},
   "outputs": [],
   "source": [
    "E_X1110 = E_X100 + E_X0110\n",
    "\n",
    "QN_bounds = (E = E_X1110, v1 = 1, v2 = 1, v3 = 0, S = 1/2, I = 1/2, Λ = 1, N = 1:N_max)\n",
    "X1110_basis_p_parity = enumerate_states(HundsCaseB_VibRot, QN_bounds)\n",
    "set_parity!(X1110_basis_p_parity)\n",
    "\n",
    "X1110_basis_m_parity = enumerate_states(HundsCaseB_VibRot, QN_bounds)\n",
    "set_parity!(X1110_basis_m_parity, -1)\n",
    "\n",
    "X1110_basis = [X1110_basis_p_parity; X1110_basis_m_parity]\n",
    ";"
   ]
  },
  {
   "cell_type": "markdown",
   "metadata": {},
   "source": [
    "### Add blackbody-induced transitions and spontaneous emission"
   ]
  },
  {
   "cell_type": "code",
   "execution_count": 25,
   "metadata": {},
   "outputs": [],
   "source": [
    "basis = [\n",
    "    X000_basis\n",
    "    X100_basis\n",
    "    X200_basis\n",
    "    X300_basis\n",
    "    X0110_basis\n",
    "    X0200_basis\n",
    "    X0220_basis\n",
    "    X1110_basis\n",
    "    ]\n",
    ";"
   ]
  },
  {
   "cell_type": "code",
   "execution_count": 53,
   "metadata": {},
   "outputs": [],
   "source": [
    "X000_idxs, _ = subspace(basis, (v1 = (0,0), v2 = (0,0)))\n",
    "X100_idxs, _ = subspace(basis, (v1 = (1,1), v2 = (0,0)))\n",
    "X200_idxs, _ = subspace(basis, (v1 = (2,2), v2 = (0,0)))\n",
    "X300_idxs, _ = subspace(basis, (v1 = (3,3), v2 = (0,0)))\n",
    "X0110_idxs, _ = subspace(basis, (v1 = (0,0), v2 = (1,1)))\n",
    "X0200_idxs, _ = subspace(basis, (v2 = (2,2), Λ = (0,0)))\n",
    "X0220_idxs, _ = subspace(basis, (v2 = (2,2), Λ = (2,2)))\n",
    "X1110_idxs, _ = subspace(basis, (v1 = (1,1), v2 = (1,1)))\n",
    ";"
   ]
  },
  {
   "cell_type": "code",
   "execution_count": 54,
   "metadata": {},
   "outputs": [],
   "source": [
    "# Get indices of detectable states\n",
    "X000_idxs_d, _ = subspace(basis, (v1 = (0,0), v2 = (0,0), N = (1,1), J = (1/2, 3/2)))\n",
    "X100_idxs_d, _ = subspace(basis, (v1 = (1,1), v2 = (0,0), N = (1,1), J = (1/2, 3/2)))\n",
    "X200_idxs_d, _ = subspace(basis, (v1 = (2,2), v2 = (0,0), N = (1,1), J = (1/2, 3/2)))\n",
    "X300_idxs_d, _ = subspace(basis, (v1 = (3,3), v2 = (0,0), N = (1,1), J = (1/2, 3/2)))\n",
    "X0110_idxs_d, _ = subspace(basis, (v1 = (0,0), v2 = (1,1), N = (1,2), p = (-1,-1)))\n",
    "X0200_idxs_d, _ = subspace(basis, (v2 = (2,2), Λ = (0,0), N = (1,1), J = (1/2, 3/2)))\n",
    "X0220_idxs_d, _ = subspace(basis, (v2 = (2,2), Λ = (2,2), N = (2,2), J = (1/2, 3/2), p = (-1,-1)))\n",
    "X1110_idxs_d, _ = subspace(basis, (v1 = (1,1), v2 = (1,1), N = (1,2), J = (1/2, 3/2), p = (-1,-1)))\n",
    "idxs_d = [\n",
    "    X000_idxs_d\n",
    "    X100_idxs_d\n",
    "    X200_idxs_d\n",
    "    X300_idxs_d\n",
    "    X0110_idxs_d\n",
    "    X0200_idxs_d\n",
    "    X0220_idxs_d\n",
    "    X1110_idxs_d\n",
    "]\n",
    ";"
   ]
  },
  {
   "cell_type": "code",
   "execution_count": 55,
   "metadata": {},
   "outputs": [],
   "source": [
    "μ_M = zeros(Float64, length(basis), length(basis))\n",
    ";"
   ]
  },
  {
   "cell_type": "code",
   "execution_count": 88,
   "metadata": {},
   "outputs": [],
   "source": [
    "function update_μ_M!(μ_M, idxs, μ_v1, μ_v2)\n",
    "    \n",
    "    μ_M .= 0.0\n",
    "    \n",
    "    # Stretching modes\n",
    "    μ_M[idxs.X000_idxs, idxs.X100_idxs] .= μ_v1^2\n",
    "    μ_M[idxs.X100_idxs, idxs.X200_idxs] .= 2μ_v1^2\n",
    "    μ_M[idxs.X200_idxs, idxs.X300_idxs] .= 3μ_v1^2\n",
    "    \n",
    "    # Bending modes\n",
    "    μ_M[idxs.X000_idxs, idxs.X0110_idxs] .= μ_v2^2\n",
    "    μ_M[idxs.X0110_idxs, idxs.X0200_idxs] .= μ_v2^2\n",
    "    μ_M[idxs.X0110_idxs, idxs.X0220_idxs] .= μ_v2^2\n",
    "    \n",
    "    # Hybrid modes\n",
    "    μ_M[idxs.X100_idxs, idxs.X1110_idxs] .= μ_v2^2\n",
    "    μ_M[idxs.X0110_idxs, idxs.X1110_idxs] .= μ_v1^2\n",
    "    \n",
    "    μ_M .+= transpose(μ_M)\n",
    "    \n",
    "    return nothing\n",
    "end\n",
    ";"
   ]
  },
  {
   "cell_type": "code",
   "execution_count": 89,
   "metadata": {},
   "outputs": [],
   "source": [
    "idxs = (\n",
    "    X000_idxs = X000_idxs, \n",
    "    X100_idxs = X100_idxs, \n",
    "    X200_idxs = X200_idxs, \n",
    "    X300_idxs = X300_idxs, \n",
    "    X0110_idxs = X0110_idxs, \n",
    "    X0200_idxs = X0200_idxs, \n",
    "    X0220_idxs = X0220_idxs, \n",
    "    X1110_idxs = X1110_idxs\n",
    ");"
   ]
  },
  {
   "cell_type": "code",
   "execution_count": 90,
   "metadata": {},
   "outputs": [],
   "source": [
    "# idxs = @params (X000_idxs, X100_idxs, X200_idxs, X300_idxs, X0110_idxs, X0200_idxs, X0220_idxs, X1110_idxs);"
   ]
  },
  {
   "cell_type": "code",
   "execution_count": 91,
   "metadata": {},
   "outputs": [],
   "source": [
    "# @btime update_μ_M!(μ_M, idxs, μ_v1, μ_v2)"
   ]
  },
  {
   "cell_type": "code",
   "execution_count": 92,
   "metadata": {},
   "outputs": [
    {
     "name": "stdout",
     "output_type": "stream",
     "text": [
      "149.665292 seconds (1.84 G allocations: 56.845 GiB, 22.04% gc time, 0.50% compilation time)\n"
     ]
    }
   ],
   "source": [
    "blackbody_M = zeros(Float64, length(basis), length(basis))\n",
    "Γ_M = zeros(Float64, length(basis), length(basis))\n",
    "@time for (i, state) in enumerate(basis)\n",
    "    for (j, state′) in enumerate(basis)\n",
    "        blackbody_M[i,j] += parity_rule(state, state′) * blackbody_rate(state, state′)\n",
    "        Γ_M[i,j] += parity_rule(state, state′) * Γ(state, state′)\n",
    "    end\n",
    "end\n",
    ";"
   ]
  },
  {
   "cell_type": "code",
   "execution_count": 151,
   "metadata": {},
   "outputs": [],
   "source": [
    "function construct_rate_eqns!(R, p)\n",
    "    \n",
    "    update_μ_M!(p.μ_M, p.idxs, p.μ_v1, p.μ_v2)\n",
    "    \n",
    "    R .= 0.0\n",
    "    for i in eachindex(p.basis)\n",
    "        for j in eachindex(p.basis)\n",
    "            R[i,j] += p.μ_M[i,j] * p.blackbody_M[i,j]\n",
    "            R[i,j] += p.μ_M[i,j] * p.Γ_M[i,j]          \n",
    "            \n",
    "            R[j,j] -= p.μ_M[i,j] * p.blackbody_M[i,j]\n",
    "            R[j,j] -= p.μ_M[i,j] * p.Γ_M[i,j]\n",
    "        end\n",
    "    end\n",
    "    \n",
    "    # Vacuum loss terms\n",
    "    for i in eachindex(p.basis)\n",
    "        R[i,i] -= (1 / p.τ_vacuum)\n",
    "    end\n",
    "    \n",
    "    return nothing\n",
    "end\n",
    ";"
   ]
  },
  {
   "cell_type": "code",
   "execution_count": 253,
   "metadata": {},
   "outputs": [],
   "source": [
    "μ_M = zeros(Float64, length(basis), length(basis))\n",
    "μ_v1 = 0.36 * 3.336e-30\n",
    "μ_v2 = 0.38 * 3.336e-30\n",
    "τ_vacuum = 2.0\n",
    ";"
   ]
  },
  {
   "cell_type": "code",
   "execution_count": 254,
   "metadata": {},
   "outputs": [
    {
     "name": "stdout",
     "output_type": "stream",
     "text": [
      "  0.119451 seconds (2 allocations: 18.000 MiB)\n"
     ]
    }
   ],
   "source": [
    "R = zeros(Float64, length(basis), length(basis))\n",
    "p = (μ_M = μ_M, Γ_M = Γ_M, blackbody_M = blackbody_M, basis = basis, idxs = idxs, μ_v1 = μ_v1, μ_v2 = μ_v2, τ_vacuum = τ_vacuum)\n",
    "@time construct_rate_eqns!(R, p)\n",
    ";"
   ]
  },
  {
   "cell_type": "code",
   "execution_count": 255,
   "metadata": {},
   "outputs": [
    {
     "data": {
      "text/plain": [
       "0.08918825042995299"
      ]
     },
     "execution_count": 255,
     "metadata": {},
     "output_type": "execute_result"
    }
   ],
   "source": [
    "-1 / R[X100_idxs, X100_idxs][1]"
   ]
  },
  {
   "cell_type": "code",
   "execution_count": 256,
   "metadata": {},
   "outputs": [
    {
     "data": {
      "text/plain": [
       "0.3794380314049443"
      ]
     },
     "execution_count": 256,
     "metadata": {},
     "output_type": "execute_result"
    }
   ],
   "source": [
    "-1 / R[X0110_idxs, X0110_idxs][1]"
   ]
  },
  {
   "cell_type": "code",
   "execution_count": 257,
   "metadata": {},
   "outputs": [],
   "source": [
    "# @btime construct_rate_eqns!($R, $p)"
   ]
  },
  {
   "cell_type": "code",
   "execution_count": 258,
   "metadata": {},
   "outputs": [],
   "source": [
    "n0 = zeros(length(basis))\n",
    "n0[X000_idxs_d[1]] = 0.0\n",
    "n0[X100_idxs_d[1]] = 1.0\n",
    "dn0 = deepcopy(n0)\n",
    ";"
   ]
  },
  {
   "cell_type": "code",
   "execution_count": 259,
   "metadata": {},
   "outputs": [],
   "source": [
    "using DifferentialEquations\n",
    "using Plots\n",
    "using BenchmarkTools"
   ]
  },
  {
   "cell_type": "code",
   "execution_count": 260,
   "metadata": {},
   "outputs": [],
   "source": [
    "function rate_eqns!(dn, n, R, t)\n",
    "    mul!(dn, R, n)\n",
    "    return nothing\n",
    "end\n",
    ";"
   ]
  },
  {
   "cell_type": "code",
   "execution_count": 261,
   "metadata": {},
   "outputs": [],
   "source": [
    "# @btime rate_eqns!($dn0, $n0, $R, 1.0)"
   ]
  },
  {
   "cell_type": "code",
   "execution_count": 269,
   "metadata": {},
   "outputs": [
    {
     "name": "stdout",
     "output_type": "stream",
     "text": [
      "  1.087629 seconds (408 allocations: 39.139 MiB)\n"
     ]
    }
   ],
   "source": [
    "tspan = (0.0, 3.0)\n",
    "prob = ODEProblem(rate_eqns!, n0, tspan, R)\n",
    "@time sol = DifferentialEquations.solve(prob)\n",
    ";"
   ]
  },
  {
   "cell_type": "code",
   "execution_count": 263,
   "metadata": {},
   "outputs": [
    {
     "data": {
      "image/svg+xml": [
       "<?xml version=\"1.0\" encoding=\"utf-8\"?>\n",
       "<svg xmlns=\"http://www.w3.org/2000/svg\" xmlns:xlink=\"http://www.w3.org/1999/xlink\" width=\"600\" height=\"400\" viewBox=\"0 0 2400 1600\">\n",
       "<defs>\n",
       "  <clipPath id=\"clip340\">\n",
       "    <rect x=\"0\" y=\"0\" width=\"2400\" height=\"1600\"/>\n",
       "  </clipPath>\n",
       "</defs>\n",
       "<path clip-path=\"url(#clip340)\" d=\"\n",
       "M0 1600 L2400 1600 L2400 0 L0 0  Z\n",
       "  \" fill=\"#ffffff\" fill-rule=\"evenodd\" fill-opacity=\"1\"/>\n",
       "<defs>\n",
       "  <clipPath id=\"clip341\">\n",
       "    <rect x=\"480\" y=\"0\" width=\"1681\" height=\"1600\"/>\n",
       "  </clipPath>\n",
       "</defs>\n",
       "<path clip-path=\"url(#clip340)\" d=\"\n",
       "M156.598 1486.45 L2352.76 1486.45 L2352.76 47.2441 L156.598 47.2441  Z\n",
       "  \" fill=\"#ffffff\" fill-rule=\"evenodd\" fill-opacity=\"1\"/>\n",
       "<defs>\n",
       "  <clipPath id=\"clip342\">\n",
       "    <rect x=\"156\" y=\"47\" width=\"2197\" height=\"1440\"/>\n",
       "  </clipPath>\n",
       "</defs>\n",
       "<polyline clip-path=\"url(#clip342)\" style=\"stroke:#000000; stroke-linecap:butt; stroke-linejoin:round; stroke-width:2; stroke-opacity:0.1; fill:none\" points=\"\n",
       "  218.754,1486.45 218.754,47.2441 \n",
       "  \"/>\n",
       "<polyline clip-path=\"url(#clip342)\" style=\"stroke:#000000; stroke-linecap:butt; stroke-linejoin:round; stroke-width:2; stroke-opacity:0.1; fill:none\" points=\"\n",
       "  564.061,1486.45 564.061,47.2441 \n",
       "  \"/>\n",
       "<polyline clip-path=\"url(#clip342)\" style=\"stroke:#000000; stroke-linecap:butt; stroke-linejoin:round; stroke-width:2; stroke-opacity:0.1; fill:none\" points=\"\n",
       "  909.369,1486.45 909.369,47.2441 \n",
       "  \"/>\n",
       "<polyline clip-path=\"url(#clip342)\" style=\"stroke:#000000; stroke-linecap:butt; stroke-linejoin:round; stroke-width:2; stroke-opacity:0.1; fill:none\" points=\"\n",
       "  1254.68,1486.45 1254.68,47.2441 \n",
       "  \"/>\n",
       "<polyline clip-path=\"url(#clip342)\" style=\"stroke:#000000; stroke-linecap:butt; stroke-linejoin:round; stroke-width:2; stroke-opacity:0.1; fill:none\" points=\"\n",
       "  1599.98,1486.45 1599.98,47.2441 \n",
       "  \"/>\n",
       "<polyline clip-path=\"url(#clip342)\" style=\"stroke:#000000; stroke-linecap:butt; stroke-linejoin:round; stroke-width:2; stroke-opacity:0.1; fill:none\" points=\"\n",
       "  1945.29,1486.45 1945.29,47.2441 \n",
       "  \"/>\n",
       "<polyline clip-path=\"url(#clip342)\" style=\"stroke:#000000; stroke-linecap:butt; stroke-linejoin:round; stroke-width:2; stroke-opacity:0.1; fill:none\" points=\"\n",
       "  2290.6,1486.45 2290.6,47.2441 \n",
       "  \"/>\n",
       "<polyline clip-path=\"url(#clip340)\" style=\"stroke:#000000; stroke-linecap:butt; stroke-linejoin:round; stroke-width:4; stroke-opacity:1; fill:none\" points=\"\n",
       "  156.598,1486.45 2352.76,1486.45 \n",
       "  \"/>\n",
       "<polyline clip-path=\"url(#clip340)\" style=\"stroke:#000000; stroke-linecap:butt; stroke-linejoin:round; stroke-width:4; stroke-opacity:1; fill:none\" points=\"\n",
       "  218.754,1486.45 218.754,1467.55 \n",
       "  \"/>\n",
       "<polyline clip-path=\"url(#clip340)\" style=\"stroke:#000000; stroke-linecap:butt; stroke-linejoin:round; stroke-width:4; stroke-opacity:1; fill:none\" points=\"\n",
       "  564.061,1486.45 564.061,1467.55 \n",
       "  \"/>\n",
       "<polyline clip-path=\"url(#clip340)\" style=\"stroke:#000000; stroke-linecap:butt; stroke-linejoin:round; stroke-width:4; stroke-opacity:1; fill:none\" points=\"\n",
       "  909.369,1486.45 909.369,1467.55 \n",
       "  \"/>\n",
       "<polyline clip-path=\"url(#clip340)\" style=\"stroke:#000000; stroke-linecap:butt; stroke-linejoin:round; stroke-width:4; stroke-opacity:1; fill:none\" points=\"\n",
       "  1254.68,1486.45 1254.68,1467.55 \n",
       "  \"/>\n",
       "<polyline clip-path=\"url(#clip340)\" style=\"stroke:#000000; stroke-linecap:butt; stroke-linejoin:round; stroke-width:4; stroke-opacity:1; fill:none\" points=\"\n",
       "  1599.98,1486.45 1599.98,1467.55 \n",
       "  \"/>\n",
       "<polyline clip-path=\"url(#clip340)\" style=\"stroke:#000000; stroke-linecap:butt; stroke-linejoin:round; stroke-width:4; stroke-opacity:1; fill:none\" points=\"\n",
       "  1945.29,1486.45 1945.29,1467.55 \n",
       "  \"/>\n",
       "<polyline clip-path=\"url(#clip340)\" style=\"stroke:#000000; stroke-linecap:butt; stroke-linejoin:round; stroke-width:4; stroke-opacity:1; fill:none\" points=\"\n",
       "  2290.6,1486.45 2290.6,1467.55 \n",
       "  \"/>\n",
       "<path clip-path=\"url(#clip340)\" d=\"M196.138 1517.37 Q192.527 1517.37 190.698 1520.93 Q188.893 1524.47 188.893 1531.6 Q188.893 1538.71 190.698 1542.27 Q192.527 1545.82 196.138 1545.82 Q199.772 1545.82 201.578 1542.27 Q203.407 1538.71 203.407 1531.6 Q203.407 1524.47 201.578 1520.93 Q199.772 1517.37 196.138 1517.37 M196.138 1513.66 Q201.948 1513.66 205.004 1518.27 Q208.082 1522.85 208.082 1531.6 Q208.082 1540.33 205.004 1544.94 Q201.948 1549.52 196.138 1549.52 Q190.328 1549.52 187.249 1544.94 Q184.194 1540.33 184.194 1531.6 Q184.194 1522.85 187.249 1518.27 Q190.328 1513.66 196.138 1513.66 Z\" fill=\"#000000\" fill-rule=\"evenodd\" fill-opacity=\"1\" /><path clip-path=\"url(#clip340)\" d=\"M216.3 1542.97 L221.184 1542.97 L221.184 1548.85 L216.3 1548.85 L216.3 1542.97 Z\" fill=\"#000000\" fill-rule=\"evenodd\" fill-opacity=\"1\" /><path clip-path=\"url(#clip340)\" d=\"M241.369 1517.37 Q237.758 1517.37 235.929 1520.93 Q234.124 1524.47 234.124 1531.6 Q234.124 1538.71 235.929 1542.27 Q237.758 1545.82 241.369 1545.82 Q245.003 1545.82 246.809 1542.27 Q248.638 1538.71 248.638 1531.6 Q248.638 1524.47 246.809 1520.93 Q245.003 1517.37 241.369 1517.37 M241.369 1513.66 Q247.179 1513.66 250.235 1518.27 Q253.314 1522.85 253.314 1531.6 Q253.314 1540.33 250.235 1544.94 Q247.179 1549.52 241.369 1549.52 Q235.559 1549.52 232.48 1544.94 Q229.425 1540.33 229.425 1531.6 Q229.425 1522.85 232.48 1518.27 Q235.559 1513.66 241.369 1513.66 Z\" fill=\"#000000\" fill-rule=\"evenodd\" fill-opacity=\"1\" /><path clip-path=\"url(#clip340)\" d=\"M541.944 1517.37 Q538.332 1517.37 536.504 1520.93 Q534.698 1524.47 534.698 1531.6 Q534.698 1538.71 536.504 1542.27 Q538.332 1545.82 541.944 1545.82 Q545.578 1545.82 547.383 1542.27 Q549.212 1538.71 549.212 1531.6 Q549.212 1524.47 547.383 1520.93 Q545.578 1517.37 541.944 1517.37 M541.944 1513.66 Q547.754 1513.66 550.809 1518.27 Q553.888 1522.85 553.888 1531.6 Q553.888 1540.33 550.809 1544.94 Q547.754 1549.52 541.944 1549.52 Q536.133 1549.52 533.055 1544.94 Q529.999 1540.33 529.999 1531.6 Q529.999 1522.85 533.055 1518.27 Q536.133 1513.66 541.944 1513.66 Z\" fill=\"#000000\" fill-rule=\"evenodd\" fill-opacity=\"1\" /><path clip-path=\"url(#clip340)\" d=\"M562.105 1542.97 L566.99 1542.97 L566.99 1548.85 L562.105 1548.85 L562.105 1542.97 Z\" fill=\"#000000\" fill-rule=\"evenodd\" fill-opacity=\"1\" /><path clip-path=\"url(#clip340)\" d=\"M577.221 1514.29 L595.577 1514.29 L595.577 1518.22 L581.503 1518.22 L581.503 1526.7 Q582.522 1526.35 583.541 1526.19 Q584.559 1526 585.578 1526 Q591.365 1526 594.744 1529.17 Q598.124 1532.34 598.124 1537.76 Q598.124 1543.34 594.652 1546.44 Q591.179 1549.52 584.86 1549.52 Q582.684 1549.52 580.416 1549.15 Q578.17 1548.78 575.763 1548.04 L575.763 1543.34 Q577.846 1544.47 580.068 1545.03 Q582.291 1545.58 584.767 1545.58 Q588.772 1545.58 591.11 1543.48 Q593.448 1541.37 593.448 1537.76 Q593.448 1534.15 591.11 1532.04 Q588.772 1529.94 584.767 1529.94 Q582.892 1529.94 581.017 1530.35 Q579.166 1530.77 577.221 1531.65 L577.221 1514.29 Z\" fill=\"#000000\" fill-rule=\"evenodd\" fill-opacity=\"1\" /><path clip-path=\"url(#clip340)\" d=\"M876.522 1544.91 L884.161 1544.91 L884.161 1518.55 L875.851 1520.21 L875.851 1515.95 L884.115 1514.29 L888.791 1514.29 L888.791 1544.91 L896.43 1544.91 L896.43 1548.85 L876.522 1548.85 L876.522 1544.91 Z\" fill=\"#000000\" fill-rule=\"evenodd\" fill-opacity=\"1\" /><path clip-path=\"url(#clip340)\" d=\"M905.874 1542.97 L910.758 1542.97 L910.758 1548.85 L905.874 1548.85 L905.874 1542.97 Z\" fill=\"#000000\" fill-rule=\"evenodd\" fill-opacity=\"1\" /><path clip-path=\"url(#clip340)\" d=\"M930.943 1517.37 Q927.332 1517.37 925.503 1520.93 Q923.698 1524.47 923.698 1531.6 Q923.698 1538.71 925.503 1542.27 Q927.332 1545.82 930.943 1545.82 Q934.577 1545.82 936.383 1542.27 Q938.212 1538.71 938.212 1531.6 Q938.212 1524.47 936.383 1520.93 Q934.577 1517.37 930.943 1517.37 M930.943 1513.66 Q936.753 1513.66 939.809 1518.27 Q942.888 1522.85 942.888 1531.6 Q942.888 1540.33 939.809 1544.94 Q936.753 1549.52 930.943 1549.52 Q925.133 1549.52 922.054 1544.94 Q918.999 1540.33 918.999 1531.6 Q918.999 1522.85 922.054 1518.27 Q925.133 1513.66 930.943 1513.66 Z\" fill=\"#000000\" fill-rule=\"evenodd\" fill-opacity=\"1\" /><path clip-path=\"url(#clip340)\" d=\"M1222.33 1544.91 L1229.97 1544.91 L1229.97 1518.55 L1221.66 1520.21 L1221.66 1515.95 L1229.92 1514.29 L1234.6 1514.29 L1234.6 1544.91 L1242.24 1544.91 L1242.24 1548.85 L1222.33 1548.85 L1222.33 1544.91 Z\" fill=\"#000000\" fill-rule=\"evenodd\" fill-opacity=\"1\" /><path clip-path=\"url(#clip340)\" d=\"M1251.68 1542.97 L1256.56 1542.97 L1256.56 1548.85 L1251.68 1548.85 L1251.68 1542.97 Z\" fill=\"#000000\" fill-rule=\"evenodd\" fill-opacity=\"1\" /><path clip-path=\"url(#clip340)\" d=\"M1266.8 1514.29 L1285.15 1514.29 L1285.15 1518.22 L1271.08 1518.22 L1271.08 1526.7 Q1272.1 1526.35 1273.11 1526.19 Q1274.13 1526 1275.15 1526 Q1280.94 1526 1284.32 1529.17 Q1287.7 1532.34 1287.7 1537.76 Q1287.7 1543.34 1284.23 1546.44 Q1280.75 1549.52 1274.43 1549.52 Q1272.26 1549.52 1269.99 1549.15 Q1267.74 1548.78 1265.34 1548.04 L1265.34 1543.34 Q1267.42 1544.47 1269.64 1545.03 Q1271.86 1545.58 1274.34 1545.58 Q1278.35 1545.58 1280.68 1543.48 Q1283.02 1541.37 1283.02 1537.76 Q1283.02 1534.15 1280.68 1532.04 Q1278.35 1529.94 1274.34 1529.94 Q1272.47 1529.94 1270.59 1530.35 Q1268.74 1530.77 1266.8 1531.65 L1266.8 1514.29 Z\" fill=\"#000000\" fill-rule=\"evenodd\" fill-opacity=\"1\" /><path clip-path=\"url(#clip340)\" d=\"M1571.22 1544.91 L1587.54 1544.91 L1587.54 1548.85 L1565.6 1548.85 L1565.6 1544.91 Q1568.26 1542.16 1572.84 1537.53 Q1577.45 1532.88 1578.63 1531.53 Q1580.88 1529.01 1581.76 1527.27 Q1582.66 1525.51 1582.66 1523.82 Q1582.66 1521.07 1580.71 1519.33 Q1578.79 1517.6 1575.69 1517.6 Q1573.49 1517.6 1571.04 1518.36 Q1568.61 1519.13 1565.83 1520.68 L1565.83 1515.95 Q1568.65 1514.82 1571.11 1514.24 Q1573.56 1513.66 1575.6 1513.66 Q1580.97 1513.66 1584.16 1516.35 Q1587.36 1519.03 1587.36 1523.52 Q1587.36 1525.65 1586.55 1527.57 Q1585.76 1529.47 1583.65 1532.07 Q1583.08 1532.74 1579.97 1535.95 Q1576.87 1539.15 1571.22 1544.91 Z\" fill=\"#000000\" fill-rule=\"evenodd\" fill-opacity=\"1\" /><path clip-path=\"url(#clip340)\" d=\"M1597.36 1542.97 L1602.24 1542.97 L1602.24 1548.85 L1597.36 1548.85 L1597.36 1542.97 Z\" fill=\"#000000\" fill-rule=\"evenodd\" fill-opacity=\"1\" /><path clip-path=\"url(#clip340)\" d=\"M1622.43 1517.37 Q1618.82 1517.37 1616.99 1520.93 Q1615.18 1524.47 1615.18 1531.6 Q1615.18 1538.71 1616.99 1542.27 Q1618.82 1545.82 1622.43 1545.82 Q1626.06 1545.82 1627.87 1542.27 Q1629.7 1538.71 1629.7 1531.6 Q1629.7 1524.47 1627.87 1520.93 Q1626.06 1517.37 1622.43 1517.37 M1622.43 1513.66 Q1628.24 1513.66 1631.29 1518.27 Q1634.37 1522.85 1634.37 1531.6 Q1634.37 1540.33 1631.29 1544.94 Q1628.24 1549.52 1622.43 1549.52 Q1616.62 1549.52 1613.54 1544.94 Q1610.48 1540.33 1610.48 1531.6 Q1610.48 1522.85 1613.54 1518.27 Q1616.62 1513.66 1622.43 1513.66 Z\" fill=\"#000000\" fill-rule=\"evenodd\" fill-opacity=\"1\" /><path clip-path=\"url(#clip340)\" d=\"M1917.03 1544.91 L1933.35 1544.91 L1933.35 1548.85 L1911.4 1548.85 L1911.4 1544.91 Q1914.07 1542.16 1918.65 1537.53 Q1923.26 1532.88 1924.44 1531.53 Q1926.68 1529.01 1927.56 1527.27 Q1928.46 1525.51 1928.46 1523.82 Q1928.46 1521.07 1926.52 1519.33 Q1924.6 1517.6 1921.5 1517.6 Q1919.3 1517.6 1916.84 1518.36 Q1914.41 1519.13 1911.64 1520.68 L1911.64 1515.95 Q1914.46 1514.82 1916.91 1514.24 Q1919.37 1513.66 1921.4 1513.66 Q1926.77 1513.66 1929.97 1516.35 Q1933.16 1519.03 1933.16 1523.52 Q1933.16 1525.65 1932.35 1527.57 Q1931.57 1529.47 1929.46 1532.07 Q1928.88 1532.74 1925.78 1535.95 Q1922.68 1539.15 1917.03 1544.91 Z\" fill=\"#000000\" fill-rule=\"evenodd\" fill-opacity=\"1\" /><path clip-path=\"url(#clip340)\" d=\"M1943.16 1542.97 L1948.05 1542.97 L1948.05 1548.85 L1943.16 1548.85 L1943.16 1542.97 Z\" fill=\"#000000\" fill-rule=\"evenodd\" fill-opacity=\"1\" /><path clip-path=\"url(#clip340)\" d=\"M1958.28 1514.29 L1976.64 1514.29 L1976.64 1518.22 L1962.56 1518.22 L1962.56 1526.7 Q1963.58 1526.35 1964.6 1526.19 Q1965.62 1526 1966.64 1526 Q1972.42 1526 1975.8 1529.17 Q1979.18 1532.34 1979.18 1537.76 Q1979.18 1543.34 1975.71 1546.44 Q1972.24 1549.52 1965.92 1549.52 Q1963.74 1549.52 1961.47 1549.15 Q1959.23 1548.78 1956.82 1548.04 L1956.82 1543.34 Q1958.9 1544.47 1961.13 1545.03 Q1963.35 1545.58 1965.82 1545.58 Q1969.83 1545.58 1972.17 1543.48 Q1974.51 1541.37 1974.51 1537.76 Q1974.51 1534.15 1972.17 1532.04 Q1969.83 1529.94 1965.82 1529.94 Q1963.95 1529.94 1962.08 1530.35 Q1960.22 1530.77 1958.28 1531.65 L1958.28 1514.29 Z\" fill=\"#000000\" fill-rule=\"evenodd\" fill-opacity=\"1\" /><path clip-path=\"url(#clip340)\" d=\"M2271.91 1530.21 Q2275.26 1530.93 2277.14 1533.2 Q2279.04 1535.47 2279.04 1538.8 Q2279.04 1543.92 2275.52 1546.72 Q2272 1549.52 2265.52 1549.52 Q2263.34 1549.52 2261.03 1549.08 Q2258.74 1548.66 2256.28 1547.81 L2256.28 1543.29 Q2258.23 1544.43 2260.54 1545.01 Q2262.86 1545.58 2265.38 1545.58 Q2269.78 1545.58 2272.07 1543.85 Q2274.39 1542.11 2274.39 1538.8 Q2274.39 1535.75 2272.23 1534.03 Q2270.1 1532.3 2266.28 1532.3 L2262.26 1532.3 L2262.26 1528.45 L2266.47 1528.45 Q2269.92 1528.45 2271.75 1527.09 Q2273.58 1525.7 2273.58 1523.11 Q2273.58 1520.45 2271.68 1519.03 Q2269.8 1517.6 2266.28 1517.6 Q2264.36 1517.6 2262.16 1518.01 Q2259.96 1518.43 2257.33 1519.31 L2257.33 1515.14 Q2259.99 1514.4 2262.3 1514.03 Q2264.64 1513.66 2266.7 1513.66 Q2272.02 1513.66 2275.13 1516.09 Q2278.23 1518.5 2278.23 1522.62 Q2278.23 1525.49 2276.58 1527.48 Q2274.94 1529.45 2271.91 1530.21 Z\" fill=\"#000000\" fill-rule=\"evenodd\" fill-opacity=\"1\" /><path clip-path=\"url(#clip340)\" d=\"M2287.9 1542.97 L2292.79 1542.97 L2292.79 1548.85 L2287.9 1548.85 L2287.9 1542.97 Z\" fill=\"#000000\" fill-rule=\"evenodd\" fill-opacity=\"1\" /><path clip-path=\"url(#clip340)\" d=\"M2312.97 1517.37 Q2309.36 1517.37 2307.53 1520.93 Q2305.73 1524.47 2305.73 1531.6 Q2305.73 1538.71 2307.53 1542.27 Q2309.36 1545.82 2312.97 1545.82 Q2316.61 1545.82 2318.41 1542.27 Q2320.24 1538.71 2320.24 1531.6 Q2320.24 1524.47 2318.41 1520.93 Q2316.61 1517.37 2312.97 1517.37 M2312.97 1513.66 Q2318.78 1513.66 2321.84 1518.27 Q2324.92 1522.85 2324.92 1531.6 Q2324.92 1540.33 2321.84 1544.94 Q2318.78 1549.52 2312.97 1549.52 Q2307.16 1549.52 2304.08 1544.94 Q2301.03 1540.33 2301.03 1531.6 Q2301.03 1522.85 2304.08 1518.27 Q2307.16 1513.66 2312.97 1513.66 Z\" fill=\"#000000\" fill-rule=\"evenodd\" fill-opacity=\"1\" /><polyline clip-path=\"url(#clip342)\" style=\"stroke:#000000; stroke-linecap:butt; stroke-linejoin:round; stroke-width:2; stroke-opacity:0.1; fill:none\" points=\"\n",
       "  156.598,1486.45 2352.76,1486.45 \n",
       "  \"/>\n",
       "<polyline clip-path=\"url(#clip342)\" style=\"stroke:#000000; stroke-linecap:butt; stroke-linejoin:round; stroke-width:2; stroke-opacity:0.1; fill:none\" points=\"\n",
       "  156.598,1198.61 2352.76,1198.61 \n",
       "  \"/>\n",
       "<polyline clip-path=\"url(#clip342)\" style=\"stroke:#000000; stroke-linecap:butt; stroke-linejoin:round; stroke-width:2; stroke-opacity:0.1; fill:none\" points=\"\n",
       "  156.598,910.766 2352.76,910.766 \n",
       "  \"/>\n",
       "<polyline clip-path=\"url(#clip342)\" style=\"stroke:#000000; stroke-linecap:butt; stroke-linejoin:round; stroke-width:2; stroke-opacity:0.1; fill:none\" points=\"\n",
       "  156.598,622.926 2352.76,622.926 \n",
       "  \"/>\n",
       "<polyline clip-path=\"url(#clip342)\" style=\"stroke:#000000; stroke-linecap:butt; stroke-linejoin:round; stroke-width:2; stroke-opacity:0.1; fill:none\" points=\"\n",
       "  156.598,335.085 2352.76,335.085 \n",
       "  \"/>\n",
       "<polyline clip-path=\"url(#clip342)\" style=\"stroke:#000000; stroke-linecap:butt; stroke-linejoin:round; stroke-width:2; stroke-opacity:0.1; fill:none\" points=\"\n",
       "  156.598,47.2441 2352.76,47.2441 \n",
       "  \"/>\n",
       "<polyline clip-path=\"url(#clip340)\" style=\"stroke:#000000; stroke-linecap:butt; stroke-linejoin:round; stroke-width:4; stroke-opacity:1; fill:none\" points=\"\n",
       "  156.598,1486.45 156.598,47.2441 \n",
       "  \"/>\n",
       "<polyline clip-path=\"url(#clip340)\" style=\"stroke:#000000; stroke-linecap:butt; stroke-linejoin:round; stroke-width:4; stroke-opacity:1; fill:none\" points=\"\n",
       "  156.598,1486.45 175.496,1486.45 \n",
       "  \"/>\n",
       "<polyline clip-path=\"url(#clip340)\" style=\"stroke:#000000; stroke-linecap:butt; stroke-linejoin:round; stroke-width:4; stroke-opacity:1; fill:none\" points=\"\n",
       "  156.598,1198.61 175.496,1198.61 \n",
       "  \"/>\n",
       "<polyline clip-path=\"url(#clip340)\" style=\"stroke:#000000; stroke-linecap:butt; stroke-linejoin:round; stroke-width:4; stroke-opacity:1; fill:none\" points=\"\n",
       "  156.598,910.766 175.496,910.766 \n",
       "  \"/>\n",
       "<polyline clip-path=\"url(#clip340)\" style=\"stroke:#000000; stroke-linecap:butt; stroke-linejoin:round; stroke-width:4; stroke-opacity:1; fill:none\" points=\"\n",
       "  156.598,622.926 175.496,622.926 \n",
       "  \"/>\n",
       "<polyline clip-path=\"url(#clip340)\" style=\"stroke:#000000; stroke-linecap:butt; stroke-linejoin:round; stroke-width:4; stroke-opacity:1; fill:none\" points=\"\n",
       "  156.598,335.085 175.496,335.085 \n",
       "  \"/>\n",
       "<polyline clip-path=\"url(#clip340)\" style=\"stroke:#000000; stroke-linecap:butt; stroke-linejoin:round; stroke-width:4; stroke-opacity:1; fill:none\" points=\"\n",
       "  156.598,47.2441 175.496,47.2441 \n",
       "  \"/>\n",
       "<path clip-path=\"url(#clip340)\" d=\"M63.4226 1472.25 Q59.8115 1472.25 57.9828 1475.81 Q56.1773 1479.35 56.1773 1486.48 Q56.1773 1493.59 57.9828 1497.15 Q59.8115 1500.7 63.4226 1500.7 Q67.0569 1500.7 68.8624 1497.15 Q70.6911 1493.59 70.6911 1486.48 Q70.6911 1479.35 68.8624 1475.81 Q67.0569 1472.25 63.4226 1472.25 M63.4226 1468.54 Q69.2328 1468.54 72.2883 1473.15 Q75.367 1477.73 75.367 1486.48 Q75.367 1495.21 72.2883 1499.82 Q69.2328 1504.4 63.4226 1504.4 Q57.6125 1504.4 54.5338 1499.82 Q51.4782 1495.21 51.4782 1486.48 Q51.4782 1477.73 54.5338 1473.15 Q57.6125 1468.54 63.4226 1468.54 Z\" fill=\"#000000\" fill-rule=\"evenodd\" fill-opacity=\"1\" /><path clip-path=\"url(#clip340)\" d=\"M83.5845 1497.85 L88.4688 1497.85 L88.4688 1503.73 L83.5845 1503.73 L83.5845 1497.85 Z\" fill=\"#000000\" fill-rule=\"evenodd\" fill-opacity=\"1\" /><path clip-path=\"url(#clip340)\" d=\"M108.654 1472.25 Q105.043 1472.25 103.214 1475.81 Q101.409 1479.35 101.409 1486.48 Q101.409 1493.59 103.214 1497.15 Q105.043 1500.7 108.654 1500.7 Q112.288 1500.7 114.094 1497.15 Q115.922 1493.59 115.922 1486.48 Q115.922 1479.35 114.094 1475.81 Q112.288 1472.25 108.654 1472.25 M108.654 1468.54 Q114.464 1468.54 117.52 1473.15 Q120.598 1477.73 120.598 1486.48 Q120.598 1495.21 117.52 1499.82 Q114.464 1504.4 108.654 1504.4 Q102.844 1504.4 99.765 1499.82 Q96.7095 1495.21 96.7095 1486.48 Q96.7095 1477.73 99.765 1473.15 Q102.844 1468.54 108.654 1468.54 Z\" fill=\"#000000\" fill-rule=\"evenodd\" fill-opacity=\"1\" /><path clip-path=\"url(#clip340)\" d=\"M65.0198 1184.41 Q61.4087 1184.41 59.58 1187.97 Q57.7745 1191.51 57.7745 1198.64 Q57.7745 1205.75 59.58 1209.31 Q61.4087 1212.85 65.0198 1212.85 Q68.6541 1212.85 70.4596 1209.31 Q72.2883 1205.75 72.2883 1198.64 Q72.2883 1191.51 70.4596 1187.97 Q68.6541 1184.41 65.0198 1184.41 M65.0198 1180.7 Q70.83 1180.7 73.8855 1185.31 Q76.9642 1189.89 76.9642 1198.64 Q76.9642 1207.37 73.8855 1211.98 Q70.83 1216.56 65.0198 1216.56 Q59.2097 1216.56 56.131 1211.98 Q53.0754 1207.37 53.0754 1198.64 Q53.0754 1189.89 56.131 1185.31 Q59.2097 1180.7 65.0198 1180.7 Z\" fill=\"#000000\" fill-rule=\"evenodd\" fill-opacity=\"1\" /><path clip-path=\"url(#clip340)\" d=\"M85.1818 1210.01 L90.066 1210.01 L90.066 1215.89 L85.1818 1215.89 L85.1818 1210.01 Z\" fill=\"#000000\" fill-rule=\"evenodd\" fill-opacity=\"1\" /><path clip-path=\"url(#clip340)\" d=\"M104.279 1211.95 L120.598 1211.95 L120.598 1215.89 L98.6539 1215.89 L98.6539 1211.95 Q101.316 1209.2 105.899 1204.57 Q110.506 1199.91 111.686 1198.57 Q113.932 1196.05 114.811 1194.31 Q115.714 1192.55 115.714 1190.86 Q115.714 1188.11 113.77 1186.37 Q111.848 1184.64 108.746 1184.64 Q106.547 1184.64 104.094 1185.4 Q101.663 1186.17 98.8854 1187.72 L98.8854 1182.99 Q101.709 1181.86 104.163 1181.28 Q106.617 1180.7 108.654 1180.7 Q114.024 1180.7 117.219 1183.39 Q120.413 1186.07 120.413 1190.56 Q120.413 1192.69 119.603 1194.61 Q118.816 1196.51 116.709 1199.1 Q116.131 1199.78 113.029 1202.99 Q109.927 1206.19 104.279 1211.95 Z\" fill=\"#000000\" fill-rule=\"evenodd\" fill-opacity=\"1\" /><path clip-path=\"url(#clip340)\" d=\"M62.9365 896.565 Q59.3254 896.565 57.4967 900.13 Q55.6912 903.671 55.6912 910.801 Q55.6912 917.908 57.4967 921.472 Q59.3254 925.014 62.9365 925.014 Q66.5707 925.014 68.3763 921.472 Q70.205 917.908 70.205 910.801 Q70.205 903.671 68.3763 900.13 Q66.5707 896.565 62.9365 896.565 M62.9365 892.861 Q68.7467 892.861 71.8022 897.468 Q74.8809 902.051 74.8809 910.801 Q74.8809 919.528 71.8022 924.134 Q68.7467 928.718 62.9365 928.718 Q57.1264 928.718 54.0477 924.134 Q50.9921 919.528 50.9921 910.801 Q50.9921 902.051 54.0477 897.468 Q57.1264 892.861 62.9365 892.861 Z\" fill=\"#000000\" fill-rule=\"evenodd\" fill-opacity=\"1\" /><path clip-path=\"url(#clip340)\" d=\"M83.0984 922.167 L87.9827 922.167 L87.9827 928.046 L83.0984 928.046 L83.0984 922.167 Z\" fill=\"#000000\" fill-rule=\"evenodd\" fill-opacity=\"1\" /><path clip-path=\"url(#clip340)\" d=\"M111.015 897.56 L99.2095 916.009 L111.015 916.009 L111.015 897.56 M109.788 893.486 L115.668 893.486 L115.668 916.009 L120.598 916.009 L120.598 919.898 L115.668 919.898 L115.668 928.046 L111.015 928.046 L111.015 919.898 L95.4132 919.898 L95.4132 915.384 L109.788 893.486 Z\" fill=\"#000000\" fill-rule=\"evenodd\" fill-opacity=\"1\" /><path clip-path=\"url(#clip340)\" d=\"M63.2606 608.724 Q59.6495 608.724 57.8208 612.289 Q56.0152 615.831 56.0152 622.96 Q56.0152 630.067 57.8208 633.632 Q59.6495 637.173 63.2606 637.173 Q66.8948 637.173 68.7004 633.632 Q70.5291 630.067 70.5291 622.96 Q70.5291 615.831 68.7004 612.289 Q66.8948 608.724 63.2606 608.724 M63.2606 605.021 Q69.0707 605.021 72.1263 609.627 Q75.205 614.21 75.205 622.96 Q75.205 631.687 72.1263 636.294 Q69.0707 640.877 63.2606 640.877 Q57.4504 640.877 54.3717 636.294 Q51.3162 631.687 51.3162 622.96 Q51.3162 614.21 54.3717 609.627 Q57.4504 605.021 63.2606 605.021 Z\" fill=\"#000000\" fill-rule=\"evenodd\" fill-opacity=\"1\" /><path clip-path=\"url(#clip340)\" d=\"M83.4225 634.326 L88.3067 634.326 L88.3067 640.206 L83.4225 640.206 L83.4225 634.326 Z\" fill=\"#000000\" fill-rule=\"evenodd\" fill-opacity=\"1\" /><path clip-path=\"url(#clip340)\" d=\"M109.071 621.062 Q105.922 621.062 104.071 623.215 Q102.242 625.368 102.242 629.118 Q102.242 632.845 104.071 635.02 Q105.922 637.173 109.071 637.173 Q112.219 637.173 114.047 635.02 Q115.899 632.845 115.899 629.118 Q115.899 625.368 114.047 623.215 Q112.219 621.062 109.071 621.062 M118.353 606.409 L118.353 610.669 Q116.594 609.835 114.788 609.396 Q113.006 608.956 111.246 608.956 Q106.617 608.956 104.163 612.081 Q101.733 615.206 101.385 621.525 Q102.751 619.511 104.811 618.446 Q106.871 617.359 109.348 617.359 Q114.557 617.359 117.566 620.53 Q120.598 623.678 120.598 629.118 Q120.598 634.442 117.45 637.659 Q114.302 640.877 109.071 640.877 Q103.075 640.877 99.9039 636.294 Q96.7326 631.687 96.7326 622.96 Q96.7326 614.766 100.621 609.905 Q104.51 605.021 111.061 605.021 Q112.82 605.021 114.603 605.368 Q116.408 605.715 118.353 606.409 Z\" fill=\"#000000\" fill-rule=\"evenodd\" fill-opacity=\"1\" /><path clip-path=\"url(#clip340)\" d=\"M63.5152 320.884 Q59.9041 320.884 58.0754 324.448 Q56.2699 327.99 56.2699 335.12 Q56.2699 342.226 58.0754 345.791 Q59.9041 349.332 63.5152 349.332 Q67.1494 349.332 68.955 345.791 Q70.7837 342.226 70.7837 335.12 Q70.7837 327.99 68.955 324.448 Q67.1494 320.884 63.5152 320.884 M63.5152 317.18 Q69.3254 317.18 72.3809 321.786 Q75.4596 326.37 75.4596 335.12 Q75.4596 343.846 72.3809 348.453 Q69.3254 353.036 63.5152 353.036 Q57.7051 353.036 54.6264 348.453 Q51.5708 343.846 51.5708 335.12 Q51.5708 326.37 54.6264 321.786 Q57.7051 317.18 63.5152 317.18 Z\" fill=\"#000000\" fill-rule=\"evenodd\" fill-opacity=\"1\" /><path clip-path=\"url(#clip340)\" d=\"M83.6771 346.485 L88.5614 346.485 L88.5614 352.365 L83.6771 352.365 L83.6771 346.485 Z\" fill=\"#000000\" fill-rule=\"evenodd\" fill-opacity=\"1\" /><path clip-path=\"url(#clip340)\" d=\"M108.746 335.953 Q105.413 335.953 103.492 337.735 Q101.594 339.518 101.594 342.643 Q101.594 345.768 103.492 347.55 Q105.413 349.332 108.746 349.332 Q112.08 349.332 114.001 347.55 Q115.922 345.745 115.922 342.643 Q115.922 339.518 114.001 337.735 Q112.103 335.953 108.746 335.953 M104.071 333.962 Q101.061 333.221 99.3715 331.161 Q97.7048 329.101 97.7048 326.138 Q97.7048 321.995 100.645 319.587 Q103.608 317.18 108.746 317.18 Q113.908 317.18 116.848 319.587 Q119.788 321.995 119.788 326.138 Q119.788 329.101 118.098 331.161 Q116.432 333.221 113.445 333.962 Q116.825 334.749 118.7 337.041 Q120.598 339.333 120.598 342.643 Q120.598 347.666 117.52 350.351 Q114.464 353.036 108.746 353.036 Q103.029 353.036 99.9502 350.351 Q96.8947 347.666 96.8947 342.643 Q96.8947 339.333 98.7928 337.041 Q100.691 334.749 104.071 333.962 M102.358 326.578 Q102.358 329.263 104.024 330.768 Q105.714 332.272 108.746 332.272 Q111.756 332.272 113.445 330.768 Q115.158 329.263 115.158 326.578 Q115.158 323.893 113.445 322.388 Q111.756 320.884 108.746 320.884 Q105.714 320.884 104.024 322.388 Q102.358 323.893 102.358 326.578 Z\" fill=\"#000000\" fill-rule=\"evenodd\" fill-opacity=\"1\" /><path clip-path=\"url(#clip340)\" d=\"M54.2328 60.5889 L61.8717 60.5889 L61.8717 34.2233 L53.5616 35.89 L53.5616 31.6308 L61.8254 29.9641 L66.5013 29.9641 L66.5013 60.5889 L74.1402 60.5889 L74.1402 64.5241 L54.2328 64.5241 L54.2328 60.5889 Z\" fill=\"#000000\" fill-rule=\"evenodd\" fill-opacity=\"1\" /><path clip-path=\"url(#clip340)\" d=\"M83.5845 58.6445 L88.4688 58.6445 L88.4688 64.5241 L83.5845 64.5241 L83.5845 58.6445 Z\" fill=\"#000000\" fill-rule=\"evenodd\" fill-opacity=\"1\" /><path clip-path=\"url(#clip340)\" d=\"M108.654 33.0428 Q105.043 33.0428 103.214 36.6076 Q101.409 40.1492 101.409 47.2788 Q101.409 54.3853 103.214 57.9501 Q105.043 61.4917 108.654 61.4917 Q112.288 61.4917 114.094 57.9501 Q115.922 54.3853 115.922 47.2788 Q115.922 40.1492 114.094 36.6076 Q112.288 33.0428 108.654 33.0428 M108.654 29.3391 Q114.464 29.3391 117.52 33.9456 Q120.598 38.5289 120.598 47.2788 Q120.598 56.0056 117.52 60.6121 Q114.464 65.1954 108.654 65.1954 Q102.844 65.1954 99.765 60.6121 Q96.7095 56.0056 96.7095 47.2788 Q96.7095 38.5289 99.765 33.9456 Q102.844 29.3391 108.654 29.3391 Z\" fill=\"#000000\" fill-rule=\"evenodd\" fill-opacity=\"1\" /><polyline clip-path=\"url(#clip342)\" style=\"stroke:#009af9; stroke-linecap:butt; stroke-linejoin:round; stroke-width:4; stroke-opacity:1; fill:none\" points=\"\n",
       "  218.754,47.2441 225.66,198.541 232.566,331.511 239.472,448.568 246.378,551.765 253.284,642.865 260.191,723.377 267.097,794.608 274.003,857.683 280.909,913.579 \n",
       "  287.815,963.153 294.721,1007.14 301.628,1046.19 308.534,1080.88 315.44,1111.71 322.346,1139.1 329.252,1163.44 336.158,1185.09 343.064,1204.34 349.971,1221.46 \n",
       "  356.877,1236.67 363.783,1250.2 370.689,1262.22 377.595,1272.91 384.501,1282.4 391.408,1290.83 398.314,1298.31 405.22,1304.94 412.126,1310.82 419.032,1316.05 \n",
       "  425.938,1320.67 432.844,1324.77 439.751,1328.38 446.657,1331.58 453.563,1334.4 460.469,1336.89 467.375,1339.09 474.281,1341.03 481.188,1342.74 488.094,1344.24 \n",
       "  495,1345.56 501.906,1346.71 508.812,1347.72 515.718,1348.61 522.625,1349.39 529.531,1350.07 536.437,1350.68 543.343,1351.21 550.249,1351.68 557.155,1352.08 \n",
       "  564.061,1352.44 570.968,1352.76 577.874,1353.04 584.78,1353.3 591.686,1353.53 598.592,1353.75 605.498,1353.95 612.405,1354.14 619.311,1354.31 626.217,1354.48 \n",
       "  633.123,1354.64 640.029,1354.8 646.935,1354.95 653.841,1355.11 660.748,1355.27 667.654,1355.43 674.56,1355.6 681.466,1355.77 688.372,1355.95 695.278,1356.13 \n",
       "  702.185,1356.32 709.091,1356.52 715.997,1356.72 722.903,1356.93 729.809,1357.15 736.715,1357.37 743.622,1357.61 750.528,1357.85 757.434,1358.1 764.34,1358.36 \n",
       "  771.246,1358.63 778.152,1358.91 785.058,1359.2 791.965,1359.49 798.871,1359.79 805.777,1360.1 812.683,1360.42 819.589,1360.74 826.495,1361.07 833.402,1361.41 \n",
       "  840.308,1361.75 847.214,1362.1 854.12,1362.46 861.026,1362.83 867.932,1363.2 874.838,1363.58 881.745,1363.98 888.651,1364.37 895.557,1364.78 902.463,1365.19 \n",
       "  909.369,1365.6 916.275,1366.01 923.182,1366.43 930.088,1366.84 936.994,1367.26 943.9,1367.68 950.806,1368.1 957.712,1368.53 964.619,1368.96 971.525,1369.39 \n",
       "  978.431,1369.83 985.337,1370.29 992.243,1370.75 999.149,1371.23 1006.06,1371.74 1012.96,1372.25 1019.87,1372.76 1026.77,1373.25 1033.68,1373.73 1040.59,1374.19 \n",
       "  1047.49,1374.63 1054.4,1375.05 1061.3,1375.47 1068.21,1375.89 1075.12,1376.32 1082.02,1376.78 1088.93,1377.3 1095.84,1377.85 1102.74,1378.43 1109.65,1379 \n",
       "  1116.55,1379.54 1123.46,1380.04 1130.37,1380.51 1137.27,1380.94 1144.18,1381.35 1151.08,1381.76 1157.99,1382.19 1164.9,1382.68 1171.8,1383.23 1178.71,1383.8 \n",
       "  1185.62,1384.36 1192.52,1384.9 1199.43,1385.41 1206.33,1385.89 1213.24,1386.35 1220.15,1386.79 1227.05,1387.24 1233.96,1387.71 1240.86,1388.23 1247.77,1388.77 \n",
       "  1254.68,1389.3 1261.58,1389.83 1268.49,1390.33 1275.4,1390.82 1282.3,1391.29 1289.21,1391.75 1296.11,1392.22 1303.02,1392.69 1309.93,1393.2 1316.83,1393.71 \n",
       "  1323.74,1394.22 1330.64,1394.72 1337.55,1395.21 1344.46,1395.69 1351.36,1396.17 1358.27,1396.63 1365.18,1397.09 1372.08,1397.56 1378.99,1398.04 1385.89,1398.54 \n",
       "  1392.8,1399.03 1399.71,1399.52 1406.61,1400 1413.52,1400.47 1420.42,1400.93 1427.33,1401.39 1434.24,1401.84 1441.14,1402.29 1448.05,1402.75 1454.96,1403.22 \n",
       "  1461.86,1403.7 1468.77,1404.17 1475.67,1404.64 1482.58,1405.11 1489.49,1405.56 1496.39,1406 1503.3,1406.44 1510.2,1406.88 1517.11,1407.31 1524.02,1407.75 \n",
       "  1530.92,1408.2 1537.83,1408.66 1544.74,1409.12 1551.64,1409.57 1558.55,1410.02 1565.45,1410.45 1572.36,1410.88 1579.27,1411.3 1586.17,1411.71 1593.08,1412.12 \n",
       "  1599.98,1412.54 1606.89,1412.97 1613.8,1413.4 1620.7,1413.84 1627.61,1414.28 1634.52,1414.71 1641.42,1415.13 1648.33,1415.54 1655.23,1415.93 1662.14,1416.33 \n",
       "  1669.05,1416.71 1675.95,1417.1 1682.86,1417.51 1689.76,1417.92 1696.67,1418.35 1703.58,1418.76 1710.48,1419.18 1717.39,1419.58 1724.3,1419.97 1731.2,1420.34 \n",
       "  1738.11,1420.71 1745.01,1421.08 1751.92,1421.44 1758.83,1421.82 1765.73,1422.21 1772.64,1422.6 1779.54,1422.99 1786.45,1423.38 1793.36,1423.76 1800.26,1424.14 \n",
       "  1807.17,1424.51 1814.08,1424.88 1820.98,1425.25 1827.89,1425.62 1834.79,1425.98 1841.7,1426.34 1848.61,1426.7 1855.51,1427.06 1862.42,1427.41 1869.32,1427.76 \n",
       "  1876.23,1428.11 1883.14,1428.46 1890.04,1428.8 1896.95,1429.15 1903.86,1429.49 1910.76,1429.83 1917.67,1430.16 1924.57,1430.5 1931.48,1430.83 1938.39,1431.17 \n",
       "  1945.29,1431.5 1952.2,1431.83 1959.11,1432.15 1966.01,1432.48 1972.92,1432.8 1979.82,1433.13 1986.73,1433.45 1993.64,1433.77 2000.54,1434.08 2007.45,1434.4 \n",
       "  2014.35,1434.71 2021.26,1435.03 2028.17,1435.34 2035.07,1435.65 2041.98,1435.96 2048.89,1436.26 2055.79,1436.57 2062.7,1436.87 2069.6,1437.17 2076.51,1437.47 \n",
       "  2083.42,1437.77 2090.32,1438.07 2097.23,1438.36 2104.13,1438.66 2111.04,1438.95 2117.95,1439.24 2124.85,1439.53 2131.76,1439.81 2138.67,1440.1 2145.57,1440.38 \n",
       "  2152.48,1440.66 2159.38,1440.95 2166.29,1441.22 2173.2,1441.5 2180.1,1441.78 2187.01,1442.05 2193.91,1442.32 2200.82,1442.59 2207.73,1442.86 2214.63,1443.13 \n",
       "  2221.54,1443.4 2228.45,1443.66 2235.35,1443.92 2242.26,1444.18 2249.16,1444.44 2256.07,1444.7 2262.98,1444.96 2269.88,1445.21 2276.79,1445.46 2283.69,1445.71 \n",
       "  2290.6,1445.96 \n",
       "  \"/>\n",
       "</svg>\n"
      ]
     },
     "execution_count": 263,
     "metadata": {},
     "output_type": "execute_result"
    }
   ],
   "source": [
    "times = 0:10e-3:tspan[2]\n",
    "sol_values = sol(times)\n",
    "\n",
    "detectable = [sum(u[idxs_d]) for u in sol_values]\n",
    "\n",
    "plot(times, detectable, legend=nothing)\n",
    "plot!(\n",
    "    xticks=0.0:0.5:3.0,\n",
    "    yticks=0.0:0.2:1.0,\n",
    "    ylim=(0, 1)\n",
    ")"
   ]
  },
  {
   "cell_type": "code",
   "execution_count": 264,
   "metadata": {},
   "outputs": [
    {
     "data": {
      "text/plain": []
     },
     "metadata": {},
     "output_type": "display_data"
    },
    {
     "name": "stdout",
     "output_type": "stream",
     "text": [
      "\n",
      " ------------ Single Exponential fit ----------- \n",
      "\n",
      " Equation: y = a exp(-x/b) + c\n",
      "\n",
      " With: a = 0.17611979373221\n",
      "       b = 1.6359401778545481\n",
      "       c = 0.0\n",
      "\n",
      " Pearson correlation coefficient, R = 0.9999934989986328\n",
      " Average square residue = 1.194137649108279e-10\n",
      "\n",
      " Predicted Y: ypred = [0.03844020295635945, 0.03820594649687937...\n",
      " residues = [2.862739871013764e-5, 2.4156438704313332e-5...\n",
      "\n",
      " ----------------------------------------------- \n"
     ]
    },
    {
     "data": {
      "image/svg+xml": [
       "<?xml version=\"1.0\" encoding=\"utf-8\"?>\n",
       "<svg xmlns=\"http://www.w3.org/2000/svg\" xmlns:xlink=\"http://www.w3.org/1999/xlink\" width=\"600\" height=\"400\" viewBox=\"0 0 2400 1600\">\n",
       "<defs>\n",
       "  <clipPath id=\"clip380\">\n",
       "    <rect x=\"0\" y=\"0\" width=\"2400\" height=\"1600\"/>\n",
       "  </clipPath>\n",
       "</defs>\n",
       "<path clip-path=\"url(#clip380)\" d=\"\n",
       "M0 1600 L2400 1600 L2400 0 L0 0  Z\n",
       "  \" fill=\"#ffffff\" fill-rule=\"evenodd\" fill-opacity=\"1\"/>\n",
       "<defs>\n",
       "  <clipPath id=\"clip381\">\n",
       "    <rect x=\"480\" y=\"0\" width=\"1681\" height=\"1600\"/>\n",
       "  </clipPath>\n",
       "</defs>\n",
       "<path clip-path=\"url(#clip380)\" d=\"\n",
       "M246.598 1486.45 L2352.76 1486.45 L2352.76 47.2441 L246.598 47.2441  Z\n",
       "  \" fill=\"#ffffff\" fill-rule=\"evenodd\" fill-opacity=\"1\"/>\n",
       "<defs>\n",
       "  <clipPath id=\"clip382\">\n",
       "    <rect x=\"246\" y=\"47\" width=\"2107\" height=\"1440\"/>\n",
       "  </clipPath>\n",
       "</defs>\n",
       "<polyline clip-path=\"url(#clip382)\" style=\"stroke:#000000; stroke-linecap:butt; stroke-linejoin:round; stroke-width:2; stroke-opacity:0.1; fill:none\" points=\"\n",
       "  345.166,1486.45 345.166,47.2441 \n",
       "  \"/>\n",
       "<polyline clip-path=\"url(#clip382)\" style=\"stroke:#000000; stroke-linecap:butt; stroke-linejoin:round; stroke-width:2; stroke-opacity:0.1; fill:none\" points=\"\n",
       "  734.762,1486.45 734.762,47.2441 \n",
       "  \"/>\n",
       "<polyline clip-path=\"url(#clip382)\" style=\"stroke:#000000; stroke-linecap:butt; stroke-linejoin:round; stroke-width:2; stroke-opacity:0.1; fill:none\" points=\"\n",
       "  1124.36,1486.45 1124.36,47.2441 \n",
       "  \"/>\n",
       "<polyline clip-path=\"url(#clip382)\" style=\"stroke:#000000; stroke-linecap:butt; stroke-linejoin:round; stroke-width:2; stroke-opacity:0.1; fill:none\" points=\"\n",
       "  1513.95,1486.45 1513.95,47.2441 \n",
       "  \"/>\n",
       "<polyline clip-path=\"url(#clip382)\" style=\"stroke:#000000; stroke-linecap:butt; stroke-linejoin:round; stroke-width:2; stroke-opacity:0.1; fill:none\" points=\"\n",
       "  1903.55,1486.45 1903.55,47.2441 \n",
       "  \"/>\n",
       "<polyline clip-path=\"url(#clip382)\" style=\"stroke:#000000; stroke-linecap:butt; stroke-linejoin:round; stroke-width:2; stroke-opacity:0.1; fill:none\" points=\"\n",
       "  2293.15,1486.45 2293.15,47.2441 \n",
       "  \"/>\n",
       "<polyline clip-path=\"url(#clip380)\" style=\"stroke:#000000; stroke-linecap:butt; stroke-linejoin:round; stroke-width:4; stroke-opacity:1; fill:none\" points=\"\n",
       "  246.598,1486.45 2352.76,1486.45 \n",
       "  \"/>\n",
       "<polyline clip-path=\"url(#clip380)\" style=\"stroke:#000000; stroke-linecap:butt; stroke-linejoin:round; stroke-width:4; stroke-opacity:1; fill:none\" points=\"\n",
       "  345.166,1486.45 345.166,1467.55 \n",
       "  \"/>\n",
       "<polyline clip-path=\"url(#clip380)\" style=\"stroke:#000000; stroke-linecap:butt; stroke-linejoin:round; stroke-width:4; stroke-opacity:1; fill:none\" points=\"\n",
       "  734.762,1486.45 734.762,1467.55 \n",
       "  \"/>\n",
       "<polyline clip-path=\"url(#clip380)\" style=\"stroke:#000000; stroke-linecap:butt; stroke-linejoin:round; stroke-width:4; stroke-opacity:1; fill:none\" points=\"\n",
       "  1124.36,1486.45 1124.36,1467.55 \n",
       "  \"/>\n",
       "<polyline clip-path=\"url(#clip380)\" style=\"stroke:#000000; stroke-linecap:butt; stroke-linejoin:round; stroke-width:4; stroke-opacity:1; fill:none\" points=\"\n",
       "  1513.95,1486.45 1513.95,1467.55 \n",
       "  \"/>\n",
       "<polyline clip-path=\"url(#clip380)\" style=\"stroke:#000000; stroke-linecap:butt; stroke-linejoin:round; stroke-width:4; stroke-opacity:1; fill:none\" points=\"\n",
       "  1903.55,1486.45 1903.55,1467.55 \n",
       "  \"/>\n",
       "<polyline clip-path=\"url(#clip380)\" style=\"stroke:#000000; stroke-linecap:butt; stroke-linejoin:round; stroke-width:4; stroke-opacity:1; fill:none\" points=\"\n",
       "  2293.15,1486.45 2293.15,1467.55 \n",
       "  \"/>\n",
       "<path clip-path=\"url(#clip380)\" d=\"M316.902 1544.91 L333.221 1544.91 L333.221 1548.85 L311.277 1548.85 L311.277 1544.91 Q313.939 1542.16 318.522 1537.53 Q323.129 1532.88 324.309 1531.53 Q326.555 1529.01 327.434 1527.27 Q328.337 1525.51 328.337 1523.82 Q328.337 1521.07 326.393 1519.33 Q324.471 1517.6 321.369 1517.6 Q319.17 1517.6 316.717 1518.36 Q314.286 1519.13 311.508 1520.68 L311.508 1515.95 Q314.332 1514.82 316.786 1514.24 Q319.24 1513.66 321.277 1513.66 Q326.647 1513.66 329.842 1516.35 Q333.036 1519.03 333.036 1523.52 Q333.036 1525.65 332.226 1527.57 Q331.439 1529.47 329.332 1532.07 Q328.754 1532.74 325.652 1535.95 Q322.55 1539.15 316.902 1544.91 Z\" fill=\"#000000\" fill-rule=\"evenodd\" fill-opacity=\"1\" /><path clip-path=\"url(#clip380)\" d=\"M343.036 1542.97 L347.92 1542.97 L347.92 1548.85 L343.036 1548.85 L343.036 1542.97 Z\" fill=\"#000000\" fill-rule=\"evenodd\" fill-opacity=\"1\" /><path clip-path=\"url(#clip380)\" d=\"M358.152 1514.29 L376.508 1514.29 L376.508 1518.22 L362.434 1518.22 L362.434 1526.7 Q363.453 1526.35 364.471 1526.19 Q365.49 1526 366.508 1526 Q372.295 1526 375.675 1529.17 Q379.054 1532.34 379.054 1537.76 Q379.054 1543.34 375.582 1546.44 Q372.11 1549.52 365.791 1549.52 Q363.615 1549.52 361.346 1549.15 Q359.101 1548.78 356.693 1548.04 L356.693 1543.34 Q358.777 1544.47 360.999 1545.03 Q363.221 1545.58 365.698 1545.58 Q369.703 1545.58 372.04 1543.48 Q374.378 1541.37 374.378 1537.76 Q374.378 1534.15 372.04 1532.04 Q369.703 1529.94 365.698 1529.94 Q363.823 1529.94 361.948 1530.35 Q360.096 1530.77 358.152 1531.65 L358.152 1514.29 Z\" fill=\"#000000\" fill-rule=\"evenodd\" fill-opacity=\"1\" /><path clip-path=\"url(#clip380)\" d=\"M705.92 1544.91 L722.239 1544.91 L722.239 1548.85 L700.295 1548.85 L700.295 1544.91 Q702.957 1542.16 707.54 1537.53 Q712.146 1532.88 713.327 1531.53 Q715.572 1529.01 716.452 1527.27 Q717.355 1525.51 717.355 1523.82 Q717.355 1521.07 715.41 1519.33 Q713.489 1517.6 710.387 1517.6 Q708.188 1517.6 705.734 1518.36 Q703.304 1519.13 700.526 1520.68 L700.526 1515.95 Q703.35 1514.82 705.804 1514.24 Q708.258 1513.66 710.295 1513.66 Q715.665 1513.66 718.859 1516.35 Q722.054 1519.03 722.054 1523.52 Q722.054 1525.65 721.244 1527.57 Q720.457 1529.47 718.35 1532.07 Q717.771 1532.74 714.67 1535.95 Q711.568 1539.15 705.92 1544.91 Z\" fill=\"#000000\" fill-rule=\"evenodd\" fill-opacity=\"1\" /><path clip-path=\"url(#clip380)\" d=\"M732.054 1542.97 L736.938 1542.97 L736.938 1548.85 L732.054 1548.85 L732.054 1542.97 Z\" fill=\"#000000\" fill-rule=\"evenodd\" fill-opacity=\"1\" /><path clip-path=\"url(#clip380)\" d=\"M757.702 1529.7 Q754.554 1529.7 752.702 1531.86 Q750.873 1534.01 750.873 1537.76 Q750.873 1541.49 752.702 1543.66 Q754.554 1545.82 757.702 1545.82 Q760.85 1545.82 762.679 1543.66 Q764.53 1541.49 764.53 1537.76 Q764.53 1534.01 762.679 1531.86 Q760.85 1529.7 757.702 1529.7 M766.984 1515.05 L766.984 1519.31 Q765.225 1518.48 763.419 1518.04 Q761.637 1517.6 759.878 1517.6 Q755.248 1517.6 752.794 1520.72 Q750.364 1523.85 750.017 1530.17 Q751.382 1528.15 753.443 1527.09 Q755.503 1526 757.98 1526 Q763.188 1526 766.197 1529.17 Q769.229 1532.32 769.229 1537.76 Q769.229 1543.08 766.081 1546.3 Q762.933 1549.52 757.702 1549.52 Q751.706 1549.52 748.535 1544.94 Q745.364 1540.33 745.364 1531.6 Q745.364 1523.41 749.253 1518.55 Q753.142 1513.66 759.692 1513.66 Q761.452 1513.66 763.234 1514.01 Q765.04 1514.36 766.984 1515.05 Z\" fill=\"#000000\" fill-rule=\"evenodd\" fill-opacity=\"1\" /><path clip-path=\"url(#clip380)\" d=\"M1096.05 1544.91 L1112.37 1544.91 L1112.37 1548.85 L1090.42 1548.85 L1090.42 1544.91 Q1093.09 1542.16 1097.67 1537.53 Q1102.28 1532.88 1103.46 1531.53 Q1105.7 1529.01 1106.58 1527.27 Q1107.48 1525.51 1107.48 1523.82 Q1107.48 1521.07 1105.54 1519.33 Q1103.62 1517.6 1100.52 1517.6 Q1098.32 1517.6 1095.86 1518.36 Q1093.43 1519.13 1090.65 1520.68 L1090.65 1515.95 Q1093.48 1514.82 1095.93 1514.24 Q1098.39 1513.66 1100.42 1513.66 Q1105.79 1513.66 1108.99 1516.35 Q1112.18 1519.03 1112.18 1523.52 Q1112.18 1525.65 1111.37 1527.57 Q1110.59 1529.47 1108.48 1532.07 Q1107.9 1532.74 1104.8 1535.95 Q1101.7 1539.15 1096.05 1544.91 Z\" fill=\"#000000\" fill-rule=\"evenodd\" fill-opacity=\"1\" /><path clip-path=\"url(#clip380)\" d=\"M1122.18 1542.97 L1127.07 1542.97 L1127.07 1548.85 L1122.18 1548.85 L1122.18 1542.97 Z\" fill=\"#000000\" fill-rule=\"evenodd\" fill-opacity=\"1\" /><path clip-path=\"url(#clip380)\" d=\"M1136.07 1514.29 L1158.29 1514.29 L1158.29 1516.28 L1145.75 1548.85 L1140.86 1548.85 L1152.67 1518.22 L1136.07 1518.22 L1136.07 1514.29 Z\" fill=\"#000000\" fill-rule=\"evenodd\" fill-opacity=\"1\" /><path clip-path=\"url(#clip380)\" d=\"M1485.24 1544.91 L1501.56 1544.91 L1501.56 1548.85 L1479.61 1548.85 L1479.61 1544.91 Q1482.28 1542.16 1486.86 1537.53 Q1491.47 1532.88 1492.65 1531.53 Q1494.89 1529.01 1495.77 1527.27 Q1496.67 1525.51 1496.67 1523.82 Q1496.67 1521.07 1494.73 1519.33 Q1492.81 1517.6 1489.71 1517.6 Q1487.51 1517.6 1485.05 1518.36 Q1482.62 1519.13 1479.85 1520.68 L1479.85 1515.95 Q1482.67 1514.82 1485.12 1514.24 Q1487.58 1513.66 1489.61 1513.66 Q1494.99 1513.66 1498.18 1516.35 Q1501.37 1519.03 1501.37 1523.52 Q1501.37 1525.65 1500.56 1527.57 Q1499.78 1529.47 1497.67 1532.07 Q1497.09 1532.74 1493.99 1535.95 Q1490.89 1539.15 1485.24 1544.91 Z\" fill=\"#000000\" fill-rule=\"evenodd\" fill-opacity=\"1\" /><path clip-path=\"url(#clip380)\" d=\"M1511.37 1542.97 L1516.26 1542.97 L1516.26 1548.85 L1511.37 1548.85 L1511.37 1542.97 Z\" fill=\"#000000\" fill-rule=\"evenodd\" fill-opacity=\"1\" /><path clip-path=\"url(#clip380)\" d=\"M1536.44 1532.44 Q1533.11 1532.44 1531.19 1534.22 Q1529.29 1536 1529.29 1539.13 Q1529.29 1542.25 1531.19 1544.03 Q1533.11 1545.82 1536.44 1545.82 Q1539.78 1545.82 1541.7 1544.03 Q1543.62 1542.23 1543.62 1539.13 Q1543.62 1536 1541.7 1534.22 Q1539.8 1532.44 1536.44 1532.44 M1531.77 1530.45 Q1528.76 1529.7 1527.07 1527.64 Q1525.4 1525.58 1525.4 1522.62 Q1525.4 1518.48 1528.34 1516.07 Q1531.3 1513.66 1536.44 1513.66 Q1541.61 1513.66 1544.54 1516.07 Q1547.48 1518.48 1547.48 1522.62 Q1547.48 1525.58 1545.79 1527.64 Q1544.13 1529.7 1541.14 1530.45 Q1544.52 1531.23 1546.4 1533.52 Q1548.29 1535.82 1548.29 1539.13 Q1548.29 1544.15 1545.22 1546.83 Q1542.16 1549.52 1536.44 1549.52 Q1530.73 1549.52 1527.65 1546.83 Q1524.59 1544.15 1524.59 1539.13 Q1524.59 1535.82 1526.49 1533.52 Q1528.39 1531.23 1531.77 1530.45 M1530.05 1523.06 Q1530.05 1525.75 1531.72 1527.25 Q1533.41 1528.76 1536.44 1528.76 Q1539.45 1528.76 1541.14 1527.25 Q1542.86 1525.75 1542.86 1523.06 Q1542.86 1520.38 1541.14 1518.87 Q1539.45 1517.37 1536.44 1517.37 Q1533.41 1517.37 1531.72 1518.87 Q1530.05 1520.38 1530.05 1523.06 Z\" fill=\"#000000\" fill-rule=\"evenodd\" fill-opacity=\"1\" /><path clip-path=\"url(#clip380)\" d=\"M1874.88 1544.91 L1891.2 1544.91 L1891.2 1548.85 L1869.26 1548.85 L1869.26 1544.91 Q1871.92 1542.16 1876.5 1537.53 Q1881.11 1532.88 1882.29 1531.53 Q1884.54 1529.01 1885.41 1527.27 Q1886.32 1525.51 1886.32 1523.82 Q1886.32 1521.07 1884.37 1519.33 Q1882.45 1517.6 1879.35 1517.6 Q1877.15 1517.6 1874.7 1518.36 Q1872.27 1519.13 1869.49 1520.68 L1869.49 1515.95 Q1872.31 1514.82 1874.77 1514.24 Q1877.22 1513.66 1879.26 1513.66 Q1884.63 1513.66 1887.82 1516.35 Q1891.02 1519.03 1891.02 1523.52 Q1891.02 1525.65 1890.21 1527.57 Q1889.42 1529.47 1887.31 1532.07 Q1886.73 1532.74 1883.63 1535.95 Q1880.53 1539.15 1874.88 1544.91 Z\" fill=\"#000000\" fill-rule=\"evenodd\" fill-opacity=\"1\" /><path clip-path=\"url(#clip380)\" d=\"M1901.02 1542.97 L1905.9 1542.97 L1905.9 1548.85 L1901.02 1548.85 L1901.02 1542.97 Z\" fill=\"#000000\" fill-rule=\"evenodd\" fill-opacity=\"1\" /><path clip-path=\"url(#clip380)\" d=\"M1916.22 1548.13 L1916.22 1543.87 Q1917.98 1544.7 1919.79 1545.14 Q1921.6 1545.58 1923.33 1545.58 Q1927.96 1545.58 1930.39 1542.48 Q1932.85 1539.36 1933.19 1533.01 Q1931.85 1535.01 1929.79 1536.07 Q1927.73 1537.13 1925.23 1537.13 Q1920.04 1537.13 1917.01 1534.01 Q1914 1530.86 1914 1525.42 Q1914 1520.1 1917.15 1516.88 Q1920.3 1513.66 1925.53 1513.66 Q1931.53 1513.66 1934.67 1518.27 Q1937.85 1522.85 1937.85 1531.6 Q1937.85 1539.77 1933.96 1544.66 Q1930.09 1549.52 1923.54 1549.52 Q1921.78 1549.52 1919.97 1549.17 Q1918.17 1548.82 1916.22 1548.13 M1925.53 1533.48 Q1928.68 1533.48 1930.51 1531.32 Q1932.36 1529.17 1932.36 1525.42 Q1932.36 1521.7 1930.51 1519.54 Q1928.68 1517.37 1925.53 1517.37 Q1922.38 1517.37 1920.53 1519.54 Q1918.7 1521.7 1918.7 1525.42 Q1918.7 1529.17 1920.53 1531.32 Q1922.38 1533.48 1925.53 1533.48 Z\" fill=\"#000000\" fill-rule=\"evenodd\" fill-opacity=\"1\" /><path clip-path=\"url(#clip380)\" d=\"M2274.46 1530.21 Q2277.81 1530.93 2279.69 1533.2 Q2281.59 1535.47 2281.59 1538.8 Q2281.59 1543.92 2278.07 1546.72 Q2274.55 1549.52 2268.07 1549.52 Q2265.89 1549.52 2263.58 1549.08 Q2261.28 1548.66 2258.83 1547.81 L2258.83 1543.29 Q2260.78 1544.43 2263.09 1545.01 Q2265.4 1545.58 2267.93 1545.58 Q2272.33 1545.58 2274.62 1543.85 Q2276.93 1542.11 2276.93 1538.8 Q2276.93 1535.75 2274.78 1534.03 Q2272.65 1532.3 2268.83 1532.3 L2264.8 1532.3 L2264.8 1528.45 L2269.02 1528.45 Q2272.46 1528.45 2274.29 1527.09 Q2276.12 1525.7 2276.12 1523.11 Q2276.12 1520.45 2274.22 1519.03 Q2272.35 1517.6 2268.83 1517.6 Q2266.91 1517.6 2264.71 1518.01 Q2262.51 1518.43 2259.87 1519.31 L2259.87 1515.14 Q2262.53 1514.4 2264.85 1514.03 Q2267.19 1513.66 2269.25 1513.66 Q2274.57 1513.66 2277.67 1516.09 Q2280.78 1518.5 2280.78 1522.62 Q2280.78 1525.49 2279.13 1527.48 Q2277.49 1529.45 2274.46 1530.21 Z\" fill=\"#000000\" fill-rule=\"evenodd\" fill-opacity=\"1\" /><path clip-path=\"url(#clip380)\" d=\"M2290.45 1542.97 L2295.34 1542.97 L2295.34 1548.85 L2290.45 1548.85 L2290.45 1542.97 Z\" fill=\"#000000\" fill-rule=\"evenodd\" fill-opacity=\"1\" /><path clip-path=\"url(#clip380)\" d=\"M2315.52 1517.37 Q2311.91 1517.37 2310.08 1520.93 Q2308.27 1524.47 2308.27 1531.6 Q2308.27 1538.71 2310.08 1542.27 Q2311.91 1545.82 2315.52 1545.82 Q2319.15 1545.82 2320.96 1542.27 Q2322.79 1538.71 2322.79 1531.6 Q2322.79 1524.47 2320.96 1520.93 Q2319.15 1517.37 2315.52 1517.37 M2315.52 1513.66 Q2321.33 1513.66 2324.39 1518.27 Q2327.46 1522.85 2327.46 1531.6 Q2327.46 1540.33 2324.39 1544.94 Q2321.33 1549.52 2315.52 1549.52 Q2309.71 1549.52 2306.63 1544.94 Q2303.58 1540.33 2303.58 1531.6 Q2303.58 1522.85 2306.63 1518.27 Q2309.71 1513.66 2315.52 1513.66 Z\" fill=\"#000000\" fill-rule=\"evenodd\" fill-opacity=\"1\" /><polyline clip-path=\"url(#clip382)\" style=\"stroke:#000000; stroke-linecap:butt; stroke-linejoin:round; stroke-width:2; stroke-opacity:0.1; fill:none\" points=\"\n",
       "  246.598,1199.37 2352.76,1199.37 \n",
       "  \"/>\n",
       "<polyline clip-path=\"url(#clip382)\" style=\"stroke:#000000; stroke-linecap:butt; stroke-linejoin:round; stroke-width:2; stroke-opacity:0.1; fill:none\" points=\"\n",
       "  246.598,870.173 2352.76,870.173 \n",
       "  \"/>\n",
       "<polyline clip-path=\"url(#clip382)\" style=\"stroke:#000000; stroke-linecap:butt; stroke-linejoin:round; stroke-width:2; stroke-opacity:0.1; fill:none\" points=\"\n",
       "  246.598,540.977 2352.76,540.977 \n",
       "  \"/>\n",
       "<polyline clip-path=\"url(#clip382)\" style=\"stroke:#000000; stroke-linecap:butt; stroke-linejoin:round; stroke-width:2; stroke-opacity:0.1; fill:none\" points=\"\n",
       "  246.598,211.781 2352.76,211.781 \n",
       "  \"/>\n",
       "<polyline clip-path=\"url(#clip380)\" style=\"stroke:#000000; stroke-linecap:butt; stroke-linejoin:round; stroke-width:4; stroke-opacity:1; fill:none\" points=\"\n",
       "  246.598,1486.45 246.598,47.2441 \n",
       "  \"/>\n",
       "<polyline clip-path=\"url(#clip380)\" style=\"stroke:#000000; stroke-linecap:butt; stroke-linejoin:round; stroke-width:4; stroke-opacity:1; fill:none\" points=\"\n",
       "  246.598,1199.37 265.495,1199.37 \n",
       "  \"/>\n",
       "<polyline clip-path=\"url(#clip380)\" style=\"stroke:#000000; stroke-linecap:butt; stroke-linejoin:round; stroke-width:4; stroke-opacity:1; fill:none\" points=\"\n",
       "  246.598,870.173 265.495,870.173 \n",
       "  \"/>\n",
       "<polyline clip-path=\"url(#clip380)\" style=\"stroke:#000000; stroke-linecap:butt; stroke-linejoin:round; stroke-width:4; stroke-opacity:1; fill:none\" points=\"\n",
       "  246.598,540.977 265.495,540.977 \n",
       "  \"/>\n",
       "<polyline clip-path=\"url(#clip380)\" style=\"stroke:#000000; stroke-linecap:butt; stroke-linejoin:round; stroke-width:4; stroke-opacity:1; fill:none\" points=\"\n",
       "  246.598,211.781 265.495,211.781 \n",
       "  \"/>\n",
       "<path clip-path=\"url(#clip380)\" d=\"M62.9365 1185.17 Q59.3254 1185.17 57.4967 1188.73 Q55.6912 1192.27 55.6912 1199.4 Q55.6912 1206.51 57.4967 1210.08 Q59.3254 1213.62 62.9365 1213.62 Q66.5707 1213.62 68.3763 1210.08 Q70.205 1206.51 70.205 1199.4 Q70.205 1192.27 68.3763 1188.73 Q66.5707 1185.17 62.9365 1185.17 M62.9365 1181.46 Q68.7467 1181.46 71.8022 1186.07 Q74.8809 1190.65 74.8809 1199.4 Q74.8809 1208.13 71.8022 1212.74 Q68.7467 1217.32 62.9365 1217.32 Q57.1264 1217.32 54.0477 1212.74 Q50.9921 1208.13 50.9921 1199.4 Q50.9921 1190.65 54.0477 1186.07 Q57.1264 1181.46 62.9365 1181.46 Z\" fill=\"#000000\" fill-rule=\"evenodd\" fill-opacity=\"1\" /><path clip-path=\"url(#clip380)\" d=\"M83.0984 1210.77 L87.9827 1210.77 L87.9827 1216.65 L83.0984 1216.65 L83.0984 1210.77 Z\" fill=\"#000000\" fill-rule=\"evenodd\" fill-opacity=\"1\" /><path clip-path=\"url(#clip380)\" d=\"M108.168 1185.17 Q104.557 1185.17 102.728 1188.73 Q100.922 1192.27 100.922 1199.4 Q100.922 1206.51 102.728 1210.08 Q104.557 1213.62 108.168 1213.62 Q111.802 1213.62 113.608 1210.08 Q115.436 1206.51 115.436 1199.4 Q115.436 1192.27 113.608 1188.73 Q111.802 1185.17 108.168 1185.17 M108.168 1181.46 Q113.978 1181.46 117.033 1186.07 Q120.112 1190.65 120.112 1199.4 Q120.112 1208.13 117.033 1212.74 Q113.978 1217.32 108.168 1217.32 Q102.358 1217.32 99.2789 1212.74 Q96.2234 1208.13 96.2234 1199.4 Q96.2234 1190.65 99.2789 1186.07 Q102.358 1181.46 108.168 1181.46 Z\" fill=\"#000000\" fill-rule=\"evenodd\" fill-opacity=\"1\" /><path clip-path=\"url(#clip380)\" d=\"M142.496 1198.01 Q145.853 1198.73 147.728 1201 Q149.626 1203.27 149.626 1206.6 Q149.626 1211.72 146.107 1214.52 Q142.589 1217.32 136.107 1217.32 Q133.931 1217.32 131.617 1216.88 Q129.325 1216.46 126.871 1215.61 L126.871 1211.09 Q128.816 1212.23 131.131 1212.81 Q133.445 1213.39 135.969 1213.39 Q140.367 1213.39 142.658 1211.65 Q144.973 1209.91 144.973 1206.6 Q144.973 1203.55 142.82 1201.83 Q140.691 1200.1 136.871 1200.1 L132.844 1200.1 L132.844 1196.26 L137.056 1196.26 Q140.506 1196.26 142.334 1194.89 Q144.163 1193.5 144.163 1190.91 Q144.163 1188.25 142.265 1186.83 Q140.39 1185.4 136.871 1185.4 Q134.95 1185.4 132.751 1185.82 Q130.552 1186.23 127.913 1187.11 L127.913 1182.95 Q130.575 1182.2 132.89 1181.83 Q135.228 1181.46 137.288 1181.46 Q142.612 1181.46 145.714 1183.89 Q148.816 1186.3 148.816 1190.42 Q148.816 1193.29 147.172 1195.28 Q145.529 1197.25 142.496 1198.01 Z\" fill=\"#000000\" fill-rule=\"evenodd\" fill-opacity=\"1\" /><path clip-path=\"url(#clip380)\" d=\"M168.491 1185.17 Q164.88 1185.17 163.052 1188.73 Q161.246 1192.27 161.246 1199.4 Q161.246 1206.51 163.052 1210.08 Q164.88 1213.62 168.491 1213.62 Q172.126 1213.62 173.931 1210.08 Q175.76 1206.51 175.76 1199.4 Q175.76 1192.27 173.931 1188.73 Q172.126 1185.17 168.491 1185.17 M168.491 1181.46 Q174.302 1181.46 177.357 1186.07 Q180.436 1190.65 180.436 1199.4 Q180.436 1208.13 177.357 1212.74 Q174.302 1217.32 168.491 1217.32 Q162.681 1217.32 159.603 1212.74 Q156.547 1208.13 156.547 1199.4 Q156.547 1190.65 159.603 1186.07 Q162.681 1181.46 168.491 1181.46 Z\" fill=\"#000000\" fill-rule=\"evenodd\" fill-opacity=\"1\" /><path clip-path=\"url(#clip380)\" d=\"M198.653 1185.17 Q195.042 1185.17 193.214 1188.73 Q191.408 1192.27 191.408 1199.4 Q191.408 1206.51 193.214 1210.08 Q195.042 1213.62 198.653 1213.62 Q202.288 1213.62 204.093 1210.08 Q205.922 1206.51 205.922 1199.4 Q205.922 1192.27 204.093 1188.73 Q202.288 1185.17 198.653 1185.17 M198.653 1181.46 Q204.464 1181.46 207.519 1186.07 Q210.598 1190.65 210.598 1199.4 Q210.598 1208.13 207.519 1212.74 Q204.464 1217.32 198.653 1217.32 Q192.843 1217.32 189.765 1212.74 Q186.709 1208.13 186.709 1199.4 Q186.709 1190.65 189.765 1186.07 Q192.843 1181.46 198.653 1181.46 Z\" fill=\"#000000\" fill-rule=\"evenodd\" fill-opacity=\"1\" /><path clip-path=\"url(#clip380)\" d=\"M63.9319 855.972 Q60.3208 855.972 58.4921 859.536 Q56.6865 863.078 56.6865 870.208 Q56.6865 877.314 58.4921 880.879 Q60.3208 884.421 63.9319 884.421 Q67.5661 884.421 69.3717 880.879 Q71.2004 877.314 71.2004 870.208 Q71.2004 863.078 69.3717 859.536 Q67.5661 855.972 63.9319 855.972 M63.9319 852.268 Q69.742 852.268 72.7976 856.874 Q75.8763 861.458 75.8763 870.208 Q75.8763 878.934 72.7976 883.541 Q69.742 888.124 63.9319 888.124 Q58.1217 888.124 55.043 883.541 Q51.9875 878.934 51.9875 870.208 Q51.9875 861.458 55.043 856.874 Q58.1217 852.268 63.9319 852.268 Z\" fill=\"#000000\" fill-rule=\"evenodd\" fill-opacity=\"1\" /><path clip-path=\"url(#clip380)\" d=\"M84.0938 881.573 L88.978 881.573 L88.978 887.453 L84.0938 887.453 L84.0938 881.573 Z\" fill=\"#000000\" fill-rule=\"evenodd\" fill-opacity=\"1\" /><path clip-path=\"url(#clip380)\" d=\"M109.163 855.972 Q105.552 855.972 103.723 859.536 Q101.918 863.078 101.918 870.208 Q101.918 877.314 103.723 880.879 Q105.552 884.421 109.163 884.421 Q112.797 884.421 114.603 880.879 Q116.432 877.314 116.432 870.208 Q116.432 863.078 114.603 859.536 Q112.797 855.972 109.163 855.972 M109.163 852.268 Q114.973 852.268 118.029 856.874 Q121.107 861.458 121.107 870.208 Q121.107 878.934 118.029 883.541 Q114.973 888.124 109.163 888.124 Q103.353 888.124 100.274 883.541 Q97.2187 878.934 97.2187 870.208 Q97.2187 861.458 100.274 856.874 Q103.353 852.268 109.163 852.268 Z\" fill=\"#000000\" fill-rule=\"evenodd\" fill-opacity=\"1\" /><path clip-path=\"url(#clip380)\" d=\"M143.492 868.819 Q146.848 869.536 148.723 871.805 Q150.621 874.073 150.621 877.407 Q150.621 882.522 147.103 885.323 Q143.584 888.124 137.103 888.124 Q134.927 888.124 132.612 887.684 Q130.32 887.268 127.867 886.411 L127.867 881.897 Q129.811 883.032 132.126 883.61 Q134.441 884.189 136.964 884.189 Q141.362 884.189 143.654 882.453 Q145.968 880.717 145.968 877.407 Q145.968 874.351 143.816 872.638 Q141.686 870.902 137.867 870.902 L133.839 870.902 L133.839 867.06 L138.052 867.06 Q141.501 867.06 143.33 865.694 Q145.158 864.305 145.158 861.712 Q145.158 859.05 143.26 857.638 Q141.385 856.203 137.867 856.203 Q135.945 856.203 133.746 856.62 Q131.547 857.036 128.908 857.916 L128.908 853.749 Q131.57 853.009 133.885 852.638 Q136.223 852.268 138.283 852.268 Q143.607 852.268 146.709 854.698 Q149.811 857.106 149.811 861.226 Q149.811 864.097 148.168 866.087 Q146.524 868.055 143.492 868.819 Z\" fill=\"#000000\" fill-rule=\"evenodd\" fill-opacity=\"1\" /><path clip-path=\"url(#clip380)\" d=\"M163.515 883.518 L179.834 883.518 L179.834 887.453 L157.89 887.453 L157.89 883.518 Q160.552 880.763 165.135 876.134 Q169.741 871.481 170.922 870.138 Q173.167 867.615 174.047 865.879 Q174.95 864.12 174.95 862.43 Q174.95 859.675 173.005 857.939 Q171.084 856.203 167.982 856.203 Q165.783 856.203 163.329 856.967 Q160.899 857.731 158.121 859.282 L158.121 854.56 Q160.945 853.425 163.399 852.847 Q165.853 852.268 167.89 852.268 Q173.26 852.268 176.454 854.953 Q179.649 857.638 179.649 862.129 Q179.649 864.259 178.839 866.18 Q178.052 868.078 175.945 870.671 Q175.366 871.342 172.265 874.559 Q169.163 877.754 163.515 883.518 Z\" fill=\"#000000\" fill-rule=\"evenodd\" fill-opacity=\"1\" /><path clip-path=\"url(#clip380)\" d=\"M189.695 852.893 L208.051 852.893 L208.051 856.828 L193.977 856.828 L193.977 865.3 Q194.996 864.953 196.014 864.791 Q197.033 864.606 198.052 864.606 Q203.839 864.606 207.218 867.777 Q210.598 870.948 210.598 876.365 Q210.598 881.944 207.126 885.046 Q203.653 888.124 197.334 888.124 Q195.158 888.124 192.89 887.754 Q190.644 887.383 188.237 886.643 L188.237 881.944 Q190.32 883.078 192.542 883.634 Q194.765 884.189 197.241 884.189 Q201.246 884.189 203.584 882.083 Q205.922 879.976 205.922 876.365 Q205.922 872.754 203.584 870.647 Q201.246 868.541 197.241 868.541 Q195.366 868.541 193.491 868.958 Q191.64 869.374 189.695 870.254 L189.695 852.893 Z\" fill=\"#000000\" fill-rule=\"evenodd\" fill-opacity=\"1\" /><path clip-path=\"url(#clip380)\" d=\"M62.9365 526.776 Q59.3254 526.776 57.4967 530.34 Q55.6912 533.882 55.6912 541.012 Q55.6912 548.118 57.4967 551.683 Q59.3254 555.224 62.9365 555.224 Q66.5707 555.224 68.3763 551.683 Q70.205 548.118 70.205 541.012 Q70.205 533.882 68.3763 530.34 Q66.5707 526.776 62.9365 526.776 M62.9365 523.072 Q68.7467 523.072 71.8022 527.678 Q74.8809 532.262 74.8809 541.012 Q74.8809 549.738 71.8022 554.345 Q68.7467 558.928 62.9365 558.928 Q57.1264 558.928 54.0477 554.345 Q50.9921 549.738 50.9921 541.012 Q50.9921 532.262 54.0477 527.678 Q57.1264 523.072 62.9365 523.072 Z\" fill=\"#000000\" fill-rule=\"evenodd\" fill-opacity=\"1\" /><path clip-path=\"url(#clip380)\" d=\"M83.0984 552.377 L87.9827 552.377 L87.9827 558.257 L83.0984 558.257 L83.0984 552.377 Z\" fill=\"#000000\" fill-rule=\"evenodd\" fill-opacity=\"1\" /><path clip-path=\"url(#clip380)\" d=\"M108.168 526.776 Q104.557 526.776 102.728 530.34 Q100.922 533.882 100.922 541.012 Q100.922 548.118 102.728 551.683 Q104.557 555.224 108.168 555.224 Q111.802 555.224 113.608 551.683 Q115.436 548.118 115.436 541.012 Q115.436 533.882 113.608 530.34 Q111.802 526.776 108.168 526.776 M108.168 523.072 Q113.978 523.072 117.033 527.678 Q120.112 532.262 120.112 541.012 Q120.112 549.738 117.033 554.345 Q113.978 558.928 108.168 558.928 Q102.358 558.928 99.2789 554.345 Q96.2234 549.738 96.2234 541.012 Q96.2234 532.262 99.2789 527.678 Q102.358 523.072 108.168 523.072 Z\" fill=\"#000000\" fill-rule=\"evenodd\" fill-opacity=\"1\" /><path clip-path=\"url(#clip380)\" d=\"M142.496 539.623 Q145.853 540.34 147.728 542.609 Q149.626 544.877 149.626 548.211 Q149.626 553.326 146.107 556.127 Q142.589 558.928 136.107 558.928 Q133.931 558.928 131.617 558.488 Q129.325 558.072 126.871 557.215 L126.871 552.701 Q128.816 553.836 131.131 554.414 Q133.445 554.993 135.969 554.993 Q140.367 554.993 142.658 553.257 Q144.973 551.521 144.973 548.211 Q144.973 545.155 142.82 543.442 Q140.691 541.706 136.871 541.706 L132.844 541.706 L132.844 537.863 L137.056 537.863 Q140.506 537.863 142.334 536.498 Q144.163 535.109 144.163 532.516 Q144.163 529.854 142.265 528.442 Q140.39 527.007 136.871 527.007 Q134.95 527.007 132.751 527.424 Q130.552 527.84 127.913 528.72 L127.913 524.553 Q130.575 523.813 132.89 523.442 Q135.228 523.072 137.288 523.072 Q142.612 523.072 145.714 525.502 Q148.816 527.91 148.816 532.03 Q148.816 534.9 147.172 536.891 Q145.529 538.859 142.496 539.623 Z\" fill=\"#000000\" fill-rule=\"evenodd\" fill-opacity=\"1\" /><path clip-path=\"url(#clip380)\" d=\"M158.538 523.697 L176.894 523.697 L176.894 527.632 L162.82 527.632 L162.82 536.104 Q163.839 535.757 164.857 535.595 Q165.876 535.41 166.894 535.41 Q172.681 535.41 176.061 538.581 Q179.441 541.752 179.441 547.169 Q179.441 552.748 175.968 555.849 Q172.496 558.928 166.177 558.928 Q164.001 558.928 161.732 558.558 Q159.487 558.187 157.08 557.447 L157.08 552.748 Q159.163 553.882 161.385 554.437 Q163.607 554.993 166.084 554.993 Q170.089 554.993 172.427 552.886 Q174.765 550.78 174.765 547.169 Q174.765 543.558 172.427 541.451 Q170.089 539.345 166.084 539.345 Q164.209 539.345 162.334 539.762 Q160.482 540.178 158.538 541.058 L158.538 523.697 Z\" fill=\"#000000\" fill-rule=\"evenodd\" fill-opacity=\"1\" /><path clip-path=\"url(#clip380)\" d=\"M198.653 526.776 Q195.042 526.776 193.214 530.34 Q191.408 533.882 191.408 541.012 Q191.408 548.118 193.214 551.683 Q195.042 555.224 198.653 555.224 Q202.288 555.224 204.093 551.683 Q205.922 548.118 205.922 541.012 Q205.922 533.882 204.093 530.34 Q202.288 526.776 198.653 526.776 M198.653 523.072 Q204.464 523.072 207.519 527.678 Q210.598 532.262 210.598 541.012 Q210.598 549.738 207.519 554.345 Q204.464 558.928 198.653 558.928 Q192.843 558.928 189.765 554.345 Q186.709 549.738 186.709 541.012 Q186.709 532.262 189.765 527.678 Q192.843 523.072 198.653 523.072 Z\" fill=\"#000000\" fill-rule=\"evenodd\" fill-opacity=\"1\" /><path clip-path=\"url(#clip380)\" d=\"M63.9319 197.579 Q60.3208 197.579 58.4921 201.144 Q56.6865 204.686 56.6865 211.815 Q56.6865 218.922 58.4921 222.487 Q60.3208 226.028 63.9319 226.028 Q67.5661 226.028 69.3717 222.487 Q71.2004 218.922 71.2004 211.815 Q71.2004 204.686 69.3717 201.144 Q67.5661 197.579 63.9319 197.579 M63.9319 193.876 Q69.742 193.876 72.7976 198.482 Q75.8763 203.066 75.8763 211.815 Q75.8763 220.542 72.7976 225.149 Q69.742 229.732 63.9319 229.732 Q58.1217 229.732 55.043 225.149 Q51.9875 220.542 51.9875 211.815 Q51.9875 203.066 55.043 198.482 Q58.1217 193.876 63.9319 193.876 Z\" fill=\"#000000\" fill-rule=\"evenodd\" fill-opacity=\"1\" /><path clip-path=\"url(#clip380)\" d=\"M84.0938 223.181 L88.978 223.181 L88.978 229.061 L84.0938 229.061 L84.0938 223.181 Z\" fill=\"#000000\" fill-rule=\"evenodd\" fill-opacity=\"1\" /><path clip-path=\"url(#clip380)\" d=\"M109.163 197.579 Q105.552 197.579 103.723 201.144 Q101.918 204.686 101.918 211.815 Q101.918 218.922 103.723 222.487 Q105.552 226.028 109.163 226.028 Q112.797 226.028 114.603 222.487 Q116.432 218.922 116.432 211.815 Q116.432 204.686 114.603 201.144 Q112.797 197.579 109.163 197.579 M109.163 193.876 Q114.973 193.876 118.029 198.482 Q121.107 203.066 121.107 211.815 Q121.107 220.542 118.029 225.149 Q114.973 229.732 109.163 229.732 Q103.353 229.732 100.274 225.149 Q97.2187 220.542 97.2187 211.815 Q97.2187 203.066 100.274 198.482 Q103.353 193.876 109.163 193.876 Z\" fill=\"#000000\" fill-rule=\"evenodd\" fill-opacity=\"1\" /><path clip-path=\"url(#clip380)\" d=\"M143.492 210.427 Q146.848 211.144 148.723 213.413 Q150.621 215.681 150.621 219.014 Q150.621 224.13 147.103 226.931 Q143.584 229.732 137.103 229.732 Q134.927 229.732 132.612 229.292 Q130.32 228.876 127.867 228.019 L127.867 223.505 Q129.811 224.639 132.126 225.218 Q134.441 225.797 136.964 225.797 Q141.362 225.797 143.654 224.061 Q145.968 222.325 145.968 219.014 Q145.968 215.959 143.816 214.246 Q141.686 212.51 137.867 212.51 L133.839 212.51 L133.839 208.667 L138.052 208.667 Q141.501 208.667 143.33 207.302 Q145.158 205.913 145.158 203.32 Q145.158 200.658 143.26 199.246 Q141.385 197.811 137.867 197.811 Q135.945 197.811 133.746 198.228 Q131.547 198.644 128.908 199.524 L128.908 195.357 Q131.57 194.616 133.885 194.246 Q136.223 193.876 138.283 193.876 Q143.607 193.876 146.709 196.306 Q149.811 198.714 149.811 202.834 Q149.811 205.704 148.168 207.695 Q146.524 209.663 143.492 210.427 Z\" fill=\"#000000\" fill-rule=\"evenodd\" fill-opacity=\"1\" /><path clip-path=\"url(#clip380)\" d=\"M158.306 194.501 L180.528 194.501 L180.528 196.491 L167.982 229.061 L163.098 229.061 L174.903 198.436 L158.306 198.436 L158.306 194.501 Z\" fill=\"#000000\" fill-rule=\"evenodd\" fill-opacity=\"1\" /><path clip-path=\"url(#clip380)\" d=\"M189.695 194.501 L208.051 194.501 L208.051 198.436 L193.977 198.436 L193.977 206.908 Q194.996 206.561 196.014 206.399 Q197.033 206.214 198.052 206.214 Q203.839 206.214 207.218 209.385 Q210.598 212.556 210.598 217.973 Q210.598 223.552 207.126 226.653 Q203.653 229.732 197.334 229.732 Q195.158 229.732 192.89 229.362 Q190.644 228.991 188.237 228.251 L188.237 223.552 Q190.32 224.686 192.542 225.241 Q194.765 225.797 197.241 225.797 Q201.246 225.797 203.584 223.69 Q205.922 221.584 205.922 217.973 Q205.922 214.362 203.584 212.255 Q201.246 210.149 197.241 210.149 Q195.366 210.149 193.491 210.565 Q191.64 210.982 189.695 211.862 L189.695 194.501 Z\" fill=\"#000000\" fill-rule=\"evenodd\" fill-opacity=\"1\" /><polyline clip-path=\"url(#clip382)\" style=\"stroke:#009af9; stroke-linecap:butt; stroke-linejoin:round; stroke-width:4; stroke-opacity:1; fill:none\" points=\"\n",
       "  306.206,91.7459 345.166,122.004 384.125,152.114 423.085,182.075 462.045,211.889 501.004,241.555 539.964,271.073 578.923,300.443 617.883,329.665 656.843,358.738 \n",
       "  695.802,387.664 734.762,416.441 773.722,445.07 812.681,473.551 851.641,501.883 890.601,530.068 929.56,558.104 968.52,585.991 1007.48,613.731 1046.44,641.321 \n",
       "  1085.4,668.764 1124.36,696.058 1163.32,723.203 1202.28,750.2 1241.24,777.049 1280.2,803.749 1319.16,830.3 1358.12,856.703 1397.08,882.957 1436.04,909.063 \n",
       "  1475,935.019 1513.95,960.827 1552.91,986.487 1591.87,1012 1630.83,1037.36 1669.79,1062.57 1708.75,1087.64 1747.71,1112.55 1786.67,1137.32 1825.63,1161.93 \n",
       "  1864.59,1186.4 1903.55,1210.72 1942.51,1234.89 1981.47,1258.91 2020.43,1282.79 2059.39,1306.51 2098.35,1330.08 2137.31,1353.51 2176.27,1376.78 2215.23,1399.91 \n",
       "  2254.19,1422.89 2293.15,1445.72 \n",
       "  \"/>\n",
       "<polyline clip-path=\"url(#clip382)\" style=\"stroke:#e26f46; stroke-linecap:butt; stroke-linejoin:round; stroke-width:4; stroke-opacity:1; fill:none\" points=\"\n",
       "  306.206,87.9763 326.075,103.732 345.945,119.438 365.814,135.095 385.684,150.704 405.553,166.264 425.423,181.775 445.292,197.239 465.161,212.654 485.031,228.021 \n",
       "  504.9,243.341 524.77,258.612 544.639,273.836 564.508,289.013 584.378,304.143 604.247,319.225 624.117,334.261 643.986,349.249 663.855,364.191 683.725,379.087 \n",
       "  703.594,393.936 723.464,408.739 743.333,423.496 763.203,438.207 783.072,452.872 802.941,467.492 822.811,482.066 842.68,496.594 862.55,511.078 882.419,525.516 \n",
       "  902.288,539.909 922.158,554.258 942.027,568.562 961.897,582.821 981.766,597.036 1001.64,611.207 1021.5,625.334 1041.37,639.416 1061.24,653.455 1081.11,667.45 \n",
       "  1100.98,681.402 1120.85,695.31 1140.72,709.175 1160.59,722.997 1180.46,736.776 1200.33,750.511 1220.2,764.204 1240.07,777.855 1259.94,791.463 1279.81,805.028 \n",
       "  1299.68,818.552 1319.55,832.033 1339.42,845.472 1359.29,858.87 1379.15,872.226 1399.02,885.54 1418.89,898.813 1438.76,912.044 1458.63,925.234 1478.5,938.384 \n",
       "  1498.37,951.492 1518.24,964.559 1538.11,977.586 1557.98,990.573 1577.85,1003.52 1597.72,1016.42 1617.59,1029.29 1637.46,1042.11 1657.33,1054.9 1677.2,1067.65 \n",
       "  1697.07,1080.35 1716.93,1093.02 1736.8,1105.65 1756.67,1118.23 1776.54,1130.78 1796.41,1143.29 1816.28,1155.76 1836.15,1168.19 1856.02,1180.59 1875.89,1192.94 \n",
       "  1895.76,1205.26 1915.63,1217.53 1935.5,1229.77 1955.37,1241.97 1975.24,1254.14 1995.11,1266.26 2014.98,1278.35 2034.85,1290.4 2054.71,1302.41 2074.58,1314.39 \n",
       "  2094.45,1326.33 2114.32,1338.23 2134.19,1350.09 2154.06,1361.92 2173.93,1373.71 2193.8,1385.46 2213.67,1397.18 2233.54,1408.86 2253.41,1420.5 2273.28,1432.11 \n",
       "  2293.15,1443.68 \n",
       "  \"/>\n",
       "<path clip-path=\"url(#clip380)\" d=\"\n",
       "M1996.1 250.738 L2282.55 250.738 L2282.55 95.2176 L1996.1 95.2176  Z\n",
       "  \" fill=\"#ffffff\" fill-rule=\"evenodd\" fill-opacity=\"1\"/>\n",
       "<polyline clip-path=\"url(#clip380)\" style=\"stroke:#000000; stroke-linecap:butt; stroke-linejoin:round; stroke-width:4; stroke-opacity:1; fill:none\" points=\"\n",
       "  1996.1,250.738 2282.55,250.738 2282.55,95.2176 1996.1,95.2176 1996.1,250.738 \n",
       "  \"/>\n",
       "<polyline clip-path=\"url(#clip380)\" style=\"stroke:#009af9; stroke-linecap:butt; stroke-linejoin:round; stroke-width:4; stroke-opacity:1; fill:none\" points=\"\n",
       "  2019.5,147.058 2159.92,147.058 \n",
       "  \"/>\n",
       "<path clip-path=\"url(#clip380)\" d=\"M2197.16 166.745 Q2195.35 171.375 2193.64 172.787 Q2191.93 174.199 2189.06 174.199 L2185.65 174.199 L2185.65 170.634 L2188.15 170.634 Q2189.91 170.634 2190.89 169.8 Q2191.86 168.967 2193.04 165.865 L2193.8 163.921 L2183.32 138.412 L2187.83 138.412 L2195.93 158.689 L2204.03 138.412 L2208.55 138.412 L2197.16 166.745 Z\" fill=\"#000000\" fill-rule=\"evenodd\" fill-opacity=\"1\" /><path clip-path=\"url(#clip380)\" d=\"M2215.84 160.402 L2223.48 160.402 L2223.48 134.037 L2215.17 135.703 L2215.17 131.444 L2223.43 129.778 L2228.11 129.778 L2228.11 160.402 L2235.75 160.402 L2235.75 164.338 L2215.84 164.338 L2215.84 160.402 Z\" fill=\"#000000\" fill-rule=\"evenodd\" fill-opacity=\"1\" /><polyline clip-path=\"url(#clip380)\" style=\"stroke:#e26f46; stroke-linecap:butt; stroke-linejoin:round; stroke-width:4; stroke-opacity:1; fill:none\" points=\"\n",
       "  2019.5,198.898 2159.92,198.898 \n",
       "  \"/>\n",
       "<path clip-path=\"url(#clip380)\" d=\"M2197.16 218.585 Q2195.35 223.215 2193.64 224.627 Q2191.93 226.039 2189.06 226.039 L2185.65 226.039 L2185.65 222.474 L2188.15 222.474 Q2189.91 222.474 2190.89 221.64 Q2191.86 220.807 2193.04 217.705 L2193.8 215.761 L2183.32 190.252 L2187.83 190.252 L2195.93 210.529 L2204.03 190.252 L2208.55 190.252 L2197.16 218.585 Z\" fill=\"#000000\" fill-rule=\"evenodd\" fill-opacity=\"1\" /><path clip-path=\"url(#clip380)\" d=\"M2219.06 212.242 L2235.38 212.242 L2235.38 216.178 L2213.43 216.178 L2213.43 212.242 Q2216.09 209.488 2220.68 204.858 Q2225.28 200.205 2226.46 198.863 Q2228.71 196.34 2229.59 194.604 Q2230.49 192.844 2230.49 191.155 Q2230.49 188.4 2228.55 186.664 Q2226.63 184.928 2223.52 184.928 Q2221.33 184.928 2218.87 185.692 Q2216.44 186.455 2213.66 188.006 L2213.66 183.284 Q2216.49 182.15 2218.94 181.571 Q2221.4 180.993 2223.43 180.993 Q2228.8 180.993 2232 183.678 Q2235.19 186.363 2235.19 190.854 Q2235.19 192.983 2234.38 194.905 Q2233.59 196.803 2231.49 199.395 Q2230.91 200.067 2227.81 203.284 Q2224.71 206.479 2219.06 212.242 Z\" fill=\"#000000\" fill-rule=\"evenodd\" fill-opacity=\"1\" /></svg>\n"
      ]
     },
     "execution_count": 264,
     "metadata": {},
     "output_type": "execute_result"
    }
   ],
   "source": [
    "using EasyFit\n",
    "xs = times[250:end]\n",
    "ys = detectable[250:end]\n",
    "fit = fitexp(xs, ys, c = 0)\n",
    "display(fit)\n",
    "plot(xs, ys)\n",
    "plot!(fit.x, fit.y)"
   ]
  },
  {
   "cell_type": "code",
   "execution_count": 126,
   "metadata": {},
   "outputs": [],
   "source": [
    "using CSV"
   ]
  },
  {
   "cell_type": "code",
   "execution_count": null,
   "metadata": {},
   "outputs": [],
   "source": [
    "function squared_error()"
   ]
  }
 ],
 "metadata": {
  "kernelspec": {
   "display_name": "Julia 1.7.2",
   "language": "julia",
   "name": "julia-1.7"
  },
  "language_info": {
   "file_extension": ".jl",
   "mimetype": "application/julia",
   "name": "julia",
   "version": "1.7.2"
  }
 },
 "nbformat": 4,
 "nbformat_minor": 5
}

{
 "cells": [
  {
   "cell_type": "code",
   "execution_count": 2,
   "id": "c3e7e254-c772-46de-9cba-e35b0ad30119",
   "metadata": {},
   "outputs": [],
   "source": [
    "using Revise"
   ]
  },
  {
   "cell_type": "code",
   "execution_count": 3,
   "id": "d273373b-104e-4791-a7ba-0019fecb3b75",
   "metadata": {
    "tags": []
   },
   "outputs": [],
   "source": [
    "using QuantumStates, UnitsToValue, DataFrames, PrettyTables"
   ]
  },
  {
   "cell_type": "markdown",
   "id": "07fbf4df-77bb-4b1e-847e-e79690da9576",
   "metadata": {},
   "source": [
    "### Load Hamiltonian"
   ]
  },
  {
   "cell_type": "code",
   "execution_count": 433,
   "id": "819a8e7f-792d-4905-8baa-5ad09e35fd17",
   "metadata": {
    "tags": []
   },
   "outputs": [
    {
     "name": "stderr",
     "output_type": "stream",
     "text": [
      "WARNING: redefinition of constant α. This may fail, cause incorrect answers, or produce other errors.\n",
      "WARNING: redefinition of constant ϵ_trap. This may fail, cause incorrect answers, or produce other errors.\n"
     ]
    }
   ],
   "source": [
    "H = load_from_file(\"CaOH_X010\", \"C://Google Drive//github//QuantumStates//Hamiltonians//CaOH//\")\n",
    "\n",
    "# Add AC Stark effect from trap\n",
    "au = 1.64877727436e-41\n",
    "\n",
    "# ODT\n",
    "w = 9.5e-6; P = @with_unit 12.6 \"W\"; I_trap = 2P / (π * w^2);\n",
    "α_par = 142.6\n",
    "α_perp = 234.6\n",
    "\n",
    "# # Tweezer\n",
    "# w = 2.0e-6; P = @with_unit 130 \"mW\"; I_trap = 2P / (π * w^2);\n",
    "# α_par = 186.5\n",
    "# α_perp = 393.2\n",
    "\n",
    "const α = [(1/3)*(α_par + 2α_perp), 0, (2/3)*(α_par - α_perp)] .* au\n",
    "const θ = π/2\n",
    "const ϵ_trap = cos(θ) * [0.0, 1.0, 0.0] + sin(θ) * [1.0, 0.0, -1.0] / √2\n",
    "scalar_polarizability(state, state′) = polarizability(state, state′, α .* [1,0,0], ϵ_trap)\n",
    "tensor_polarizability(state, state′) = polarizability(state, state′, α .* [0,0,1], ϵ_trap)\n",
    "H = add_to_H(H, :I_scalar, (1 / h) * scalar_polarizability)\n",
    "H = add_to_H(H, :I_tensor, (1 / h) * tensor_polarizability)\n",
    "\n",
    "# Add DC Stark effect\n",
    "const μX = 1.465 * (1e-21 / c) / h\n",
    "H = add_to_H(H, :E, (1e2 * μX) * Stark) # 1e2 converts from V/m to V/cm\n",
    "\n",
    "# Add Zeeman effect\n",
    "Zeeman_z(state, state′) = Zeeman(state, state′, 0)\n",
    "H = add_to_H(H, :B_z, gS * (1e-4 * μB / h) * Zeeman_z)\n",
    ";"
   ]
  },
  {
   "cell_type": "code",
   "execution_count": 454,
   "id": "9b5d4e19-3987-499c-a5d4-57e2b56a42d6",
   "metadata": {
    "tags": []
   },
   "outputs": [],
   "source": [
    "H.parameters.E = 50.\n",
    "H.parameters.B_z = 0.\n",
    "H.parameters.I_scalar = (0.2/3.5) * I_trap / (2ε0 * c)\n",
    "H.parameters.I_tensor = (0.2/3.5) * I_trap / (2ε0 * c)\n",
    "\n",
    "# H.parameters.bFX = 2.2e6\n",
    "# H.parameters.cX = 2.6e6\n",
    "\n",
    "full_evaluate!(H)\n",
    "solve!(H)\n",
    "_, N1_J12_states = subspace(H.states, (N=1, J=1/2), 0.5)\n",
    "_, N1_J32_states = subspace(H.states, (N=1, J=3/2), 0.5)\n",
    "_, N2_J32_states = subspace(H.states, (N=2, J=3/2), 0.5) \n",
    "_, N2_states = subspace(H.states, (N=2,))\n",
    ";"
   ]
  },
  {
   "cell_type": "code",
   "execution_count": 455,
   "id": "47e9465e-813a-41e8-9bb0-368863235dc8",
   "metadata": {},
   "outputs": [
    {
     "data": {
      "text/latex": [
       "$$0.429\\left|label=X, v_1=0, v_2=1, v_3=0, S=1/2, I=1/2, Λ=0, ℓ=-1, K=-1, N=2, J=3/2, F=1, M=-1\\right\\rangle$$\n",
       "$$ + 0.503\\left|label=X, v_1=0, v_2=1, v_3=0, S=1/2, I=1/2, Λ=0, ℓ=-1, K=-1, N=2, J=3/2, F=1, M=1\\right\\rangle$$\n",
       "$$-0.156\\left|label=X, v_1=0, v_2=1, v_3=0, S=1/2, I=1/2, Λ=0, ℓ=-1, K=-1, N=2, J=3/2, F=2, M=-1\\right\\rangle$$\n",
       "$$ + 0.194\\left|label=X, v_1=0, v_2=1, v_3=0, S=1/2, I=1/2, Λ=0, ℓ=-1, K=-1, N=2, J=3/2, F=2, M=1\\right\\rangle$$\n",
       "$$ + 0.026\\left|label=X, v_1=0, v_2=1, v_3=0, S=1/2, I=1/2, Λ=0, ℓ=-1, K=-1, N=2, J=5/2, F=2, M=-1\\right\\rangle$$\n",
       "$$ + 0.012\\left|label=X, v_1=0, v_2=1, v_3=0, S=1/2, I=1/2, Λ=0, ℓ=-1, K=-1, N=2, J=5/2, F=2, M=1\\right\\rangle$$\n",
       "$$-0.01\\left|label=X, v_1=0, v_2=1, v_3=0, S=1/2, I=1/2, Λ=0, ℓ=-1, K=-1, N=2, J=5/2, F=3, M=-1\\right\\rangle$$\n",
       "$$-0.503\\left|label=X, v_1=0, v_2=1, v_3=0, S=1/2, I=1/2, Λ=0, ℓ=1, K=1, N=2, J=3/2, F=1, M=-1\\right\\rangle$$\n",
       "$$-0.429\\left|label=X, v_1=0, v_2=1, v_3=0, S=1/2, I=1/2, Λ=0, ℓ=1, K=1, N=2, J=3/2, F=1, M=1\\right\\rangle$$\n",
       "$$ + 0.194\\left|label=X, v_1=0, v_2=1, v_3=0, S=1/2, I=1/2, Λ=0, ℓ=1, K=1, N=2, J=3/2, F=2, M=-1\\right\\rangle$$\n",
       "$$-0.156\\left|label=X, v_1=0, v_2=1, v_3=0, S=1/2, I=1/2, Λ=0, ℓ=1, K=1, N=2, J=3/2, F=2, M=1\\right\\rangle$$\n",
       "$$ + 0.012\\left|label=X, v_1=0, v_2=1, v_3=0, S=1/2, I=1/2, Λ=0, ℓ=1, K=1, N=2, J=5/2, F=2, M=-1\\right\\rangle$$\n",
       "$$ + 0.026\\left|label=X, v_1=0, v_2=1, v_3=0, S=1/2, I=1/2, Λ=0, ℓ=1, K=1, N=2, J=5/2, F=2, M=1\\right\\rangle$$\n",
       "$$ + 0.01\\left|label=X, v_1=0, v_2=1, v_3=0, S=1/2, I=1/2, Λ=0, ℓ=1, K=1, N=2, J=5/2, F=3, M=1\\right\\rangle$$\n"
      ],
      "text/plain": [
       "State{HundsCaseB_LinearMolecule}(1.0642671049580627e13, HundsCaseB_LinearMolecule[HundsCaseB_LinearMolecule(0.0, \"X\", 0, 1, 0, 1/2, 1/2, 0, -1, -1, 1, 1/2, 0, 0, (K = -1, N = 1:∞, J = 0.5:1.0:1.5, F = 0.0:1.0:1.0, M = 0.0:1.0:0.0)), HundsCaseB_LinearMolecule(0.0, \"X\", 0, 1, 0, 1/2, 1/2, 0, -1, -1, 1, 1/2, 1, -1, (K = -1, N = 1:∞, J = 0.5:1.0:1.5, F = 0.0:1.0:1.0, M = -1.0:1.0:1.0)), HundsCaseB_LinearMolecule(0.0, \"X\", 0, 1, 0, 1/2, 1/2, 0, -1, -1, 1, 1/2, 1, 0, (K = -1, N = 1:∞, J = 0.5:1.0:1.5, F = 0.0:1.0:1.0, M = -1.0:1.0:1.0)), HundsCaseB_LinearMolecule(0.0, \"X\", 0, 1, 0, 1/2, 1/2, 0, -1, -1, 1, 1/2, 1, 1, (K = -1, N = 1:∞, J = 0.5:1.0:1.5, F = 0.0:1.0:1.0, M = -1.0:1.0:1.0)), HundsCaseB_LinearMolecule(0.0, \"X\", 0, 1, 0, 1/2, 1/2, 0, -1, -1, 1, 3/2, 1, -1, (K = -1, N = 1:∞, J = 0.5:1.0:1.5, F = 1.0:1.0:2.0, M = -1.0:1.0:1.0)), HundsCaseB_LinearMolecule(0.0, \"X\", 0, 1, 0, 1/2, 1/2, 0, -1, -1, 1, 3/2, 1, 0, (K = -1, N = 1:∞, J = 0.5:1.0:1.5, F = 1.0:1.0:2.0, M = -1.0:1.0:1.0)), HundsCaseB_LinearMolecule(0.0, \"X\", 0, 1, 0, 1/2, 1/2, 0, -1, -1, 1, 3/2, 1, 1, (K = -1, N = 1:∞, J = 0.5:1.0:1.5, F = 1.0:1.0:2.0, M = -1.0:1.0:1.0)), HundsCaseB_LinearMolecule(0.0, \"X\", 0, 1, 0, 1/2, 1/2, 0, -1, -1, 1, 3/2, 2, -2, (K = -1, N = 1:∞, J = 0.5:1.0:1.5, F = 1.0:1.0:2.0, M = -2.0:1.0:2.0)), HundsCaseB_LinearMolecule(0.0, \"X\", 0, 1, 0, 1/2, 1/2, 0, -1, -1, 1, 3/2, 2, -1, (K = -1, N = 1:∞, J = 0.5:1.0:1.5, F = 1.0:1.0:2.0, M = -2.0:1.0:2.0)), HundsCaseB_LinearMolecule(0.0, \"X\", 0, 1, 0, 1/2, 1/2, 0, -1, -1, 1, 3/2, 2, 0, (K = -1, N = 1:∞, J = 0.5:1.0:1.5, F = 1.0:1.0:2.0, M = -2.0:1.0:2.0))  …  HundsCaseB_LinearMolecule(0.0, \"X\", 0, 1, 0, 1/2, 1/2, 0, 1, 1, 5, 11/2, 6, -3, (K = 1, N = 1:∞, J = 4.5:1.0:5.5, F = 5.0:1.0:6.0, M = -6.0:1.0:6.0)), HundsCaseB_LinearMolecule(0.0, \"X\", 0, 1, 0, 1/2, 1/2, 0, 1, 1, 5, 11/2, 6, -2, (K = 1, N = 1:∞, J = 4.5:1.0:5.5, F = 5.0:1.0:6.0, M = -6.0:1.0:6.0)), HundsCaseB_LinearMolecule(0.0, \"X\", 0, 1, 0, 1/2, 1/2, 0, 1, 1, 5, 11/2, 6, -1, (K = 1, N = 1:∞, J = 4.5:1.0:5.5, F = 5.0:1.0:6.0, M = -6.0:1.0:6.0)), HundsCaseB_LinearMolecule(0.0, \"X\", 0, 1, 0, 1/2, 1/2, 0, 1, 1, 5, 11/2, 6, 0, (K = 1, N = 1:∞, J = 4.5:1.0:5.5, F = 5.0:1.0:6.0, M = -6.0:1.0:6.0)), HundsCaseB_LinearMolecule(0.0, \"X\", 0, 1, 0, 1/2, 1/2, 0, 1, 1, 5, 11/2, 6, 1, (K = 1, N = 1:∞, J = 4.5:1.0:5.5, F = 5.0:1.0:6.0, M = -6.0:1.0:6.0)), HundsCaseB_LinearMolecule(0.0, \"X\", 0, 1, 0, 1/2, 1/2, 0, 1, 1, 5, 11/2, 6, 2, (K = 1, N = 1:∞, J = 4.5:1.0:5.5, F = 5.0:1.0:6.0, M = -6.0:1.0:6.0)), HundsCaseB_LinearMolecule(0.0, \"X\", 0, 1, 0, 1/2, 1/2, 0, 1, 1, 5, 11/2, 6, 3, (K = 1, N = 1:∞, J = 4.5:1.0:5.5, F = 5.0:1.0:6.0, M = -6.0:1.0:6.0)), HundsCaseB_LinearMolecule(0.0, \"X\", 0, 1, 0, 1/2, 1/2, 0, 1, 1, 5, 11/2, 6, 4, (K = 1, N = 1:∞, J = 4.5:1.0:5.5, F = 5.0:1.0:6.0, M = -6.0:1.0:6.0)), HundsCaseB_LinearMolecule(0.0, \"X\", 0, 1, 0, 1/2, 1/2, 0, 1, 1, 5, 11/2, 6, 5, (K = 1, N = 1:∞, J = 4.5:1.0:5.5, F = 5.0:1.0:6.0, M = -6.0:1.0:6.0)), HundsCaseB_LinearMolecule(0.0, \"X\", 0, 1, 0, 1/2, 1/2, 0, 1, 1, 5, 11/2, 6, 6, (K = 1, N = 1:∞, J = 4.5:1.0:5.5, F = 5.0:1.0:6.0, M = -6.0:1.0:6.0))], ComplexF64[-1.616669019894503e-18 + 0.0im, -3.044271127029156e-5 + 0.0im, 7.87189322111403e-19 + 0.0im, 2.927173441229227e-5 + 0.0im, -0.0002401992424889045 + 0.0im, 4.5070394404779833e-17 + 0.0im, -0.0001250007678580009 + 0.0im, 7.467758242639047e-18 + 0.0im, 9.713943575566634e-5 + 0.0im, 2.0913862979348684e-18 + 0.0im  …  2.1249630598064584e-12 + 0.0im, 1.691963995171095e-16 + 0.0im, -4.432057642112068e-12 + 0.0im, -4.873894668463092e-17 + 0.0im, 5.214304964531476e-12 + 0.0im, -3.243674299201771e-17 + 0.0im, -3.6264004292757558e-12 + 0.0im, -1.5576391321969658e-17 + 0.0im, -3.5253155988434727e-13 + 0.0im, 7.6477431401166225e-28 + 0.0im], 51)"
      ]
     },
     "execution_count": 455,
     "metadata": {},
     "output_type": "execute_result"
    }
   ],
   "source": [
    "N2_J32_states[51]"
   ]
  },
  {
   "cell_type": "code",
   "execution_count": 456,
   "id": "6c6afd30-b077-4e23-a8e4-ab8bb2d5ac4a",
   "metadata": {},
   "outputs": [
    {
     "data": {
      "text/latex": [
       "$$-0.45\\left|label=X, v_1=0, v_2=1, v_3=0, S=1/2, I=1/2, Λ=0, ℓ=-1, K=-1, N=2, J=3/2, F=1, M=-1\\right\\rangle$$\n",
       "$$ + 0.524\\left|label=X, v_1=0, v_2=1, v_3=0, S=1/2, I=1/2, Λ=0, ℓ=-1, K=-1, N=2, J=3/2, F=1, M=1\\right\\rangle$$\n",
       "$$ + 0.087\\left|label=X, v_1=0, v_2=1, v_3=0, S=1/2, I=1/2, Λ=0, ℓ=-1, K=-1, N=2, J=3/2, F=2, M=-1\\right\\rangle$$\n",
       "$$ + 0.12\\left|label=X, v_1=0, v_2=1, v_3=0, S=1/2, I=1/2, Λ=0, ℓ=-1, K=-1, N=2, J=3/2, F=2, M=1\\right\\rangle$$\n",
       "$$-0.026\\left|label=X, v_1=0, v_2=1, v_3=0, S=1/2, I=1/2, Λ=0, ℓ=-1, K=-1, N=2, J=5/2, F=2, M=-1\\right\\rangle$$\n",
       "$$ + 0.016\\left|label=X, v_1=0, v_2=1, v_3=0, S=1/2, I=1/2, Λ=0, ℓ=-1, K=-1, N=2, J=5/2, F=2, M=1\\right\\rangle$$\n",
       "$$ + 0.524\\left|label=X, v_1=0, v_2=1, v_3=0, S=1/2, I=1/2, Λ=0, ℓ=1, K=1, N=2, J=3/2, F=1, M=-1\\right\\rangle$$\n",
       "$$-0.45\\left|label=X, v_1=0, v_2=1, v_3=0, S=1/2, I=1/2, Λ=0, ℓ=1, K=1, N=2, J=3/2, F=1, M=1\\right\\rangle$$\n",
       "$$-0.12\\left|label=X, v_1=0, v_2=1, v_3=0, S=1/2, I=1/2, Λ=0, ℓ=1, K=1, N=2, J=3/2, F=2, M=-1\\right\\rangle$$\n",
       "$$-0.087\\left|label=X, v_1=0, v_2=1, v_3=0, S=1/2, I=1/2, Λ=0, ℓ=1, K=1, N=2, J=3/2, F=2, M=1\\right\\rangle$$\n",
       "$$-0.016\\left|label=X, v_1=0, v_2=1, v_3=0, S=1/2, I=1/2, Λ=0, ℓ=1, K=1, N=2, J=5/2, F=2, M=-1\\right\\rangle$$\n",
       "$$ + 0.026\\left|label=X, v_1=0, v_2=1, v_3=0, S=1/2, I=1/2, Λ=0, ℓ=1, K=1, N=2, J=5/2, F=2, M=1\\right\\rangle$$\n"
      ],
      "text/plain": [
       "State{HundsCaseB_LinearMolecule}(1.0642671168287174e13, HundsCaseB_LinearMolecule[HundsCaseB_LinearMolecule(0.0, \"X\", 0, 1, 0, 1/2, 1/2, 0, -1, -1, 1, 1/2, 0, 0, (K = -1, N = 1:∞, J = 0.5:1.0:1.5, F = 0.0:1.0:1.0, M = 0.0:1.0:0.0)), HundsCaseB_LinearMolecule(0.0, \"X\", 0, 1, 0, 1/2, 1/2, 0, -1, -1, 1, 1/2, 1, -1, (K = -1, N = 1:∞, J = 0.5:1.0:1.5, F = 0.0:1.0:1.0, M = -1.0:1.0:1.0)), HundsCaseB_LinearMolecule(0.0, \"X\", 0, 1, 0, 1/2, 1/2, 0, -1, -1, 1, 1/2, 1, 0, (K = -1, N = 1:∞, J = 0.5:1.0:1.5, F = 0.0:1.0:1.0, M = -1.0:1.0:1.0)), HundsCaseB_LinearMolecule(0.0, \"X\", 0, 1, 0, 1/2, 1/2, 0, -1, -1, 1, 1/2, 1, 1, (K = -1, N = 1:∞, J = 0.5:1.0:1.5, F = 0.0:1.0:1.0, M = -1.0:1.0:1.0)), HundsCaseB_LinearMolecule(0.0, \"X\", 0, 1, 0, 1/2, 1/2, 0, -1, -1, 1, 3/2, 1, -1, (K = -1, N = 1:∞, J = 0.5:1.0:1.5, F = 1.0:1.0:2.0, M = -1.0:1.0:1.0)), HundsCaseB_LinearMolecule(0.0, \"X\", 0, 1, 0, 1/2, 1/2, 0, -1, -1, 1, 3/2, 1, 0, (K = -1, N = 1:∞, J = 0.5:1.0:1.5, F = 1.0:1.0:2.0, M = -1.0:1.0:1.0)), HundsCaseB_LinearMolecule(0.0, \"X\", 0, 1, 0, 1/2, 1/2, 0, -1, -1, 1, 3/2, 1, 1, (K = -1, N = 1:∞, J = 0.5:1.0:1.5, F = 1.0:1.0:2.0, M = -1.0:1.0:1.0)), HundsCaseB_LinearMolecule(0.0, \"X\", 0, 1, 0, 1/2, 1/2, 0, -1, -1, 1, 3/2, 2, -2, (K = -1, N = 1:∞, J = 0.5:1.0:1.5, F = 1.0:1.0:2.0, M = -2.0:1.0:2.0)), HundsCaseB_LinearMolecule(0.0, \"X\", 0, 1, 0, 1/2, 1/2, 0, -1, -1, 1, 3/2, 2, -1, (K = -1, N = 1:∞, J = 0.5:1.0:1.5, F = 1.0:1.0:2.0, M = -2.0:1.0:2.0)), HundsCaseB_LinearMolecule(0.0, \"X\", 0, 1, 0, 1/2, 1/2, 0, -1, -1, 1, 3/2, 2, 0, (K = -1, N = 1:∞, J = 0.5:1.0:1.5, F = 1.0:1.0:2.0, M = -2.0:1.0:2.0))  …  HundsCaseB_LinearMolecule(0.0, \"X\", 0, 1, 0, 1/2, 1/2, 0, 1, 1, 5, 11/2, 6, -3, (K = 1, N = 1:∞, J = 4.5:1.0:5.5, F = 5.0:1.0:6.0, M = -6.0:1.0:6.0)), HundsCaseB_LinearMolecule(0.0, \"X\", 0, 1, 0, 1/2, 1/2, 0, 1, 1, 5, 11/2, 6, -2, (K = 1, N = 1:∞, J = 4.5:1.0:5.5, F = 5.0:1.0:6.0, M = -6.0:1.0:6.0)), HundsCaseB_LinearMolecule(0.0, \"X\", 0, 1, 0, 1/2, 1/2, 0, 1, 1, 5, 11/2, 6, -1, (K = 1, N = 1:∞, J = 4.5:1.0:5.5, F = 5.0:1.0:6.0, M = -6.0:1.0:6.0)), HundsCaseB_LinearMolecule(0.0, \"X\", 0, 1, 0, 1/2, 1/2, 0, 1, 1, 5, 11/2, 6, 0, (K = 1, N = 1:∞, J = 4.5:1.0:5.5, F = 5.0:1.0:6.0, M = -6.0:1.0:6.0)), HundsCaseB_LinearMolecule(0.0, \"X\", 0, 1, 0, 1/2, 1/2, 0, 1, 1, 5, 11/2, 6, 1, (K = 1, N = 1:∞, J = 4.5:1.0:5.5, F = 5.0:1.0:6.0, M = -6.0:1.0:6.0)), HundsCaseB_LinearMolecule(0.0, \"X\", 0, 1, 0, 1/2, 1/2, 0, 1, 1, 5, 11/2, 6, 2, (K = 1, N = 1:∞, J = 4.5:1.0:5.5, F = 5.0:1.0:6.0, M = -6.0:1.0:6.0)), HundsCaseB_LinearMolecule(0.0, \"X\", 0, 1, 0, 1/2, 1/2, 0, 1, 1, 5, 11/2, 6, 3, (K = 1, N = 1:∞, J = 4.5:1.0:5.5, F = 5.0:1.0:6.0, M = -6.0:1.0:6.0)), HundsCaseB_LinearMolecule(0.0, \"X\", 0, 1, 0, 1/2, 1/2, 0, 1, 1, 5, 11/2, 6, 4, (K = 1, N = 1:∞, J = 4.5:1.0:5.5, F = 5.0:1.0:6.0, M = -6.0:1.0:6.0)), HundsCaseB_LinearMolecule(0.0, \"X\", 0, 1, 0, 1/2, 1/2, 0, 1, 1, 5, 11/2, 6, 5, (K = 1, N = 1:∞, J = 4.5:1.0:5.5, F = 5.0:1.0:6.0, M = -6.0:1.0:6.0)), HundsCaseB_LinearMolecule(0.0, \"X\", 0, 1, 0, 1/2, 1/2, 0, 1, 1, 5, 11/2, 6, 6, (K = 1, N = 1:∞, J = 4.5:1.0:5.5, F = 5.0:1.0:6.0, M = -6.0:1.0:6.0))], ComplexF64[7.383763342649127e-19 + 0.0im, 6.57176419642797e-5 + 0.0im, 1.749755978233419e-18 + 0.0im, 4.997947734475172e-5 + 0.0im, 0.00025222138733723055 + 0.0im, 3.99592224241081e-17 + 0.0im, -0.00013812844073270294 + 0.0im, -1.7237224978928423e-17 + 0.0im, -6.050505858149966e-5 + 0.0im, 2.9746114370930803e-18 + 0.0im  …  -8.396425796902046e-13 + 0.0im, -2.5302727277233907e-15 + 0.0im, -3.6169090385397494e-13 + 0.0im, -1.6545219662845357e-15 + 0.0im, 2.2569353065212137e-12 + 0.0im, -7.208443405270773e-16 + 0.0im, -2.5795749811529657e-12 + 0.0im, -2.1965919748656696e-16 + 0.0im, -1.4282940839185868e-13 + 0.0im, 1.8240736047651177e-27 + 0.0im], 52)"
      ]
     },
     "execution_count": 456,
     "metadata": {},
     "output_type": "execute_result"
    }
   ],
   "source": [
    "N2_J32_states[52]"
   ]
  },
  {
   "cell_type": "code",
   "execution_count": 457,
   "id": "e8633d08-428d-4415-8dbd-dcd6dc8ce2ec",
   "metadata": {},
   "outputs": [
    {
     "data": {
      "text/plain": [
       "118706.546875"
      ]
     },
     "execution_count": 457,
     "metadata": {},
     "output_type": "execute_result"
    }
   ],
   "source": [
    "energy(N2_J32_states[52]) - energy(N2_J32_states[51])"
   ]
  },
  {
   "cell_type": "code",
   "execution_count": 458,
   "id": "31983596-4ddb-41e5-bffe-58bae4a094c2",
   "metadata": {},
   "outputs": [
    {
     "data": {
      "text/plain": [
       "-7.156783897265625e7"
      ]
     },
     "execution_count": 458,
     "metadata": {},
     "output_type": "execute_result"
    }
   ],
   "source": [
    "energy(N2_J32_states[52]) - energy(N2_J32_states[53])"
   ]
  },
  {
   "cell_type": "code",
   "execution_count": null,
   "id": "47f2c65b-703f-45dd-b090-6ca29ec60030",
   "metadata": {},
   "outputs": [],
   "source": [
    "# |N=1, J=1/2, p=-⟩ -> |N=2, J=3/2, p=-⟩\n",
    "transitions = compute_transitions(N1_J12_states, N2_J32_states, -1, threshold=1e-7)\n",
    "transitions = [transitions; compute_transitions(N1_J12_states, N2_J32_states, 0, threshold=1e-7)]\n",
    "transitions = [transitions; compute_transitions(N1_J12_states, N2_J32_states, +1, threshold=1e-7)]\n",
    "df = transitions_table(transitions)\n",
    "select!(df, [:State, :N, :F, :M, :State_1, :N_1, :F_1, :J_1, :M_1, :f, :tdm])\n",
    "filter!(row -> row.F == 0, df)\n",
    "df.f .= df.f .- 39700e6\n",
    "filter!(row -> row.f > 3.7e8, df)\n",
    "\n",
    "pretty_table(df; nosubheader=true)\n",
    "\n",
    "using Plots\n",
    "vline(df.f, legend=nothing)\n",
    "plot!(\n",
    "    yticks=nothing,\n",
    "    ylabel=\"Transition frequency (MHz)\"\n",
    ")"
   ]
  },
  {
   "cell_type": "code",
   "execution_count": null,
   "id": "94971fae-ee2a-4f87-a592-65dd1841636e",
   "metadata": {},
   "outputs": [],
   "source": [
    "# |N=2, J=3/2, p=-⟩ -> |N=1, J=3/2, p=-⟩\n",
    "transitions = compute_transitions(N1_J32_states, N2_J32_states, -1, threshold=1e-7)\n",
    "transitions = [transitions; compute_transitions(N1_J32_states, N2_J32_states, 0, threshold=1e-7)]\n",
    "transitions = [transitions; compute_transitions(N1_J32_states, N2_J32_states, +1, threshold=1e-7)]\n",
    "df = transitions_table(transitions)\n",
    "select!(df, [:State, :N, :J, :F, :M, :State_1, :N_1, :F_1, :J_1, :M_1, :f, :tdm])\n",
    "filter!(row -> row.State_1 == 52, df)\n",
    "df.f .= df.f .- 39700e6\n",
    "filter!(row -> row.f > 0., df)\n",
    "filter!(row -> 2.95e8 < row.f < 2.98e8, df)\n",
    "\n",
    "pretty_table(df; nosubheader=true)\n",
    "\n",
    "using Plots\n",
    "vline(df.f, legend=nothing)\n",
    "plot!(\n",
    "    yticks=nothing,\n",
    "    ylabel=\"Transition frequency (MHz)\"\n",
    ")"
   ]
  },
  {
   "cell_type": "markdown",
   "id": "eef08355-c915-443c-849b-e2693062ff17",
   "metadata": {
    "tags": []
   },
   "source": [
    "### Stark plots"
   ]
  },
  {
   "cell_type": "code",
   "execution_count": null,
   "id": "72b877da-1493-4cb0-8ebf-f0d98d72e834",
   "metadata": {
    "tags": []
   },
   "outputs": [],
   "source": [
    "function H_func!(H, scan_values)\n",
    "    H.parameters.E = scan_values[1]\n",
    "    evaluate!(H)\n",
    "    solve!(H)\n",
    "    return nothing\n",
    "end\n",
    "\n",
    "Es = (0:0.5:150.0)\n",
    "scan_params = (\n",
    "    E = Es,\n",
    "    );\n",
    "iterator = Iterators.product\n",
    "@time scan_values, _ = scan_parameters(deepcopy(H), scan_params, iterator, H_func!, H -> energy.(H.states), n_threads=10)\n",
    "matrix_values = hcat(values(scan_values)...)'\n",
    ";"
   ]
  },
  {
   "cell_type": "code",
   "execution_count": null,
   "id": "0d313303-896c-4a83-82b2-cf9165154dd7",
   "metadata": {},
   "outputs": [],
   "source": [
    "(matrix_values[1,13:16] .- matrix_values[1,1]) .* 1e-6"
   ]
  },
  {
   "cell_type": "code",
   "execution_count": null,
   "id": "9314817d-08af-46b3-b26e-2929b474ecdf",
   "metadata": {
    "tags": []
   },
   "outputs": [],
   "source": [
    "using Plots, LaTeXStrings\n",
    "Es_rel = matrix_values .- matrix_values[1,1]\n",
    "plot(Es, Es_rel[:,13:16] .* 1e-6, linewidth=1.5)\n",
    "plot!(\n",
    "    legend=nothing,\n",
    "    xlabel=\"E-field (V/cm)\",\n",
    "    ylabel=\"Energy (MHz)\",\n",
    "    labelfontsize=12,\n",
    "    tickfontsize=12,\n",
    "    grid=:off,\n",
    "    box=:on\n",
    "    )"
   ]
  },
  {
   "cell_type": "markdown",
   "id": "781a6c2d-5c0a-429c-bfb7-16994d25142a",
   "metadata": {
    "tags": []
   },
   "source": [
    "### Zeeman plots"
   ]
  },
  {
   "cell_type": "code",
   "execution_count": null,
   "id": "314aceb1-3d13-4bb3-bf6c-a56f53f1ca81",
   "metadata": {
    "tags": []
   },
   "outputs": [],
   "source": [
    "function H_func!(H, scan_values)\n",
    "    H.parameters.B_z = scan_values[1]\n",
    "    evaluate!(H)\n",
    "    solve!(H)\n",
    "    return nothing\n",
    "end\n",
    "\n",
    "Bs = (0:0.01:2)\n",
    "scan_params = (\n",
    "    B = Bs,\n",
    "    );\n",
    "iterator = Iterators.product\n",
    "@time scan_values, _ = scan_parameters(deepcopy(H), scan_params, iterator, H_func!, H -> energy.(H.states), n_threads=10)\n",
    "matrix_values = hcat(values(scan_values)...)'\n",
    ";"
   ]
  },
  {
   "cell_type": "code",
   "execution_count": null,
   "id": "a629e244-ad3c-4468-88b1-b2a61c78c5d6",
   "metadata": {
    "tags": []
   },
   "outputs": [],
   "source": [
    "using Plots, LaTeXStrings\n",
    "Es_rel = matrix_values .- matrix_values[1,1]\n",
    "plot(Bs, Es_rel[:,13:16] .* 1e-6, linewidth=1.5)\n",
    "plot!(\n",
    "    legend=nothing,\n",
    "    xlabel=\"B-field (G)\",\n",
    "    ylabel=\"Energy (MHz)\",\n",
    "    labelfontsize=12,\n",
    "    tickfontsize=12,\n",
    "    grid=:off,\n",
    "    box=:on\n",
    "    )"
   ]
  },
  {
   "cell_type": "code",
   "execution_count": null,
   "id": "60609dd1-f922-4372-adf7-c266c7ae0a56",
   "metadata": {},
   "outputs": [],
   "source": [
    "H.states[47]"
   ]
  },
  {
   "cell_type": "code",
   "execution_count": null,
   "id": "957d7c54-0e01-444e-b8c0-d5b383b8c9be",
   "metadata": {},
   "outputs": [],
   "source": [
    "using Plots, LaTeXStrings\n",
    "Es_rel = matrix_values .- matrix_values[1,1]\n",
    "plot(Bs, Es_rel[:,45:48] .* 1e-6, linewidth=1.5)\n",
    "plot!(\n",
    "    legend=nothing,\n",
    "    xlabel=\"B-field (G)\",\n",
    "    ylabel=\"Energy (MHz)\",\n",
    "    labelfontsize=12,\n",
    "    tickfontsize=12,\n",
    "    grid=:off,\n",
    "    box=:on\n",
    "    )"
   ]
  },
  {
   "cell_type": "markdown",
   "id": "75262351-237d-4750-8fa1-5d4352db371e",
   "metadata": {},
   "source": [
    "### Transition dipole moments for X(010) - A(010)"
   ]
  },
  {
   "cell_type": "code",
   "execution_count": 1199,
   "id": "4fdade11-ce38-47ae-9775-df29a645c14c",
   "metadata": {},
   "outputs": [],
   "source": [
    "H_X010 = load_from_file(\"CaOH_X010\", \"C://Google Drive//github//QuantumStates//Hamiltonians//CaOH//\")\n",
    "H_A000 = load_from_file(\"CaOH_A000\", \"C://Google Drive//github//QuantumStates//Hamiltonians//CaOH//\")\n",
    "X010_states_caseA = convert_basis(H_X010.states, H_A000.basis)\n",
    "\n",
    "H_A010 = load_from_file(\"CaOH_A010\", \"C://Google Drive//github//QuantumStates//Hamiltonians//CaOH//\")\n",
    ";"
   ]
  },
  {
   "cell_type": "code",
   "execution_count": 1200,
   "id": "33054b13-4255-4ef5-90f6-1748580e0815",
   "metadata": {},
   "outputs": [],
   "source": [
    "A_N1_J12_states = H_A010.states[145:148];"
   ]
  },
  {
   "cell_type": "code",
   "execution_count": 1213,
   "id": "1617abac-b952-48a4-b01b-87b22017af3f",
   "metadata": {},
   "outputs": [
    {
     "data": {
      "text/plain": [
       "489.0045699064211"
      ]
     },
     "execution_count": 1213,
     "metadata": {},
     "output_type": "execute_result"
    }
   ],
   "source": [
    "energy(H_A010.states[1]) * 1e-6"
   ]
  },
  {
   "cell_type": "code",
   "execution_count": 1215,
   "id": "2f1169ac-2895-42e1-bcd5-90485ef33305",
   "metadata": {},
   "outputs": [
    {
     "data": {
      "text/plain": [
       "489.0045719019248"
      ]
     },
     "execution_count": 1215,
     "metadata": {},
     "output_type": "execute_result"
    }
   ],
   "source": [
    "energy(H_A010.states[5]) * 1e-6"
   ]
  },
  {
   "cell_type": "markdown",
   "id": "f113cbac-9956-445b-bcef-bdd6769f91b8",
   "metadata": {},
   "source": [
    "##### To N=1, J=1/2 states"
   ]
  },
  {
   "cell_type": "code",
   "execution_count": 1164,
   "id": "71381035-767b-4a9a-b680-51eb343a2021",
   "metadata": {},
   "outputs": [
    {
     "data": {
      "text/plain": [
       "0.7050503196786648 + 0.0im"
      ]
     },
     "execution_count": 1164,
     "metadata": {},
     "output_type": "execute_result"
    }
   ],
   "source": [
    "N1_J12_states = X010_states_caseA[1:4]\n",
    "sum(TDM(X_state, A_state, p) for X_state in N1_J12_states, A_state in A_N1_J12_states, p in -1:1)"
   ]
  },
  {
   "cell_type": "markdown",
   "id": "2aac25d5-201e-491a-b2ac-74375ebf95c3",
   "metadata": {},
   "source": [
    "##### To N=1, J=3/2 states"
   ]
  },
  {
   "cell_type": "code",
   "execution_count": 1165,
   "id": "f8ac5b4d-5102-466b-bd19-f4410a54bb12",
   "metadata": {},
   "outputs": [
    {
     "data": {
      "text/plain": [
       "-0.2692401294283998 + 0.0im"
      ]
     },
     "execution_count": 1165,
     "metadata": {},
     "output_type": "execute_result"
    }
   ],
   "source": [
    "N1_J32_states = X010_states_caseA[5:12]\n",
    "sum(TDM(X_state, A_state, p) for X_state in N1_J32_states, A_state in A_N1_J12_states, p in -1:1)"
   ]
  },
  {
   "cell_type": "markdown",
   "id": "91b08d3e-3ae1-4991-b1fb-9d52899dc181",
   "metadata": {},
   "source": [
    "##### To N=2 states"
   ]
  },
  {
   "cell_type": "code",
   "execution_count": 1166,
   "id": "bb562b5e-cecd-492d-9dfb-cd961018d6a6",
   "metadata": {},
   "outputs": [
    {
     "data": {
      "text/plain": [
       "-0.28759887357941666 + 0.0im"
      ]
     },
     "execution_count": 1166,
     "metadata": {},
     "output_type": "execute_result"
    }
   ],
   "source": [
    "N2_states = X010_states_caseA[25:64]\n",
    "sum(TDM(X_state, A_state, p) for X_state in N2_states, A_state in A_N1_J12_states, p in -1:1)"
   ]
  },
  {
   "cell_type": "code",
   "execution_count": null,
   "id": "e42b3673-3808-4203-aa3f-d4d2e4d6ee42",
   "metadata": {},
   "outputs": [],
   "source": []
  }
 ],
 "metadata": {
  "kernelspec": {
   "display_name": "Julia (10 threads) 1.9.1",
   "language": "julia",
   "name": "julia-_10-threads_-1.9"
  },
  "language_info": {
   "file_extension": ".jl",
   "mimetype": "application/julia",
   "name": "julia",
   "version": "1.9.1"
  }
 },
 "nbformat": 4,
 "nbformat_minor": 5
}
